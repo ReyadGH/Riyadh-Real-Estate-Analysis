{
 "cells": [
  {
   "cell_type": "code",
   "execution_count": 1,
   "id": "e69c4ba1-85f3-4a02-ae37-c64347a01803",
   "metadata": {},
   "outputs": [],
   "source": [
    "#Import all relevant libraries\n",
    "import numpy as np\n",
    "import pandas as pd\n",
    "import matplotlib.pyplot as plt\n",
    "import plotly\n",
    "import plotly.graph_objects as go\n",
    "import seaborn as sns\n",
    "from scipy.stats import zscore\n",
    "from ydata_profiling import ProfileReport\n",
    "from ipyvizzu import Chart, Data, Config\n",
    "import dtale\n",
    " \n",
    "## This statement allows the visuals to render within your Jupyter Notebook.\n",
    "%matplotlib inline"
   ]
  },
  {
   "cell_type": "markdown",
   "id": "e395e8bf-b530-4720-8d0f-26811e927d6e",
   "metadata": {},
   "source": [
    "## Loading the data\n",
    "We can now load the dataset into pandas using the read_csv() function. This converts the CSV file into a Pandas dataframe."
   ]
  },
  {
   "cell_type": "code",
   "execution_count": 2,
   "id": "cf4030b0-aa7f-4bd7-8e9c-c1b7f4d202d0",
   "metadata": {},
   "outputs": [],
   "source": [
    "#Read in the csv file and convert to a Pandas dataframe\n",
    "#estate = pd.read_csv('data/realEstate.csv')\n",
    "lands = pd.read_csv('data/RiyadhAqqar/Lands.csv')\n",
    "#villas = pd.read_csv('data/RiyadhAqqar/villas.csv')\n",
    "#apartments = pd.read_csv('data/RiyadhAqqar/Apartments.csv')\n",
    "#riyadh = pd.read_csv('data/RiyadhVillasAqar.csv')"
   ]
  },
  {
   "cell_type": "markdown",
   "id": "ca5ed983-0f72-43eb-8168-6fafd48c562e",
   "metadata": {},
   "source": [
    "### Viewing the dataframe\n",
    "We can get a quick sense of the size of our dataset by using the shape method. This returns a tuple with the number of rows and columns in the dataset."
   ]
  },
  {
   "cell_type": "code",
   "execution_count": 3,
   "id": "bfde0b69-613c-4dd1-8ebf-e4d2e570e653",
   "metadata": {},
   "outputs": [
    {
     "data": {
      "text/html": [
       "<div>\n",
       "<style scoped>\n",
       "    .dataframe tbody tr th:only-of-type {\n",
       "        vertical-align: middle;\n",
       "    }\n",
       "\n",
       "    .dataframe tbody tr th {\n",
       "        vertical-align: top;\n",
       "    }\n",
       "\n",
       "    .dataframe thead th {\n",
       "        text-align: right;\n",
       "    }\n",
       "</style>\n",
       "<table border=\"1\" class=\"dataframe\">\n",
       "  <thead>\n",
       "    <tr style=\"text-align: right;\">\n",
       "      <th></th>\n",
       "      <th>نوع العقار</th>\n",
       "      <th>الغرض</th>\n",
       "      <th>المدينة</th>\n",
       "      <th>الحي</th>\n",
       "      <th>الواجهة</th>\n",
       "      <th>المساحة</th>\n",
       "      <th>سعر المتر</th>\n",
       "      <th>السعر الإجمالي</th>\n",
       "    </tr>\n",
       "  </thead>\n",
       "  <tbody>\n",
       "    <tr>\n",
       "      <th>0</th>\n",
       "      <td>أرض</td>\n",
       "      <td>NaN</td>\n",
       "      <td>امارة منطقة الرياض</td>\n",
       "      <td>الرياض</td>\n",
       "      <td>غربية</td>\n",
       "      <td>375</td>\n",
       "      <td>2900.0</td>\n",
       "      <td>1087500</td>\n",
       "    </tr>\n",
       "    <tr>\n",
       "      <th>1</th>\n",
       "      <td>أرض</td>\n",
       "      <td>NaN</td>\n",
       "      <td>الرياض</td>\n",
       "      <td>حي غرناطة</td>\n",
       "      <td>شمالية</td>\n",
       "      <td>800</td>\n",
       "      <td>4800.0</td>\n",
       "      <td>3840000</td>\n",
       "    </tr>\n",
       "  </tbody>\n",
       "</table>\n",
       "</div>"
      ],
      "text/plain": [
       "  نوع العقار الغرض              المدينة         الحي الواجهة  المساحة  \\\n",
       "0        أرض   NaN   امارة منطقة الرياض      الرياض    غربية      375   \n",
       "1        أرض   NaN              الرياض    حي غرناطة   شمالية      800   \n",
       "\n",
       "   سعر المتر  السعر الإجمالي  \n",
       "0     2900.0         1087500  \n",
       "1     4800.0         3840000  "
      ]
     },
     "metadata": {},
     "output_type": "display_data"
    }
   ],
   "source": [
    "#display(estate.head(2))\n",
    "display(lands.head(2))\n",
    "#display(villas.head(2))\n",
    "#display(apartments.head(2))\n",
    "#display(riyadh.head(2))"
   ]
  },
  {
   "cell_type": "markdown",
   "id": "bd2b5bc4-db37-4432-b666-0714afd0c4ca",
   "metadata": {},
   "source": [
    "## 1. Data Profiling:\n",
    "Data profiling is a comprehensive process of examining the data available in an existing dataset and collecting statistics and information about that data. "
   ]
  },
  {
   "cell_type": "code",
   "execution_count": 4,
   "id": "06a30a82",
   "metadata": {},
   "outputs": [
    {
     "name": "stdout",
     "output_type": "stream",
     "text": [
      "<class 'pandas.core.frame.DataFrame'>\n",
      "RangeIndex: 2155 entries, 0 to 2154\n",
      "Data columns (total 8 columns):\n",
      " #   Column          Non-Null Count  Dtype  \n",
      "---  ------          --------------  -----  \n",
      " 0   نوع العقار      2155 non-null   object \n",
      " 1   الغرض           2106 non-null   object \n",
      " 2   المدينة         2155 non-null   object \n",
      " 3   الحي            2155 non-null   object \n",
      " 4   الواجهة         2155 non-null   object \n",
      " 5   المساحة         2155 non-null   int64  \n",
      " 6   سعر المتر       2155 non-null   float64\n",
      " 7   السعر الإجمالي  2155 non-null   int64  \n",
      "dtypes: float64(1), int64(2), object(5)\n",
      "memory usage: 134.8+ KB\n"
     ]
    }
   ],
   "source": [
    "lands.info()"
   ]
  },
  {
   "cell_type": "code",
   "execution_count": 5,
   "id": "a4807372",
   "metadata": {},
   "outputs": [
    {
     "data": {
      "text/plain": [
       "(2155, 8)"
      ]
     },
     "execution_count": 5,
     "metadata": {},
     "output_type": "execute_result"
    }
   ],
   "source": [
    "lands.shape"
   ]
  },
  {
   "cell_type": "code",
   "execution_count": 6,
   "id": "d732a445",
   "metadata": {},
   "outputs": [
    {
     "data": {
      "text/html": [
       "<div>\n",
       "<style scoped>\n",
       "    .dataframe tbody tr th:only-of-type {\n",
       "        vertical-align: middle;\n",
       "    }\n",
       "\n",
       "    .dataframe tbody tr th {\n",
       "        vertical-align: top;\n",
       "    }\n",
       "\n",
       "    .dataframe thead th {\n",
       "        text-align: right;\n",
       "    }\n",
       "</style>\n",
       "<table border=\"1\" class=\"dataframe\">\n",
       "  <thead>\n",
       "    <tr style=\"text-align: right;\">\n",
       "      <th></th>\n",
       "      <th>المساحة</th>\n",
       "      <th>سعر المتر</th>\n",
       "      <th>السعر الإجمالي</th>\n",
       "    </tr>\n",
       "  </thead>\n",
       "  <tbody>\n",
       "    <tr>\n",
       "      <th>count</th>\n",
       "      <td>2155.000000</td>\n",
       "      <td>2155.000000</td>\n",
       "      <td>2.155000e+03</td>\n",
       "    </tr>\n",
       "    <tr>\n",
       "      <th>mean</th>\n",
       "      <td>1568.780510</td>\n",
       "      <td>4356.648574</td>\n",
       "      <td>5.050271e+06</td>\n",
       "    </tr>\n",
       "    <tr>\n",
       "      <th>std</th>\n",
       "      <td>9757.996967</td>\n",
       "      <td>35214.809640</td>\n",
       "      <td>3.141799e+07</td>\n",
       "    </tr>\n",
       "    <tr>\n",
       "      <th>min</th>\n",
       "      <td>1.000000</td>\n",
       "      <td>90.000000</td>\n",
       "      <td>1.400000e+03</td>\n",
       "    </tr>\n",
       "    <tr>\n",
       "      <th>25%</th>\n",
       "      <td>413.000000</td>\n",
       "      <td>1365.000000</td>\n",
       "      <td>7.810000e+05</td>\n",
       "    </tr>\n",
       "    <tr>\n",
       "      <th>50%</th>\n",
       "      <td>670.000000</td>\n",
       "      <td>2570.000000</td>\n",
       "      <td>1.442000e+06</td>\n",
       "    </tr>\n",
       "    <tr>\n",
       "      <th>75%</th>\n",
       "      <td>900.000000</td>\n",
       "      <td>4000.000000</td>\n",
       "      <td>3.150000e+06</td>\n",
       "    </tr>\n",
       "    <tr>\n",
       "      <th>max</th>\n",
       "      <td>299684.000000</td>\n",
       "      <td>945000.000000</td>\n",
       "      <td>8.930250e+08</td>\n",
       "    </tr>\n",
       "  </tbody>\n",
       "</table>\n",
       "</div>"
      ],
      "text/plain": [
       "             المساحة      سعر المتر  السعر الإجمالي\n",
       "count    2155.000000    2155.000000    2.155000e+03\n",
       "mean     1568.780510    4356.648574    5.050271e+06\n",
       "std      9757.996967   35214.809640    3.141799e+07\n",
       "min         1.000000      90.000000    1.400000e+03\n",
       "25%       413.000000    1365.000000    7.810000e+05\n",
       "50%       670.000000    2570.000000    1.442000e+06\n",
       "75%       900.000000    4000.000000    3.150000e+06\n",
       "max    299684.000000  945000.000000    8.930250e+08"
      ]
     },
     "execution_count": 6,
     "metadata": {},
     "output_type": "execute_result"
    }
   ],
   "source": [
    "lands.describe()"
   ]
  },
  {
   "cell_type": "code",
   "execution_count": 7,
   "id": "d203fceb",
   "metadata": {},
   "outputs": [
    {
     "data": {
      "text/plain": [
       "Index(['نوع العقار', 'الغرض', 'المدينة', 'الحي', 'الواجهة', 'المساحة',\n",
       "       'سعر المتر', 'السعر الإجمالي'],\n",
       "      dtype='object')"
      ]
     },
     "execution_count": 7,
     "metadata": {},
     "output_type": "execute_result"
    }
   ],
   "source": [
    "lands.columns"
   ]
  },
  {
   "cell_type": "markdown",
   "id": "834929aa-fd6a-4ec5-84d4-77c4b3c1a506",
   "metadata": {},
   "source": [
    "The process of profiling differs slightly for categorical and numerical variables due to their inherent differences.\n",
    "\n",
    "**The two main types of data are:**\n",
    "- Quantitative (numerical) data\n",
    "- Qualitative (categorical) data"
   ]
  },
  {
   "cell_type": "markdown",
   "id": "3a9954f5-6fbc-45b4-ad86-3e21b6e0ca2d",
   "metadata": {},
   "source": [
    "### Data Quality Checks\n",
    "Data quality checks involve the process of ensuring that the data is accurate, complete, consistent, relevant, and reliable. \n",
    "\n",
    "\n",
    "**Here are typical steps involved in checking data quality:**"
   ]
  },
  {
   "cell_type": "code",
   "execution_count": 8,
   "id": "6785ea2e",
   "metadata": {},
   "outputs": [
    {
     "data": {
      "text/html": [
       "<div>\n",
       "<style scoped>\n",
       "    .dataframe tbody tr th:only-of-type {\n",
       "        vertical-align: middle;\n",
       "    }\n",
       "\n",
       "    .dataframe tbody tr th {\n",
       "        vertical-align: top;\n",
       "    }\n",
       "\n",
       "    .dataframe thead th {\n",
       "        text-align: right;\n",
       "    }\n",
       "</style>\n",
       "<table border=\"1\" class=\"dataframe\">\n",
       "  <thead>\n",
       "    <tr style=\"text-align: right;\">\n",
       "      <th></th>\n",
       "      <th>نوع العقار</th>\n",
       "      <th>الغرض</th>\n",
       "      <th>المدينة</th>\n",
       "      <th>الحي</th>\n",
       "      <th>الواجهة</th>\n",
       "      <th>المساحة</th>\n",
       "      <th>سعر المتر</th>\n",
       "      <th>السعر الإجمالي</th>\n",
       "    </tr>\n",
       "  </thead>\n",
       "  <tbody>\n",
       "    <tr>\n",
       "      <th>0</th>\n",
       "      <td>أرض</td>\n",
       "      <td>NaN</td>\n",
       "      <td>امارة منطقة الرياض</td>\n",
       "      <td>الرياض</td>\n",
       "      <td>غربية</td>\n",
       "      <td>375</td>\n",
       "      <td>2900.0</td>\n",
       "      <td>1087500</td>\n",
       "    </tr>\n",
       "    <tr>\n",
       "      <th>1</th>\n",
       "      <td>أرض</td>\n",
       "      <td>NaN</td>\n",
       "      <td>الرياض</td>\n",
       "      <td>حي غرناطة</td>\n",
       "      <td>شمالية</td>\n",
       "      <td>800</td>\n",
       "      <td>4800.0</td>\n",
       "      <td>3840000</td>\n",
       "    </tr>\n",
       "    <tr>\n",
       "      <th>2</th>\n",
       "      <td>أرض</td>\n",
       "      <td>سكني</td>\n",
       "      <td>الرياض</td>\n",
       "      <td>حي غرناطة</td>\n",
       "      <td>ثلاث شوارع</td>\n",
       "      <td>1650</td>\n",
       "      <td>4800.0</td>\n",
       "      <td>7920000</td>\n",
       "    </tr>\n",
       "    <tr>\n",
       "      <th>3</th>\n",
       "      <td>أرض</td>\n",
       "      <td>سكني</td>\n",
       "      <td>الرياض</td>\n",
       "      <td>حي اليرموك</td>\n",
       "      <td>ثلاث شوارع</td>\n",
       "      <td>1650</td>\n",
       "      <td>4800.0</td>\n",
       "      <td>7920000</td>\n",
       "    </tr>\n",
       "    <tr>\n",
       "      <th>4</th>\n",
       "      <td>أرض</td>\n",
       "      <td>سكني</td>\n",
       "      <td>الرياض</td>\n",
       "      <td>حي النسيم الغربي</td>\n",
       "      <td>غربية</td>\n",
       "      <td>750</td>\n",
       "      <td>3200.0</td>\n",
       "      <td>2400000</td>\n",
       "    </tr>\n",
       "  </tbody>\n",
       "</table>\n",
       "</div>"
      ],
      "text/plain": [
       "  نوع العقار الغرض              المدينة                الحي     الواجهة  \\\n",
       "0        أرض   NaN   امارة منطقة الرياض             الرياض        غربية   \n",
       "1        أرض   NaN              الرياض           حي غرناطة       شمالية   \n",
       "2        أرض  سكني              الرياض           حي غرناطة   ثلاث شوارع   \n",
       "3        أرض  سكني              الرياض          حي اليرموك   ثلاث شوارع   \n",
       "4        أرض  سكني              الرياض    حي النسيم الغربي        غربية   \n",
       "\n",
       "   المساحة  سعر المتر  السعر الإجمالي  \n",
       "0      375     2900.0         1087500  \n",
       "1      800     4800.0         3840000  \n",
       "2     1650     4800.0         7920000  \n",
       "3     1650     4800.0         7920000  \n",
       "4      750     3200.0         2400000  "
      ]
     },
     "execution_count": 8,
     "metadata": {},
     "output_type": "execute_result"
    }
   ],
   "source": [
    "lands.head()"
   ]
  },
  {
   "cell_type": "code",
   "execution_count": 9,
   "id": "98f47134",
   "metadata": {},
   "outputs": [
    {
     "name": "stdout",
     "output_type": "stream",
     "text": [
      "  Property Type Purpose                 City            District    Frontage  \\\n",
      "0           أرض     NaN   امارة منطقة الرياض             الرياض        غربية   \n",
      "1           أرض     NaN              الرياض           حي غرناطة       شمالية   \n",
      "2           أرض    سكني              الرياض           حي غرناطة   ثلاث شوارع   \n",
      "3           أرض    سكني              الرياض          حي اليرموك   ثلاث شوارع   \n",
      "4           أرض    سكني              الرياض    حي النسيم الغربي        غربية   \n",
      "\n",
      "   Area  Price per Sq.M  Total Price  \n",
      "0   375          2900.0      1087500  \n",
      "1   800          4800.0      3840000  \n",
      "2  1650          4800.0      7920000  \n",
      "3  1650          4800.0      7920000  \n",
      "4   750          3200.0      2400000  \n"
     ]
    }
   ],
   "source": [
    "# Translate the column names\n",
    "lands.columns = ['Property Type', 'Purpose', 'City', 'District', 'Frontage', 'Area', 'Price per Sq.M', 'Total Price']\n",
    "print(lands.head())"
   ]
  },
  {
   "cell_type": "code",
   "execution_count": 10,
   "id": "e9f62cc5",
   "metadata": {},
   "outputs": [
    {
     "data": {
      "text/html": [
       "<div>\n",
       "<style scoped>\n",
       "    .dataframe tbody tr th:only-of-type {\n",
       "        vertical-align: middle;\n",
       "    }\n",
       "\n",
       "    .dataframe tbody tr th {\n",
       "        vertical-align: top;\n",
       "    }\n",
       "\n",
       "    .dataframe thead th {\n",
       "        text-align: right;\n",
       "    }\n",
       "</style>\n",
       "<table border=\"1\" class=\"dataframe\">\n",
       "  <thead>\n",
       "    <tr style=\"text-align: right;\">\n",
       "      <th></th>\n",
       "      <th>Property Type</th>\n",
       "      <th>Purpose</th>\n",
       "      <th>City</th>\n",
       "      <th>District</th>\n",
       "      <th>Frontage</th>\n",
       "      <th>Area</th>\n",
       "      <th>Price per Sq.M</th>\n",
       "      <th>Total Price</th>\n",
       "    </tr>\n",
       "  </thead>\n",
       "  <tbody>\n",
       "    <tr>\n",
       "      <th>0</th>\n",
       "      <td>أرض</td>\n",
       "      <td>NaN</td>\n",
       "      <td>امارة منطقة الرياض</td>\n",
       "      <td>الرياض</td>\n",
       "      <td>غربية</td>\n",
       "      <td>375</td>\n",
       "      <td>2900.0</td>\n",
       "      <td>1087500</td>\n",
       "    </tr>\n",
       "    <tr>\n",
       "      <th>1</th>\n",
       "      <td>أرض</td>\n",
       "      <td>NaN</td>\n",
       "      <td>الرياض</td>\n",
       "      <td>حي غرناطة</td>\n",
       "      <td>شمالية</td>\n",
       "      <td>800</td>\n",
       "      <td>4800.0</td>\n",
       "      <td>3840000</td>\n",
       "    </tr>\n",
       "    <tr>\n",
       "      <th>2</th>\n",
       "      <td>أرض</td>\n",
       "      <td>سكني</td>\n",
       "      <td>الرياض</td>\n",
       "      <td>حي غرناطة</td>\n",
       "      <td>ثلاث شوارع</td>\n",
       "      <td>1650</td>\n",
       "      <td>4800.0</td>\n",
       "      <td>7920000</td>\n",
       "    </tr>\n",
       "    <tr>\n",
       "      <th>3</th>\n",
       "      <td>أرض</td>\n",
       "      <td>سكني</td>\n",
       "      <td>الرياض</td>\n",
       "      <td>حي اليرموك</td>\n",
       "      <td>ثلاث شوارع</td>\n",
       "      <td>1650</td>\n",
       "      <td>4800.0</td>\n",
       "      <td>7920000</td>\n",
       "    </tr>\n",
       "    <tr>\n",
       "      <th>4</th>\n",
       "      <td>أرض</td>\n",
       "      <td>سكني</td>\n",
       "      <td>الرياض</td>\n",
       "      <td>حي النسيم الغربي</td>\n",
       "      <td>غربية</td>\n",
       "      <td>750</td>\n",
       "      <td>3200.0</td>\n",
       "      <td>2400000</td>\n",
       "    </tr>\n",
       "  </tbody>\n",
       "</table>\n",
       "</div>"
      ],
      "text/plain": [
       "  Property Type Purpose                 City            District    Frontage  \\\n",
       "0           أرض     NaN   امارة منطقة الرياض             الرياض        غربية   \n",
       "1           أرض     NaN              الرياض           حي غرناطة       شمالية   \n",
       "2           أرض    سكني              الرياض           حي غرناطة   ثلاث شوارع   \n",
       "3           أرض    سكني              الرياض          حي اليرموك   ثلاث شوارع   \n",
       "4           أرض    سكني              الرياض    حي النسيم الغربي        غربية   \n",
       "\n",
       "   Area  Price per Sq.M  Total Price  \n",
       "0   375          2900.0      1087500  \n",
       "1   800          4800.0      3840000  \n",
       "2  1650          4800.0      7920000  \n",
       "3  1650          4800.0      7920000  \n",
       "4   750          3200.0      2400000  "
      ]
     },
     "execution_count": 10,
     "metadata": {},
     "output_type": "execute_result"
    }
   ],
   "source": [
    "lands.head()"
   ]
  },
  {
   "cell_type": "code",
   "execution_count": 11,
   "id": "3a970860",
   "metadata": {},
   "outputs": [
    {
     "data": {
      "text/plain": [
       "0"
      ]
     },
     "execution_count": 11,
     "metadata": {},
     "output_type": "execute_result"
    }
   ],
   "source": [
    "lands['Property Type'].isnull().sum()"
   ]
  },
  {
   "cell_type": "code",
   "execution_count": 12,
   "id": "330eae02",
   "metadata": {},
   "outputs": [],
   "source": [
    "# replace the 49 nulls in 'Property Type'\n",
    "lands['Property Type'] = lands['Property Type'].fillna('غير محدد')"
   ]
  },
  {
   "cell_type": "code",
   "execution_count": 13,
   "id": "2212f480",
   "metadata": {},
   "outputs": [
    {
     "data": {
      "text/plain": [
       "0"
      ]
     },
     "execution_count": 13,
     "metadata": {},
     "output_type": "execute_result"
    }
   ],
   "source": [
    "lands['Property Type'].isnull().sum()"
   ]
  },
  {
   "cell_type": "markdown",
   "id": "4818c876-173d-4e56-9e7d-b4334d2def25",
   "metadata": {},
   "source": [
    "#### 1. Reliability:\n",
    "Evaluate the data's source and collection process to determine its trustworthiness."
   ]
  },
  {
   "cell_type": "code",
   "execution_count": 14,
   "id": "9034ae7b-dc1d-4cba-8f9e-bb499d021cde",
   "metadata": {},
   "outputs": [],
   "source": [
    "#kaggle usesr"
   ]
  },
  {
   "cell_type": "markdown",
   "id": "2ce0cc59-8c92-4acc-8d07-c40764e1a86b",
   "metadata": {},
   "source": [
    "#### 2. Timeliness: \n",
    "Ensure the data is up-to-date and reflective of the current situation or the period of interest for the analysis."
   ]
  },
  {
   "cell_type": "code",
   "execution_count": null,
   "id": "4b78ae35-7226-4cb6-b8b2-a46c2ed17cf9",
   "metadata": {},
   "outputs": [],
   "source": []
  },
  {
   "cell_type": "markdown",
   "id": "7fab0fe2-6624-4615-b9d8-3c3669056bf8",
   "metadata": {},
   "source": [
    "#### 3. Consistency: \n",
    "\n",
    "Confirm that the data is consistent within the dataset and across multiple data sources. For example, the same data point should not have different values in different places.\n"
   ]
  },
  {
   "cell_type": "code",
   "execution_count": null,
   "id": "7fecc573-959f-4800-8ddd-a67985c68b18",
   "metadata": {},
   "outputs": [],
   "source": []
  },
  {
   "cell_type": "markdown",
   "id": "bec3d183-bba0-4b12-b963-487daab1e876",
   "metadata": {},
   "source": [
    "#### 4. Relevance: \n",
    "Assess whether the data is appropriate and applicable for the intended analysis. Data that is not relevant can skew results and lead to incorrect conclusions.\n",
    "\n",
    "**Key considerations for relevance include:**\n",
    "\n",
    "> 1. Sample Appropriateness: Confirm that your data sample aligns with your analysis objectives. For instance, utilizing data from the Northern region will not yield accurate insights for the Western region of the Kingdom.\n",
    ">\n",
    "> 2. Variable Selection: Any column will not be relevant for our analysis, we can get rid of these using the drop() method. We will set the “axis” argument to 1 since we’re dealing with columns, and set the “inplace” argument to True to make the change permanent.\n"
   ]
  },
  {
   "cell_type": "code",
   "execution_count": 15,
   "id": "50a934b7-a0cd-443f-8a27-f10e9a6e8647",
   "metadata": {
    "scrolled": true
   },
   "outputs": [],
   "source": [
    "# lands.drop(['نوع العقار'],axis=1,inplace=True)"
   ]
  },
  {
   "cell_type": "markdown",
   "id": "0f5e3a2a-bbb7-4d06-8220-c93277b70146",
   "metadata": {},
   "source": [
    "#### 5. Uniqueness: \n",
    "Check for and remove duplicate records to prevent skewed analysis results.\n"
   ]
  },
  {
   "cell_type": "code",
   "execution_count": 16,
   "id": "a509a7aa-58f4-4d39-8eb8-e8298a21f2a7",
   "metadata": {},
   "outputs": [
    {
     "data": {
      "text/plain": [
       "259"
      ]
     },
     "execution_count": 16,
     "metadata": {},
     "output_type": "execute_result"
    }
   ],
   "source": [
    "lands.duplicated().sum()"
   ]
  },
  {
   "cell_type": "code",
   "execution_count": 17,
   "id": "780edbf4",
   "metadata": {},
   "outputs": [
    {
     "data": {
      "text/html": [
       "<div>\n",
       "<style scoped>\n",
       "    .dataframe tbody tr th:only-of-type {\n",
       "        vertical-align: middle;\n",
       "    }\n",
       "\n",
       "    .dataframe tbody tr th {\n",
       "        vertical-align: top;\n",
       "    }\n",
       "\n",
       "    .dataframe thead th {\n",
       "        text-align: right;\n",
       "    }\n",
       "</style>\n",
       "<table border=\"1\" class=\"dataframe\">\n",
       "  <thead>\n",
       "    <tr style=\"text-align: right;\">\n",
       "      <th></th>\n",
       "      <th>Property Type</th>\n",
       "      <th>Purpose</th>\n",
       "      <th>City</th>\n",
       "      <th>District</th>\n",
       "      <th>Frontage</th>\n",
       "      <th>Area</th>\n",
       "      <th>Price per Sq.M</th>\n",
       "      <th>Total Price</th>\n",
       "    </tr>\n",
       "  </thead>\n",
       "  <tbody>\n",
       "    <tr>\n",
       "      <th>13</th>\n",
       "      <td>أرض</td>\n",
       "      <td>تجاري وسكني</td>\n",
       "      <td>الرياض</td>\n",
       "      <td>حي اليرموك</td>\n",
       "      <td>جنوبية</td>\n",
       "      <td>1089</td>\n",
       "      <td>3300.0</td>\n",
       "      <td>3593700</td>\n",
       "    </tr>\n",
       "    <tr>\n",
       "      <th>19</th>\n",
       "      <td>أرض</td>\n",
       "      <td>تجاري وسكني</td>\n",
       "      <td>الرياض</td>\n",
       "      <td>حي اليرموك</td>\n",
       "      <td>جنوبية</td>\n",
       "      <td>1089</td>\n",
       "      <td>3200.0</td>\n",
       "      <td>3484800</td>\n",
       "    </tr>\n",
       "    <tr>\n",
       "      <th>34</th>\n",
       "      <td>أرض</td>\n",
       "      <td>سكني</td>\n",
       "      <td>امارة منطقة الرياض</td>\n",
       "      <td>الرياض</td>\n",
       "      <td>جنوبية</td>\n",
       "      <td>300</td>\n",
       "      <td>1950.0</td>\n",
       "      <td>585000</td>\n",
       "    </tr>\n",
       "    <tr>\n",
       "      <th>44</th>\n",
       "      <td>أرض</td>\n",
       "      <td>سكني</td>\n",
       "      <td>الرياض</td>\n",
       "      <td>حي الخليج</td>\n",
       "      <td>شمالية</td>\n",
       "      <td>300</td>\n",
       "      <td>2600.0</td>\n",
       "      <td>780000</td>\n",
       "    </tr>\n",
       "    <tr>\n",
       "      <th>50</th>\n",
       "      <td>أرض</td>\n",
       "      <td>سكني</td>\n",
       "      <td>الرياض</td>\n",
       "      <td>حي الحمراء</td>\n",
       "      <td>جنوبية</td>\n",
       "      <td>1000</td>\n",
       "      <td>6000.0</td>\n",
       "      <td>6000000</td>\n",
       "    </tr>\n",
       "    <tr>\n",
       "      <th>...</th>\n",
       "      <td>...</td>\n",
       "      <td>...</td>\n",
       "      <td>...</td>\n",
       "      <td>...</td>\n",
       "      <td>...</td>\n",
       "      <td>...</td>\n",
       "      <td>...</td>\n",
       "      <td>...</td>\n",
       "    </tr>\n",
       "    <tr>\n",
       "      <th>2063</th>\n",
       "      <td>أرض</td>\n",
       "      <td>سكني</td>\n",
       "      <td>الرياض</td>\n",
       "      <td>الرياض</td>\n",
       "      <td>شرقية</td>\n",
       "      <td>2450</td>\n",
       "      <td>2400.0</td>\n",
       "      <td>5880000</td>\n",
       "    </tr>\n",
       "    <tr>\n",
       "      <th>2096</th>\n",
       "      <td>أرض</td>\n",
       "      <td>سكني</td>\n",
       "      <td>الرياض</td>\n",
       "      <td>حي الروضة</td>\n",
       "      <td>جنوبية</td>\n",
       "      <td>627</td>\n",
       "      <td>4200.0</td>\n",
       "      <td>2633400</td>\n",
       "    </tr>\n",
       "    <tr>\n",
       "      <th>2116</th>\n",
       "      <td>أرض</td>\n",
       "      <td>سكني</td>\n",
       "      <td>الرياض</td>\n",
       "      <td>حي العارض</td>\n",
       "      <td>ثلاث شوارع</td>\n",
       "      <td>5450</td>\n",
       "      <td>4600.0</td>\n",
       "      <td>25070000</td>\n",
       "    </tr>\n",
       "    <tr>\n",
       "      <th>2125</th>\n",
       "      <td>أرض</td>\n",
       "      <td>تجاري</td>\n",
       "      <td>الرياض</td>\n",
       "      <td>حي المهدية</td>\n",
       "      <td>جنوبية</td>\n",
       "      <td>900</td>\n",
       "      <td>7600.0</td>\n",
       "      <td>6840000</td>\n",
       "    </tr>\n",
       "    <tr>\n",
       "      <th>2140</th>\n",
       "      <td>أرض</td>\n",
       "      <td>سكني</td>\n",
       "      <td>حريملاء</td>\n",
       "      <td>الرياض</td>\n",
       "      <td>غربية</td>\n",
       "      <td>750</td>\n",
       "      <td>2000.0</td>\n",
       "      <td>1500000</td>\n",
       "    </tr>\n",
       "  </tbody>\n",
       "</table>\n",
       "<p>259 rows × 8 columns</p>\n",
       "</div>"
      ],
      "text/plain": [
       "     Property Type      Purpose                 City      District  \\\n",
       "13             أرض  تجاري وسكني              الرياض    حي اليرموك    \n",
       "19             أرض  تجاري وسكني              الرياض    حي اليرموك    \n",
       "34             أرض         سكني   امارة منطقة الرياض       الرياض    \n",
       "44             أرض         سكني              الرياض     حي الخليج    \n",
       "50             أرض         سكني              الرياض    حي الحمراء    \n",
       "...            ...          ...                  ...           ...   \n",
       "2063           أرض         سكني               الرياض       الرياض    \n",
       "2096           أرض         سكني              الرياض     حي الروضة    \n",
       "2116           أرض         سكني              الرياض     حي العارض    \n",
       "2125           أرض        تجاري              الرياض    حي المهدية    \n",
       "2140           أرض         سكني              حريملاء       الرياض    \n",
       "\n",
       "        Frontage  Area  Price per Sq.M  Total Price  \n",
       "13        جنوبية  1089          3300.0      3593700  \n",
       "19        جنوبية  1089          3200.0      3484800  \n",
       "34        جنوبية   300          1950.0       585000  \n",
       "44        شمالية   300          2600.0       780000  \n",
       "50        جنوبية  1000          6000.0      6000000  \n",
       "...          ...   ...             ...          ...  \n",
       "2063       شرقية  2450          2400.0      5880000  \n",
       "2096      جنوبية   627          4200.0      2633400  \n",
       "2116  ثلاث شوارع  5450          4600.0     25070000  \n",
       "2125      جنوبية   900          7600.0      6840000  \n",
       "2140       غربية   750          2000.0      1500000  \n",
       "\n",
       "[259 rows x 8 columns]"
      ]
     },
     "execution_count": 17,
     "metadata": {},
     "output_type": "execute_result"
    }
   ],
   "source": [
    "lands[lands.duplicated()]"
   ]
  },
  {
   "cell_type": "code",
   "execution_count": 18,
   "id": "0eb9acb7",
   "metadata": {},
   "outputs": [],
   "source": [
    "lands.drop_duplicates(inplace=True)"
   ]
  },
  {
   "cell_type": "code",
   "execution_count": 19,
   "id": "5d31b856",
   "metadata": {},
   "outputs": [
    {
     "data": {
      "text/plain": [
       "(1896, 8)"
      ]
     },
     "execution_count": 19,
     "metadata": {},
     "output_type": "execute_result"
    }
   ],
   "source": [
    "lands.shape"
   ]
  },
  {
   "cell_type": "code",
   "execution_count": 20,
   "id": "04c62559-3b48-48cf-a4e9-857e2e0ff416",
   "metadata": {},
   "outputs": [],
   "source": [
    "# go to delete duplicates columns\n"
   ]
  },
  {
   "cell_type": "markdown",
   "id": "c7724ac2-4ea2-4cf4-a9e0-e64368f87b92",
   "metadata": {},
   "source": [
    "#### 6. Completeness: \n",
    "Ensure that no critical data is missing. This might mean checking for null values or required fields that are empty.\n",
    "\n",
    "We will start by checking the dataset for missing or null values. For this, we can use the isna() method which returns a dataframe of boolean values indicating if a field is null or not. To group all missing values by column, we can include the sum() method."
   ]
  },
  {
   "cell_type": "code",
   "execution_count": 21,
   "id": "48a4de54-a344-4b94-9908-9528c15c13f7",
   "metadata": {},
   "outputs": [
    {
     "data": {
      "text/plain": [
       "Purpose           47\n",
       "Property Type      0\n",
       "City               0\n",
       "District           0\n",
       "Frontage           0\n",
       "Area               0\n",
       "Price per Sq.M     0\n",
       "Total Price        0\n",
       "dtype: int64"
      ]
     },
     "execution_count": 21,
     "metadata": {},
     "output_type": "execute_result"
    }
   ],
   "source": [
    "#Display number missing values per column\n",
    "lands.isnull().sum().sort_values(ascending = False)"
   ]
  },
  {
   "cell_type": "code",
   "execution_count": 22,
   "id": "abec31c4-0904-4b73-8cee-b7bc14ab1e67",
   "metadata": {},
   "outputs": [],
   "source": [
    "# go to clean them "
   ]
  },
  {
   "cell_type": "markdown",
   "id": "b40de63c-5a1d-49ed-a87e-c5229ee08bbe",
   "metadata": {},
   "source": [
    "#### 7. Check Accuracy:\n",
    "\n",
    "Verify that the data is correct and precise. This could involve comparing data samples with known sources or using validation rules.\n",
    "\n",
    "**The process includes:**\n",
    "1. Validating the appropriateness of data types for the dataset.\n",
    "2. Identifying outliers  using established validation  rule"
   ]
  },
  {
   "cell_type": "code",
   "execution_count": 23,
   "id": "68be5334-ae10-4abd-8097-3259fe5e72c8",
   "metadata": {},
   "outputs": [
    {
     "data": {
      "text/plain": [
       "Property Type      object\n",
       "Purpose            object\n",
       "City               object\n",
       "District           object\n",
       "Frontage           object\n",
       "Area                int64\n",
       "Price per Sq.M    float64\n",
       "Total Price         int64\n",
       "dtype: object"
      ]
     },
     "execution_count": 23,
     "metadata": {},
     "output_type": "execute_result"
    }
   ],
   "source": [
    "# check columns types \n",
    "lands.dtypes"
   ]
  },
  {
   "cell_type": "code",
   "execution_count": 24,
   "id": "ced44ed7",
   "metadata": {},
   "outputs": [
    {
     "data": {
      "text/plain": [
       "(1896, 8)"
      ]
     },
     "execution_count": 24,
     "metadata": {},
     "output_type": "execute_result"
    }
   ],
   "source": [
    "lands.shape"
   ]
  },
  {
   "cell_type": "code",
   "execution_count": 25,
   "id": "2ee790ba-dcc0-45f1-b6f8-0133e913e149",
   "metadata": {},
   "outputs": [],
   "source": [
    "# go to clean them "
   ]
  },
  {
   "cell_type": "code",
   "execution_count": 26,
   "id": "c69b303a-5459-45f9-a28e-fcee45c21c05",
   "metadata": {},
   "outputs": [
    {
     "data": {
      "image/png": "[encoded data removed]",
      "text/plain": [
       "<Figure size 1600x600 with 2 Axes>"
      ]
     },
     "metadata": {},
     "output_type": "display_data"
    }
   ],
   "source": [
    "# check outliers\n",
    "fig, (ax1, ax2) = plt.subplots(1, 2, figsize=(16, 6))\n",
    "\n",
    "# Boxplot for \"Price per Sq.M\"\n",
    "ax1.boxplot(lands['Price per Sq.M'])\n",
    "ax1.set_title('Boxplot of \"Price per Sq.M\"')\n",
    "ax1.set_xlabel('Price per Sq.M')\n",
    "ax1.set_ylabel('Values')\n",
    "\n",
    "# Boxplot for \"Area\"\n",
    "ax2.boxplot(lands['Area'])\n",
    "ax2.set_title('Boxplot of \"Area\"')\n",
    "ax2.set_xlabel('Area')\n",
    "ax2.set_ylabel('Values')\n",
    "\n",
    "plt.subplots_adjust(wspace=0.5)\n",
    "\n",
    "plt.tight_layout()\n",
    "plt.show()\n"
   ]
  },
  {
   "cell_type": "code",
   "execution_count": 27,
   "id": "7b9da8e8",
   "metadata": {},
   "outputs": [
    {
     "name": "stdout",
     "output_type": "stream",
     "text": [
      "  Property Type Purpose                 City            District    Frontage  \\\n",
      "0           أرض     NaN   امارة منطقة الرياض             الرياض        غربية   \n",
      "1           أرض     NaN              الرياض           حي غرناطة       شمالية   \n",
      "2           أرض    سكني              الرياض           حي غرناطة   ثلاث شوارع   \n",
      "3           أرض    سكني              الرياض          حي اليرموك   ثلاث شوارع   \n",
      "4           أرض    سكني              الرياض    حي النسيم الغربي        غربية   \n",
      "\n",
      "   Area  Price per Sq.M  Total Price  \n",
      "0   375          2900.0      1087500  \n",
      "1   800          4800.0      3840000  \n",
      "2  1650          4800.0      7920000  \n",
      "3  1650          4800.0      7920000  \n",
      "4   750          3200.0      2400000  \n",
      "Property Type      object\n",
      "Purpose            object\n",
      "City               object\n",
      "District           object\n",
      "Frontage           object\n",
      "Area                int64\n",
      "Price per Sq.M    float64\n",
      "Total Price         int64\n",
      "dtype: object\n"
     ]
    }
   ],
   "source": [
    "print(lands.head())\n",
    "print(lands.dtypes)"
   ]
  },
  {
   "cell_type": "markdown",
   "id": "4aca9d42-add6-45db-92cf-1f6dae5f277b",
   "metadata": {},
   "source": [
    "**What is an Outlier?** \n",
    "Outlier is an row/observation that appears far away and diverges from an overall pattern in a sample.\n",
    "\n",
    "**What are the types of Outliers?**\n",
    "1. Univariate: These outliers can be found when we look at distribution of a single variable\n",
    "2. Multivariate: are outliers in an n-dimensional space. In order to find them, you have to look at distributions in multi-dimensions. example (hight=100, weight=100) for a person\n",
    "\n",
    "**What causes Outliers?**\n",
    "Whenever we come across outliers, the ideal way to tackle them is to find out the reason of having these outliers. The method to deal with them would then depend on the reason of their occurrence.\n",
    "\n",
    "Let’s understand various types of outliers:\n",
    "\n",
    "1. Data Entry Errors:- Human errors such as errors caused during data collection, recording, or entry can cause outliers in data.\n",
    "2. Measurement Error: It is the most common source of outliers. This is caused when the measurement instrument used turns out to be faulty.\n",
    "3. Data Processing Error: Whenever we perform data mining, we extract data from multiple sources. It is possible that some manipulation or extraction errors may lead to outliers in the dataset.\n",
    "4. Sampling error: For instance, we have to measure the height of athletes. By mistake, we include a few basketball players in the sample. This inclusion is likely to cause outliers in the dataset.\n",
    "5. Natural Outlier: When an outlier is not artificial (due to error), it is a natural outlier. For instance: In my last assignment with one of the renowned insurance company, I noticed that the performance of top 50 financial advisors was far higher than rest of the population. Surprisingly, it was not due to any error. Hence, whenever we perform any data mining activity with advisors, we used to treat this segment separately.\n",
    "\n",
    "\n",
    "**What is the impact of Outliers on a dataset?**\n",
    "\n",
    "\n",
    "![image.png](https://www.analyticsvidhya.com/wp-content/uploads/2015/02/Outlier_31.png)\n",
    "\n",
    "\n",
    "\n",
    "**How to detect Outliers?**\n",
    "\n",
    "1. Most commonly used method to detect outliers is visualization (Univariate Graphical Analysis).\n",
    "\n",
    "We use 3 common visualization methods:\n",
    ">- Box-plot: A box plot is a method for graphically depicting groups of numerical data through their quartiles. The box extends from the Q1 to Q3 quartile values of the data, with a line at the median (Q2). The whiskers extend from the edges of the box to show the range of the data. Outlier points are those past the end of the whiskers. Box plots show robust measures of location and spread as well as providing information about symmetry and outliers.\n",
    ">\n",
    ">  \n",
    ">![image.png](https://miro.medium.com/v2/resize:fit:698/format:webp/1*VK5iHA2AB28HSZwWwUbNYg.png)\n",
    ">\n",
    ">\n",
    ">- Histogram\n",
    ">- Scatter Plot: A scatter plot is a mathematical diagram using Cartesian coordinates to display values for two variables for a set of data. The data are displayed as a collection of points, each having the value of one variable determining the position on the horizontal axis and the value of the other variable determining the position on the vertical axis. The points that are far from the population can be termed as an outlier.\n",
    ">\n",
    ">  \n",
    ">![image.png](https://miro.medium.com/v2/resize:fit:4800/format:webp/1*Ov6aH-8yIwNoUxtMFwgx4g.png)\n",
    ">\n",
    ">\n",
    "\n",
    "2. Using statistical method (Univariate Non-Graphical analysis):\n",
    ">- Any value, which is beyond the range of -1.5 x IQR to 1.5 x IQR\n",
    " \n",
    "![image.png](https://www.whatissixsigma.net/wp-content/uploads/2015/07/Box-Plot-Diagram-to-identify-Outliers-figure-1.png)\n",
    "\n",
    ">- Use capping methods. Any value which out of range of 5th and 95th percentile can be considered as outlier\n",
    ">- Data points, three or more standard deviation away from mean are considered outlier: The Z-score is the signed number of standard deviations by which the value of an observation or data point is above the mean value of what is being observed or measured. While calculating the Z-score we re-scale and center the data and look for data points that are too far from zero. These data points which are way too far from zero will be treated as the outliers. In most of the cases, a threshold of 3 or -3 is used i.e if the Z-score value is greater than or less than 3 or -3 respectively, that data point will be identified as outliers.\n",
    "> - Outlier detection is merely a special case of the examination of data for influential data points and it also depends on the business understanding\n"
   ]
  },
  {
   "cell_type": "code",
   "execution_count": 28,
   "id": "74ea6194-cc01-45d8-be38-c4543eb1714e",
   "metadata": {},
   "outputs": [],
   "source": [
    "# go to univariate graphical analysis\n",
    "# go to lesson : data visualisation 1 - chart type section\n",
    "# then go to univariate graphical analysis\n",
    "# detect outliers using graphs varbaly"
   ]
  },
  {
   "cell_type": "code",
   "execution_count": 29,
   "id": "48ecf77b-480c-4f64-9485-95be805bc357",
   "metadata": {},
   "outputs": [],
   "source": [
    "# go to lesson: statistics 1 then statistics 3\n",
    "# then go to univariate Non graphical analysis\n",
    "# detect outliers using numerical statistics "
   ]
  },
  {
   "cell_type": "code",
   "execution_count": 30,
   "id": "ee200da8-62b0-492d-b118-f4d665a1fb16",
   "metadata": {},
   "outputs": [
    {
     "data": {
      "text/html": [
       "<div>\n",
       "<style scoped>\n",
       "    .dataframe tbody tr th:only-of-type {\n",
       "        vertical-align: middle;\n",
       "    }\n",
       "\n",
       "    .dataframe tbody tr th {\n",
       "        vertical-align: top;\n",
       "    }\n",
       "\n",
       "    .dataframe thead th {\n",
       "        text-align: right;\n",
       "    }\n",
       "</style>\n",
       "<table border=\"1\" class=\"dataframe\">\n",
       "  <thead>\n",
       "    <tr style=\"text-align: right;\">\n",
       "      <th></th>\n",
       "      <th>Property Type</th>\n",
       "      <th>Purpose</th>\n",
       "      <th>City</th>\n",
       "      <th>District</th>\n",
       "      <th>Frontage</th>\n",
       "      <th>Area</th>\n",
       "      <th>Price per Sq.M</th>\n",
       "      <th>Total Price</th>\n",
       "    </tr>\n",
       "  </thead>\n",
       "  <tbody>\n",
       "    <tr>\n",
       "      <th>1545</th>\n",
       "      <td>أرض</td>\n",
       "      <td>تجاري وسكني</td>\n",
       "      <td>حريملاء</td>\n",
       "      <td>ملهم</td>\n",
       "      <td>شمالية شرقية</td>\n",
       "      <td>945</td>\n",
       "      <td>945000.0</td>\n",
       "      <td>893025000</td>\n",
       "    </tr>\n",
       "    <tr>\n",
       "      <th>1546</th>\n",
       "      <td>أرض</td>\n",
       "      <td>تجاري وسكني</td>\n",
       "      <td>حريملاء</td>\n",
       "      <td>الرياض</td>\n",
       "      <td>غربية</td>\n",
       "      <td>375</td>\n",
       "      <td>945000.0</td>\n",
       "      <td>354375000</td>\n",
       "    </tr>\n",
       "    <tr>\n",
       "      <th>1547</th>\n",
       "      <td>أرض</td>\n",
       "      <td>تجاري وسكني</td>\n",
       "      <td>الرياض</td>\n",
       "      <td>حي القيروان</td>\n",
       "      <td>غربية</td>\n",
       "      <td>900</td>\n",
       "      <td>945000.0</td>\n",
       "      <td>850500000</td>\n",
       "    </tr>\n",
       "  </tbody>\n",
       "</table>\n",
       "</div>"
      ],
      "text/plain": [
       "     Property Type      Purpose      City       District      Frontage  Area  \\\n",
       "1545           أرض  تجاري وسكني   حريملاء          ملهم   شمالية شرقية   945   \n",
       "1546           أرض  تجاري وسكني   حريملاء        الرياض          غربية   375   \n",
       "1547           أرض  تجاري وسكني   الرياض    حي القيروان          غربية   900   \n",
       "\n",
       "      Price per Sq.M  Total Price  \n",
       "1545        945000.0    893025000  \n",
       "1546        945000.0    354375000  \n",
       "1547        945000.0    850500000  "
      ]
     },
     "execution_count": 30,
     "metadata": {},
     "output_type": "execute_result"
    }
   ],
   "source": [
    "# We droped this rows because they are in diff class of analysis so we don't need them\n",
    "lands[lands[\"Price per Sq.M\"] >= 90000]"
   ]
  },
  {
   "cell_type": "code",
   "execution_count": 31,
   "id": "b5bdfcf4",
   "metadata": {},
   "outputs": [
    {
     "data": {
      "text/plain": [
       "Index([1545, 1546, 1547], dtype='int64')"
      ]
     },
     "execution_count": 31,
     "metadata": {},
     "output_type": "execute_result"
    }
   ],
   "source": [
    "lands[lands[\"Price per Sq.M\"] >= 90000].index"
   ]
  },
  {
   "cell_type": "code",
   "execution_count": 32,
   "id": "64986d59",
   "metadata": {},
   "outputs": [],
   "source": [
    "lands = lands.drop(lands[lands[\"Price per Sq.M\"] >= 90000].index, axis=0)"
   ]
  },
  {
   "cell_type": "code",
   "execution_count": 33,
   "id": "c1ec9330",
   "metadata": {},
   "outputs": [
    {
     "data": {
      "text/html": [
       "<div>\n",
       "<style scoped>\n",
       "    .dataframe tbody tr th:only-of-type {\n",
       "        vertical-align: middle;\n",
       "    }\n",
       "\n",
       "    .dataframe tbody tr th {\n",
       "        vertical-align: top;\n",
       "    }\n",
       "\n",
       "    .dataframe thead th {\n",
       "        text-align: right;\n",
       "    }\n",
       "</style>\n",
       "<table border=\"1\" class=\"dataframe\">\n",
       "  <thead>\n",
       "    <tr style=\"text-align: right;\">\n",
       "      <th></th>\n",
       "      <th>Property Type</th>\n",
       "      <th>Purpose</th>\n",
       "      <th>City</th>\n",
       "      <th>District</th>\n",
       "      <th>Frontage</th>\n",
       "      <th>Area</th>\n",
       "      <th>Price per Sq.M</th>\n",
       "      <th>Total Price</th>\n",
       "    </tr>\n",
       "  </thead>\n",
       "  <tbody>\n",
       "    <tr>\n",
       "      <th>2086</th>\n",
       "      <td>أرض</td>\n",
       "      <td>تجاري وسكني</td>\n",
       "      <td>الرياض</td>\n",
       "      <td>الرياض</td>\n",
       "      <td>أربع شوارع</td>\n",
       "      <td>299684</td>\n",
       "      <td>1450.0</td>\n",
       "      <td>434541800</td>\n",
       "    </tr>\n",
       "    <tr>\n",
       "      <th>2087</th>\n",
       "      <td>أرض</td>\n",
       "      <td>تجاري وسكني</td>\n",
       "      <td>الرياض</td>\n",
       "      <td>حي الرمال</td>\n",
       "      <td>أربع شوارع</td>\n",
       "      <td>299684</td>\n",
       "      <td>1450.0</td>\n",
       "      <td>434541800</td>\n",
       "    </tr>\n",
       "  </tbody>\n",
       "</table>\n",
       "</div>"
      ],
      "text/plain": [
       "     Property Type      Purpose      City     District    Frontage    Area  \\\n",
       "2086           أرض  تجاري وسكني    الرياض      الرياض   أربع شوارع  299684   \n",
       "2087           أرض  تجاري وسكني   الرياض    حي الرمال   أربع شوارع  299684   \n",
       "\n",
       "      Price per Sq.M  Total Price  \n",
       "2086          1450.0    434541800  \n",
       "2087          1450.0    434541800  "
      ]
     },
     "execution_count": 33,
     "metadata": {},
     "output_type": "execute_result"
    }
   ],
   "source": [
    "# here we found a dublicated values with diff District names, so we gonna delete both of them \n",
    "lands[lands[\"Area\"] >= 200000]"
   ]
  },
  {
   "cell_type": "code",
   "execution_count": 34,
   "id": "8b7c446f",
   "metadata": {},
   "outputs": [
    {
     "data": {
      "text/plain": [
       "Index([2086, 2087], dtype='int64')"
      ]
     },
     "execution_count": 34,
     "metadata": {},
     "output_type": "execute_result"
    }
   ],
   "source": [
    "lands[lands[\"Area\"] >= 200000].index"
   ]
  },
  {
   "cell_type": "code",
   "execution_count": 35,
   "id": "95760701",
   "metadata": {},
   "outputs": [],
   "source": [
    "lands = lands.drop(lands[lands[\"Area\"] >= 200000].index, axis=0)"
   ]
  },
  {
   "cell_type": "code",
   "execution_count": 36,
   "id": "e42f0547",
   "metadata": {},
   "outputs": [
    {
     "data": {
      "text/html": [
       "<div>\n",
       "<style scoped>\n",
       "    .dataframe tbody tr th:only-of-type {\n",
       "        vertical-align: middle;\n",
       "    }\n",
       "\n",
       "    .dataframe tbody tr th {\n",
       "        vertical-align: top;\n",
       "    }\n",
       "\n",
       "    .dataframe thead th {\n",
       "        text-align: right;\n",
       "    }\n",
       "</style>\n",
       "<table border=\"1\" class=\"dataframe\">\n",
       "  <thead>\n",
       "    <tr style=\"text-align: right;\">\n",
       "      <th></th>\n",
       "      <th>Property Type</th>\n",
       "      <th>Purpose</th>\n",
       "      <th>City</th>\n",
       "      <th>District</th>\n",
       "      <th>Frontage</th>\n",
       "      <th>Area</th>\n",
       "      <th>Price per Sq.M</th>\n",
       "      <th>Total Price</th>\n",
       "    </tr>\n",
       "  </thead>\n",
       "  <tbody>\n",
       "    <tr>\n",
       "      <th>37</th>\n",
       "      <td>أرض</td>\n",
       "      <td>سكني</td>\n",
       "      <td>امارة منطقة الرياض</td>\n",
       "      <td>الرياض</td>\n",
       "      <td>غربية</td>\n",
       "      <td>239</td>\n",
       "      <td>1950.0</td>\n",
       "      <td>466050</td>\n",
       "    </tr>\n",
       "    <tr>\n",
       "      <th>38</th>\n",
       "      <td>أرض</td>\n",
       "      <td>سكني</td>\n",
       "      <td>امارة منطقة الرياض</td>\n",
       "      <td>الرياض</td>\n",
       "      <td>جنوبية غربية</td>\n",
       "      <td>218</td>\n",
       "      <td>1650.0</td>\n",
       "      <td>359700</td>\n",
       "    </tr>\n",
       "    <tr>\n",
       "      <th>39</th>\n",
       "      <td>أرض</td>\n",
       "      <td>سكني</td>\n",
       "      <td>امارة منطقة الرياض</td>\n",
       "      <td>الرياض</td>\n",
       "      <td>غربية</td>\n",
       "      <td>239</td>\n",
       "      <td>1650.0</td>\n",
       "      <td>394350</td>\n",
       "    </tr>\n",
       "    <tr>\n",
       "      <th>95</th>\n",
       "      <td>أرض</td>\n",
       "      <td>سكني</td>\n",
       "      <td>الرياض</td>\n",
       "      <td>حي السعادة</td>\n",
       "      <td>جنوبية</td>\n",
       "      <td>90</td>\n",
       "      <td>2500.0</td>\n",
       "      <td>225000</td>\n",
       "    </tr>\n",
       "    <tr>\n",
       "      <th>212</th>\n",
       "      <td>أرض</td>\n",
       "      <td>سكني</td>\n",
       "      <td>امارة منطقة الرياض</td>\n",
       "      <td>الرياض</td>\n",
       "      <td>شمالية غربية</td>\n",
       "      <td>247</td>\n",
       "      <td>1650.0</td>\n",
       "      <td>407550</td>\n",
       "    </tr>\n",
       "    <tr>\n",
       "      <th>...</th>\n",
       "      <td>...</td>\n",
       "      <td>...</td>\n",
       "      <td>...</td>\n",
       "      <td>...</td>\n",
       "      <td>...</td>\n",
       "      <td>...</td>\n",
       "      <td>...</td>\n",
       "      <td>...</td>\n",
       "    </tr>\n",
       "    <tr>\n",
       "      <th>1831</th>\n",
       "      <td>أرض</td>\n",
       "      <td>سكني</td>\n",
       "      <td>امارة منطقة الرياض</td>\n",
       "      <td>الرياض</td>\n",
       "      <td>جنوبية</td>\n",
       "      <td>225</td>\n",
       "      <td>13395.0</td>\n",
       "      <td>3013875</td>\n",
       "    </tr>\n",
       "    <tr>\n",
       "      <th>1832</th>\n",
       "      <td>أرض</td>\n",
       "      <td>سكني</td>\n",
       "      <td>امارة منطقة الرياض</td>\n",
       "      <td>الرياض</td>\n",
       "      <td>جنوبية شرقية</td>\n",
       "      <td>225</td>\n",
       "      <td>13395.0</td>\n",
       "      <td>3013875</td>\n",
       "    </tr>\n",
       "    <tr>\n",
       "      <th>1895</th>\n",
       "      <td>أرض</td>\n",
       "      <td>سكني</td>\n",
       "      <td>الرياض</td>\n",
       "      <td>حي ام سليم</td>\n",
       "      <td>جنوبية شرقية</td>\n",
       "      <td>199</td>\n",
       "      <td>1800.0</td>\n",
       "      <td>358200</td>\n",
       "    </tr>\n",
       "    <tr>\n",
       "      <th>2020</th>\n",
       "      <td>أرض</td>\n",
       "      <td>تجاري</td>\n",
       "      <td>الرياض</td>\n",
       "      <td>حي جرير</td>\n",
       "      <td>شمالية</td>\n",
       "      <td>248</td>\n",
       "      <td>3200.0</td>\n",
       "      <td>793600</td>\n",
       "    </tr>\n",
       "    <tr>\n",
       "      <th>2128</th>\n",
       "      <td>أرض</td>\n",
       "      <td>سكني</td>\n",
       "      <td>الرياض</td>\n",
       "      <td>حي ضاحية نمار</td>\n",
       "      <td>شمالية غربية</td>\n",
       "      <td>244</td>\n",
       "      <td>1434.0</td>\n",
       "      <td>349896</td>\n",
       "    </tr>\n",
       "  </tbody>\n",
       "</table>\n",
       "<p>78 rows × 8 columns</p>\n",
       "</div>"
      ],
      "text/plain": [
       "     Property Type Purpose                 City         District  \\\n",
       "37             أرض    سكني   امارة منطقة الرياض          الرياض    \n",
       "38             أرض    سكني   امارة منطقة الرياض          الرياض    \n",
       "39             أرض    سكني   امارة منطقة الرياض          الرياض    \n",
       "95             أرض    سكني              الرياض       حي السعادة    \n",
       "212            أرض    سكني   امارة منطقة الرياض          الرياض    \n",
       "...            ...     ...                  ...              ...   \n",
       "1831           أرض    سكني   امارة منطقة الرياض          الرياض    \n",
       "1832           أرض    سكني   امارة منطقة الرياض          الرياض    \n",
       "1895           أرض    سكني              الرياض       حي ام سليم    \n",
       "2020           أرض   تجاري              الرياض          حي جرير    \n",
       "2128           أرض    سكني              الرياض    حي ضاحية نمار    \n",
       "\n",
       "          Frontage  Area  Price per Sq.M  Total Price  \n",
       "37           غربية   239          1950.0       466050  \n",
       "38    جنوبية غربية   218          1650.0       359700  \n",
       "39           غربية   239          1650.0       394350  \n",
       "95          جنوبية    90          2500.0       225000  \n",
       "212   شمالية غربية   247          1650.0       407550  \n",
       "...            ...   ...             ...          ...  \n",
       "1831        جنوبية   225         13395.0      3013875  \n",
       "1832  جنوبية شرقية   225         13395.0      3013875  \n",
       "1895  جنوبية شرقية   199          1800.0       358200  \n",
       "2020        شمالية   248          3200.0       793600  \n",
       "2128  شمالية غربية   244          1434.0       349896  \n",
       "\n",
       "[78 rows x 8 columns]"
      ]
     },
     "execution_count": 36,
     "metadata": {},
     "output_type": "execute_result"
    }
   ],
   "source": [
    "# Same idea there was some small areas that we don't gonna deal with it\n",
    "lands[lands[\"Area\"] < 300]"
   ]
  },
  {
   "cell_type": "code",
   "execution_count": 37,
   "id": "3a162847",
   "metadata": {},
   "outputs": [
    {
     "data": {
      "text/plain": [
       "Index([  37,   38,   39,   95,  212,  213,  229,  231,  234,  265,  286,  292,\n",
       "        293,  294,  322,  328,  331,  349,  360,  519,  522,  530,  541,  581,\n",
       "        600,  663,  677,  774,  797,  918, 1172, 1181, 1188, 1232, 1268, 1328,\n",
       "       1341, 1402, 1412, 1414, 1432, 1437, 1438, 1446, 1473, 1478, 1481, 1483,\n",
       "       1485, 1487, 1534, 1541, 1548, 1576, 1581, 1594, 1595, 1633, 1661, 1668,\n",
       "       1674, 1709, 1723, 1725, 1739, 1747, 1753, 1768, 1790, 1806, 1819, 1824,\n",
       "       1827, 1831, 1832, 1895, 2020, 2128],\n",
       "      dtype='int64')"
      ]
     },
     "execution_count": 37,
     "metadata": {},
     "output_type": "execute_result"
    }
   ],
   "source": [
    "lands[lands[\"Area\"] < 300].index"
   ]
  },
  {
   "cell_type": "code",
   "execution_count": 38,
   "id": "ddc67e77",
   "metadata": {},
   "outputs": [],
   "source": [
    "lands = lands.drop(lands[lands[\"Area\"] < 300].index, axis=0)"
   ]
  },
  {
   "cell_type": "code",
   "execution_count": 39,
   "id": "ad34450d",
   "metadata": {},
   "outputs": [
    {
     "data": {
      "text/html": [
       "<div>\n",
       "<style scoped>\n",
       "    .dataframe tbody tr th:only-of-type {\n",
       "        vertical-align: middle;\n",
       "    }\n",
       "\n",
       "    .dataframe tbody tr th {\n",
       "        vertical-align: top;\n",
       "    }\n",
       "\n",
       "    .dataframe thead th {\n",
       "        text-align: right;\n",
       "    }\n",
       "</style>\n",
       "<table border=\"1\" class=\"dataframe\">\n",
       "  <thead>\n",
       "    <tr style=\"text-align: right;\">\n",
       "      <th></th>\n",
       "      <th>Property Type</th>\n",
       "      <th>Purpose</th>\n",
       "      <th>City</th>\n",
       "      <th>District</th>\n",
       "      <th>Frontage</th>\n",
       "      <th>Area</th>\n",
       "      <th>Price per Sq.M</th>\n",
       "      <th>Total Price</th>\n",
       "    </tr>\n",
       "  </thead>\n",
       "  <tbody>\n",
       "  </tbody>\n",
       "</table>\n",
       "</div>"
      ],
      "text/plain": [
       "Empty DataFrame\n",
       "Columns: [Property Type, Purpose, City, District, Frontage, Area, Price per Sq.M, Total Price]\n",
       "Index: []"
      ]
     },
     "execution_count": 39,
     "metadata": {},
     "output_type": "execute_result"
    }
   ],
   "source": [
    "lands[lands[\"Area\"] == ' ']"
   ]
  },
  {
   "cell_type": "code",
   "execution_count": 40,
   "id": "41f21f58",
   "metadata": {},
   "outputs": [],
   "source": [
    "lands['City'] = 'منطقة الرياض'"
   ]
  },
  {
   "cell_type": "code",
   "execution_count": 41,
   "id": "22254884",
   "metadata": {},
   "outputs": [
    {
     "data": {
      "text/plain": [
       "Index([192, 304, 990, 1051, 1052, 1263, 1520, 1664, 2101, 2102, 2121, 2122], dtype='int64')"
      ]
     },
     "execution_count": 41,
     "metadata": {},
     "output_type": "execute_result"
    }
   ],
   "source": [
    "lands[lands[\"District\"] == ' '].index"
   ]
  },
  {
   "cell_type": "code",
   "execution_count": 42,
   "id": "1b7d2d5e",
   "metadata": {},
   "outputs": [],
   "source": [
    "lands = lands[~lands.index.isin([192, 304, 990, 1051, 1052, 1263, 1520, 1664, 2101, 2102, 2121, 2122])]"
   ]
  },
  {
   "cell_type": "code",
   "execution_count": 43,
   "id": "989ba7b7",
   "metadata": {},
   "outputs": [],
   "source": [
    "lands = lands.drop('City', axis=1)"
   ]
  },
  {
   "cell_type": "code",
   "execution_count": 44,
   "id": "b7a2de22",
   "metadata": {},
   "outputs": [],
   "source": [
    "lands.dropna(inplace=True)"
   ]
  },
  {
   "cell_type": "code",
   "execution_count": 45,
   "id": "4e66d611-6958-4860-8522-9ada7fce40b0",
   "metadata": {},
   "outputs": [],
   "source": [
    "# go to delete ouliers"
   ]
  },
  {
   "cell_type": "code",
   "execution_count": 46,
   "id": "4351d480",
   "metadata": {},
   "outputs": [],
   "source": [
    "lands['Price per Sq.M'] = lands['Price per Sq.M'].astype(int)"
   ]
  },
  {
   "cell_type": "code",
   "execution_count": 47,
   "id": "9f32b2a2",
   "metadata": {},
   "outputs": [],
   "source": [
    "lands.columns = [['نوع العقار', 'الغرض', 'الحي', 'الواجهة', 'المساحة', 'سعر المتر', 'السعر الإجمالي']]"
   ]
  },
  {
   "cell_type": "code",
   "execution_count": 48,
   "id": "75508732",
   "metadata": {},
   "outputs": [],
   "source": [
    "destate = dtale.show(lands)\n",
    "destate.open_browser()"
   ]
  },
  {
   "cell_type": "code",
   "execution_count": 49,
   "id": "7f4fb07e",
   "metadata": {},
   "outputs": [
    {
     "data": {
      "application/vnd.plotly.v1+json": {
       "config": {
        "plotlyServerURL": "https://plot.ly"
       },
       "data": [
        {
         "hovertemplate": "Neighborhood: %{text}<br>Land Area: %{x}<br>Price per Sq. Meter: %{y}",
         "legendgroup": "",
         "marker": {
          "color": "#636efa",
          "symbol": "circle"
         },
         "mode": "markers",
         "name": "",
         "orientation": "v",
         "showlegend": false,
         "text": [
          " حي المهدية ",
          " حي البيان ",
          " حي عريض ",
          " العيينة ",
          " الرياض ",
          " حي الرمال ",
          " حي العزيزية ",
          " حي العلا ",
          " حي السعادة ",
          " حي النرجس ",
          " حي العلا ",
          " الرياض ",
          " حي طويق ",
          " حي بدر ",
          " الرياض ",
          " حي الحزم ",
          " حي ضاحية نمار ",
          " حي السلي ",
          " حي العزيزية ",
          " حي طويق "
         ],
         "type": "scatter",
         "x": [
          96755,
          57000,
          40000,
          39192,
          39192,
          30000,
          26966,
          24000,
          22300,
          22300,
          17927,
          15797,
          15730,
          15730,
          15233,
          15233,
          15233,
          15000,
          14835,
          11930
         ],
         "xaxis": "x",
         "y": [
          1000,
          90,
          1000,
          620,
          620,
          1600,
          1000,
          3000,
          2700,
          2700,
          1500,
          1600,
          3000,
          1400,
          350,
          350,
          350,
          1533,
          3000,
          2200
         ],
         "yaxis": "y"
        }
       ],
       "layout": {
        "annotations": [
         {
          "arrowcolor": "red",
          "arrowhead": 1,
          "arrowsize": 1,
          "arrowwidth": 2,
          "showarrow": true,
          "text": "natural outlier",
          "x": 96755,
          "y": 1000
         }
        ],
        "hovermode": "closest",
        "legend": {
         "tracegroupgap": 0
        },
        "template": {
         "data": {
          "bar": [
           {
            "error_x": {
             "color": "#2a3f5f"
            },
            "error_y": {
             "color": "#2a3f5f"
            },
            "marker": {
             "line": {
              "color": "#E5ECF6",
              "width": 0.5
             },
             "pattern": {
              "fillmode": "overlay",
              "size": 10,
              "solidity": 0.2
             }
            },
            "type": "bar"
           }
          ],
          "barpolar": [
           {
            "marker": {
             "line": {
              "color": "#E5ECF6",
              "width": 0.5
             },
             "pattern": {
              "fillmode": "overlay",
              "size": 10,
              "solidity": 0.2
             }
            },
            "type": "barpolar"
           }
          ],
          "carpet": [
           {
            "aaxis": {
             "endlinecolor": "#2a3f5f",
             "gridcolor": "white",
             "linecolor": "white",
             "minorgridcolor": "white",
             "startlinecolor": "#2a3f5f"
            },
            "baxis": {
             "endlinecolor": "#2a3f5f",
             "gridcolor": "white",
             "linecolor": "white",
             "minorgridcolor": "white",
             "startlinecolor": "#2a3f5f"
            },
            "type": "carpet"
           }
          ],
          "choropleth": [
           {
            "colorbar": {
             "outlinewidth": 0,
             "ticks": ""
            },
            "type": "choropleth"
           }
          ],
          "contour": [
           {
            "colorbar": {
             "outlinewidth": 0,
             "ticks": ""
            },
            "colorscale": [
             [
              0,
              "#0d0887"
             ],
             [
              0.1111111111111111,
              "#46039f"
             ],
             [
              0.2222222222222222,
              "#7201a8"
             ],
             [
              0.3333333333333333,
              "#9c179e"
             ],
             [
              0.4444444444444444,
              "#bd3786"
             ],
             [
              0.5555555555555556,
              "#d8576b"
             ],
             [
              0.6666666666666666,
              "#ed7953"
             ],
             [
              0.7777777777777778,
              "#fb9f3a"
             ],
             [
              0.8888888888888888,
              "#fdca26"
             ],
             [
              1,
              "#f0f921"
             ]
            ],
            "type": "contour"
           }
          ],
          "contourcarpet": [
           {
            "colorbar": {
             "outlinewidth": 0,
             "ticks": ""
            },
            "type": "contourcarpet"
           }
          ],
          "heatmap": [
           {
            "colorbar": {
             "outlinewidth": 0,
             "ticks": ""
            },
            "colorscale": [
             [
              0,
              "#0d0887"
             ],
             [
              0.1111111111111111,
              "#46039f"
             ],
             [
              0.2222222222222222,
              "#7201a8"
             ],
             [
              0.3333333333333333,
              "#9c179e"
             ],
             [
              0.4444444444444444,
              "#bd3786"
             ],
             [
              0.5555555555555556,
              "#d8576b"
             ],
             [
              0.6666666666666666,
              "#ed7953"
             ],
             [
              0.7777777777777778,
              "#fb9f3a"
             ],
             [
              0.8888888888888888,
              "#fdca26"
             ],
             [
              1,
              "#f0f921"
             ]
            ],
            "type": "heatmap"
           }
          ],
          "heatmapgl": [
           {
            "colorbar": {
             "outlinewidth": 0,
             "ticks": ""
            },
            "colorscale": [
             [
              0,
              "#0d0887"
             ],
             [
              0.1111111111111111,
              "#46039f"
             ],
             [
              0.2222222222222222,
              "#7201a8"
             ],
             [
              0.3333333333333333,
              "#9c179e"
             ],
             [
              0.4444444444444444,
              "#bd3786"
             ],
             [
              0.5555555555555556,
              "#d8576b"
             ],
             [
              0.6666666666666666,
              "#ed7953"
             ],
             [
              0.7777777777777778,
              "#fb9f3a"
             ],
             [
              0.8888888888888888,
              "#fdca26"
             ],
             [
              1,
              "#f0f921"
             ]
            ],
            "type": "heatmapgl"
           }
          ],
          "histogram": [
           {
            "marker": {
             "pattern": {
              "fillmode": "overlay",
              "size": 10,
              "solidity": 0.2
             }
            },
            "type": "histogram"
           }
          ],
          "histogram2d": [
           {
            "colorbar": {
             "outlinewidth": 0,
             "ticks": ""
            },
            "colorscale": [
             [
              0,
              "#0d0887"
             ],
             [
              0.1111111111111111,
              "#46039f"
             ],
             [
              0.2222222222222222,
              "#7201a8"
             ],
             [
              0.3333333333333333,
              "#9c179e"
             ],
             [
              0.4444444444444444,
              "#bd3786"
             ],
             [
              0.5555555555555556,
              "#d8576b"
             ],
             [
              0.6666666666666666,
              "#ed7953"
             ],
             [
              0.7777777777777778,
              "#fb9f3a"
             ],
             [
              0.8888888888888888,
              "#fdca26"
             ],
             [
              1,
              "#f0f921"
             ]
            ],
            "type": "histogram2d"
           }
          ],
          "histogram2dcontour": [
           {
            "colorbar": {
             "outlinewidth": 0,
             "ticks": ""
            },
            "colorscale": [
             [
              0,
              "#0d0887"
             ],
             [
              0.1111111111111111,
              "#46039f"
             ],
             [
              0.2222222222222222,
              "#7201a8"
             ],
             [
              0.3333333333333333,
              "#9c179e"
             ],
             [
              0.4444444444444444,
              "#bd3786"
             ],
             [
              0.5555555555555556,
              "#d8576b"
             ],
             [
              0.6666666666666666,
              "#ed7953"
             ],
             [
              0.7777777777777778,
              "#fb9f3a"
             ],
             [
              0.8888888888888888,
              "#fdca26"
             ],
             [
              1,
              "#f0f921"
             ]
            ],
            "type": "histogram2dcontour"
           }
          ],
          "mesh3d": [
           {
            "colorbar": {
             "outlinewidth": 0,
             "ticks": ""
            },
            "type": "mesh3d"
           }
          ],
          "parcoords": [
           {
            "line": {
             "colorbar": {
              "outlinewidth": 0,
              "ticks": ""
             }
            },
            "type": "parcoords"
           }
          ],
          "pie": [
           {
            "automargin": true,
            "type": "pie"
           }
          ],
          "scatter": [
           {
            "fillpattern": {
             "fillmode": "overlay",
             "size": 10,
             "solidity": 0.2
            },
            "type": "scatter"
           }
          ],
          "scatter3d": [
           {
            "line": {
             "colorbar": {
              "outlinewidth": 0,
              "ticks": ""
             }
            },
            "marker": {
             "colorbar": {
              "outlinewidth": 0,
              "ticks": ""
             }
            },
            "type": "scatter3d"
           }
          ],
          "scattercarpet": [
           {
            "marker": {
             "colorbar": {
              "outlinewidth": 0,
              "ticks": ""
             }
            },
            "type": "scattercarpet"
           }
          ],
          "scattergeo": [
           {
            "marker": {
             "colorbar": {
              "outlinewidth": 0,
              "ticks": ""
             }
            },
            "type": "scattergeo"
           }
          ],
          "scattergl": [
           {
            "marker": {
             "colorbar": {
              "outlinewidth": 0,
              "ticks": ""
             }
            },
            "type": "scattergl"
           }
          ],
          "scattermapbox": [
           {
            "marker": {
             "colorbar": {
              "outlinewidth": 0,
              "ticks": ""
             }
            },
            "type": "scattermapbox"
           }
          ],
          "scatterpolar": [
           {
            "marker": {
             "colorbar": {
              "outlinewidth": 0,
              "ticks": ""
             }
            },
            "type": "scatterpolar"
           }
          ],
          "scatterpolargl": [
           {
            "marker": {
             "colorbar": {
              "outlinewidth": 0,
              "ticks": ""
             }
            },
            "type": "scatterpolargl"
           }
          ],
          "scatterternary": [
           {
            "marker": {
             "colorbar": {
              "outlinewidth": 0,
              "ticks": ""
             }
            },
            "type": "scatterternary"
           }
          ],
          "surface": [
           {
            "colorbar": {
             "outlinewidth": 0,
             "ticks": ""
            },
            "colorscale": [
             [
              0,
              "#0d0887"
             ],
             [
              0.1111111111111111,
              "#46039f"
             ],
             [
              0.2222222222222222,
              "#7201a8"
             ],
             [
              0.3333333333333333,
              "#9c179e"
             ],
             [
              0.4444444444444444,
              "#bd3786"
             ],
             [
              0.5555555555555556,
              "#d8576b"
             ],
             [
              0.6666666666666666,
              "#ed7953"
             ],
             [
              0.7777777777777778,
              "#fb9f3a"
             ],
             [
              0.8888888888888888,
              "#fdca26"
             ],
             [
              1,
              "#f0f921"
             ]
            ],
            "type": "surface"
           }
          ],
          "table": [
           {
            "cells": {
             "fill": {
              "color": "#EBF0F8"
             },
             "line": {
              "color": "white"
             }
            },
            "header": {
             "fill": {
              "color": "#C8D4E3"
             },
             "line": {
              "color": "white"
             }
            },
            "type": "table"
           }
          ]
         },
         "layout": {
          "annotationdefaults": {
           "arrowcolor": "#2a3f5f",
           "arrowhead": 0,
           "arrowwidth": 1
          },
          "autotypenumbers": "strict",
          "coloraxis": {
           "colorbar": {
            "outlinewidth": 0,
            "ticks": ""
           }
          },
          "colorscale": {
           "diverging": [
            [
             0,
             "#8e0152"
            ],
            [
             0.1,
             "#c51b7d"
            ],
            [
             0.2,
             "#de77ae"
            ],
            [
             0.3,
             "#f1b6da"
            ],
            [
             0.4,
             "#fde0ef"
            ],
            [
             0.5,
             "#f7f7f7"
            ],
            [
             0.6,
             "#e6f5d0"
            ],
            [
             0.7,
             "#b8e186"
            ],
            [
             0.8,
             "#7fbc41"
            ],
            [
             0.9,
             "#4d9221"
            ],
            [
             1,
             "#276419"
            ]
           ],
           "sequential": [
            [
             0,
             "#0d0887"
            ],
            [
             0.1111111111111111,
             "#46039f"
            ],
            [
             0.2222222222222222,
             "#7201a8"
            ],
            [
             0.3333333333333333,
             "#9c179e"
            ],
            [
             0.4444444444444444,
             "#bd3786"
            ],
            [
             0.5555555555555556,
             "#d8576b"
            ],
            [
             0.6666666666666666,
             "#ed7953"
            ],
            [
             0.7777777777777778,
             "#fb9f3a"
            ],
            [
             0.8888888888888888,
             "#fdca26"
            ],
            [
             1,
             "#f0f921"
            ]
           ],
           "sequentialminus": [
            [
             0,
             "#0d0887"
            ],
            [
             0.1111111111111111,
             "#46039f"
            ],
            [
             0.2222222222222222,
             "#7201a8"
            ],
            [
             0.3333333333333333,
             "#9c179e"
            ],
            [
             0.4444444444444444,
             "#bd3786"
            ],
            [
             0.5555555555555556,
             "#d8576b"
            ],
            [
             0.6666666666666666,
             "#ed7953"
            ],
            [
             0.7777777777777778,
             "#fb9f3a"
            ],
            [
             0.8888888888888888,
             "#fdca26"
            ],
            [
             1,
             "#f0f921"
            ]
           ]
          },
          "colorway": [
           "#636efa",
           "#EF553B",
           "#00cc96",
           "#ab63fa",
           "#FFA15A",
           "#19d3f3",
           "#FF6692",
           "#B6E880",
           "#FF97FF",
           "#FECB52"
          ],
          "font": {
           "color": "#2a3f5f"
          },
          "geo": {
           "bgcolor": "white",
           "lakecolor": "white",
           "landcolor": "#E5ECF6",
           "showlakes": true,
           "showland": true,
           "subunitcolor": "white"
          },
          "hoverlabel": {
           "align": "left"
          },
          "hovermode": "closest",
          "mapbox": {
           "style": "light"
          },
          "paper_bgcolor": "white",
          "plot_bgcolor": "#E5ECF6",
          "polar": {
           "angularaxis": {
            "gridcolor": "white",
            "linecolor": "white",
            "ticks": ""
           },
           "bgcolor": "#E5ECF6",
           "radialaxis": {
            "gridcolor": "white",
            "linecolor": "white",
            "ticks": ""
           }
          },
          "scene": {
           "xaxis": {
            "backgroundcolor": "#E5ECF6",
            "gridcolor": "white",
            "gridwidth": 2,
            "linecolor": "white",
            "showbackground": true,
            "ticks": "",
            "zerolinecolor": "white"
           },
           "yaxis": {
            "backgroundcolor": "#E5ECF6",
            "gridcolor": "white",
            "gridwidth": 2,
            "linecolor": "white",
            "showbackground": true,
            "ticks": "",
            "zerolinecolor": "white"
           },
           "zaxis": {
            "backgroundcolor": "#E5ECF6",
            "gridcolor": "white",
            "gridwidth": 2,
            "linecolor": "white",
            "showbackground": true,
            "ticks": "",
            "zerolinecolor": "white"
           }
          },
          "shapedefaults": {
           "line": {
            "color": "#2a3f5f"
           }
          },
          "ternary": {
           "aaxis": {
            "gridcolor": "white",
            "linecolor": "white",
            "ticks": ""
           },
           "baxis": {
            "gridcolor": "white",
            "linecolor": "white",
            "ticks": ""
           },
           "bgcolor": "#E5ECF6",
           "caxis": {
            "gridcolor": "white",
            "linecolor": "white",
            "ticks": ""
           }
          },
          "title": {
           "x": 0.05
          },
          "xaxis": {
           "automargin": true,
           "gridcolor": "white",
           "linecolor": "white",
           "ticks": "",
           "title": {
            "standoff": 15
           },
           "zerolinecolor": "white",
           "zerolinewidth": 2
          },
          "yaxis": {
           "automargin": true,
           "gridcolor": "white",
           "linecolor": "white",
           "ticks": "",
           "title": {
            "standoff": 15
           },
           "zerolinecolor": "white",
           "zerolinewidth": 2
          }
         }
        },
        "title": {
         "text": "Top 20 Land Area vs. Top 20 Price per Square Meter"
        },
        "xaxis": {
         "anchor": "y",
         "domain": [
          0,
          1
         ],
         "title": {
          "text": "Land Area"
         }
        },
        "yaxis": {
         "anchor": "x",
         "domain": [
          0,
          1
         ],
         "title": {
          "text": "Price per Square Meter"
         }
        }
       }
      }
     },
     "metadata": {},
     "output_type": "display_data"
    },
    {
     "data": {
      "application/vnd.plotly.v1+json": {
       "config": {
        "plotlyServerURL": "https://plot.ly"
       },
       "data": [
        {
         "domain": {
          "x": [
           0,
           1
          ],
          "y": [
           0,
           1
          ]
         },
         "hovertemplate": "الغرض=%{label}<extra></extra>",
         "labels": [
          "سكني",
          "سكني",
          "سكني",
          "تجاري وسكني",
          "تجاري وسكني",
          "تجاري وسكني",
          "تجاري وسكني",
          "تجاري وسكني",
          "تجاري وسكني",
          "تجاري وسكني",
          "تجاري وسكني",
          "تجاري وسكني",
          "تجاري وسكني",
          "تجاري وسكني",
          "تجاري وسكني",
          "تجاري وسكني",
          "تجاري وسكني",
          "تجاري وسكني",
          "تجاري وسكني",
          "تجاري وسكني",
          "تجاري وسكني",
          "تجاري",
          "تجاري",
          "تجاري",
          "تجاري",
          "تجاري",
          "تجاري",
          "سكني",
          "سكني",
          "سكني",
          "سكني",
          "سكني",
          "سكني",
          "سكني",
          "سكني",
          "سكني",
          "سكني",
          "سكني",
          "سكني",
          "سكني",
          "سكني",
          "سكني",
          "سكني",
          "سكني",
          "سكني",
          "سكني",
          "سكني",
          "سكني",
          "سكني",
          "سكني",
          "سكني",
          "سكني",
          "سكني",
          "سكني",
          "سكني",
          "سكني",
          "سكني",
          "سكني",
          "سكني",
          "سكني",
          "سكني",
          "سكني",
          "سكني",
          "سكني",
          "سكني",
          "سكني",
          "سكني",
          "سكني",
          "تجاري وسكني",
          "تجاري",
          "تجاري",
          "تجاري",
          "تجاري",
          "تجاري",
          "تجاري",
          "تجاري",
          "تجاري",
          "سكني",
          "سكني",
          "سكني",
          "سكني",
          "سكني",
          "سكني",
          "سكني",
          "سكني",
          "تجاري وسكني",
          "تجاري وسكني",
          "تجاري وسكني",
          "تجاري وسكني",
          "تجاري وسكني",
          "تجاري وسكني",
          "تجاري وسكني",
          "تجاري وسكني",
          "تجاري وسكني",
          "تجاري وسكني",
          "تجاري وسكني",
          "تجاري وسكني",
          "تجاري وسكني",
          "تجاري",
          "تجاري",
          "تجاري",
          "تجاري",
          "تجاري",
          "تجاري",
          "تجاري",
          "تجاري",
          "تجاري",
          "تجاري",
          "تجاري",
          "تجاري",
          "تجاري",
          "تجاري",
          "تجاري",
          "تجاري",
          "تجاري",
          "تجاري",
          "تجاري",
          "تجاري",
          "تجاري",
          "تجاري وسكني",
          "تجاري وسكني",
          "تجاري وسكني",
          "تجاري وسكني",
          "تجاري وسكني",
          "تجاري وسكني",
          "تجاري وسكني",
          "تجاري وسكني",
          "تجاري وسكني",
          "تجاري وسكني",
          "تجاري وسكني",
          "تجاري وسكني",
          "تجاري وسكني",
          "تجاري وسكني",
          "سكني",
          "سكني",
          "سكني",
          "سكني",
          "تجاري وسكني",
          "تجاري وسكني",
          "تجاري وسكني",
          "تجاري وسكني",
          "تجاري وسكني",
          "تجاري وسكني",
          "تجاري وسكني",
          "تجاري وسكني",
          "تجاري وسكني",
          "تجاري وسكني",
          "تجاري",
          "تجاري",
          "تجاري",
          "تجاري",
          "تجاري",
          "تجاري",
          "تجاري",
          "تجاري",
          "تجاري",
          "تجاري",
          "تجاري",
          "تجاري",
          "تجاري",
          "تجاري",
          "تجاري",
          "تجاري",
          "تجاري",
          "تجاري",
          "تجاري",
          "تجاري",
          "تجاري",
          "تجاري",
          "تجاري",
          "تجاري",
          "تجاري",
          "تجاري وسكني",
          "سكني",
          "سكني",
          "سكني",
          "سكني",
          "سكني",
          "سكني",
          "سكني",
          "سكني",
          "سكني",
          "سكني",
          "سكني",
          "سكني",
          "سكني",
          "سكني",
          "سكني",
          "سكني",
          "سكني",
          "سكني",
          "سكني",
          "سكني",
          "تجاري وسكني",
          "تجاري وسكني",
          "تجاري وسكني",
          "تجاري وسكني",
          "تجاري وسكني",
          "تجاري وسكني",
          "تجاري وسكني",
          "تجاري وسكني",
          "تجاري وسكني",
          "تجاري وسكني",
          "تجاري وسكني",
          "تجاري وسكني",
          "تجاري وسكني",
          "تجاري وسكني",
          "تجاري وسكني",
          "تجاري وسكني",
          "تجاري وسكني",
          "تجاري وسكني",
          "تجاري وسكني",
          "تجاري وسكني",
          "تجاري وسكني",
          "تجاري وسكني",
          "تجاري وسكني",
          "تجاري وسكني",
          "تجاري وسكني",
          "تجاري وسكني",
          "تجاري وسكني",
          "تجاري وسكني",
          "تجاري وسكني",
          "تجاري وسكني",
          "تجاري وسكني",
          "سكني",
          "سكني",
          "سكني",
          "سكني",
          "سكني",
          "سكني",
          "تجاري وسكني",
          "تجاري وسكني",
          "تجاري وسكني",
          "تجاري وسكني",
          "تجاري وسكني",
          "تجاري وسكني",
          "تجاري وسكني",
          "تجاري وسكني",
          "تجاري وسكني",
          "تجاري وسكني",
          "تجاري وسكني",
          "تجاري وسكني",
          "تجاري وسكني",
          "تجاري وسكني",
          "تجاري وسكني",
          "تجاري وسكني",
          "تجاري وسكني",
          "تجاري وسكني",
          "تجاري وسكني",
          "تجاري وسكني",
          "تجاري وسكني",
          "تجاري وسكني",
          "تجاري وسكني",
          "تجاري وسكني",
          "تجاري وسكني",
          "تجاري وسكني",
          "تجاري وسكني",
          "تجاري وسكني",
          "تجاري وسكني",
          "تجاري وسكني",
          "تجاري وسكني",
          "تجاري وسكني",
          "تجاري وسكني",
          "تجاري وسكني",
          "تجاري وسكني",
          "تجاري وسكني",
          "تجاري وسكني",
          "تجاري وسكني",
          "تجاري وسكني",
          "تجاري وسكني",
          "سكني",
          "سكني",
          "سكني",
          "سكني",
          "سكني",
          "سكني",
          "سكني",
          "سكني",
          "سكني",
          "سكني",
          "سكني",
          "سكني",
          "سكني",
          "سكني",
          "سكني",
          "سكني",
          "سكني",
          "سكني",
          "سكني",
          "سكني",
          "سكني",
          "سكني",
          "سكني",
          "سكني",
          "سكني",
          "سكني",
          "سكني",
          "سكني",
          "سكني",
          "تجاري وسكني",
          "تجاري وسكني",
          "تجاري وسكني",
          "تجاري وسكني",
          "تجاري وسكني",
          "تجاري وسكني",
          "تجاري وسكني",
          "تجاري وسكني",
          "تجاري وسكني",
          "تجاري وسكني",
          "تجاري وسكني",
          "تجاري وسكني",
          "تجاري وسكني",
          "تجاري وسكني",
          "تجاري وسكني",
          "تجاري وسكني",
          "تجاري وسكني",
          "تجاري وسكني",
          "تجاري وسكني",
          "تجاري وسكني",
          "تجاري وسكني",
          "تجاري وسكني",
          "تجاري",
          "تجاري",
          "تجاري",
          "تجاري",
          "تجاري",
          "تجاري",
          "تجاري",
          "تجاري",
          "تجاري",
          "تجاري",
          "تجاري",
          "تجاري",
          "تجاري",
          "تجاري",
          "تجاري",
          "تجاري",
          "تجاري",
          "تجاري",
          "تجاري",
          "تجاري",
          "تجاري",
          "تجاري",
          "تجاري",
          "تجاري وسكني",
          "تجاري وسكني",
          "تجاري وسكني",
          "تجاري وسكني",
          "تجاري وسكني",
          "تجاري وسكني",
          "سكني",
          "سكني",
          "سكني",
          "سكني",
          "تجاري",
          "تجاري",
          "سكني",
          "سكني",
          "سكني",
          "سكني",
          "سكني",
          "سكني",
          "سكني",
          "سكني",
          "سكني",
          "سكني",
          "سكني",
          "سكني",
          "سكني",
          "سكني",
          "سكني",
          "سكني",
          "سكني",
          "سكني",
          "سكني",
          "سكني",
          "سكني",
          "سكني",
          "سكني",
          "سكني",
          "سكني",
          "سكني",
          "سكني",
          "سكني",
          "سكني",
          "سكني",
          "سكني",
          "سكني",
          "سكني",
          "سكني",
          "سكني",
          "سكني",
          "سكني",
          "سكني",
          "سكني",
          "سكني",
          "سكني",
          "سكني",
          "سكني",
          "سكني",
          "سكني",
          "سكني",
          "سكني",
          "سكني",
          "سكني",
          "سكني",
          "سكني",
          "سكني",
          "سكني",
          "سكني",
          "سكني",
          "سكني",
          "سكني",
          "سكني",
          "سكني",
          "سكني",
          "سكني",
          "سكني",
          "سكني",
          "سكني",
          "سكني",
          "سكني",
          "سكني",
          "سكني",
          "سكني",
          "سكني",
          "سكني",
          "سكني",
          "سكني",
          "سكني",
          "سكني",
          "سكني",
          "سكني",
          "سكني",
          "سكني",
          "سكني",
          "سكني",
          "سكني",
          "سكني",
          "سكني",
          "سكني",
          "سكني",
          "سكني",
          "سكني",
          "سكني",
          "سكني",
          "سكني",
          "سكني",
          "سكني",
          "سكني",
          "سكني",
          "سكني",
          "سكني",
          "سكني",
          "سكني",
          "سكني",
          "سكني",
          "سكني",
          "سكني",
          "سكني",
          "سكني",
          "سكني",
          "سكني",
          "سكني",
          "سكني",
          "سكني",
          "سكني",
          "سكني",
          "سكني",
          "سكني",
          "سكني",
          "سكني",
          "سكني",
          "سكني",
          "سكني",
          "سكني",
          "سكني",
          "سكني",
          "سكني",
          "سكني",
          "سكني",
          "سكني",
          "سكني",
          "سكني",
          "سكني",
          "سكني",
          "سكني",
          "سكني",
          "سكني",
          "سكني",
          "سكني",
          "سكني",
          "سكني",
          "سكني",
          "سكني",
          "سكني",
          "سكني",
          "سكني",
          "سكني",
          "سكني",
          "سكني",
          "سكني",
          "سكني",
          "سكني",
          "سكني",
          "سكني",
          "سكني",
          "سكني",
          "سكني",
          "سكني",
          "سكني",
          "سكني",
          "سكني",
          "تجاري",
          "تجاري",
          "تجاري",
          "تجاري",
          "تجاري",
          "تجاري",
          "تجاري",
          "تجاري",
          "تجاري",
          "تجاري",
          "تجاري",
          "تجاري",
          "سكني",
          "سكني",
          "سكني",
          "سكني",
          "سكني",
          "سكني",
          "سكني",
          "سكني",
          "سكني",
          "سكني",
          "سكني",
          "سكني",
          "سكني",
          "سكني",
          "سكني",
          "سكني",
          "سكني",
          "سكني",
          "سكني",
          "سكني",
          "سكني",
          "سكني",
          "سكني",
          "سكني",
          "سكني",
          "سكني",
          "سكني",
          "سكني",
          "سكني",
          "سكني",
          "سكني",
          "سكني",
          "سكني",
          "سكني",
          "تجاري",
          "تجاري",
          "تجاري",
          "تجاري",
          "تجاري",
          "تجاري",
          "تجاري",
          "تجاري",
          "تجاري",
          "تجاري",
          "تجاري",
          "تجاري",
          "تجاري",
          "تجاري",
          "تجاري",
          "تجاري",
          "سكني",
          "سكني",
          "سكني",
          "سكني",
          "سكني",
          "سكني",
          "سكني",
          "سكني",
          "سكني",
          "سكني",
          "سكني",
          "سكني",
          "سكني",
          "سكني",
          "سكني",
          "سكني",
          "سكني",
          "سكني",
          "سكني",
          "سكني",
          "سكني",
          "سكني",
          "سكني",
          "سكني",
          "سكني",
          "سكني",
          "سكني",
          "سكني",
          "سكني",
          "سكني",
          "سكني",
          "سكني",
          "سكني",
          "سكني",
          "سكني",
          "سكني",
          "سكني",
          "سكني",
          "سكني",
          "سكني",
          "سكني",
          "سكني",
          "سكني",
          "سكني",
          "سكني",
          "سكني",
          "سكني",
          "سكني",
          "سكني",
          "سكني",
          "سكني",
          "سكني",
          "سكني",
          "سكني",
          "سكني",
          "سكني",
          "سكني",
          "سكني",
          "سكني",
          "سكني",
          "سكني",
          "سكني",
          "سكني",
          "سكني",
          "سكني",
          "سكني",
          "سكني",
          "سكني",
          "سكني",
          "سكني",
          "سكني",
          "تجاري وسكني",
          "تجاري وسكني",
          "تجاري وسكني",
          "سكني",
          "سكني",
          "سكني",
          "سكني",
          "سكني",
          "سكني",
          "سكني",
          "سكني",
          "سكني",
          "سكني",
          "سكني",
          "سكني",
          "سكني",
          "سكني",
          "سكني",
          "سكني",
          "سكني",
          "سكني",
          "سكني",
          "سكني",
          "سكني",
          "سكني",
          "سكني",
          "سكني",
          "سكني",
          "سكني",
          "سكني",
          "سكني",
          "سكني",
          "سكني",
          "سكني",
          "سكني",
          "سكني",
          "سكني",
          "سكني",
          "تجاري وسكني",
          "تجاري وسكني",
          "تجاري وسكني",
          "تجاري وسكني",
          "تجاري وسكني",
          "تجاري وسكني",
          "تجاري وسكني",
          "تجاري وسكني",
          "تجاري وسكني",
          "تجاري وسكني",
          "تجاري وسكني",
          "تجاري وسكني",
          "تجاري وسكني",
          "تجاري وسكني",
          "تجاري وسكني",
          "تجاري وسكني",
          "تجاري وسكني",
          "تجاري وسكني",
          "تجاري وسكني",
          "تجاري وسكني",
          "تجاري وسكني",
          "تجاري وسكني",
          "تجاري وسكني",
          "تجاري وسكني",
          "تجاري وسكني",
          "تجاري وسكني",
          "تجاري وسكني",
          "تجاري وسكني",
          "تجاري وسكني",
          "تجاري وسكني",
          "تجاري وسكني",
          "تجاري وسكني",
          "تجاري وسكني",
          "تجاري وسكني",
          "تجاري وسكني",
          "تجاري وسكني",
          "تجاري وسكني",
          "تجاري وسكني",
          "تجاري وسكني",
          "تجاري وسكني",
          "تجاري وسكني",
          "سكني",
          "سكني",
          "سكني",
          "سكني",
          "سكني",
          "سكني",
          "سكني",
          "سكني",
          "سكني",
          "سكني",
          "سكني",
          "سكني",
          "سكني",
          "سكني",
          "سكني",
          "سكني",
          "سكني",
          "سكني",
          "سكني",
          "سكني",
          "سكني",
          "سكني",
          "سكني",
          "سكني",
          "سكني",
          "سكني",
          "سكني",
          "سكني",
          "سكني",
          "سكني",
          "سكني",
          "سكني",
          "سكني",
          "سكني",
          "سكني",
          "سكني",
          "تجاري وسكني",
          "تجاري وسكني",
          "تجاري وسكني",
          "تجاري وسكني",
          "سكني",
          "سكني",
          "سكني",
          "سكني",
          "سكني",
          "سكني",
          "سكني",
          "سكني",
          "سكني",
          "سكني",
          "سكني",
          "سكني",
          "سكني",
          "سكني",
          "سكني",
          "سكني",
          "سكني",
          "سكني",
          "سكني",
          "سكني",
          "سكني",
          "سكني",
          "سكني",
          "سكني",
          "سكني",
          "سكني",
          "سكني",
          "سكني",
          "سكني",
          "سكني",
          "سكني",
          "سكني",
          "سكني",
          "سكني",
          "سكني",
          "سكني",
          "سكني",
          "سكني",
          "سكني",
          "سكني",
          "سكني",
          "سكني",
          "سكني",
          "سكني",
          "سكني",
          "سكني",
          "سكني",
          "سكني",
          "سكني",
          "سكني",
          "سكني",
          "سكني",
          "سكني",
          "سكني",
          "سكني",
          "سكني",
          "سكني",
          "سكني",
          "سكني",
          "سكني",
          "سكني",
          "تجاري وسكني",
          "تجاري وسكني",
          "سكني",
          "سكني",
          "سكني",
          "سكني",
          "سكني",
          "سكني",
          "سكني",
          "سكني",
          "سكني",
          "سكني",
          "سكني",
          "سكني",
          "سكني",
          "سكني",
          "تجاري وسكني",
          "تجاري وسكني",
          "تجاري وسكني",
          "تجاري وسكني",
          "تجاري وسكني",
          "تجاري وسكني",
          "تجاري وسكني",
          "تجاري وسكني",
          "تجاري وسكني",
          "تجاري وسكني",
          "تجاري وسكني",
          "تجاري وسكني",
          "تجاري وسكني",
          "تجاري وسكني",
          "تجاري وسكني",
          "تجاري وسكني",
          "سكني",
          "سكني",
          "سكني",
          "سكني",
          "سكني",
          "سكني",
          "سكني",
          "سكني",
          "سكني",
          "سكني",
          "سكني",
          "سكني",
          "سكني",
          "سكني",
          "سكني",
          "سكني",
          "سكني",
          "سكني",
          "سكني",
          "سكني",
          "سكني",
          "سكني",
          "سكني",
          "سكني",
          "سكني",
          "سكني",
          "سكني",
          "سكني",
          "سكني",
          "سكني",
          "سكني",
          "سكني",
          "تجاري وسكني",
          "تجاري وسكني",
          "تجاري وسكني",
          "تجاري وسكني",
          "تجاري وسكني",
          "تجاري وسكني",
          "تجاري وسكني",
          "تجاري وسكني",
          "تجاري وسكني",
          "تجاري وسكني",
          "تجاري وسكني",
          "تجاري وسكني",
          "تجاري وسكني",
          "تجاري وسكني",
          "تجاري وسكني",
          "تجاري وسكني",
          "تجاري",
          "تجاري",
          "سكني",
          "سكني",
          "سكني",
          "سكني",
          "سكني",
          "سكني",
          "سكني",
          "سكني",
          "سكني",
          "سكني",
          "سكني",
          "سكني",
          "سكني",
          "سكني",
          "سكني",
          "سكني",
          "سكني",
          "سكني",
          "سكني",
          "سكني",
          "سكني",
          "سكني",
          "سكني",
          "سكني",
          "سكني",
          "سكني",
          "سكني",
          "سكني",
          "سكني",
          "سكني",
          "سكني",
          "سكني",
          "سكني",
          "سكني",
          "سكني",
          "سكني",
          "سكني",
          "سكني",
          "سكني",
          "سكني",
          "سكني",
          "سكني",
          "سكني",
          "سكني",
          "سكني",
          "سكني",
          "سكني",
          "سكني",
          "سكني",
          "سكني",
          "سكني",
          "سكني",
          "سكني",
          "سكني",
          "سكني",
          "تجاري وسكني",
          "تجاري وسكني",
          "تجاري وسكني",
          "تجاري وسكني",
          "تجاري وسكني",
          "تجاري وسكني",
          "تجاري وسكني",
          "تجاري وسكني",
          "تجاري وسكني",
          "تجاري وسكني",
          "تجاري وسكني",
          "تجاري وسكني",
          "تجاري وسكني",
          "تجاري وسكني",
          "تجاري وسكني",
          "تجاري وسكني",
          "تجاري وسكني",
          "تجاري وسكني",
          "تجاري وسكني",
          "تجاري وسكني",
          "سكني",
          "سكني",
          "سكني",
          "سكني",
          "سكني",
          "سكني",
          "سكني",
          "سكني",
          "سكني",
          "سكني",
          "سكني",
          "سكني",
          "سكني",
          "سكني",
          "سكني",
          "سكني",
          "سكني",
          "سكني",
          "سكني",
          "سكني",
          "سكني",
          "سكني",
          "سكني",
          "سكني",
          "سكني",
          "سكني",
          "سكني",
          "سكني",
          "سكني",
          "سكني",
          "سكني",
          "سكني",
          "سكني",
          "سكني",
          "سكني",
          "سكني",
          "سكني",
          "سكني",
          "سكني",
          "سكني",
          "سكني",
          "سكني",
          "سكني",
          "سكني",
          "سكني",
          "تجاري",
          "تجاري",
          "تجاري",
          "تجاري",
          "تجاري",
          "تجاري",
          "تجاري وسكني",
          "تجاري وسكني",
          "تجاري وسكني",
          "تجاري وسكني",
          "تجاري وسكني",
          "سكني",
          "سكني",
          "سكني",
          "سكني",
          "سكني",
          "سكني",
          "سكني",
          "سكني",
          "سكني",
          "سكني",
          "سكني",
          "سكني",
          "سكني",
          "سكني",
          "سكني",
          "سكني",
          "سكني",
          "سكني",
          "سكني",
          "سكني",
          "سكني",
          "سكني",
          "سكني",
          "سكني",
          "سكني",
          "سكني",
          "سكني",
          "سكني",
          "سكني",
          "سكني",
          "سكني",
          "سكني",
          "سكني",
          "سكني",
          "سكني",
          "سكني",
          "سكني",
          "سكني",
          "سكني",
          "سكني",
          "سكني",
          "سكني",
          "سكني",
          "سكني",
          "سكني",
          "سكني",
          "سكني",
          "سكني",
          "سكني",
          "سكني",
          "سكني",
          "سكني",
          "سكني",
          "سكني",
          "سكني",
          "سكني",
          "سكني",
          "سكني",
          "سكني",
          "سكني",
          "سكني",
          "سكني",
          "سكني",
          "سكني",
          "سكني",
          "سكني",
          "سكني",
          "سكني",
          "سكني",
          "سكني",
          "سكني",
          "سكني",
          "سكني",
          "سكني",
          "سكني",
          "سكني",
          "سكني",
          "سكني",
          "سكني",
          "سكني",
          "سكني",
          "سكني",
          "سكني",
          "سكني",
          "سكني",
          "تجاري",
          "تجاري",
          "تجاري",
          "تجاري",
          "تجاري",
          "تجاري وسكني",
          "تجاري وسكني",
          "تجاري وسكني",
          "تجاري وسكني",
          "تجاري وسكني",
          "تجاري وسكني",
          "تجاري وسكني",
          "سكني",
          "سكني",
          "سكني",
          "سكني",
          "سكني",
          "سكني",
          "سكني",
          "سكني",
          "سكني",
          "سكني",
          "سكني",
          "سكني",
          "سكني",
          "سكني",
          "سكني",
          "سكني",
          "سكني",
          "سكني",
          "سكني",
          "سكني",
          "سكني",
          "سكني",
          "سكني",
          "سكني",
          "سكني",
          "سكني",
          "سكني",
          "سكني",
          "سكني",
          "سكني",
          "سكني",
          "سكني",
          "سكني",
          "سكني",
          "سكني",
          "سكني",
          "سكني",
          "سكني",
          "سكني",
          "سكني",
          "سكني",
          "سكني",
          "سكني",
          "سكني",
          "سكني",
          "سكني",
          "سكني",
          "سكني",
          "سكني",
          "سكني",
          "سكني",
          "سكني",
          "سكني",
          "سكني",
          "سكني",
          "سكني",
          "سكني",
          "سكني",
          "سكني",
          "سكني",
          "سكني",
          "سكني",
          "سكني",
          "سكني",
          "سكني",
          "سكني",
          "سكني",
          "سكني",
          "سكني",
          "تجاري وسكني",
          "تجاري وسكني",
          "تجاري وسكني",
          "تجاري وسكني",
          "تجاري وسكني",
          "تجاري وسكني",
          "تجاري وسكني",
          "تجاري وسكني",
          "تجاري وسكني",
          "تجاري وسكني",
          "تجاري وسكني",
          "تجاري وسكني",
          "تجاري وسكني",
          "تجاري وسكني",
          "تجاري وسكني",
          "تجاري وسكني",
          "تجاري وسكني",
          "تجاري وسكني",
          "تجاري وسكني",
          "تجاري وسكني",
          "تجاري وسكني",
          "تجاري وسكني",
          "تجاري وسكني",
          "تجاري وسكني",
          "تجاري وسكني",
          "تجاري وسكني",
          "تجاري وسكني",
          "تجاري وسكني",
          "تجاري وسكني",
          "سكني",
          "سكني",
          "سكني",
          "سكني",
          "سكني",
          "سكني",
          "سكني",
          "سكني",
          "تجاري وسكني",
          "سكني",
          "سكني",
          "سكني",
          "تجاري وسكني",
          "تجاري وسكني",
          "تجاري وسكني",
          "تجاري وسكني",
          "تجاري وسكني",
          "تجاري وسكني",
          "تجاري وسكني",
          "تجاري وسكني",
          "تجاري وسكني",
          "تجاري وسكني",
          "تجاري وسكني",
          "تجاري وسكني",
          "تجاري وسكني",
          "تجاري وسكني",
          "تجاري وسكني",
          "تجاري وسكني",
          "سكني",
          "سكني",
          "سكني",
          "سكني",
          "سكني",
          "سكني",
          "سكني",
          "سكني",
          "سكني",
          "سكني",
          "سكني",
          "سكني",
          "سكني",
          "سكني",
          "سكني",
          "سكني",
          "سكني",
          "سكني",
          "سكني",
          "سكني",
          "سكني",
          "سكني",
          "سكني",
          "سكني",
          "سكني",
          "سكني",
          "سكني",
          "سكني",
          "سكني",
          "سكني",
          "سكني",
          "سكني",
          "سكني",
          "سكني",
          "سكني",
          "سكني",
          "سكني",
          "سكني",
          "سكني",
          "سكني",
          "سكني",
          "سكني",
          "سكني",
          "سكني",
          "سكني",
          "سكني",
          "سكني",
          "سكني",
          "سكني",
          "سكني",
          "سكني",
          "سكني",
          "سكني",
          "سكني",
          "سكني",
          "سكني",
          "سكني",
          "سكني",
          "سكني",
          "سكني",
          "سكني",
          "سكني",
          "سكني",
          "سكني",
          "سكني",
          "سكني",
          "سكني",
          "سكني",
          "سكني",
          "سكني",
          "سكني",
          "سكني",
          "سكني",
          "سكني",
          "سكني",
          "سكني",
          "سكني",
          "سكني",
          "سكني",
          "سكني",
          "سكني",
          "سكني",
          "سكني",
          "سكني",
          "سكني",
          "سكني",
          "سكني",
          "سكني",
          "سكني",
          "سكني",
          "سكني",
          "سكني",
          "سكني",
          "سكني",
          "سكني",
          "سكني",
          "سكني",
          "سكني",
          "سكني",
          "سكني",
          "سكني",
          "سكني",
          "سكني",
          "سكني",
          "سكني",
          "سكني",
          "سكني",
          "سكني",
          "تجاري وسكني",
          "تجاري وسكني",
          "تجاري وسكني",
          "تجاري وسكني",
          "تجاري وسكني",
          "تجاري وسكني",
          "تجاري وسكني",
          "تجاري وسكني",
          "تجاري وسكني",
          "تجاري وسكني",
          "تجاري وسكني",
          "سكني",
          "سكني",
          "سكني",
          "سكني",
          "سكني",
          "سكني",
          "سكني",
          "سكني",
          "سكني",
          "سكني",
          "سكني",
          "سكني",
          "سكني",
          "سكني",
          "سكني",
          "سكني",
          "سكني",
          "سكني",
          "سكني",
          "سكني",
          "سكني",
          "سكني",
          "سكني",
          "سكني",
          "سكني",
          "سكني",
          "سكني",
          "سكني",
          "سكني",
          "سكني",
          "سكني",
          "سكني",
          "سكني",
          "سكني",
          "سكني",
          "سكني",
          "سكني",
          "سكني",
          "سكني",
          "سكني",
          "سكني",
          "سكني",
          "سكني",
          "سكني",
          "سكني",
          "سكني",
          "سكني",
          "سكني",
          "سكني",
          "سكني",
          "سكني",
          "سكني",
          "سكني",
          "سكني",
          "سكني",
          "سكني",
          "سكني",
          "سكني",
          "سكني",
          "سكني",
          "سكني",
          "سكني",
          "سكني",
          "سكني",
          "سكني",
          "سكني",
          "سكني",
          "سكني",
          "سكني",
          "سكني",
          "سكني",
          "سكني",
          "سكني",
          "سكني",
          "سكني",
          "سكني",
          "سكني",
          "سكني",
          "سكني",
          "سكني",
          "سكني",
          "سكني",
          "سكني",
          "سكني",
          "سكني",
          "تجاري وسكني",
          "سكني",
          "سكني",
          "تجاري وسكني",
          "تجاري وسكني",
          "تجاري وسكني",
          "تجاري",
          "سكني",
          "سكني",
          "سكني",
          "سكني",
          "سكني",
          "سكني",
          "سكني",
          "سكني",
          "سكني",
          "سكني",
          "سكني",
          "سكني",
          "تجاري وسكني",
          "سكني",
          "سكني",
          "سكني",
          "سكني",
          "سكني",
          "سكني",
          "تجاري",
          "تجاري",
          "تجاري",
          "تجاري",
          "تجاري",
          "تجاري",
          "سكني",
          "سكني",
          "سكني",
          "سكني",
          "سكني",
          "سكني",
          "سكني",
          "سكني",
          "سكني",
          "سكني",
          "سكني",
          "سكني",
          "سكني",
          "سكني",
          "سكني",
          "سكني",
          "سكني",
          "سكني",
          "سكني",
          "سكني",
          "سكني",
          "سكني",
          "سكني",
          "تجاري وسكني",
          "سكني",
          "سكني",
          "سكني",
          "سكني",
          "سكني",
          "سكني",
          "سكني",
          "سكني",
          "تجاري وسكني",
          "تجاري",
          "سكني",
          "سكني",
          "تجاري وسكني",
          "سكني",
          "سكني",
          "سكني",
          "سكني",
          "سكني",
          "سكني",
          "سكني",
          "سكني",
          "سكني",
          "سكني",
          "سكني",
          "تجاري وسكني",
          "سكني",
          "سكني",
          "سكني",
          "سكني",
          "سكني",
          "سكني",
          "سكني",
          "سكني",
          "سكني",
          "سكني",
          "تجاري",
          "تجاري",
          "تجاري",
          "سكني",
          "سكني",
          "سكني",
          "سكني",
          "سكني",
          "سكني",
          "سكني",
          "تجاري",
          "تجاري",
          "تجاري",
          "تجاري",
          "سكني",
          "سكني",
          "سكني",
          "تجاري",
          "تجاري",
          "سكني",
          "سكني",
          "سكني",
          "سكني",
          "سكني",
          "سكني",
          "سكني",
          "سكني",
          "سكني",
          "سكني",
          "تجاري وسكني",
          "تجاري",
          "تجاري",
          "سكني",
          "سكني",
          "تجاري وسكني",
          "سكني",
          "سكني",
          "سكني",
          "سكني",
          "سكني",
          "تجاري وسكني",
          "سكني",
          "سكني",
          "سكني",
          "سكني",
          "سكني",
          "سكني",
          "سكني",
          "سكني",
          "سكني",
          "سكني",
          "تجاري وسكني",
          "تجاري وسكني",
          "تجاري وسكني",
          "سكني",
          "تجاري",
          "سكني",
          "سكني",
          "تجاري",
          "سكني",
          "تجاري وسكني",
          "تجاري وسكني",
          "تجاري وسكني",
          "تجاري وسكني",
          "تجاري وسكني",
          "سكني",
          "سكني",
          "سكني",
          "سكني",
          "سكني",
          "سكني",
          "سكني",
          "سكني",
          "سكني",
          "سكني",
          "سكني",
          "سكني",
          "سكني",
          "سكني",
          "تجاري",
          "تجاري",
          "تجاري وسكني",
          "تجاري وسكني",
          "سكني",
          "سكني",
          "سكني",
          "تجاري",
          "سكني",
          "تجاري وسكني",
          "تجاري وسكني",
          "سكني",
          "سكني",
          "تجاري وسكني",
          "سكني",
          "تجاري وسكني",
          "تجاري وسكني",
          "تجاري وسكني",
          "تجاري",
          "سكني",
          "سكني",
          "سكني",
          "سكني",
          "سكني",
          "تجاري وسكني",
          "تجاري وسكني",
          "تجاري وسكني",
          "تجاري وسكني",
          "سكني",
          "تجاري",
          "سكني",
          "سكني",
          "تجاري وسكني",
          "سكني",
          "سكني",
          "سكني",
          "سكني",
          "تجاري",
          "سكني",
          "تجاري",
          "سكني",
          "سكني",
          "سكني",
          "سكني",
          "سكني",
          "سكني",
          "سكني",
          "سكني",
          "سكني",
          "سكني",
          "سكني",
          "تجاري وسكني",
          "تجاري",
          "تجاري",
          "سكني",
          "سكني",
          "تجاري وسكني",
          "تجاري وسكني",
          "تجاري وسكني",
          "سكني",
          "سكني",
          "سكني",
          "تجاري",
          "تجاري وسكني",
          "سكني",
          "تجاري وسكني",
          "سكني",
          "سكني",
          "سكني",
          "سكني",
          "سكني",
          "سكني",
          "سكني",
          "سكني",
          "سكني",
          "سكني",
          "سكني",
          "سكني",
          "سكني",
          "سكني",
          "تجاري",
          "تجاري",
          "تجاري وسكني",
          "تجاري",
          "سكني",
          "سكني",
          "تجاري",
          "سكني",
          "سكني",
          "سكني",
          "سكني",
          "سكني",
          "سكني",
          "سكني",
          "سكني",
          "تجاري",
          "سكني",
          "سكني",
          "سكني",
          "سكني",
          "تجاري وسكني",
          "سكني",
          "سكني",
          "تجاري وسكني",
          "تجاري وسكني",
          "تجاري وسكني",
          "تجاري وسكني",
          "تجاري وسكني",
          "سكني",
          "سكني",
          "سكني",
          "سكني",
          "سكني",
          "تجاري وسكني",
          "تجاري وسكني",
          "تجاري وسكني",
          "تجاري وسكني",
          "تجاري وسكني",
          "تجاري",
          "سكني",
          "تجاري وسكني",
          "تجاري وسكني",
          "سكني"
         ],
         "legendgroup": "",
         "name": "",
         "showlegend": true,
         "type": "pie"
        }
       ],
       "layout": {
        "legend": {
         "tracegroupgap": 0
        },
        "template": {
         "data": {
          "bar": [
           {
            "error_x": {
             "color": "#2a3f5f"
            },
            "error_y": {
             "color": "#2a3f5f"
            },
            "marker": {
             "line": {
              "color": "#E5ECF6",
              "width": 0.5
             },
             "pattern": {
              "fillmode": "overlay",
              "size": 10,
              "solidity": 0.2
             }
            },
            "type": "bar"
           }
          ],
          "barpolar": [
           {
            "marker": {
             "line": {
              "color": "#E5ECF6",
              "width": 0.5
             },
             "pattern": {
              "fillmode": "overlay",
              "size": 10,
              "solidity": 0.2
             }
            },
            "type": "barpolar"
           }
          ],
          "carpet": [
           {
            "aaxis": {
             "endlinecolor": "#2a3f5f",
             "gridcolor": "white",
             "linecolor": "white",
             "minorgridcolor": "white",
             "startlinecolor": "#2a3f5f"
            },
            "baxis": {
             "endlinecolor": "#2a3f5f",
             "gridcolor": "white",
             "linecolor": "white",
             "minorgridcolor": "white",
             "startlinecolor": "#2a3f5f"
            },
            "type": "carpet"
           }
          ],
          "choropleth": [
           {
            "colorbar": {
             "outlinewidth": 0,
             "ticks": ""
            },
            "type": "choropleth"
           }
          ],
          "contour": [
           {
            "colorbar": {
             "outlinewidth": 0,
             "ticks": ""
            },
            "colorscale": [
             [
              0,
              "#0d0887"
             ],
             [
              0.1111111111111111,
              "#46039f"
             ],
             [
              0.2222222222222222,
              "#7201a8"
             ],
             [
              0.3333333333333333,
              "#9c179e"
             ],
             [
              0.4444444444444444,
              "#bd3786"
             ],
             [
              0.5555555555555556,
              "#d8576b"
             ],
             [
              0.6666666666666666,
              "#ed7953"
             ],
             [
              0.7777777777777778,
              "#fb9f3a"
             ],
             [
              0.8888888888888888,
              "#fdca26"
             ],
             [
              1,
              "#f0f921"
             ]
            ],
            "type": "contour"
           }
          ],
          "contourcarpet": [
           {
            "colorbar": {
             "outlinewidth": 0,
             "ticks": ""
            },
            "type": "contourcarpet"
           }
          ],
          "heatmap": [
           {
            "colorbar": {
             "outlinewidth": 0,
             "ticks": ""
            },
            "colorscale": [
             [
              0,
              "#0d0887"
             ],
             [
              0.1111111111111111,
              "#46039f"
             ],
             [
              0.2222222222222222,
              "#7201a8"
             ],
             [
              0.3333333333333333,
              "#9c179e"
             ],
             [
              0.4444444444444444,
              "#bd3786"
             ],
             [
              0.5555555555555556,
              "#d8576b"
             ],
             [
              0.6666666666666666,
              "#ed7953"
             ],
             [
              0.7777777777777778,
              "#fb9f3a"
             ],
             [
              0.8888888888888888,
              "#fdca26"
             ],
             [
              1,
              "#f0f921"
             ]
            ],
            "type": "heatmap"
           }
          ],
          "heatmapgl": [
           {
            "colorbar": {
             "outlinewidth": 0,
             "ticks": ""
            },
            "colorscale": [
             [
              0,
              "#0d0887"
             ],
             [
              0.1111111111111111,
              "#46039f"
             ],
             [
              0.2222222222222222,
              "#7201a8"
             ],
             [
              0.3333333333333333,
              "#9c179e"
             ],
             [
              0.4444444444444444,
              "#bd3786"
             ],
             [
              0.5555555555555556,
              "#d8576b"
             ],
             [
              0.6666666666666666,
              "#ed7953"
             ],
             [
              0.7777777777777778,
              "#fb9f3a"
             ],
             [
              0.8888888888888888,
              "#fdca26"
             ],
             [
              1,
              "#f0f921"
             ]
            ],
            "type": "heatmapgl"
           }
          ],
          "histogram": [
           {
            "marker": {
             "pattern": {
              "fillmode": "overlay",
              "size": 10,
              "solidity": 0.2
             }
            },
            "type": "histogram"
           }
          ],
          "histogram2d": [
           {
            "colorbar": {
             "outlinewidth": 0,
             "ticks": ""
            },
            "colorscale": [
             [
              0,
              "#0d0887"
             ],
             [
              0.1111111111111111,
              "#46039f"
             ],
             [
              0.2222222222222222,
              "#7201a8"
             ],
             [
              0.3333333333333333,
              "#9c179e"
             ],
             [
              0.4444444444444444,
              "#bd3786"
             ],
             [
              0.5555555555555556,
              "#d8576b"
             ],
             [
              0.6666666666666666,
              "#ed7953"
             ],
             [
              0.7777777777777778,
              "#fb9f3a"
             ],
             [
              0.8888888888888888,
              "#fdca26"
             ],
             [
              1,
              "#f0f921"
             ]
            ],
            "type": "histogram2d"
           }
          ],
          "histogram2dcontour": [
           {
            "colorbar": {
             "outlinewidth": 0,
             "ticks": ""
            },
            "colorscale": [
             [
              0,
              "#0d0887"
             ],
             [
              0.1111111111111111,
              "#46039f"
             ],
             [
              0.2222222222222222,
              "#7201a8"
             ],
             [
              0.3333333333333333,
              "#9c179e"
             ],
             [
              0.4444444444444444,
              "#bd3786"
             ],
             [
              0.5555555555555556,
              "#d8576b"
             ],
             [
              0.6666666666666666,
              "#ed7953"
             ],
             [
              0.7777777777777778,
              "#fb9f3a"
             ],
             [
              0.8888888888888888,
              "#fdca26"
             ],
             [
              1,
              "#f0f921"
             ]
            ],
            "type": "histogram2dcontour"
           }
          ],
          "mesh3d": [
           {
            "colorbar": {
             "outlinewidth": 0,
             "ticks": ""
            },
            "type": "mesh3d"
           }
          ],
          "parcoords": [
           {
            "line": {
             "colorbar": {
              "outlinewidth": 0,
              "ticks": ""
             }
            },
            "type": "parcoords"
           }
          ],
          "pie": [
           {
            "automargin": true,
            "type": "pie"
           }
          ],
          "scatter": [
           {
            "fillpattern": {
             "fillmode": "overlay",
             "size": 10,
             "solidity": 0.2
            },
            "type": "scatter"
           }
          ],
          "scatter3d": [
           {
            "line": {
             "colorbar": {
              "outlinewidth": 0,
              "ticks": ""
             }
            },
            "marker": {
             "colorbar": {
              "outlinewidth": 0,
              "ticks": ""
             }
            },
            "type": "scatter3d"
           }
          ],
          "scattercarpet": [
           {
            "marker": {
             "colorbar": {
              "outlinewidth": 0,
              "ticks": ""
             }
            },
            "type": "scattercarpet"
           }
          ],
          "scattergeo": [
           {
            "marker": {
             "colorbar": {
              "outlinewidth": 0,
              "ticks": ""
             }
            },
            "type": "scattergeo"
           }
          ],
          "scattergl": [
           {
            "marker": {
             "colorbar": {
              "outlinewidth": 0,
              "ticks": ""
             }
            },
            "type": "scattergl"
           }
          ],
          "scattermapbox": [
           {
            "marker": {
             "colorbar": {
              "outlinewidth": 0,
              "ticks": ""
             }
            },
            "type": "scattermapbox"
           }
          ],
          "scatterpolar": [
           {
            "marker": {
             "colorbar": {
              "outlinewidth": 0,
              "ticks": ""
             }
            },
            "type": "scatterpolar"
           }
          ],
          "scatterpolargl": [
           {
            "marker": {
             "colorbar": {
              "outlinewidth": 0,
              "ticks": ""
             }
            },
            "type": "scatterpolargl"
           }
          ],
          "scatterternary": [
           {
            "marker": {
             "colorbar": {
              "outlinewidth": 0,
              "ticks": ""
             }
            },
            "type": "scatterternary"
           }
          ],
          "surface": [
           {
            "colorbar": {
             "outlinewidth": 0,
             "ticks": ""
            },
            "colorscale": [
             [
              0,
              "#0d0887"
             ],
             [
              0.1111111111111111,
              "#46039f"
             ],
             [
              0.2222222222222222,
              "#7201a8"
             ],
             [
              0.3333333333333333,
              "#9c179e"
             ],
             [
              0.4444444444444444,
              "#bd3786"
             ],
             [
              0.5555555555555556,
              "#d8576b"
             ],
             [
              0.6666666666666666,
              "#ed7953"
             ],
             [
              0.7777777777777778,
              "#fb9f3a"
             ],
             [
              0.8888888888888888,
              "#fdca26"
             ],
             [
              1,
              "#f0f921"
             ]
            ],
            "type": "surface"
           }
          ],
          "table": [
           {
            "cells": {
             "fill": {
              "color": "#EBF0F8"
             },
             "line": {
              "color": "white"
             }
            },
            "header": {
             "fill": {
              "color": "#C8D4E3"
             },
             "line": {
              "color": "white"
             }
            },
            "type": "table"
           }
          ]
         },
         "layout": {
          "annotationdefaults": {
           "arrowcolor": "#2a3f5f",
           "arrowhead": 0,
           "arrowwidth": 1
          },
          "autotypenumbers": "strict",
          "coloraxis": {
           "colorbar": {
            "outlinewidth": 0,
            "ticks": ""
           }
          },
          "colorscale": {
           "diverging": [
            [
             0,
             "#8e0152"
            ],
            [
             0.1,
             "#c51b7d"
            ],
            [
             0.2,
             "#de77ae"
            ],
            [
             0.3,
             "#f1b6da"
            ],
            [
             0.4,
             "#fde0ef"
            ],
            [
             0.5,
             "#f7f7f7"
            ],
            [
             0.6,
             "#e6f5d0"
            ],
            [
             0.7,
             "#b8e186"
            ],
            [
             0.8,
             "#7fbc41"
            ],
            [
             0.9,
             "#4d9221"
            ],
            [
             1,
             "#276419"
            ]
           ],
           "sequential": [
            [
             0,
             "#0d0887"
            ],
            [
             0.1111111111111111,
             "#46039f"
            ],
            [
             0.2222222222222222,
             "#7201a8"
            ],
            [
             0.3333333333333333,
             "#9c179e"
            ],
            [
             0.4444444444444444,
             "#bd3786"
            ],
            [
             0.5555555555555556,
             "#d8576b"
            ],
            [
             0.6666666666666666,
             "#ed7953"
            ],
            [
             0.7777777777777778,
             "#fb9f3a"
            ],
            [
             0.8888888888888888,
             "#fdca26"
            ],
            [
             1,
             "#f0f921"
            ]
           ],
           "sequentialminus": [
            [
             0,
             "#0d0887"
            ],
            [
             0.1111111111111111,
             "#46039f"
            ],
            [
             0.2222222222222222,
             "#7201a8"
            ],
            [
             0.3333333333333333,
             "#9c179e"
            ],
            [
             0.4444444444444444,
             "#bd3786"
            ],
            [
             0.5555555555555556,
             "#d8576b"
            ],
            [
             0.6666666666666666,
             "#ed7953"
            ],
            [
             0.7777777777777778,
             "#fb9f3a"
            ],
            [
             0.8888888888888888,
             "#fdca26"
            ],
            [
             1,
             "#f0f921"
            ]
           ]
          },
          "colorway": [
           "#636efa",
           "#EF553B",
           "#00cc96",
           "#ab63fa",
           "#FFA15A",
           "#19d3f3",
           "#FF6692",
           "#B6E880",
           "#FF97FF",
           "#FECB52"
          ],
          "font": {
           "color": "#2a3f5f"
          },
          "geo": {
           "bgcolor": "white",
           "lakecolor": "white",
           "landcolor": "#E5ECF6",
           "showlakes": true,
           "showland": true,
           "subunitcolor": "white"
          },
          "hoverlabel": {
           "align": "left"
          },
          "hovermode": "closest",
          "mapbox": {
           "style": "light"
          },
          "paper_bgcolor": "white",
          "plot_bgcolor": "#E5ECF6",
          "polar": {
           "angularaxis": {
            "gridcolor": "white",
            "linecolor": "white",
            "ticks": ""
           },
           "bgcolor": "#E5ECF6",
           "radialaxis": {
            "gridcolor": "white",
            "linecolor": "white",
            "ticks": ""
           }
          },
          "scene": {
           "xaxis": {
            "backgroundcolor": "#E5ECF6",
            "gridcolor": "white",
            "gridwidth": 2,
            "linecolor": "white",
            "showbackground": true,
            "ticks": "",
            "zerolinecolor": "white"
           },
           "yaxis": {
            "backgroundcolor": "#E5ECF6",
            "gridcolor": "white",
            "gridwidth": 2,
            "linecolor": "white",
            "showbackground": true,
            "ticks": "",
            "zerolinecolor": "white"
           },
           "zaxis": {
            "backgroundcolor": "#E5ECF6",
            "gridcolor": "white",
            "gridwidth": 2,
            "linecolor": "white",
            "showbackground": true,
            "ticks": "",
            "zerolinecolor": "white"
           }
          },
          "shapedefaults": {
           "line": {
            "color": "#2a3f5f"
           }
          },
          "ternary": {
           "aaxis": {
            "gridcolor": "white",
            "linecolor": "white",
            "ticks": ""
           },
           "baxis": {
            "gridcolor": "white",
            "linecolor": "white",
            "ticks": ""
           },
           "bgcolor": "#E5ECF6",
           "caxis": {
            "gridcolor": "white",
            "linecolor": "white",
            "ticks": ""
           }
          },
          "title": {
           "x": 0.05
          },
          "xaxis": {
           "automargin": true,
           "gridcolor": "white",
           "linecolor": "white",
           "ticks": "",
           "title": {
            "standoff": 15
           },
           "zerolinecolor": "white",
           "zerolinewidth": 2
          },
          "yaxis": {
           "automargin": true,
           "gridcolor": "white",
           "linecolor": "white",
           "ticks": "",
           "title": {
            "standoff": 15
           },
           "zerolinecolor": "white",
           "zerolinewidth": 2
          }
         }
        },
        "title": {
         "text": "Proportion of Land Purposes"
        }
       }
      }
     },
     "metadata": {},
     "output_type": "display_data"
    },
    {
     "data": {
      "application/vnd.plotly.v1+json": {
       "config": {
        "plotlyServerURL": "https://plot.ly"
       },
       "data": [
        {
         "alignmentgroup": "True",
         "hovertemplate": "variable=السعر الإجمالي<br>الحي=%{x}<br>value=%{y}<extra></extra>",
         "legendgroup": "السعر الإجمالي",
         "marker": {
          "color": "#636efa",
          "pattern": {
           "shape": ""
          }
         },
         "name": "السعر الإجمالي",
         "offsetgroup": "السعر الإجمالي",
         "orientation": "v",
         "showlegend": true,
         "textposition": "auto",
         "type": "bar",
         "x": [
          " حي السليمانية ",
          " حي المنصورية ",
          " حي النخيل ",
          " المغرفية ",
          " شارع ابن ماجه ",
          " حي الملك عبدالله ",
          " حي الحائر ",
          " حي الناصرية ",
          " حي الياسمين ",
          " حي الهدا ",
          " حي ثليم ",
          " حي العزيزية ",
          " حي الملقا ",
          " حي العلا ",
          " حي المصانع "
         ],
         "xaxis": "x",
         "y": [
          70000000,
          49440000,
          37289900,
          30240000,
          28350000,
          24651000,
          23346012.5,
          21226000,
          16748092,
          14356466.666666666,
          13508400,
          13341760,
          12438456,
          11545775.727272727,
          11365200
         ],
         "yaxis": "y"
        }
       ],
       "layout": {
        "barmode": "relative",
        "legend": {
         "title": {
          "text": "variable"
         },
         "tracegroupgap": 0
        },
        "template": {
         "data": {
          "bar": [
           {
            "error_x": {
             "color": "#2a3f5f"
            },
            "error_y": {
             "color": "#2a3f5f"
            },
            "marker": {
             "line": {
              "color": "#E5ECF6",
              "width": 0.5
             },
             "pattern": {
              "fillmode": "overlay",
              "size": 10,
              "solidity": 0.2
             }
            },
            "type": "bar"
           }
          ],
          "barpolar": [
           {
            "marker": {
             "line": {
              "color": "#E5ECF6",
              "width": 0.5
             },
             "pattern": {
              "fillmode": "overlay",
              "size": 10,
              "solidity": 0.2
             }
            },
            "type": "barpolar"
           }
          ],
          "carpet": [
           {
            "aaxis": {
             "endlinecolor": "#2a3f5f",
             "gridcolor": "white",
             "linecolor": "white",
             "minorgridcolor": "white",
             "startlinecolor": "#2a3f5f"
            },
            "baxis": {
             "endlinecolor": "#2a3f5f",
             "gridcolor": "white",
             "linecolor": "white",
             "minorgridcolor": "white",
             "startlinecolor": "#2a3f5f"
            },
            "type": "carpet"
           }
          ],
          "choropleth": [
           {
            "colorbar": {
             "outlinewidth": 0,
             "ticks": ""
            },
            "type": "choropleth"
           }
          ],
          "contour": [
           {
            "colorbar": {
             "outlinewidth": 0,
             "ticks": ""
            },
            "colorscale": [
             [
              0,
              "#0d0887"
             ],
             [
              0.1111111111111111,
              "#46039f"
             ],
             [
              0.2222222222222222,
              "#7201a8"
             ],
             [
              0.3333333333333333,
              "#9c179e"
             ],
             [
              0.4444444444444444,
              "#bd3786"
             ],
             [
              0.5555555555555556,
              "#d8576b"
             ],
             [
              0.6666666666666666,
              "#ed7953"
             ],
             [
              0.7777777777777778,
              "#fb9f3a"
             ],
             [
              0.8888888888888888,
              "#fdca26"
             ],
             [
              1,
              "#f0f921"
             ]
            ],
            "type": "contour"
           }
          ],
          "contourcarpet": [
           {
            "colorbar": {
             "outlinewidth": 0,
             "ticks": ""
            },
            "type": "contourcarpet"
           }
          ],
          "heatmap": [
           {
            "colorbar": {
             "outlinewidth": 0,
             "ticks": ""
            },
            "colorscale": [
             [
              0,
              "#0d0887"
             ],
             [
              0.1111111111111111,
              "#46039f"
             ],
             [
              0.2222222222222222,
              "#7201a8"
             ],
             [
              0.3333333333333333,
              "#9c179e"
             ],
             [
              0.4444444444444444,
              "#bd3786"
             ],
             [
              0.5555555555555556,
              "#d8576b"
             ],
             [
              0.6666666666666666,
              "#ed7953"
             ],
             [
              0.7777777777777778,
              "#fb9f3a"
             ],
             [
              0.8888888888888888,
              "#fdca26"
             ],
             [
              1,
              "#f0f921"
             ]
            ],
            "type": "heatmap"
           }
          ],
          "heatmapgl": [
           {
            "colorbar": {
             "outlinewidth": 0,
             "ticks": ""
            },
            "colorscale": [
             [
              0,
              "#0d0887"
             ],
             [
              0.1111111111111111,
              "#46039f"
             ],
             [
              0.2222222222222222,
              "#7201a8"
             ],
             [
              0.3333333333333333,
              "#9c179e"
             ],
             [
              0.4444444444444444,
              "#bd3786"
             ],
             [
              0.5555555555555556,
              "#d8576b"
             ],
             [
              0.6666666666666666,
              "#ed7953"
             ],
             [
              0.7777777777777778,
              "#fb9f3a"
             ],
             [
              0.8888888888888888,
              "#fdca26"
             ],
             [
              1,
              "#f0f921"
             ]
            ],
            "type": "heatmapgl"
           }
          ],
          "histogram": [
           {
            "marker": {
             "pattern": {
              "fillmode": "overlay",
              "size": 10,
              "solidity": 0.2
             }
            },
            "type": "histogram"
           }
          ],
          "histogram2d": [
           {
            "colorbar": {
             "outlinewidth": 0,
             "ticks": ""
            },
            "colorscale": [
             [
              0,
              "#0d0887"
             ],
             [
              0.1111111111111111,
              "#46039f"
             ],
             [
              0.2222222222222222,
              "#7201a8"
             ],
             [
              0.3333333333333333,
              "#9c179e"
             ],
             [
              0.4444444444444444,
              "#bd3786"
             ],
             [
              0.5555555555555556,
              "#d8576b"
             ],
             [
              0.6666666666666666,
              "#ed7953"
             ],
             [
              0.7777777777777778,
              "#fb9f3a"
             ],
             [
              0.8888888888888888,
              "#fdca26"
             ],
             [
              1,
              "#f0f921"
             ]
            ],
            "type": "histogram2d"
           }
          ],
          "histogram2dcontour": [
           {
            "colorbar": {
             "outlinewidth": 0,
             "ticks": ""
            },
            "colorscale": [
             [
              0,
              "#0d0887"
             ],
             [
              0.1111111111111111,
              "#46039f"
             ],
             [
              0.2222222222222222,
              "#7201a8"
             ],
             [
              0.3333333333333333,
              "#9c179e"
             ],
             [
              0.4444444444444444,
              "#bd3786"
             ],
             [
              0.5555555555555556,
              "#d8576b"
             ],
             [
              0.6666666666666666,
              "#ed7953"
             ],
             [
              0.7777777777777778,
              "#fb9f3a"
             ],
             [
              0.8888888888888888,
              "#fdca26"
             ],
             [
              1,
              "#f0f921"
             ]
            ],
            "type": "histogram2dcontour"
           }
          ],
          "mesh3d": [
           {
            "colorbar": {
             "outlinewidth": 0,
             "ticks": ""
            },
            "type": "mesh3d"
           }
          ],
          "parcoords": [
           {
            "line": {
             "colorbar": {
              "outlinewidth": 0,
              "ticks": ""
             }
            },
            "type": "parcoords"
           }
          ],
          "pie": [
           {
            "automargin": true,
            "type": "pie"
           }
          ],
          "scatter": [
           {
            "fillpattern": {
             "fillmode": "overlay",
             "size": 10,
             "solidity": 0.2
            },
            "type": "scatter"
           }
          ],
          "scatter3d": [
           {
            "line": {
             "colorbar": {
              "outlinewidth": 0,
              "ticks": ""
             }
            },
            "marker": {
             "colorbar": {
              "outlinewidth": 0,
              "ticks": ""
             }
            },
            "type": "scatter3d"
           }
          ],
          "scattercarpet": [
           {
            "marker": {
             "colorbar": {
              "outlinewidth": 0,
              "ticks": ""
             }
            },
            "type": "scattercarpet"
           }
          ],
          "scattergeo": [
           {
            "marker": {
             "colorbar": {
              "outlinewidth": 0,
              "ticks": ""
             }
            },
            "type": "scattergeo"
           }
          ],
          "scattergl": [
           {
            "marker": {
             "colorbar": {
              "outlinewidth": 0,
              "ticks": ""
             }
            },
            "type": "scattergl"
           }
          ],
          "scattermapbox": [
           {
            "marker": {
             "colorbar": {
              "outlinewidth": 0,
              "ticks": ""
             }
            },
            "type": "scattermapbox"
           }
          ],
          "scatterpolar": [
           {
            "marker": {
             "colorbar": {
              "outlinewidth": 0,
              "ticks": ""
             }
            },
            "type": "scatterpolar"
           }
          ],
          "scatterpolargl": [
           {
            "marker": {
             "colorbar": {
              "outlinewidth": 0,
              "ticks": ""
             }
            },
            "type": "scatterpolargl"
           }
          ],
          "scatterternary": [
           {
            "marker": {
             "colorbar": {
              "outlinewidth": 0,
              "ticks": ""
             }
            },
            "type": "scatterternary"
           }
          ],
          "surface": [
           {
            "colorbar": {
             "outlinewidth": 0,
             "ticks": ""
            },
            "colorscale": [
             [
              0,
              "#0d0887"
             ],
             [
              0.1111111111111111,
              "#46039f"
             ],
             [
              0.2222222222222222,
              "#7201a8"
             ],
             [
              0.3333333333333333,
              "#9c179e"
             ],
             [
              0.4444444444444444,
              "#bd3786"
             ],
             [
              0.5555555555555556,
              "#d8576b"
             ],
             [
              0.6666666666666666,
              "#ed7953"
             ],
             [
              0.7777777777777778,
              "#fb9f3a"
             ],
             [
              0.8888888888888888,
              "#fdca26"
             ],
             [
              1,
              "#f0f921"
             ]
            ],
            "type": "surface"
           }
          ],
          "table": [
           {
            "cells": {
             "fill": {
              "color": "#EBF0F8"
             },
             "line": {
              "color": "white"
             }
            },
            "header": {
             "fill": {
              "color": "#C8D4E3"
             },
             "line": {
              "color": "white"
             }
            },
            "type": "table"
           }
          ]
         },
         "layout": {
          "annotationdefaults": {
           "arrowcolor": "#2a3f5f",
           "arrowhead": 0,
           "arrowwidth": 1
          },
          "autotypenumbers": "strict",
          "coloraxis": {
           "colorbar": {
            "outlinewidth": 0,
            "ticks": ""
           }
          },
          "colorscale": {
           "diverging": [
            [
             0,
             "#8e0152"
            ],
            [
             0.1,
             "#c51b7d"
            ],
            [
             0.2,
             "#de77ae"
            ],
            [
             0.3,
             "#f1b6da"
            ],
            [
             0.4,
             "#fde0ef"
            ],
            [
             0.5,
             "#f7f7f7"
            ],
            [
             0.6,
             "#e6f5d0"
            ],
            [
             0.7,
             "#b8e186"
            ],
            [
             0.8,
             "#7fbc41"
            ],
            [
             0.9,
             "#4d9221"
            ],
            [
             1,
             "#276419"
            ]
           ],
           "sequential": [
            [
             0,
             "#0d0887"
            ],
            [
             0.1111111111111111,
             "#46039f"
            ],
            [
             0.2222222222222222,
             "#7201a8"
            ],
            [
             0.3333333333333333,
             "#9c179e"
            ],
            [
             0.4444444444444444,
             "#bd3786"
            ],
            [
             0.5555555555555556,
             "#d8576b"
            ],
            [
             0.6666666666666666,
             "#ed7953"
            ],
            [
             0.7777777777777778,
             "#fb9f3a"
            ],
            [
             0.8888888888888888,
             "#fdca26"
            ],
            [
             1,
             "#f0f921"
            ]
           ],
           "sequentialminus": [
            [
             0,
             "#0d0887"
            ],
            [
             0.1111111111111111,
             "#46039f"
            ],
            [
             0.2222222222222222,
             "#7201a8"
            ],
            [
             0.3333333333333333,
             "#9c179e"
            ],
            [
             0.4444444444444444,
             "#bd3786"
            ],
            [
             0.5555555555555556,
             "#d8576b"
            ],
            [
             0.6666666666666666,
             "#ed7953"
            ],
            [
             0.7777777777777778,
             "#fb9f3a"
            ],
            [
             0.8888888888888888,
             "#fdca26"
            ],
            [
             1,
             "#f0f921"
            ]
           ]
          },
          "colorway": [
           "#636efa",
           "#EF553B",
           "#00cc96",
           "#ab63fa",
           "#FFA15A",
           "#19d3f3",
           "#FF6692",
           "#B6E880",
           "#FF97FF",
           "#FECB52"
          ],
          "font": {
           "color": "#2a3f5f"
          },
          "geo": {
           "bgcolor": "white",
           "lakecolor": "white",
           "landcolor": "#E5ECF6",
           "showlakes": true,
           "showland": true,
           "subunitcolor": "white"
          },
          "hoverlabel": {
           "align": "left"
          },
          "hovermode": "closest",
          "mapbox": {
           "style": "light"
          },
          "paper_bgcolor": "white",
          "plot_bgcolor": "#E5ECF6",
          "polar": {
           "angularaxis": {
            "gridcolor": "white",
            "linecolor": "white",
            "ticks": ""
           },
           "bgcolor": "#E5ECF6",
           "radialaxis": {
            "gridcolor": "white",
            "linecolor": "white",
            "ticks": ""
           }
          },
          "scene": {
           "xaxis": {
            "backgroundcolor": "#E5ECF6",
            "gridcolor": "white",
            "gridwidth": 2,
            "linecolor": "white",
            "showbackground": true,
            "ticks": "",
            "zerolinecolor": "white"
           },
           "yaxis": {
            "backgroundcolor": "#E5ECF6",
            "gridcolor": "white",
            "gridwidth": 2,
            "linecolor": "white",
            "showbackground": true,
            "ticks": "",
            "zerolinecolor": "white"
           },
           "zaxis": {
            "backgroundcolor": "#E5ECF6",
            "gridcolor": "white",
            "gridwidth": 2,
            "linecolor": "white",
            "showbackground": true,
            "ticks": "",
            "zerolinecolor": "white"
           }
          },
          "shapedefaults": {
           "line": {
            "color": "#2a3f5f"
           }
          },
          "ternary": {
           "aaxis": {
            "gridcolor": "white",
            "linecolor": "white",
            "ticks": ""
           },
           "baxis": {
            "gridcolor": "white",
            "linecolor": "white",
            "ticks": ""
           },
           "bgcolor": "#E5ECF6",
           "caxis": {
            "gridcolor": "white",
            "linecolor": "white",
            "ticks": ""
           }
          },
          "title": {
           "x": 0.05
          },
          "xaxis": {
           "automargin": true,
           "gridcolor": "white",
           "linecolor": "white",
           "ticks": "",
           "title": {
            "standoff": 15
           },
           "zerolinecolor": "white",
           "zerolinewidth": 2
          },
          "yaxis": {
           "automargin": true,
           "gridcolor": "white",
           "linecolor": "white",
           "ticks": "",
           "title": {
            "standoff": 15
           },
           "zerolinecolor": "white",
           "zerolinewidth": 2
          }
         }
        },
        "title": {
         "text": "Trend of Land Mean Prices by Neighborhood"
        },
        "xaxis": {
         "anchor": "y",
         "domain": [
          0,
          1
         ],
         "title": {
          "text": "Neighborhood"
         }
        },
        "yaxis": {
         "anchor": "x",
         "domain": [
          0,
          1
         ],
         "title": {
          "text": "Average Total Price"
         }
        }
       }
      }
     },
     "metadata": {},
     "output_type": "display_data"
    }
   ],
   "source": [
    "import pandas as pd\n",
    "import plotly.graph_objects as go\n",
    "import plotly.express as px\n",
    "from plotly.subplots import make_subplots\n",
    "\n",
    "df = pd.read_csv('cleaned/lands_cleaned.csv')\n",
    "\n",
    "# Bar chart\n",
    "# neighborhoods = df['الحي'].unique()\n",
    "# fig = make_subplots(rows=len(neighborhoods), cols=1, subplot_titles=neighborhoods)\n",
    "# for i, neighborhood in enumerate(neighborhoods):\n",
    "#     neighborhood_data = df[df['الحي'] == neighborhood]\n",
    "#     purpose_counts = neighborhood_data['الغرض'].value_counts()\n",
    "#     fig.add_trace(\n",
    "#         go.Bar(x=purpose_counts.index, y=purpose_counts.values),\n",
    "#         row=i+1, col=1\n",
    "#     )\n",
    "# fig.update_layout(\n",
    "#     title='Distribution of Land Purposes by Neighborhood',\n",
    "#     xaxis_title='Land Purpose',\n",
    "#     yaxis_title='Count',\n",
    "#     height=len(neighborhoods)*400,\n",
    "#     bargap=0.1\n",
    "# )\n",
    "# fig.show()\n",
    "\n",
    "# Scatter plot\n",
    "top_20_area = df.nlargest(20, 'المساحة')\n",
    "top_20_price = df.nlargest(20, 'سعر المتر')\n",
    "\n",
    "fig = px.scatter(top_20_area, x='المساحة', y='سعر المتر', title='Top 20 Land Area vs. Top 20 Price per Square Meter')\n",
    "fig.update_layout(\n",
    "    xaxis_title='Land Area',\n",
    "    yaxis_title='Price per Square Meter',\n",
    "    hovermode='closest'\n",
    ")\n",
    "\n",
    "fig.update_traces(\n",
    "    hovertemplate='Neighborhood: %{text}<br>Land Area: %{x}<br>Price per Sq. Meter: %{y}',\n",
    "    text=top_20_area['الحي']\n",
    ")\n",
    "\n",
    "top_1_area = top_20_area.iloc[0]\n",
    "fig.add_annotation(\n",
    "    x=top_1_area['المساحة'],\n",
    "    y=top_1_area['سعر المتر'],\n",
    "    text=\"natural outlier\",\n",
    "    showarrow=True,\n",
    "    arrowhead=1,\n",
    "    arrowsize=1,\n",
    "    arrowwidth=2,\n",
    "    arrowcolor=\"red\"\n",
    ")\n",
    "fig.show()\n",
    "\n",
    "# Pie chart\n",
    "fig = px.pie(df, names='الغرض', title='Proportion of Land Purposes')\n",
    "fig.show()\n",
    "\n",
    "neighborhood_prices = df.groupby('الحي')['السعر الإجمالي'].mean().sort_values(ascending=False).head(15)\n",
    "fig = px.bar(neighborhood_prices, title='Trend of Land Mean Prices by Neighborhood')\n",
    "fig.update_layout(\n",
    "    xaxis_title='Neighborhood',\n",
    "    yaxis_title='Average Total Price'\n",
    ")\n",
    "fig.show()\n",
    "\n",
    "# Heatmap\n",
    "\n"
   ]
  },
  {
   "cell_type": "code",
   "execution_count": null,
   "id": "bad175f1",
   "metadata": {},
   "outputs": [],
   "source": []
  }
 ],
 "metadata": {
  "kernelspec": {
   "display_name": "Python 3",
   "language": "python",
   "name": "python3"
  },
  "language_info": {
   "codemirror_mode": {
    "name": "ipython",
    "version": 3
   },
   "file_extension": ".py",
   "mimetype": "text/x-python",
   "name": "python",
   "nbconvert_exporter": "python",
   "pygments_lexer": "ipython3",
   "version": "3.11.9"
  }
 },
 "nbformat": 4,
 "nbformat_minor": 5
}
