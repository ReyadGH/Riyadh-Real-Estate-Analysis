{
 "cells": [
  {
   "cell_type": "code",
   "execution_count": 3,
   "id": "e69c4ba1-85f3-4a02-ae37-c64347a01803",
   "metadata": {},
   "outputs": [],
   "source": [
    "#Import all relevant libraries\n",
    "import numpy as np\n",
    "import pandas as pd\n",
    "import matplotlib.pyplot as plt\n",
    "import plotly\n",
    "import seaborn as sns\n",
    "from scipy.stats import zscore\n",
    "from ydata_profiling import ProfileReport\n",
    "from ipyvizzu import Chart, Data, Config\n",
    "import dtale\n",
    " \n",
    "## This statement allows the visuals to render within your Jupyter Notebook.\n",
    "%matplotlib inline"
   ]
  },
  {
   "cell_type": "markdown",
   "id": "e395e8bf-b530-4720-8d0f-26811e927d6e",
   "metadata": {},
   "source": [
    "## Loading the data\n",
    "We can now load the dataset into pandas using the read_csv() function. This converts the CSV file into a Pandas dataframe."
   ]
  },
  {
   "cell_type": "code",
   "execution_count": 4,
   "id": "cf4030b0-aa7f-4bd7-8e9c-c1b7f4d202d0",
   "metadata": {},
   "outputs": [],
   "source": [
    "#Read in the csv file and convert to a Pandas dataframe\n",
    "#estate = pd.read_csv('data/realEstate.csv')\n",
    "#lands = pd.read_csv('data/RiyadhAqqar/Lands.csv')\n",
    "villas = pd.read_csv('../data/RiyadhAqqar/villas.csv')\n",
    "#apartments = pd.read_csv('data/RiyadhAqqar/Apartments.csv')\n",
    "#riyadh = pd.read_csv('data/RiyadhVillasAqar.csv')"
   ]
  },
  {
   "cell_type": "markdown",
   "id": "ca5ed983-0f72-43eb-8168-6fafd48c562e",
   "metadata": {},
   "source": [
    "### Viewing the dataframe\n",
    "We can get a quick sense of the size of our dataset by using the shape method. This returns a tuple with the number of rows and columns in the dataset."
   ]
  },
  {
   "cell_type": "code",
   "execution_count": 5,
   "id": "bfde0b69-613c-4dd1-8ebf-e4d2e570e653",
   "metadata": {},
   "outputs": [
    {
     "data": {
      "text/html": [
       "<div>\n",
       "<style scoped>\n",
       "    .dataframe tbody tr th:only-of-type {\n",
       "        vertical-align: middle;\n",
       "    }\n",
       "\n",
       "    .dataframe tbody tr th {\n",
       "        vertical-align: top;\n",
       "    }\n",
       "\n",
       "    .dataframe thead th {\n",
       "        text-align: right;\n",
       "    }\n",
       "</style>\n",
       "<table border=\"1\" class=\"dataframe\">\n",
       "  <thead>\n",
       "    <tr style=\"text-align: right;\">\n",
       "      <th></th>\n",
       "      <th>نوع العقار</th>\n",
       "      <th>المدينة</th>\n",
       "      <th>الحي</th>\n",
       "      <th>الواجهة</th>\n",
       "      <th>عدد الغرف</th>\n",
       "      <th>عدد الصالات</th>\n",
       "      <th>عدد الحمامات</th>\n",
       "      <th>عرض الشارع</th>\n",
       "      <th>المساحة</th>\n",
       "      <th>درج صالة</th>\n",
       "      <th>مطبخ</th>\n",
       "      <th>غرفة خادمة</th>\n",
       "      <th>غرفة سائق</th>\n",
       "      <th>ملحق</th>\n",
       "      <th>حوش</th>\n",
       "      <th>مسبح</th>\n",
       "      <th>قبو</th>\n",
       "      <th>مدخل سيارة</th>\n",
       "      <th>مصعد</th>\n",
       "      <th>السعر الاجمالي</th>\n",
       "    </tr>\n",
       "  </thead>\n",
       "  <tbody>\n",
       "    <tr>\n",
       "      <th>0</th>\n",
       "      <td>فيلا</td>\n",
       "      <td>الرياض</td>\n",
       "      <td>حي العارض</td>\n",
       "      <td>جنوبية</td>\n",
       "      <td>6</td>\n",
       "      <td>3</td>\n",
       "      <td>5+</td>\n",
       "      <td>NaN</td>\n",
       "      <td>244.0</td>\n",
       "      <td>1</td>\n",
       "      <td>1</td>\n",
       "      <td>1</td>\n",
       "      <td>1</td>\n",
       "      <td>0</td>\n",
       "      <td>1</td>\n",
       "      <td>0</td>\n",
       "      <td>0</td>\n",
       "      <td>1</td>\n",
       "      <td>1</td>\n",
       "      <td>2300000</td>\n",
       "    </tr>\n",
       "    <tr>\n",
       "      <th>1</th>\n",
       "      <td>فيلا</td>\n",
       "      <td>الرياض</td>\n",
       "      <td>حي العارض</td>\n",
       "      <td>جنوبية</td>\n",
       "      <td>6</td>\n",
       "      <td>4</td>\n",
       "      <td>5+</td>\n",
       "      <td>NaN</td>\n",
       "      <td>322.0</td>\n",
       "      <td>1</td>\n",
       "      <td>1</td>\n",
       "      <td>1</td>\n",
       "      <td>1</td>\n",
       "      <td>1</td>\n",
       "      <td>1</td>\n",
       "      <td>0</td>\n",
       "      <td>0</td>\n",
       "      <td>1</td>\n",
       "      <td>1</td>\n",
       "      <td>3000000</td>\n",
       "    </tr>\n",
       "  </tbody>\n",
       "</table>\n",
       "</div>"
      ],
      "text/plain": [
       "  نوع العقار   المدينة         الحي الواجهة عدد الغرف عدد الصالات  \\\n",
       "0       فيلا   الرياض    حي العارض   جنوبية         6           3   \n",
       "1       فيلا   الرياض    حي العارض   جنوبية         6           4   \n",
       "\n",
       "  عدد الحمامات  عرض الشارع  المساحة  درج صالة  مطبخ  غرفة خادمة  غرفة سائق  \\\n",
       "0           5+         NaN    244.0         1     1           1          1   \n",
       "1           5+         NaN    322.0         1     1           1          1   \n",
       "\n",
       "   ملحق  حوش  مسبح  قبو  مدخل سيارة  مصعد  السعر الاجمالي  \n",
       "0     0    1     0    0           1     1         2300000  \n",
       "1     1    1     0    0           1     1         3000000  "
      ]
     },
     "metadata": {},
     "output_type": "display_data"
    }
   ],
   "source": [
    "#display(estate.head(2))\n",
    "#display(lands.head(2))\n",
    "display(villas.head(2))\n",
    "#display(apartments.head(2))\n",
    "#display(riyadh.head(2))"
   ]
  },
  {
   "cell_type": "markdown",
   "id": "bd2b5bc4-db37-4432-b666-0714afd0c4ca",
   "metadata": {},
   "source": [
    "## 1. Data Profiling:\n",
    "Data profiling is a comprehensive process of examining the data available in an existing dataset and collecting statistics and information about that data. "
   ]
  },
  {
   "cell_type": "code",
   "execution_count": 6,
   "id": "06a30a82",
   "metadata": {},
   "outputs": [
    {
     "name": "stdout",
     "output_type": "stream",
     "text": [
      "<class 'pandas.core.frame.DataFrame'>\n",
      "RangeIndex: 1090 entries, 0 to 1089\n",
      "Data columns (total 20 columns):\n",
      " #   Column          Non-Null Count  Dtype  \n",
      "---  ------          --------------  -----  \n",
      " 0   نوع العقار      1090 non-null   object \n",
      " 1   المدينة         1090 non-null   object \n",
      " 2   الحي            1090 non-null   object \n",
      " 3   الواجهة         1059 non-null   object \n",
      " 4   عدد الغرف       993 non-null    object \n",
      " 5   عدد الصالات     967 non-null    object \n",
      " 6   عدد الحمامات    993 non-null    object \n",
      " 7   عرض الشارع      465 non-null    float64\n",
      " 8   المساحة         1059 non-null   float64\n",
      " 9   درج صالة        1090 non-null   int64  \n",
      " 10  مطبخ            1090 non-null   int64  \n",
      " 11  غرفة خادمة      1090 non-null   int64  \n",
      " 12  غرفة سائق       1090 non-null   int64  \n",
      " 13  ملحق            1090 non-null   int64  \n",
      " 14  حوش             1090 non-null   int64  \n",
      " 15  مسبح            1090 non-null   int64  \n",
      " 16  قبو             1090 non-null   int64  \n",
      " 17  مدخل سيارة      1090 non-null   int64  \n",
      " 18  مصعد            1090 non-null   int64  \n",
      " 19  السعر الاجمالي  1090 non-null   int64  \n",
      "dtypes: float64(2), int64(11), object(7)\n",
      "memory usage: 170.4+ KB\n"
     ]
    }
   ],
   "source": [
    "villas.info()"
   ]
  },
  {
   "cell_type": "code",
   "execution_count": 7,
   "id": "a4807372",
   "metadata": {},
   "outputs": [
    {
     "data": {
      "text/plain": [
       "(1090, 20)"
      ]
     },
     "execution_count": 7,
     "metadata": {},
     "output_type": "execute_result"
    }
   ],
   "source": [
    "villas.shape"
   ]
  },
  {
   "cell_type": "code",
   "execution_count": 8,
   "id": "d732a445",
   "metadata": {},
   "outputs": [
    {
     "data": {
      "text/html": [
       "<div>\n",
       "<style scoped>\n",
       "    .dataframe tbody tr th:only-of-type {\n",
       "        vertical-align: middle;\n",
       "    }\n",
       "\n",
       "    .dataframe tbody tr th {\n",
       "        vertical-align: top;\n",
       "    }\n",
       "\n",
       "    .dataframe thead th {\n",
       "        text-align: right;\n",
       "    }\n",
       "</style>\n",
       "<table border=\"1\" class=\"dataframe\">\n",
       "  <thead>\n",
       "    <tr style=\"text-align: right;\">\n",
       "      <th></th>\n",
       "      <th>عرض الشارع</th>\n",
       "      <th>المساحة</th>\n",
       "      <th>درج صالة</th>\n",
       "      <th>مطبخ</th>\n",
       "      <th>غرفة خادمة</th>\n",
       "      <th>غرفة سائق</th>\n",
       "      <th>ملحق</th>\n",
       "      <th>حوش</th>\n",
       "      <th>مسبح</th>\n",
       "      <th>قبو</th>\n",
       "      <th>مدخل سيارة</th>\n",
       "      <th>مصعد</th>\n",
       "      <th>السعر الاجمالي</th>\n",
       "    </tr>\n",
       "  </thead>\n",
       "  <tbody>\n",
       "    <tr>\n",
       "      <th>count</th>\n",
       "      <td>465.00000</td>\n",
       "      <td>1059.000000</td>\n",
       "      <td>1090.000000</td>\n",
       "      <td>1090.000000</td>\n",
       "      <td>1090.000000</td>\n",
       "      <td>1090.000000</td>\n",
       "      <td>1090.000000</td>\n",
       "      <td>1090.000000</td>\n",
       "      <td>1090.000000</td>\n",
       "      <td>1090.000000</td>\n",
       "      <td>1090.000000</td>\n",
       "      <td>1090.000000</td>\n",
       "      <td>1.090000e+03</td>\n",
       "    </tr>\n",
       "    <tr>\n",
       "      <th>mean</th>\n",
       "      <td>17.24086</td>\n",
       "      <td>473.115203</td>\n",
       "      <td>0.700917</td>\n",
       "      <td>0.796330</td>\n",
       "      <td>0.697248</td>\n",
       "      <td>0.360550</td>\n",
       "      <td>0.544954</td>\n",
       "      <td>0.715596</td>\n",
       "      <td>0.082569</td>\n",
       "      <td>0.034862</td>\n",
       "      <td>0.781651</td>\n",
       "      <td>0.270642</td>\n",
       "      <td>2.629100e+06</td>\n",
       "    </tr>\n",
       "    <tr>\n",
       "      <th>std</th>\n",
       "      <td>4.75182</td>\n",
       "      <td>1399.036553</td>\n",
       "      <td>0.458066</td>\n",
       "      <td>0.402911</td>\n",
       "      <td>0.459660</td>\n",
       "      <td>0.480381</td>\n",
       "      <td>0.498204</td>\n",
       "      <td>0.451337</td>\n",
       "      <td>0.275356</td>\n",
       "      <td>0.183515</td>\n",
       "      <td>0.413315</td>\n",
       "      <td>0.444496</td>\n",
       "      <td>2.092205e+06</td>\n",
       "    </tr>\n",
       "    <tr>\n",
       "      <th>min</th>\n",
       "      <td>5.00000</td>\n",
       "      <td>25.000000</td>\n",
       "      <td>0.000000</td>\n",
       "      <td>0.000000</td>\n",
       "      <td>0.000000</td>\n",
       "      <td>0.000000</td>\n",
       "      <td>0.000000</td>\n",
       "      <td>0.000000</td>\n",
       "      <td>0.000000</td>\n",
       "      <td>0.000000</td>\n",
       "      <td>0.000000</td>\n",
       "      <td>0.000000</td>\n",
       "      <td>3.000000e+05</td>\n",
       "    </tr>\n",
       "    <tr>\n",
       "      <th>25%</th>\n",
       "      <td>15.00000</td>\n",
       "      <td>275.000000</td>\n",
       "      <td>0.000000</td>\n",
       "      <td>1.000000</td>\n",
       "      <td>0.000000</td>\n",
       "      <td>0.000000</td>\n",
       "      <td>0.000000</td>\n",
       "      <td>0.000000</td>\n",
       "      <td>0.000000</td>\n",
       "      <td>0.000000</td>\n",
       "      <td>1.000000</td>\n",
       "      <td>0.000000</td>\n",
       "      <td>1.500000e+06</td>\n",
       "    </tr>\n",
       "    <tr>\n",
       "      <th>50%</th>\n",
       "      <td>18.00000</td>\n",
       "      <td>338.000000</td>\n",
       "      <td>1.000000</td>\n",
       "      <td>1.000000</td>\n",
       "      <td>1.000000</td>\n",
       "      <td>0.000000</td>\n",
       "      <td>1.000000</td>\n",
       "      <td>1.000000</td>\n",
       "      <td>0.000000</td>\n",
       "      <td>0.000000</td>\n",
       "      <td>1.000000</td>\n",
       "      <td>0.000000</td>\n",
       "      <td>2.150000e+06</td>\n",
       "    </tr>\n",
       "    <tr>\n",
       "      <th>75%</th>\n",
       "      <td>20.00000</td>\n",
       "      <td>450.000000</td>\n",
       "      <td>1.000000</td>\n",
       "      <td>1.000000</td>\n",
       "      <td>1.000000</td>\n",
       "      <td>1.000000</td>\n",
       "      <td>1.000000</td>\n",
       "      <td>1.000000</td>\n",
       "      <td>0.000000</td>\n",
       "      <td>0.000000</td>\n",
       "      <td>1.000000</td>\n",
       "      <td>1.000000</td>\n",
       "      <td>3.000000e+06</td>\n",
       "    </tr>\n",
       "    <tr>\n",
       "      <th>max</th>\n",
       "      <td>40.00000</td>\n",
       "      <td>32020.000000</td>\n",
       "      <td>1.000000</td>\n",
       "      <td>1.000000</td>\n",
       "      <td>1.000000</td>\n",
       "      <td>1.000000</td>\n",
       "      <td>1.000000</td>\n",
       "      <td>1.000000</td>\n",
       "      <td>1.000000</td>\n",
       "      <td>1.000000</td>\n",
       "      <td>1.000000</td>\n",
       "      <td>1.000000</td>\n",
       "      <td>2.250000e+07</td>\n",
       "    </tr>\n",
       "  </tbody>\n",
       "</table>\n",
       "</div>"
      ],
      "text/plain": [
       "       عرض الشارع       المساحة     درج صالة         مطبخ   غرفة خادمة  \\\n",
       "count   465.00000   1059.000000  1090.000000  1090.000000  1090.000000   \n",
       "mean     17.24086    473.115203     0.700917     0.796330     0.697248   \n",
       "std       4.75182   1399.036553     0.458066     0.402911     0.459660   \n",
       "min       5.00000     25.000000     0.000000     0.000000     0.000000   \n",
       "25%      15.00000    275.000000     0.000000     1.000000     0.000000   \n",
       "50%      18.00000    338.000000     1.000000     1.000000     1.000000   \n",
       "75%      20.00000    450.000000     1.000000     1.000000     1.000000   \n",
       "max      40.00000  32020.000000     1.000000     1.000000     1.000000   \n",
       "\n",
       "         غرفة سائق         ملحق          حوش         مسبح          قبو  \\\n",
       "count  1090.000000  1090.000000  1090.000000  1090.000000  1090.000000   \n",
       "mean      0.360550     0.544954     0.715596     0.082569     0.034862   \n",
       "std       0.480381     0.498204     0.451337     0.275356     0.183515   \n",
       "min       0.000000     0.000000     0.000000     0.000000     0.000000   \n",
       "25%       0.000000     0.000000     0.000000     0.000000     0.000000   \n",
       "50%       0.000000     1.000000     1.000000     0.000000     0.000000   \n",
       "75%       1.000000     1.000000     1.000000     0.000000     0.000000   \n",
       "max       1.000000     1.000000     1.000000     1.000000     1.000000   \n",
       "\n",
       "        مدخل سيارة         مصعد  السعر الاجمالي  \n",
       "count  1090.000000  1090.000000    1.090000e+03  \n",
       "mean      0.781651     0.270642    2.629100e+06  \n",
       "std       0.413315     0.444496    2.092205e+06  \n",
       "min       0.000000     0.000000    3.000000e+05  \n",
       "25%       1.000000     0.000000    1.500000e+06  \n",
       "50%       1.000000     0.000000    2.150000e+06  \n",
       "75%       1.000000     1.000000    3.000000e+06  \n",
       "max       1.000000     1.000000    2.250000e+07  "
      ]
     },
     "execution_count": 8,
     "metadata": {},
     "output_type": "execute_result"
    }
   ],
   "source": [
    "villas.describe()"
   ]
  },
  {
   "cell_type": "code",
   "execution_count": 9,
   "id": "d203fceb",
   "metadata": {},
   "outputs": [
    {
     "data": {
      "text/plain": [
       "Index(['نوع العقار', 'المدينة', 'الحي', 'الواجهة', 'عدد الغرف', 'عدد الصالات',\n",
       "       'عدد الحمامات', 'عرض الشارع', 'المساحة', 'درج صالة', 'مطبخ',\n",
       "       'غرفة خادمة', 'غرفة سائق', 'ملحق', 'حوش', 'مسبح', 'قبو', 'مدخل سيارة',\n",
       "       'مصعد', 'السعر الاجمالي'],\n",
       "      dtype='object')"
      ]
     },
     "execution_count": 9,
     "metadata": {},
     "output_type": "execute_result"
    }
   ],
   "source": [
    "villas.columns"
   ]
  },
  {
   "cell_type": "code",
   "execution_count": 10,
   "id": "672f2081-5a2c-4908-8cbd-29519fb3cac5",
   "metadata": {},
   "outputs": [],
   "source": [
    "destate = dtale.show(villas)\n",
    "destate.open_browser()"
   ]
  },
  {
   "cell_type": "markdown",
   "id": "834929aa-fd6a-4ec5-84d4-77c4b3c1a506",
   "metadata": {},
   "source": [
    "The process of profiling differs slightly for categorical and numerical variables due to their inherent differences.\n",
    "\n",
    "**The two main types of data are:**\n",
    "- Quantitative (numerical) data\n",
    "- Qualitative (categorical) data"
   ]
  },
  {
   "cell_type": "markdown",
   "id": "3a9954f5-6fbc-45b4-ad86-3e21b6e0ca2d",
   "metadata": {},
   "source": [
    "### Data Quality Checks\n",
    "Data quality checks involve the process of ensuring that the data is accurate, complete, consistent, relevant, and reliable. \n",
    "\n",
    "\n",
    "**Here are typical steps involved in checking data quality:**"
   ]
  },
  {
   "cell_type": "code",
   "execution_count": 11,
   "id": "6785ea2e",
   "metadata": {},
   "outputs": [
    {
     "data": {
      "text/html": [
       "<div>\n",
       "<style scoped>\n",
       "    .dataframe tbody tr th:only-of-type {\n",
       "        vertical-align: middle;\n",
       "    }\n",
       "\n",
       "    .dataframe tbody tr th {\n",
       "        vertical-align: top;\n",
       "    }\n",
       "\n",
       "    .dataframe thead th {\n",
       "        text-align: right;\n",
       "    }\n",
       "</style>\n",
       "<table border=\"1\" class=\"dataframe\">\n",
       "  <thead>\n",
       "    <tr style=\"text-align: right;\">\n",
       "      <th></th>\n",
       "      <th>نوع العقار</th>\n",
       "      <th>المدينة</th>\n",
       "      <th>الحي</th>\n",
       "      <th>الواجهة</th>\n",
       "      <th>عدد الغرف</th>\n",
       "      <th>عدد الصالات</th>\n",
       "      <th>عدد الحمامات</th>\n",
       "      <th>عرض الشارع</th>\n",
       "      <th>المساحة</th>\n",
       "      <th>درج صالة</th>\n",
       "      <th>مطبخ</th>\n",
       "      <th>غرفة خادمة</th>\n",
       "      <th>غرفة سائق</th>\n",
       "      <th>ملحق</th>\n",
       "      <th>حوش</th>\n",
       "      <th>مسبح</th>\n",
       "      <th>قبو</th>\n",
       "      <th>مدخل سيارة</th>\n",
       "      <th>مصعد</th>\n",
       "      <th>السعر الاجمالي</th>\n",
       "    </tr>\n",
       "  </thead>\n",
       "  <tbody>\n",
       "    <tr>\n",
       "      <th>0</th>\n",
       "      <td>فيلا</td>\n",
       "      <td>الرياض</td>\n",
       "      <td>حي العارض</td>\n",
       "      <td>جنوبية</td>\n",
       "      <td>6</td>\n",
       "      <td>3</td>\n",
       "      <td>5+</td>\n",
       "      <td>NaN</td>\n",
       "      <td>244.0</td>\n",
       "      <td>1</td>\n",
       "      <td>1</td>\n",
       "      <td>1</td>\n",
       "      <td>1</td>\n",
       "      <td>0</td>\n",
       "      <td>1</td>\n",
       "      <td>0</td>\n",
       "      <td>0</td>\n",
       "      <td>1</td>\n",
       "      <td>1</td>\n",
       "      <td>2300000</td>\n",
       "    </tr>\n",
       "    <tr>\n",
       "      <th>1</th>\n",
       "      <td>فيلا</td>\n",
       "      <td>الرياض</td>\n",
       "      <td>حي العارض</td>\n",
       "      <td>جنوبية</td>\n",
       "      <td>6</td>\n",
       "      <td>4</td>\n",
       "      <td>5+</td>\n",
       "      <td>NaN</td>\n",
       "      <td>322.0</td>\n",
       "      <td>1</td>\n",
       "      <td>1</td>\n",
       "      <td>1</td>\n",
       "      <td>1</td>\n",
       "      <td>1</td>\n",
       "      <td>1</td>\n",
       "      <td>0</td>\n",
       "      <td>0</td>\n",
       "      <td>1</td>\n",
       "      <td>1</td>\n",
       "      <td>3000000</td>\n",
       "    </tr>\n",
       "    <tr>\n",
       "      <th>2</th>\n",
       "      <td>فيلا</td>\n",
       "      <td>الرياض</td>\n",
       "      <td>حي العارض</td>\n",
       "      <td>جنوبية</td>\n",
       "      <td>3</td>\n",
       "      <td>2</td>\n",
       "      <td>5+</td>\n",
       "      <td>NaN</td>\n",
       "      <td>350.0</td>\n",
       "      <td>1</td>\n",
       "      <td>0</td>\n",
       "      <td>1</td>\n",
       "      <td>0</td>\n",
       "      <td>1</td>\n",
       "      <td>0</td>\n",
       "      <td>0</td>\n",
       "      <td>1</td>\n",
       "      <td>1</td>\n",
       "      <td>1</td>\n",
       "      <td>2600000</td>\n",
       "    </tr>\n",
       "    <tr>\n",
       "      <th>3</th>\n",
       "      <td>فيلا</td>\n",
       "      <td>الرياض</td>\n",
       "      <td>حي النرجس</td>\n",
       "      <td>جنوبية</td>\n",
       "      <td>4</td>\n",
       "      <td>4</td>\n",
       "      <td>4</td>\n",
       "      <td>NaN</td>\n",
       "      <td>350.0</td>\n",
       "      <td>1</td>\n",
       "      <td>1</td>\n",
       "      <td>1</td>\n",
       "      <td>0</td>\n",
       "      <td>0</td>\n",
       "      <td>1</td>\n",
       "      <td>0</td>\n",
       "      <td>1</td>\n",
       "      <td>1</td>\n",
       "      <td>1</td>\n",
       "      <td>2600000</td>\n",
       "    </tr>\n",
       "    <tr>\n",
       "      <th>4</th>\n",
       "      <td>فيلا</td>\n",
       "      <td>الرياض</td>\n",
       "      <td>حي العارض</td>\n",
       "      <td>غربية</td>\n",
       "      <td>4</td>\n",
       "      <td>1</td>\n",
       "      <td>5+</td>\n",
       "      <td>NaN</td>\n",
       "      <td>270.0</td>\n",
       "      <td>1</td>\n",
       "      <td>1</td>\n",
       "      <td>1</td>\n",
       "      <td>1</td>\n",
       "      <td>0</td>\n",
       "      <td>0</td>\n",
       "      <td>0</td>\n",
       "      <td>0</td>\n",
       "      <td>1</td>\n",
       "      <td>0</td>\n",
       "      <td>2800000</td>\n",
       "    </tr>\n",
       "  </tbody>\n",
       "</table>\n",
       "</div>"
      ],
      "text/plain": [
       "  نوع العقار   المدينة         الحي الواجهة عدد الغرف عدد الصالات  \\\n",
       "0       فيلا   الرياض    حي العارض   جنوبية         6           3   \n",
       "1       فيلا   الرياض    حي العارض   جنوبية         6           4   \n",
       "2       فيلا   الرياض    حي العارض   جنوبية         3           2   \n",
       "3       فيلا   الرياض    حي النرجس   جنوبية         4           4   \n",
       "4       فيلا   الرياض    حي العارض    غربية         4           1   \n",
       "\n",
       "  عدد الحمامات  عرض الشارع  المساحة  درج صالة  مطبخ  غرفة خادمة  غرفة سائق  \\\n",
       "0           5+         NaN    244.0         1     1           1          1   \n",
       "1           5+         NaN    322.0         1     1           1          1   \n",
       "2           5+         NaN    350.0         1     0           1          0   \n",
       "3            4         NaN    350.0         1     1           1          0   \n",
       "4           5+         NaN    270.0         1     1           1          1   \n",
       "\n",
       "   ملحق  حوش  مسبح  قبو  مدخل سيارة  مصعد  السعر الاجمالي  \n",
       "0     0    1     0    0           1     1         2300000  \n",
       "1     1    1     0    0           1     1         3000000  \n",
       "2     1    0     0    1           1     1         2600000  \n",
       "3     0    1     0    1           1     1         2600000  \n",
       "4     0    0     0    0           1     0         2800000  "
      ]
     },
     "execution_count": 11,
     "metadata": {},
     "output_type": "execute_result"
    }
   ],
   "source": [
    "villas.head()"
   ]
  },
  {
   "cell_type": "code",
   "execution_count": 12,
   "id": "3a970860",
   "metadata": {},
   "outputs": [
    {
     "data": {
      "text/plain": [
       "625"
      ]
     },
     "execution_count": 12,
     "metadata": {},
     "output_type": "execute_result"
    }
   ],
   "source": [
    "villas['عرض الشارع'].isnull().sum()"
   ]
  },
  {
   "cell_type": "code",
   "execution_count": null,
   "id": "330eae02",
   "metadata": {},
   "outputs": [],
   "source": []
  },
  {
   "cell_type": "markdown",
   "id": "4818c876-173d-4e56-9e7d-b4334d2def25",
   "metadata": {},
   "source": [
    "#### 1. Reliability:\n",
    "Evaluate the data's source and collection process to determine its trustworthiness."
   ]
  },
  {
   "cell_type": "code",
   "execution_count": 13,
   "id": "9034ae7b-dc1d-4cba-8f9e-bb499d021cde",
   "metadata": {},
   "outputs": [],
   "source": [
    "#kaggle usesr"
   ]
  },
  {
   "cell_type": "markdown",
   "id": "2ce0cc59-8c92-4acc-8d07-c40764e1a86b",
   "metadata": {},
   "source": [
    "#### 2. Timeliness: \n",
    "Ensure the data is up-to-date and reflective of the current situation or the period of interest for the analysis."
   ]
  },
  {
   "cell_type": "code",
   "execution_count": null,
   "id": "4b78ae35-7226-4cb6-b8b2-a46c2ed17cf9",
   "metadata": {},
   "outputs": [],
   "source": []
  },
  {
   "cell_type": "markdown",
   "id": "7fab0fe2-6624-4615-b9d8-3c3669056bf8",
   "metadata": {},
   "source": [
    "#### 3. Consistency: \n",
    "\n",
    "Confirm that the data is consistent within the dataset and across multiple data sources. For example, the same data point should not have different values in different places.\n"
   ]
  },
  {
   "cell_type": "code",
   "execution_count": null,
   "id": "7fecc573-959f-4800-8ddd-a67985c68b18",
   "metadata": {},
   "outputs": [],
   "source": []
  },
  {
   "cell_type": "markdown",
   "id": "bec3d183-bba0-4b12-b963-487daab1e876",
   "metadata": {},
   "source": [
    "#### 4. Relevance: \n",
    "Assess whether the data is appropriate and applicable for the intended analysis. Data that is not relevant can skew results and lead to incorrect conclusions.\n",
    "\n",
    "**Key considerations for relevance include:**\n",
    "\n",
    "> 1. Sample Appropriateness: Confirm that your data sample aligns with your analysis objectives. For instance, utilizing data from the Northern region will not yield accurate insights for the Western region of the Kingdom.\n",
    ">\n",
    "> 2. Variable Selection: Any column will not be relevant for our analysis, we can get rid of these using the drop() method. We will set the “axis” argument to 1 since we’re dealing with columns, and set the “inplace” argument to True to make the change permanent.\n"
   ]
  },
  {
   "cell_type": "code",
   "execution_count": 14,
   "id": "50a934b7-a0cd-443f-8a27-f10e9a6e8647",
   "metadata": {
    "scrolled": true
   },
   "outputs": [],
   "source": [
    "#villas.drop(['نوع العقار'],axis=1,inplace=True)"
   ]
  },
  {
   "cell_type": "markdown",
   "id": "0f5e3a2a-bbb7-4d06-8220-c93277b70146",
   "metadata": {},
   "source": [
    "#### 5. Uniqueness: \n",
    "Check for and remove duplicate records to prevent skewed analysis results.\n"
   ]
  },
  {
   "cell_type": "code",
   "execution_count": 15,
   "id": "a509a7aa-58f4-4d39-8eb8-e8298a21f2a7",
   "metadata": {},
   "outputs": [
    {
     "data": {
      "text/plain": [
       "136"
      ]
     },
     "execution_count": 15,
     "metadata": {},
     "output_type": "execute_result"
    }
   ],
   "source": [
    "villas.duplicated().sum()"
   ]
  },
  {
   "cell_type": "code",
   "execution_count": 16,
   "id": "780edbf4",
   "metadata": {},
   "outputs": [
    {
     "data": {
      "text/html": [
       "<div>\n",
       "<style scoped>\n",
       "    .dataframe tbody tr th:only-of-type {\n",
       "        vertical-align: middle;\n",
       "    }\n",
       "\n",
       "    .dataframe tbody tr th {\n",
       "        vertical-align: top;\n",
       "    }\n",
       "\n",
       "    .dataframe thead th {\n",
       "        text-align: right;\n",
       "    }\n",
       "</style>\n",
       "<table border=\"1\" class=\"dataframe\">\n",
       "  <thead>\n",
       "    <tr style=\"text-align: right;\">\n",
       "      <th></th>\n",
       "      <th>نوع العقار</th>\n",
       "      <th>المدينة</th>\n",
       "      <th>الحي</th>\n",
       "      <th>الواجهة</th>\n",
       "      <th>عدد الغرف</th>\n",
       "      <th>عدد الصالات</th>\n",
       "      <th>عدد الحمامات</th>\n",
       "      <th>عرض الشارع</th>\n",
       "      <th>المساحة</th>\n",
       "      <th>درج صالة</th>\n",
       "      <th>مطبخ</th>\n",
       "      <th>غرفة خادمة</th>\n",
       "      <th>غرفة سائق</th>\n",
       "      <th>ملحق</th>\n",
       "      <th>حوش</th>\n",
       "      <th>مسبح</th>\n",
       "      <th>قبو</th>\n",
       "      <th>مدخل سيارة</th>\n",
       "      <th>مصعد</th>\n",
       "      <th>السعر الاجمالي</th>\n",
       "    </tr>\n",
       "  </thead>\n",
       "  <tbody>\n",
       "    <tr>\n",
       "      <th>709</th>\n",
       "      <td>فيلا</td>\n",
       "      <td>الرياض</td>\n",
       "      <td>حي المونسية</td>\n",
       "      <td>جنوبية</td>\n",
       "      <td>6</td>\n",
       "      <td>4</td>\n",
       "      <td>5+</td>\n",
       "      <td>NaN</td>\n",
       "      <td>262.0</td>\n",
       "      <td>1</td>\n",
       "      <td>1</td>\n",
       "      <td>1</td>\n",
       "      <td>1</td>\n",
       "      <td>0</td>\n",
       "      <td>1</td>\n",
       "      <td>0</td>\n",
       "      <td>0</td>\n",
       "      <td>1</td>\n",
       "      <td>0</td>\n",
       "      <td>2000000</td>\n",
       "    </tr>\n",
       "    <tr>\n",
       "      <th>711</th>\n",
       "      <td>فيلا</td>\n",
       "      <td>الرياض</td>\n",
       "      <td>حي الرمال</td>\n",
       "      <td>غربية</td>\n",
       "      <td>7+</td>\n",
       "      <td>3</td>\n",
       "      <td>5+</td>\n",
       "      <td>18.0</td>\n",
       "      <td>300.0</td>\n",
       "      <td>1</td>\n",
       "      <td>1</td>\n",
       "      <td>1</td>\n",
       "      <td>0</td>\n",
       "      <td>0</td>\n",
       "      <td>1</td>\n",
       "      <td>0</td>\n",
       "      <td>0</td>\n",
       "      <td>1</td>\n",
       "      <td>0</td>\n",
       "      <td>1500000</td>\n",
       "    </tr>\n",
       "    <tr>\n",
       "      <th>716</th>\n",
       "      <td>فيلا</td>\n",
       "      <td>الرياض</td>\n",
       "      <td>حي المونسية</td>\n",
       "      <td>شرقية</td>\n",
       "      <td>5</td>\n",
       "      <td>3</td>\n",
       "      <td>4</td>\n",
       "      <td>NaN</td>\n",
       "      <td>308.0</td>\n",
       "      <td>1</td>\n",
       "      <td>0</td>\n",
       "      <td>1</td>\n",
       "      <td>0</td>\n",
       "      <td>1</td>\n",
       "      <td>1</td>\n",
       "      <td>0</td>\n",
       "      <td>0</td>\n",
       "      <td>1</td>\n",
       "      <td>1</td>\n",
       "      <td>2650000</td>\n",
       "    </tr>\n",
       "    <tr>\n",
       "      <th>717</th>\n",
       "      <td>فيلا</td>\n",
       "      <td>الرياض</td>\n",
       "      <td>حي الحمراء</td>\n",
       "      <td>شرقية</td>\n",
       "      <td>7+</td>\n",
       "      <td>2</td>\n",
       "      <td>5+</td>\n",
       "      <td>NaN</td>\n",
       "      <td>618.0</td>\n",
       "      <td>1</td>\n",
       "      <td>1</td>\n",
       "      <td>1</td>\n",
       "      <td>1</td>\n",
       "      <td>1</td>\n",
       "      <td>1</td>\n",
       "      <td>1</td>\n",
       "      <td>0</td>\n",
       "      <td>1</td>\n",
       "      <td>1</td>\n",
       "      <td>4500000</td>\n",
       "    </tr>\n",
       "    <tr>\n",
       "      <th>718</th>\n",
       "      <td>فيلا</td>\n",
       "      <td>حي قرطبة</td>\n",
       "      <td>شارع جبل مره</td>\n",
       "      <td>جنوبية</td>\n",
       "      <td>7+</td>\n",
       "      <td>3</td>\n",
       "      <td>5+</td>\n",
       "      <td>NaN</td>\n",
       "      <td>450.0</td>\n",
       "      <td>0</td>\n",
       "      <td>1</td>\n",
       "      <td>1</td>\n",
       "      <td>1</td>\n",
       "      <td>0</td>\n",
       "      <td>1</td>\n",
       "      <td>0</td>\n",
       "      <td>0</td>\n",
       "      <td>1</td>\n",
       "      <td>0</td>\n",
       "      <td>2600000</td>\n",
       "    </tr>\n",
       "    <tr>\n",
       "      <th>...</th>\n",
       "      <td>...</td>\n",
       "      <td>...</td>\n",
       "      <td>...</td>\n",
       "      <td>...</td>\n",
       "      <td>...</td>\n",
       "      <td>...</td>\n",
       "      <td>...</td>\n",
       "      <td>...</td>\n",
       "      <td>...</td>\n",
       "      <td>...</td>\n",
       "      <td>...</td>\n",
       "      <td>...</td>\n",
       "      <td>...</td>\n",
       "      <td>...</td>\n",
       "      <td>...</td>\n",
       "      <td>...</td>\n",
       "      <td>...</td>\n",
       "      <td>...</td>\n",
       "      <td>...</td>\n",
       "      <td>...</td>\n",
       "    </tr>\n",
       "    <tr>\n",
       "      <th>1048</th>\n",
       "      <td>فيلا</td>\n",
       "      <td>الرياض</td>\n",
       "      <td>حي المونسية</td>\n",
       "      <td>شمالية غربية</td>\n",
       "      <td>5</td>\n",
       "      <td>2</td>\n",
       "      <td>5+</td>\n",
       "      <td>15.0</td>\n",
       "      <td>440.0</td>\n",
       "      <td>1</td>\n",
       "      <td>1</td>\n",
       "      <td>1</td>\n",
       "      <td>0</td>\n",
       "      <td>0</td>\n",
       "      <td>0</td>\n",
       "      <td>0</td>\n",
       "      <td>0</td>\n",
       "      <td>0</td>\n",
       "      <td>0</td>\n",
       "      <td>3250000</td>\n",
       "    </tr>\n",
       "    <tr>\n",
       "      <th>1061</th>\n",
       "      <td>فيلا</td>\n",
       "      <td>الرياض</td>\n",
       "      <td>حي المونسية</td>\n",
       "      <td>NaN</td>\n",
       "      <td>NaN</td>\n",
       "      <td>NaN</td>\n",
       "      <td>NaN</td>\n",
       "      <td>NaN</td>\n",
       "      <td>NaN</td>\n",
       "      <td>0</td>\n",
       "      <td>0</td>\n",
       "      <td>0</td>\n",
       "      <td>0</td>\n",
       "      <td>0</td>\n",
       "      <td>0</td>\n",
       "      <td>0</td>\n",
       "      <td>0</td>\n",
       "      <td>0</td>\n",
       "      <td>0</td>\n",
       "      <td>2300000</td>\n",
       "    </tr>\n",
       "    <tr>\n",
       "      <th>1062</th>\n",
       "      <td>فيلا</td>\n",
       "      <td>امارة منطقة الرياض</td>\n",
       "      <td>الرياض</td>\n",
       "      <td>شرقية</td>\n",
       "      <td>5</td>\n",
       "      <td>3</td>\n",
       "      <td>5+</td>\n",
       "      <td>NaN</td>\n",
       "      <td>375.0</td>\n",
       "      <td>1</td>\n",
       "      <td>1</td>\n",
       "      <td>1</td>\n",
       "      <td>0</td>\n",
       "      <td>1</td>\n",
       "      <td>1</td>\n",
       "      <td>0</td>\n",
       "      <td>0</td>\n",
       "      <td>1</td>\n",
       "      <td>1</td>\n",
       "      <td>3650000</td>\n",
       "    </tr>\n",
       "    <tr>\n",
       "      <th>1078</th>\n",
       "      <td>فيلا</td>\n",
       "      <td>امارة منطقة الرياض</td>\n",
       "      <td>الرياض</td>\n",
       "      <td>غربية</td>\n",
       "      <td>5</td>\n",
       "      <td>1</td>\n",
       "      <td>5+</td>\n",
       "      <td>18.0</td>\n",
       "      <td>250.0</td>\n",
       "      <td>1</td>\n",
       "      <td>1</td>\n",
       "      <td>1</td>\n",
       "      <td>0</td>\n",
       "      <td>0</td>\n",
       "      <td>0</td>\n",
       "      <td>0</td>\n",
       "      <td>0</td>\n",
       "      <td>0</td>\n",
       "      <td>0</td>\n",
       "      <td>1450000</td>\n",
       "    </tr>\n",
       "    <tr>\n",
       "      <th>1083</th>\n",
       "      <td>فيلا</td>\n",
       "      <td>الرياض</td>\n",
       "      <td>الرياض</td>\n",
       "      <td>جنوبية</td>\n",
       "      <td>5</td>\n",
       "      <td>2</td>\n",
       "      <td>5+</td>\n",
       "      <td>15.0</td>\n",
       "      <td>300.0</td>\n",
       "      <td>1</td>\n",
       "      <td>1</td>\n",
       "      <td>1</td>\n",
       "      <td>0</td>\n",
       "      <td>1</td>\n",
       "      <td>0</td>\n",
       "      <td>0</td>\n",
       "      <td>0</td>\n",
       "      <td>1</td>\n",
       "      <td>0</td>\n",
       "      <td>1400000</td>\n",
       "    </tr>\n",
       "  </tbody>\n",
       "</table>\n",
       "<p>136 rows × 20 columns</p>\n",
       "</div>"
      ],
      "text/plain": [
       "     نوع العقار              المدينة            الحي       الواجهة عدد الغرف  \\\n",
       "709        فيلا              الرياض     حي المونسية         جنوبية         6   \n",
       "711        فيلا              الرياض       حي الرمال          غربية        7+   \n",
       "716        فيلا              الرياض     حي المونسية          شرقية         5   \n",
       "717        فيلا              الرياض      حي الحمراء          شرقية        7+   \n",
       "718        فيلا            حي قرطبة    شارع جبل مره         جنوبية        7+   \n",
       "...         ...                  ...             ...           ...       ...   \n",
       "1048       فيلا              الرياض     حي المونسية   شمالية غربية         5   \n",
       "1061       فيلا              الرياض     حي المونسية            NaN       NaN   \n",
       "1062       فيلا   امارة منطقة الرياض         الرياض          شرقية         5   \n",
       "1078       فيلا   امارة منطقة الرياض         الرياض          غربية         5   \n",
       "1083       فيلا               الرياض         الرياض         جنوبية         5   \n",
       "\n",
       "     عدد الصالات عدد الحمامات  عرض الشارع  المساحة  درج صالة  مطبخ  \\\n",
       "709            4           5+         NaN    262.0         1     1   \n",
       "711            3           5+        18.0    300.0         1     1   \n",
       "716            3            4         NaN    308.0         1     0   \n",
       "717            2           5+         NaN    618.0         1     1   \n",
       "718            3           5+         NaN    450.0         0     1   \n",
       "...          ...          ...         ...      ...       ...   ...   \n",
       "1048           2           5+        15.0    440.0         1     1   \n",
       "1061         NaN          NaN         NaN      NaN         0     0   \n",
       "1062           3           5+         NaN    375.0         1     1   \n",
       "1078           1           5+        18.0    250.0         1     1   \n",
       "1083           2           5+        15.0    300.0         1     1   \n",
       "\n",
       "      غرفة خادمة  غرفة سائق  ملحق  حوش  مسبح  قبو  مدخل سيارة  مصعد  \\\n",
       "709            1          1     0    1     0    0           1     0   \n",
       "711            1          0     0    1     0    0           1     0   \n",
       "716            1          0     1    1     0    0           1     1   \n",
       "717            1          1     1    1     1    0           1     1   \n",
       "718            1          1     0    1     0    0           1     0   \n",
       "...          ...        ...   ...  ...   ...  ...         ...   ...   \n",
       "1048           1          0     0    0     0    0           0     0   \n",
       "1061           0          0     0    0     0    0           0     0   \n",
       "1062           1          0     1    1     0    0           1     1   \n",
       "1078           1          0     0    0     0    0           0     0   \n",
       "1083           1          0     1    0     0    0           1     0   \n",
       "\n",
       "      السعر الاجمالي  \n",
       "709          2000000  \n",
       "711          1500000  \n",
       "716          2650000  \n",
       "717          4500000  \n",
       "718          2600000  \n",
       "...              ...  \n",
       "1048         3250000  \n",
       "1061         2300000  \n",
       "1062         3650000  \n",
       "1078         1450000  \n",
       "1083         1400000  \n",
       "\n",
       "[136 rows x 20 columns]"
      ]
     },
     "execution_count": 16,
     "metadata": {},
     "output_type": "execute_result"
    }
   ],
   "source": [
    "villas[villas.duplicated()]"
   ]
  },
  {
   "cell_type": "code",
   "execution_count": 17,
   "id": "04c62559-3b48-48cf-a4e9-857e2e0ff416",
   "metadata": {},
   "outputs": [],
   "source": [
    "# go to delete duplicates columns\n",
    "\n",
    "#Two villas can be the same for every column (we don't have a unique column).\n"
   ]
  },
  {
   "cell_type": "markdown",
   "id": "c7724ac2-4ea2-4cf4-a9e0-e64368f87b92",
   "metadata": {},
   "source": [
    "#### 6. Completeness: \n",
    "Ensure that no critical data is missing. This might mean checking for null values or required fields that are empty.\n",
    "\n",
    "We will start by checking the dataset for missing or null values. For this, we can use the isna() method which returns a dataframe of boolean values indicating if a field is null or not. To group all missing values by column, we can include the sum() method."
   ]
  },
  {
   "cell_type": "code",
   "execution_count": 18,
   "id": "48a4de54-a344-4b94-9908-9528c15c13f7",
   "metadata": {},
   "outputs": [
    {
     "data": {
      "text/plain": [
       "عرض الشارع        625\n",
       "عدد الصالات       123\n",
       "عدد الغرف          97\n",
       "عدد الحمامات       97\n",
       "الواجهة            31\n",
       "المساحة            31\n",
       "نوع العقار          0\n",
       "ملحق                0\n",
       "مصعد                0\n",
       "مدخل سيارة          0\n",
       "قبو                 0\n",
       "مسبح                0\n",
       "حوش                 0\n",
       "مطبخ                0\n",
       "غرفة سائق           0\n",
       "غرفة خادمة          0\n",
       "المدينة             0\n",
       "درج صالة            0\n",
       "الحي                0\n",
       "السعر الاجمالي      0\n",
       "dtype: int64"
      ]
     },
     "execution_count": 18,
     "metadata": {},
     "output_type": "execute_result"
    }
   ],
   "source": [
    "#Display number missing values per column\n",
    "villas.isnull().sum().sort_values(ascending = False)\n",
    "\n"
   ]
  },
  {
   "cell_type": "code",
   "execution_count": 19,
   "id": "f26d7863",
   "metadata": {},
   "outputs": [
    {
     "data": {
      "text/plain": [
       "0      NaN\n",
       "1      NaN\n",
       "2      NaN\n",
       "3      NaN\n",
       "4      NaN\n",
       "        ..\n",
       "1085   NaN\n",
       "1086   NaN\n",
       "1087   NaN\n",
       "1088   NaN\n",
       "1089   NaN\n",
       "Name: عرض الشارع, Length: 1090, dtype: float64"
      ]
     },
     "execution_count": 19,
     "metadata": {},
     "output_type": "execute_result"
    }
   ],
   "source": [
    "villas['عرض الشارع']"
   ]
  },
  {
   "cell_type": "code",
   "execution_count": 20,
   "id": "abec31c4-0904-4b73-8cee-b7bc14ab1e67",
   "metadata": {},
   "outputs": [],
   "source": [
    "# go to clean them "
   ]
  },
  {
   "cell_type": "markdown",
   "id": "b40de63c-5a1d-49ed-a87e-c5229ee08bbe",
   "metadata": {},
   "source": [
    "#### 7. Check Accuracy:\n",
    "\n",
    "Verify that the data is correct and precise. This could involve comparing data samples with known sources or using validation rules.\n",
    "\n",
    "**The process includes:**\n",
    "1. Validating the appropriateness of data types for the dataset.\n",
    "2. Identifying outliers  using established validation  rule"
   ]
  },
  {
   "cell_type": "code",
   "execution_count": 21,
   "id": "68be5334-ae10-4abd-8097-3259fe5e72c8",
   "metadata": {},
   "outputs": [
    {
     "data": {
      "text/plain": [
       "نوع العقار         object\n",
       "المدينة            object\n",
       "الحي               object\n",
       "الواجهة            object\n",
       "عدد الغرف          object\n",
       "عدد الصالات        object\n",
       "عدد الحمامات       object\n",
       "عرض الشارع        float64\n",
       "المساحة           float64\n",
       "درج صالة            int64\n",
       "مطبخ                int64\n",
       "غرفة خادمة          int64\n",
       "غرفة سائق           int64\n",
       "ملحق                int64\n",
       "حوش                 int64\n",
       "مسبح                int64\n",
       "قبو                 int64\n",
       "مدخل سيارة          int64\n",
       "مصعد                int64\n",
       "السعر الاجمالي      int64\n",
       "dtype: object"
      ]
     },
     "execution_count": 21,
     "metadata": {},
     "output_type": "execute_result"
    }
   ],
   "source": [
    "# check columns types \n",
    "villas.dtypes"
   ]
  },
  {
   "cell_type": "code",
   "execution_count": 22,
   "id": "ced44ed7",
   "metadata": {},
   "outputs": [
    {
     "data": {
      "text/plain": [
       "عدد الغرف\n",
       "5     397\n",
       "7+    267\n",
       "4     163\n",
       "6     118\n",
       "3      33\n",
       "1      10\n",
       "2       5\n",
       "Name: count, dtype: int64"
      ]
     },
     "execution_count": 22,
     "metadata": {},
     "output_type": "execute_result"
    }
   ],
   "source": [
    "villas['عدد الغرف'].value_counts()"
   ]
  },
  {
   "cell_type": "code",
   "execution_count": 23,
   "id": "f23bbcdd",
   "metadata": {},
   "outputs": [
    {
     "data": {
      "text/plain": [
       "عدد الصالات\n",
       "2     433\n",
       "3     280\n",
       "1     126\n",
       "4      76\n",
       "5      48\n",
       "7+      4\n",
       "Name: count, dtype: int64"
      ]
     },
     "execution_count": 23,
     "metadata": {},
     "output_type": "execute_result"
    }
   ],
   "source": [
    "villas['عدد الصالات'].value_counts()"
   ]
  },
  {
   "cell_type": "code",
   "execution_count": 24,
   "id": "4d9d6cab",
   "metadata": {},
   "outputs": [
    {
     "data": {
      "text/plain": [
       "عدد الحمامات\n",
       "5+    796\n",
       "4     133\n",
       "3      51\n",
       "2       8\n",
       "1       5\n",
       "Name: count, dtype: int64"
      ]
     },
     "execution_count": 24,
     "metadata": {},
     "output_type": "execute_result"
    }
   ],
   "source": [
    "villas['عدد الحمامات'].value_counts()"
   ]
  },
  {
   "cell_type": "code",
   "execution_count": 25,
   "id": "2ee790ba-dcc0-45f1-b6f8-0133e913e149",
   "metadata": {},
   "outputs": [],
   "source": [
    "# go to clean them "
   ]
  },
  {
   "cell_type": "code",
   "execution_count": 26,
   "id": "c69b303a-5459-45f9-a28e-fcee45c21c05",
   "metadata": {},
   "outputs": [],
   "source": [
    "# check outliers "
   ]
  },
  {
   "cell_type": "markdown",
   "id": "4aca9d42-add6-45db-92cf-1f6dae5f277b",
   "metadata": {},
   "source": [
    "**What is an Outlier?** \n",
    "Outlier is an row/observation that appears far away and diverges from an overall pattern in a sample.\n",
    "\n",
    "**What are the types of Outliers?**\n",
    "1. Univariate: These outliers can be found when we look at distribution of a single variable\n",
    "2. Multivariate: are outliers in an n-dimensional space. In order to find them, you have to look at distributions in multi-dimensions. example (hight=100, weight=100) for a person\n",
    "\n",
    "**What causes Outliers?**\n",
    "Whenever we come across outliers, the ideal way to tackle them is to find out the reason of having these outliers. The method to deal with them would then depend on the reason of their occurrence.\n",
    "\n",
    "Let’s understand various types of outliers:\n",
    "\n",
    "1. Data Entry Errors:- Human errors such as errors caused during data collection, recording, or entry can cause outliers in data.\n",
    "2. Measurement Error: It is the most common source of outliers. This is caused when the measurement instrument used turns out to be faulty.\n",
    "3. Data Processing Error: Whenever we perform data mining, we extract data from multiple sources. It is possible that some manipulation or extraction errors may lead to outliers in the dataset.\n",
    "4. Sampling error: For instance, we have to measure the height of athletes. By mistake, we include a few basketball players in the sample. This inclusion is likely to cause outliers in the dataset.\n",
    "5. Natural Outlier: When an outlier is not artificial (due to error), it is a natural outlier. For instance: In my last assignment with one of the renowned insurance company, I noticed that the performance of top 50 financial advisors was far higher than rest of the population. Surprisingly, it was not due to any error. Hence, whenever we perform any data mining activity with advisors, we used to treat this segment separately.\n",
    "\n",
    "\n",
    "**What is the impact of Outliers on a dataset?**\n",
    "\n",
    "\n",
    "![image.png](https://www.analyticsvidhya.com/wp-content/uploads/2015/02/Outlier_31.png)\n",
    "\n",
    "\n",
    "\n",
    "**How to detect Outliers?**\n",
    "\n",
    "1. Most commonly used method to detect outliers is visualization (Univariate Graphical Analysis).\n",
    "\n",
    "We use 3 common visualization methods:\n",
    ">- Box-plot: A box plot is a method for graphically depicting groups of numerical data through their quartiles. The box extends from the Q1 to Q3 quartile values of the data, with a line at the median (Q2). The whiskers extend from the edges of the box to show the range of the data. Outlier points are those past the end of the whiskers. Box plots show robust measures of location and spread as well as providing information about symmetry and outliers.\n",
    ">\n",
    ">  \n",
    ">![image.png](https://miro.medium.com/v2/resize:fit:698/format:webp/1*VK5iHA2AB28HSZwWwUbNYg.png)\n",
    ">\n",
    ">\n",
    ">- Histogram\n",
    ">- Scatter Plot: A scatter plot is a mathematical diagram using Cartesian coordinates to display values for two variables for a set of data. The data are displayed as a collection of points, each having the value of one variable determining the position on the horizontal axis and the value of the other variable determining the position on the vertical axis. The points that are far from the population can be termed as an outlier.\n",
    ">\n",
    ">  \n",
    ">![image.png](https://miro.medium.com/v2/resize:fit:4800/format:webp/1*Ov6aH-8yIwNoUxtMFwgx4g.png)\n",
    ">\n",
    ">\n",
    "\n",
    "2. Using statistical method (Univariate Non-Graphical analysis):\n",
    ">- Any value, which is beyond the range of -1.5 x IQR to 1.5 x IQR\n",
    " \n",
    "![image.png](https://www.whatissixsigma.net/wp-content/uploads/2015/07/Box-Plot-Diagram-to-identify-Outliers-figure-1.png)\n",
    "\n",
    ">- Use capping methods. Any value which out of range of 5th and 95th percentile can be considered as outlier\n",
    ">- Data points, three or more standard deviation away from mean are considered outlier: The Z-score is the signed number of standard deviations by which the value of an observation or data point is above the mean value of what is being observed or measured. While calculating the Z-score we re-scale and center the data and look for data points that are too far from zero. These data points which are way too far from zero will be treated as the outliers. In most of the cases, a threshold of 3 or -3 is used i.e if the Z-score value is greater than or less than 3 or -3 respectively, that data point will be identified as outliers.\n",
    "> - Outlier detection is merely a special case of the examination of data for influential data points and it also depends on the business understanding\n"
   ]
  },
  {
   "cell_type": "code",
   "execution_count": 27,
   "id": "74ea6194-cc01-45d8-be38-c4543eb1714e",
   "metadata": {},
   "outputs": [],
   "source": [
    "# go to univariate graphical analysis\n",
    "# go to lesson : data visualisation 1 - chart type section\n",
    "# then go to univariate graphical analysis\n",
    "# detect outliers using graphs varbaly"
   ]
  },
  {
   "cell_type": "code",
   "execution_count": 28,
   "id": "48ecf77b-480c-4f64-9485-95be805bc357",
   "metadata": {},
   "outputs": [],
   "source": [
    "# go to lesson: statistics 1 then statistics 3\n",
    "# then go to univariate Non graphical analysis\n",
    "# detect outliers using numerical statistics "
   ]
  },
  {
   "cell_type": "code",
   "execution_count": 29,
   "id": "ee200da8-62b0-492d-b118-f4d665a1fb16",
   "metadata": {},
   "outputs": [
    {
     "data": {
      "text/plain": [
       "نوع العقار         object\n",
       "المدينة            object\n",
       "الحي               object\n",
       "الواجهة            object\n",
       "عدد الغرف          object\n",
       "عدد الصالات        object\n",
       "عدد الحمامات       object\n",
       "عرض الشارع        float64\n",
       "المساحة           float64\n",
       "درج صالة            int64\n",
       "مطبخ                int64\n",
       "غرفة خادمة          int64\n",
       "غرفة سائق           int64\n",
       "ملحق                int64\n",
       "حوش                 int64\n",
       "مسبح                int64\n",
       "قبو                 int64\n",
       "مدخل سيارة          int64\n",
       "مصعد                int64\n",
       "السعر الاجمالي      int64\n",
       "dtype: object"
      ]
     },
     "execution_count": 29,
     "metadata": {},
     "output_type": "execute_result"
    }
   ],
   "source": [
    "villas.dtypes"
   ]
  },
  {
   "cell_type": "code",
   "execution_count": 30,
   "id": "4e66d611-6958-4860-8522-9ada7fce40b0",
   "metadata": {},
   "outputs": [],
   "source": [
    "# go to delete ouliers"
   ]
  },
  {
   "attachments": {},
   "cell_type": "markdown",
   "id": "4e886ec7-388c-414b-ada7-803c2fb1f2cb",
   "metadata": {},
   "source": [
    "## 2. Data Cleaning: \n",
    "\n",
    "Preliminary findings from data profiling can lead to cleaning the data by:\n",
    "- Handling missing values\n",
    "- Correcting errors.\n",
    "- Dealing with outliers.\n",
    "\n",
    "-------------------\n",
    "\n"
   ]
  },
  {
   "cell_type": "markdown",
   "id": "21876b48-f5ec-4970-85a9-0520d45d8841",
   "metadata": {},
   "source": [
    "### Handling missing values:"
   ]
  },
  {
   "cell_type": "markdown",
   "id": "c890d5a2-2a65-4090-9427-f89c0f011d3f",
   "metadata": {},
   "source": [
    "**Why my data has missing values?**\n",
    "They may occur at two stages:\n",
    "1. Data Extraction: It is possible that there are problems with extraction process. Errors at data extraction stage are typically easy to find and can be corrected easily as well.\n",
    "2. Data collection: These errors occur at time of data collection and are harder to correct.\n",
    "\n",
    "**Why do we need to handle the missing data?**\n",
    "To avoid:\n",
    "- Bias the conclusions.\n",
    "- Leading the business to make wrong decisions.\n",
    "\n",
    "**Which are the methods to treat missing values ?**\n",
    "1. Deletion: we delete rows where any of the variable is missing. Simplicity is one of the major advantage of this method, but this method reduces the power of model because it reduces the sample size.\n",
    "\n",
    "2. Imputation: is a method to fill in the missing values with estimated ones. This imputation is one of the most frequently used methods.\n",
    "\n",
    "    2.1. Mean/ Mode/ Median Imputation: It consists of replacing the missing data for a given attribute by the mean or median (quantitative attribute) or mode (qualitative attribute) of all known values of that variable.\n",
    "    > It can be of two types:\n",
    "    > - Generalized Imputation: In this case, we calculate the mean or median for all non missing values of that variable then replace missing value with mean or median.\n",
    "    > - Similar case Imputation: In this case, we calculate average for each group individually of non missing values then replace the missing value based on the group.\n",
    "\n",
    "    2.2. Constant Value\n",
    "   \n",
    "    2.3. Forward Filling\n",
    "   \n",
    "    2.4. Backward Filling\n",
    "\n",
    "6. Prediction Model:  Prediction model is one of the sophisticated method for handling missing data. Here, we create a predictive model to estimate values that will substitute the missing data.  In this case, we divide our data set into two sets: One set with no missing values for the variable and another one with missing values. First data set become training data set of the model while second data set with missing values is test data set and variable with missing values is treated as target variable. Next, we create a model to predict target variable based on other attributes of the training data set and populate missing values of test data set.\n",
    "\n",
    "> There are 2 drawbacks for this approach:\n",
    "> - The model estimated values are usually more well-behaved than the true values\n",
    "> - If there are no relationships with attributes in the data set and the attribute with missing values, then the model will not be precise for estimating missing values.\n",
    "\n",
    "9. KNN Imputation: In this method of imputation, the missing values of an attribute are imputed using the given number of attributes that are most similar to the attribute whose values are missing. The similarity of two attributes is determined using a distance function. It is also known to have certain advantage & disadvantages.\n",
    "\n",
    "   > **Advantages:**\n",
    "   > - k-nearest neighbour can predict both qualitative & quantitative attributes\n",
    "   > - Creation of predictive model for each attribute with missing data is not required\n",
    "   > - Attributes with multiple missing values can be easily treated\n",
    "   > - Correlation structure of the data is taken into consideration\n",
    "\n",
    "   > **Disadvantage:**\n",
    "   > - KNN algorithm is very time-consuming in analyzing large database. It searches through all the dataset looking for the most similar instances.\n",
    "   > - Choice of k-value is very critical. Higher value of k would include attributes which are significantly different from what we need whereas lower value of k implies missing out of significant attributes.\n",
    "\n",
    "--------------------\n"
   ]
  },
  {
   "cell_type": "code",
   "execution_count": 31,
   "id": "57e741fb-71c1-46ad-a526-d8f0b1564dc3",
   "metadata": {},
   "outputs": [
    {
     "name": "stderr",
     "output_type": "stream",
     "text": [
      "C:\\Users\\aabdu\\AppData\\Local\\Temp\\ipykernel_6428\\1783805106.py:1: FutureWarning:\n",
      "\n",
      "A value is trying to be set on a copy of a DataFrame or Series through chained assignment using an inplace method.\n",
      "The behavior will change in pandas 3.0. This inplace method will never work because the intermediate object on which we are setting values always behaves as a copy.\n",
      "\n",
      "For example, when doing 'df[col].method(value, inplace=True)', try using 'df.method({col: value}, inplace=True)' or df[col] = df[col].method(value) instead, to perform the operation inplace on the original object.\n",
      "\n",
      "\n",
      "\n",
      "C:\\Users\\aabdu\\AppData\\Local\\Temp\\ipykernel_6428\\1783805106.py:2: FutureWarning:\n",
      "\n",
      "A value is trying to be set on a copy of a DataFrame or Series through chained assignment using an inplace method.\n",
      "The behavior will change in pandas 3.0. This inplace method will never work because the intermediate object on which we are setting values always behaves as a copy.\n",
      "\n",
      "For example, when doing 'df[col].method(value, inplace=True)', try using 'df.method({col: value}, inplace=True)' or df[col] = df[col].method(value) instead, to perform the operation inplace on the original object.\n",
      "\n",
      "\n",
      "\n",
      "C:\\Users\\aabdu\\AppData\\Local\\Temp\\ipykernel_6428\\1783805106.py:3: FutureWarning:\n",
      "\n",
      "A value is trying to be set on a copy of a DataFrame or Series through chained assignment using an inplace method.\n",
      "The behavior will change in pandas 3.0. This inplace method will never work because the intermediate object on which we are setting values always behaves as a copy.\n",
      "\n",
      "For example, when doing 'df[col].method(value, inplace=True)', try using 'df.method({col: value}, inplace=True)' or df[col] = df[col].method(value) instead, to perform the operation inplace on the original object.\n",
      "\n",
      "\n",
      "\n",
      "C:\\Users\\aabdu\\AppData\\Local\\Temp\\ipykernel_6428\\1783805106.py:4: FutureWarning:\n",
      "\n",
      "Setting an item of incompatible dtype is deprecated and will raise an error in a future version of pandas. Value 'لا يوجد' has dtype incompatible with float64, please explicitly cast to a compatible dtype first.\n",
      "\n"
     ]
    }
   ],
   "source": [
    "villas['عدد الصالات'].fillna(value=1,inplace=True)\n",
    "villas['عدد الغرف'].fillna(value=1,inplace=True)\n",
    "villas['عدد الحمامات'].fillna(value=1,inplace=True)\n",
    "villas['عرض الشارع'].fillna(value='لا يوجد',inplace=True)\n"
   ]
  },
  {
   "cell_type": "code",
   "execution_count": 32,
   "id": "e97f7f0a",
   "metadata": {},
   "outputs": [],
   "source": [
    "villas.dropna(inplace=True)"
   ]
  },
  {
   "cell_type": "code",
   "execution_count": 33,
   "id": "01287962-8077-4c01-8d1d-5f8aed6cb37a",
   "metadata": {},
   "outputs": [],
   "source": [
    "# go back to 6th dimention --> Completeness"
   ]
  },
  {
   "cell_type": "markdown",
   "id": "f7cee10f-0af8-44e5-b595-8e965294daad",
   "metadata": {},
   "source": [
    "### Correcting errors\n",
    "\n",
    "-------------------"
   ]
  },
  {
   "cell_type": "code",
   "execution_count": null,
   "id": "06273b88-a169-42e8-81f5-5d71cb3f9c21",
   "metadata": {},
   "outputs": [],
   "source": []
  },
  {
   "cell_type": "code",
   "execution_count": 34,
   "id": "f1d95da5-a3ba-473a-8243-aa177cadae20",
   "metadata": {},
   "outputs": [],
   "source": [
    "# go back to 7th dimension Accuracy "
   ]
  },
  {
   "cell_type": "markdown",
   "id": "5ecc7dbb-6867-44cf-8f99-1b969a80be40",
   "metadata": {},
   "source": [
    "### Dealing with outliers:"
   ]
  },
  {
   "attachments": {},
   "cell_type": "markdown",
   "id": "88347887-4bdf-48af-9486-cb8fe80c97af",
   "metadata": {},
   "source": [
    "**How to remove Outliers?**\n",
    "Most of the ways to deal with outliers are similar to the methods of missing values like deleting rows, transforming them, binning them, treat them as a separate group, imputing values and other statistical methods. Here, we will discuss the common techniques used to deal with outliers:\n",
    "\n",
    "1. Deleting rows: We delete outlier values if it is due to data entry error, data processing error or outlier rows are very small in numbers. We can also use trimming at both ends to remove outliers.\n",
    "\n",
    "2. Imputing: Like imputation of missing values, we can also impute outliers. We can use mean, median, mode imputation methods. Before imputing values, we should analyse if it is natural outlier or artificial. If it is artificial, we can go with imputing values. We can also use statistical model to predict values of outlier rows and after that we can impute it with predicted values.\n",
    "\n",
    "3. Treat separately: If there are significant number of outliers, we should treat them separately in the statistical model. One of the approach is to treat both groups as two different groups and build individual model for both groups and then combine the output.\n"
   ]
  },
  {
   "cell_type": "code",
   "execution_count": null,
   "id": "25a585f0-2b9c-42fa-bf21-cacc6aa3be3f",
   "metadata": {},
   "outputs": [],
   "source": []
  },
  {
   "cell_type": "markdown",
   "id": "98548b66-e309-4eb8-a5dc-65fe0abbf1e8",
   "metadata": {},
   "source": [
    "## 3. Univariate Analysis: \n",
    "\n",
    "This involves examining single variables to understand their characteristics (distribution, central tendency, dispersion, and shape).\n",
    "\n",
    "We calculate **numerical values** about the data that tells us about the distribution of the data. We also **draw graphs** showing visually how the data is distributed. **To answer the following questions about Features/characteristics of Data:**\n",
    "- Where is the center of the data? (location)\n",
    "- How much does the data vary? (scale)\n",
    "- What is the shape of the data? (shape)\n",
    "\n",
    "**The benefits of this analysis:**\n",
    "Statistics summary gives a high-level idea to identify whether the data has any outliers, data entry error, distribution of data such as the data is normally distributed or left/right skewed\n",
    "\n",
    "**In this step, we will explore variables one by one using following approaches:**"
   ]
  },
  {
   "cell_type": "code",
   "execution_count": 35,
   "id": "55e1ed0a",
   "metadata": {},
   "outputs": [
    {
     "data": {
      "text/plain": [
       "نوع العقار         object\n",
       "المدينة            object\n",
       "الحي               object\n",
       "الواجهة            object\n",
       "عدد الغرف          object\n",
       "عدد الصالات        object\n",
       "عدد الحمامات       object\n",
       "عرض الشارع         object\n",
       "المساحة           float64\n",
       "درج صالة            int64\n",
       "مطبخ                int64\n",
       "غرفة خادمة          int64\n",
       "غرفة سائق           int64\n",
       "ملحق                int64\n",
       "حوش                 int64\n",
       "مسبح                int64\n",
       "قبو                 int64\n",
       "مدخل سيارة          int64\n",
       "مصعد                int64\n",
       "السعر الاجمالي      int64\n",
       "dtype: object"
      ]
     },
     "execution_count": 35,
     "metadata": {},
     "output_type": "execute_result"
    }
   ],
   "source": [
    "villas.dtypes"
   ]
  },
  {
   "cell_type": "markdown",
   "id": "d6718111-7ac2-4fff-9851-654655b62e0b",
   "metadata": {},
   "source": [
    "### 1. Univariate Graphical Analysis:\n",
    "Method to perform uni-variate analysis will depend on whether the variable type is categorical or numerical."
   ]
  },
  {
   "cell_type": "code",
   "execution_count": null,
   "id": "db79d803-b75c-4686-a623-e8420321a90f",
   "metadata": {},
   "outputs": [],
   "source": []
  },
  {
   "cell_type": "markdown",
   "id": "0d57c4b9-9bb3-494d-85dd-b8d39afda139",
   "metadata": {},
   "source": [
    "#### I. Categorical Variables:\n",
    "\n",
    "we’ll use frequency table to understand distribution of each category\n",
    "- Bar Chart (Ordinal) - Orderd\n",
    "- Pie Chart (Nominal) - non Orderd"
   ]
  },
  {
   "cell_type": "code",
   "execution_count": 52,
   "id": "565cf48f",
   "metadata": {},
   "outputs": [
    {
     "data": {
      "application/vnd.plotly.v1+json": {
       "config": {
        "plotlyServerURL": "https://plot.ly"
       },
       "data": [
        {
         "alignmentgroup": "True",
         "hovertemplate": "Amenity=%{x}<br>Count=%{y}<extra></extra>",
         "legendgroup": "",
         "marker": {
          "color": "#636efa",
          "pattern": {
           "shape": ""
          }
         },
         "name": "",
         "offsetgroup": "",
         "orientation": "v",
         "showlegend": false,
         "textposition": "auto",
         "type": "bar",
         "x": [
          "درج صالة",
          "مطبخ",
          "غرفة خادمة",
          "غرفة سائق",
          "ملحق",
          "حوش",
          "مسبح",
          "قبو",
          "مدخل سيارة",
          "مصعد"
         ],
         "xaxis": "x",
         "y": [
          764,
          868,
          760,
          393,
          594,
          780,
          90,
          38,
          852,
          295
         ],
         "yaxis": "y"
        }
       ],
       "layout": {
        "barmode": "relative",
        "legend": {
         "tracegroupgap": 0
        },
        "template": {
         "data": {
          "bar": [
           {
            "error_x": {
             "color": "#2a3f5f"
            },
            "error_y": {
             "color": "#2a3f5f"
            },
            "marker": {
             "line": {
              "color": "#E5ECF6",
              "width": 0.5
             },
             "pattern": {
              "fillmode": "overlay",
              "size": 10,
              "solidity": 0.2
             }
            },
            "type": "bar"
           }
          ],
          "barpolar": [
           {
            "marker": {
             "line": {
              "color": "#E5ECF6",
              "width": 0.5
             },
             "pattern": {
              "fillmode": "overlay",
              "size": 10,
              "solidity": 0.2
             }
            },
            "type": "barpolar"
           }
          ],
          "carpet": [
           {
            "aaxis": {
             "endlinecolor": "#2a3f5f",
             "gridcolor": "white",
             "linecolor": "white",
             "minorgridcolor": "white",
             "startlinecolor": "#2a3f5f"
            },
            "baxis": {
             "endlinecolor": "#2a3f5f",
             "gridcolor": "white",
             "linecolor": "white",
             "minorgridcolor": "white",
             "startlinecolor": "#2a3f5f"
            },
            "type": "carpet"
           }
          ],
          "choropleth": [
           {
            "colorbar": {
             "outlinewidth": 0,
             "ticks": ""
            },
            "type": "choropleth"
           }
          ],
          "contour": [
           {
            "colorbar": {
             "outlinewidth": 0,
             "ticks": ""
            },
            "colorscale": [
             [
              0,
              "#0d0887"
             ],
             [
              0.1111111111111111,
              "#46039f"
             ],
             [
              0.2222222222222222,
              "#7201a8"
             ],
             [
              0.3333333333333333,
              "#9c179e"
             ],
             [
              0.4444444444444444,
              "#bd3786"
             ],
             [
              0.5555555555555556,
              "#d8576b"
             ],
             [
              0.6666666666666666,
              "#ed7953"
             ],
             [
              0.7777777777777778,
              "#fb9f3a"
             ],
             [
              0.8888888888888888,
              "#fdca26"
             ],
             [
              1,
              "#f0f921"
             ]
            ],
            "type": "contour"
           }
          ],
          "contourcarpet": [
           {
            "colorbar": {
             "outlinewidth": 0,
             "ticks": ""
            },
            "type": "contourcarpet"
           }
          ],
          "heatmap": [
           {
            "colorbar": {
             "outlinewidth": 0,
             "ticks": ""
            },
            "colorscale": [
             [
              0,
              "#0d0887"
             ],
             [
              0.1111111111111111,
              "#46039f"
             ],
             [
              0.2222222222222222,
              "#7201a8"
             ],
             [
              0.3333333333333333,
              "#9c179e"
             ],
             [
              0.4444444444444444,
              "#bd3786"
             ],
             [
              0.5555555555555556,
              "#d8576b"
             ],
             [
              0.6666666666666666,
              "#ed7953"
             ],
             [
              0.7777777777777778,
              "#fb9f3a"
             ],
             [
              0.8888888888888888,
              "#fdca26"
             ],
             [
              1,
              "#f0f921"
             ]
            ],
            "type": "heatmap"
           }
          ],
          "heatmapgl": [
           {
            "colorbar": {
             "outlinewidth": 0,
             "ticks": ""
            },
            "colorscale": [
             [
              0,
              "#0d0887"
             ],
             [
              0.1111111111111111,
              "#46039f"
             ],
             [
              0.2222222222222222,
              "#7201a8"
             ],
             [
              0.3333333333333333,
              "#9c179e"
             ],
             [
              0.4444444444444444,
              "#bd3786"
             ],
             [
              0.5555555555555556,
              "#d8576b"
             ],
             [
              0.6666666666666666,
              "#ed7953"
             ],
             [
              0.7777777777777778,
              "#fb9f3a"
             ],
             [
              0.8888888888888888,
              "#fdca26"
             ],
             [
              1,
              "#f0f921"
             ]
            ],
            "type": "heatmapgl"
           }
          ],
          "histogram": [
           {
            "marker": {
             "pattern": {
              "fillmode": "overlay",
              "size": 10,
              "solidity": 0.2
             }
            },
            "type": "histogram"
           }
          ],
          "histogram2d": [
           {
            "colorbar": {
             "outlinewidth": 0,
             "ticks": ""
            },
            "colorscale": [
             [
              0,
              "#0d0887"
             ],
             [
              0.1111111111111111,
              "#46039f"
             ],
             [
              0.2222222222222222,
              "#7201a8"
             ],
             [
              0.3333333333333333,
              "#9c179e"
             ],
             [
              0.4444444444444444,
              "#bd3786"
             ],
             [
              0.5555555555555556,
              "#d8576b"
             ],
             [
              0.6666666666666666,
              "#ed7953"
             ],
             [
              0.7777777777777778,
              "#fb9f3a"
             ],
             [
              0.8888888888888888,
              "#fdca26"
             ],
             [
              1,
              "#f0f921"
             ]
            ],
            "type": "histogram2d"
           }
          ],
          "histogram2dcontour": [
           {
            "colorbar": {
             "outlinewidth": 0,
             "ticks": ""
            },
            "colorscale": [
             [
              0,
              "#0d0887"
             ],
             [
              0.1111111111111111,
              "#46039f"
             ],
             [
              0.2222222222222222,
              "#7201a8"
             ],
             [
              0.3333333333333333,
              "#9c179e"
             ],
             [
              0.4444444444444444,
              "#bd3786"
             ],
             [
              0.5555555555555556,
              "#d8576b"
             ],
             [
              0.6666666666666666,
              "#ed7953"
             ],
             [
              0.7777777777777778,
              "#fb9f3a"
             ],
             [
              0.8888888888888888,
              "#fdca26"
             ],
             [
              1,
              "#f0f921"
             ]
            ],
            "type": "histogram2dcontour"
           }
          ],
          "mesh3d": [
           {
            "colorbar": {
             "outlinewidth": 0,
             "ticks": ""
            },
            "type": "mesh3d"
           }
          ],
          "parcoords": [
           {
            "line": {
             "colorbar": {
              "outlinewidth": 0,
              "ticks": ""
             }
            },
            "type": "parcoords"
           }
          ],
          "pie": [
           {
            "automargin": true,
            "type": "pie"
           }
          ],
          "scatter": [
           {
            "fillpattern": {
             "fillmode": "overlay",
             "size": 10,
             "solidity": 0.2
            },
            "type": "scatter"
           }
          ],
          "scatter3d": [
           {
            "line": {
             "colorbar": {
              "outlinewidth": 0,
              "ticks": ""
             }
            },
            "marker": {
             "colorbar": {
              "outlinewidth": 0,
              "ticks": ""
             }
            },
            "type": "scatter3d"
           }
          ],
          "scattercarpet": [
           {
            "marker": {
             "colorbar": {
              "outlinewidth": 0,
              "ticks": ""
             }
            },
            "type": "scattercarpet"
           }
          ],
          "scattergeo": [
           {
            "marker": {
             "colorbar": {
              "outlinewidth": 0,
              "ticks": ""
             }
            },
            "type": "scattergeo"
           }
          ],
          "scattergl": [
           {
            "marker": {
             "colorbar": {
              "outlinewidth": 0,
              "ticks": ""
             }
            },
            "type": "scattergl"
           }
          ],
          "scattermapbox": [
           {
            "marker": {
             "colorbar": {
              "outlinewidth": 0,
              "ticks": ""
             }
            },
            "type": "scattermapbox"
           }
          ],
          "scatterpolar": [
           {
            "marker": {
             "colorbar": {
              "outlinewidth": 0,
              "ticks": ""
             }
            },
            "type": "scatterpolar"
           }
          ],
          "scatterpolargl": [
           {
            "marker": {
             "colorbar": {
              "outlinewidth": 0,
              "ticks": ""
             }
            },
            "type": "scatterpolargl"
           }
          ],
          "scatterternary": [
           {
            "marker": {
             "colorbar": {
              "outlinewidth": 0,
              "ticks": ""
             }
            },
            "type": "scatterternary"
           }
          ],
          "surface": [
           {
            "colorbar": {
             "outlinewidth": 0,
             "ticks": ""
            },
            "colorscale": [
             [
              0,
              "#0d0887"
             ],
             [
              0.1111111111111111,
              "#46039f"
             ],
             [
              0.2222222222222222,
              "#7201a8"
             ],
             [
              0.3333333333333333,
              "#9c179e"
             ],
             [
              0.4444444444444444,
              "#bd3786"
             ],
             [
              0.5555555555555556,
              "#d8576b"
             ],
             [
              0.6666666666666666,
              "#ed7953"
             ],
             [
              0.7777777777777778,
              "#fb9f3a"
             ],
             [
              0.8888888888888888,
              "#fdca26"
             ],
             [
              1,
              "#f0f921"
             ]
            ],
            "type": "surface"
           }
          ],
          "table": [
           {
            "cells": {
             "fill": {
              "color": "#EBF0F8"
             },
             "line": {
              "color": "white"
             }
            },
            "header": {
             "fill": {
              "color": "#C8D4E3"
             },
             "line": {
              "color": "white"
             }
            },
            "type": "table"
           }
          ]
         },
         "layout": {
          "annotationdefaults": {
           "arrowcolor": "#2a3f5f",
           "arrowhead": 0,
           "arrowwidth": 1
          },
          "autotypenumbers": "strict",
          "coloraxis": {
           "colorbar": {
            "outlinewidth": 0,
            "ticks": ""
           }
          },
          "colorscale": {
           "diverging": [
            [
             0,
             "#8e0152"
            ],
            [
             0.1,
             "#c51b7d"
            ],
            [
             0.2,
             "#de77ae"
            ],
            [
             0.3,
             "#f1b6da"
            ],
            [
             0.4,
             "#fde0ef"
            ],
            [
             0.5,
             "#f7f7f7"
            ],
            [
             0.6,
             "#e6f5d0"
            ],
            [
             0.7,
             "#b8e186"
            ],
            [
             0.8,
             "#7fbc41"
            ],
            [
             0.9,
             "#4d9221"
            ],
            [
             1,
             "#276419"
            ]
           ],
           "sequential": [
            [
             0,
             "#0d0887"
            ],
            [
             0.1111111111111111,
             "#46039f"
            ],
            [
             0.2222222222222222,
             "#7201a8"
            ],
            [
             0.3333333333333333,
             "#9c179e"
            ],
            [
             0.4444444444444444,
             "#bd3786"
            ],
            [
             0.5555555555555556,
             "#d8576b"
            ],
            [
             0.6666666666666666,
             "#ed7953"
            ],
            [
             0.7777777777777778,
             "#fb9f3a"
            ],
            [
             0.8888888888888888,
             "#fdca26"
            ],
            [
             1,
             "#f0f921"
            ]
           ],
           "sequentialminus": [
            [
             0,
             "#0d0887"
            ],
            [
             0.1111111111111111,
             "#46039f"
            ],
            [
             0.2222222222222222,
             "#7201a8"
            ],
            [
             0.3333333333333333,
             "#9c179e"
            ],
            [
             0.4444444444444444,
             "#bd3786"
            ],
            [
             0.5555555555555556,
             "#d8576b"
            ],
            [
             0.6666666666666666,
             "#ed7953"
            ],
            [
             0.7777777777777778,
             "#fb9f3a"
            ],
            [
             0.8888888888888888,
             "#fdca26"
            ],
            [
             1,
             "#f0f921"
            ]
           ]
          },
          "colorway": [
           "#636efa",
           "#EF553B",
           "#00cc96",
           "#ab63fa",
           "#FFA15A",
           "#19d3f3",
           "#FF6692",
           "#B6E880",
           "#FF97FF",
           "#FECB52"
          ],
          "font": {
           "color": "#2a3f5f"
          },
          "geo": {
           "bgcolor": "white",
           "lakecolor": "white",
           "landcolor": "#E5ECF6",
           "showlakes": true,
           "showland": true,
           "subunitcolor": "white"
          },
          "hoverlabel": {
           "align": "left"
          },
          "hovermode": "closest",
          "mapbox": {
           "style": "light"
          },
          "paper_bgcolor": "white",
          "plot_bgcolor": "#E5ECF6",
          "polar": {
           "angularaxis": {
            "gridcolor": "white",
            "linecolor": "white",
            "ticks": ""
           },
           "bgcolor": "#E5ECF6",
           "radialaxis": {
            "gridcolor": "white",
            "linecolor": "white",
            "ticks": ""
           }
          },
          "scene": {
           "xaxis": {
            "backgroundcolor": "#E5ECF6",
            "gridcolor": "white",
            "gridwidth": 2,
            "linecolor": "white",
            "showbackground": true,
            "ticks": "",
            "zerolinecolor": "white"
           },
           "yaxis": {
            "backgroundcolor": "#E5ECF6",
            "gridcolor": "white",
            "gridwidth": 2,
            "linecolor": "white",
            "showbackground": true,
            "ticks": "",
            "zerolinecolor": "white"
           },
           "zaxis": {
            "backgroundcolor": "#E5ECF6",
            "gridcolor": "white",
            "gridwidth": 2,
            "linecolor": "white",
            "showbackground": true,
            "ticks": "",
            "zerolinecolor": "white"
           }
          },
          "shapedefaults": {
           "line": {
            "color": "#2a3f5f"
           }
          },
          "ternary": {
           "aaxis": {
            "gridcolor": "white",
            "linecolor": "white",
            "ticks": ""
           },
           "baxis": {
            "gridcolor": "white",
            "linecolor": "white",
            "ticks": ""
           },
           "bgcolor": "#E5ECF6",
           "caxis": {
            "gridcolor": "white",
            "linecolor": "white",
            "ticks": ""
           }
          },
          "title": {
           "x": 0.05
          },
          "xaxis": {
           "automargin": true,
           "gridcolor": "white",
           "linecolor": "white",
           "ticks": "",
           "title": {
            "standoff": 15
           },
           "zerolinecolor": "white",
           "zerolinewidth": 2
          },
          "yaxis": {
           "automargin": true,
           "gridcolor": "white",
           "linecolor": "white",
           "ticks": "",
           "title": {
            "standoff": 15
           },
           "zerolinecolor": "white",
           "zerolinewidth": 2
          }
         }
        },
        "title": {
         "text": "Amenities in Villas"
        },
        "xaxis": {
         "anchor": "y",
         "domain": [
          0,
          1
         ],
         "title": {
          "text": "Amenity"
         }
        },
        "yaxis": {
         "anchor": "x",
         "domain": [
          0,
          1
         ],
         "title": {
          "text": "Count"
         }
        }
       }
      }
     },
     "metadata": {},
     "output_type": "display_data"
    },
    {
     "name": "stderr",
     "output_type": "stream",
     "text": [
      "2024-05-18 18:51:27,776 - INFO     - Executing shutdown due to inactivity...\n",
      "2024-05-18 18:51:40,037 - INFO     - Executing shutdown...\n",
      "2024-05-18 18:51:40,041 - INFO     - Not running with the Werkzeug Server, exiting by searching gc for BaseWSGIServer\n"
     ]
    }
   ],
   "source": [
    "import plotly.express as px\n",
    "amenities_counts = villas.iloc[:, 9:-1].sum().reset_index()\n",
    "amenities_counts.columns = ['Amenity', 'Count']\n",
    "\n",
    "#st.title(\"Villa Amenities Chart\")\n",
    "fig = px.bar(amenities_counts, x='Amenity', y='Count', title=\"Amenities in Villas\")\n",
    "#st.plotly_chart(fig)\n",
    "fig.show()"
   ]
  },
  {
   "cell_type": "code",
   "execution_count": 36,
   "id": "72ece4b7-5508-403a-8fb0-f519fc74272a",
   "metadata": {},
   "outputs": [
    {
     "data": {
      "application/vnd.plotly.v1+json": {
       "config": {
        "plotlyServerURL": "https://plot.ly"
       },
       "data": [
        {
         "domain": {
          "x": [
           0,
           1
          ],
          "y": [
           0,
           1
          ]
         },
         "hovertemplate": "عدد الغرف=%{label}<br>index=%{value}<extra></extra>",
         "labels": [
          "6",
          "6",
          "3",
          "4",
          "4",
          "7+",
          "3",
          "5",
          "6",
          "4",
          "6",
          "6",
          "7+",
          "7+",
          "5",
          "5",
          "7+",
          "5",
          "5",
          "5",
          "4",
          "6",
          "6",
          "5",
          "7+",
          "5",
          "4",
          "5",
          "4",
          "7+",
          "5",
          "7+",
          "4",
          "6",
          "5",
          "5",
          "5",
          "4",
          "5",
          "5",
          "5",
          "7+",
          "4",
          "4",
          "4",
          "4",
          "4",
          "5",
          "6",
          "4",
          "5",
          "5",
          "5",
          "5",
          "7+",
          "6",
          "5",
          "7+",
          "4",
          "7+",
          "7+",
          "7+",
          "6",
          "7+",
          "7+",
          "5",
          "5",
          "4",
          "7+",
          "5",
          "6",
          "4",
          "5",
          "5",
          "7+",
          "7+",
          "5",
          "5",
          "4",
          "7+",
          "4",
          "7+",
          "4",
          "5",
          "7+",
          "7+",
          "6",
          "7+",
          "5",
          "5",
          "5",
          "4",
          "5",
          "7+",
          "5",
          "7+",
          "5",
          "5",
          "7+",
          "4",
          "7+",
          "3",
          "5",
          "4",
          "3",
          "6",
          "4",
          "6",
          "7+",
          "4",
          "4",
          "7+",
          "5",
          "6",
          "5",
          "7+",
          "5",
          "6",
          "5",
          "5",
          "4",
          "5",
          "7+",
          "4",
          "5",
          "7+",
          "7+",
          "7+",
          "3",
          "5",
          "5",
          "5",
          "5",
          "4",
          "7+",
          "4",
          "4",
          "5",
          "4",
          "7+",
          "7+",
          "5",
          "5",
          "6",
          "5",
          "5",
          "2",
          "4",
          "4",
          "6",
          "7+",
          "4",
          "6",
          "5",
          "5",
          "6",
          "5",
          "5",
          "7+",
          "5",
          "4",
          "5",
          "4",
          "3",
          "7+",
          "6",
          "5",
          "4",
          "5",
          "5",
          "5",
          "5",
          "7+",
          "5",
          "4",
          "7+",
          "6",
          "4",
          "3",
          "4",
          "3",
          "4",
          "5",
          "7+",
          "4",
          "6",
          "5",
          "5",
          "6",
          "6",
          "4",
          "5",
          "5",
          "5",
          "5",
          "5",
          "7+",
          "6",
          "5",
          "5",
          "3",
          "7+",
          "5",
          "6",
          "4",
          "7+",
          "5",
          "5",
          "4",
          "7+",
          "5",
          "7+",
          "4",
          "5",
          "5",
          "6",
          "5",
          "5",
          "5",
          "6",
          "7+",
          "7+",
          "5",
          "5",
          "5",
          "5",
          "4",
          "6",
          "6",
          "3",
          "5",
          "5",
          "5",
          "5",
          "7+",
          "6",
          "6",
          "7+",
          "4",
          "5",
          "7+",
          "6",
          "7+",
          "6",
          "3",
          "5",
          "5",
          "5",
          "7+",
          "4",
          "3",
          "4",
          "4",
          "6",
          "5",
          "5",
          "7+",
          "5",
          "7+",
          "5",
          "6",
          "7+",
          "7+",
          "5",
          "7+",
          "4",
          "6",
          "7+",
          "5",
          "6",
          "5",
          "7+",
          "5",
          "6",
          "7+",
          "4",
          "5",
          "5",
          "4",
          "3",
          "7+",
          "5",
          "4",
          "1",
          "7+",
          "7+",
          "7+",
          "4",
          "6",
          "6",
          "7+",
          "5",
          "5",
          "4",
          "5",
          "1",
          "6",
          "5",
          "7+",
          "6",
          "7+",
          "5",
          "7+",
          "5",
          "4",
          "4",
          "7+",
          "4",
          "5",
          "6",
          "4",
          "7+",
          "5",
          "5",
          "5",
          "5",
          "7+",
          "7+",
          "7+",
          "5",
          "4",
          "1",
          "5",
          "4",
          "7+",
          "7+",
          "1",
          "5",
          "7+",
          "7+",
          "7+",
          "4",
          "3",
          "5",
          "5",
          "4",
          "4",
          "3",
          "6",
          "5",
          "4",
          "5",
          "4",
          "5",
          "5",
          "5",
          "6",
          "4",
          "6",
          "7+",
          "5",
          "5",
          "4",
          "5",
          "7+",
          "5",
          "6",
          "6",
          "6",
          "4",
          "3",
          "5",
          "5",
          "7+",
          "4",
          "7+",
          "6",
          "7+",
          "4",
          "7+",
          "7+",
          "4",
          "7+",
          "7+",
          "7+",
          "7+",
          "4",
          "4",
          "7+",
          "7+",
          "5",
          "7+",
          "3",
          "7+",
          "7+",
          "6",
          "5",
          "6",
          "7+",
          "4",
          "5",
          "5",
          "4",
          "5",
          "4",
          "5",
          "4",
          "5",
          "7+",
          "7+",
          "7+",
          "7+",
          "5",
          "6",
          "6",
          "6",
          "7+",
          "5",
          "7+",
          "5",
          "5",
          "5",
          "5",
          "5",
          "7+",
          "5",
          "5",
          "5",
          "5",
          "7+",
          "5",
          "5",
          "5",
          "5",
          "5",
          "7+",
          "5",
          "5",
          "6",
          "7+",
          "7+",
          "7+",
          "5",
          "6",
          "6",
          "7+",
          "4",
          "7+",
          "7+",
          "5",
          "7+",
          "4",
          "7+",
          "4",
          "5",
          "5",
          "7+",
          "7+",
          "4",
          "5",
          "4",
          "7+",
          "7+",
          "7+",
          "7+",
          "5",
          "5",
          "5",
          "5",
          "4",
          "6",
          "4",
          "5",
          "5",
          "5",
          "6",
          "7+",
          "2",
          "7+",
          "5",
          "5",
          "7+",
          "7+",
          "5",
          "5",
          "7+",
          "7+",
          "7+",
          "7+",
          "7+",
          "7+",
          "5",
          "6",
          "5",
          "7+",
          "7+",
          "7+",
          "7+",
          "7+",
          "4",
          "5",
          "5",
          "5",
          "6",
          "7+",
          "7+",
          "6",
          "6",
          "5",
          "7+",
          "6",
          "5",
          "7+",
          "7+",
          "4",
          "5",
          "7+",
          "5",
          "3",
          "7+",
          "2",
          "5",
          "4",
          "4",
          "5",
          "7+",
          "3",
          "6",
          "7+",
          "4",
          "7+",
          "3",
          "5",
          "5",
          "5",
          "5",
          "7+",
          "5",
          "6",
          "7+",
          "5",
          "5",
          "6",
          "5",
          "5",
          "5",
          "7+",
          "5",
          "5",
          "3",
          "6",
          "7+",
          "6",
          "5",
          "5",
          "6",
          "7+",
          "6",
          "4",
          "5",
          "5",
          "4",
          "6",
          "7+",
          "6",
          "5",
          "7+",
          "5",
          "6",
          "5",
          "5",
          "5",
          "5",
          "6",
          "5",
          "5",
          "5",
          "6",
          "5",
          "7+",
          "5",
          "5",
          "5",
          "6",
          "4",
          "5",
          "5",
          "4",
          "7+",
          "5",
          "6",
          "5",
          "6",
          "5",
          "5",
          "5",
          "3",
          "4",
          "7+",
          "5",
          "5",
          "7+",
          "6",
          "7+",
          "5",
          "5",
          "6",
          "7+",
          "7+",
          "7+",
          "4",
          "7+",
          "5",
          "4",
          "7+",
          "5",
          "4",
          "4",
          "5",
          "7+",
          "4",
          "5",
          "4",
          "5",
          "6",
          "5",
          "5",
          "5",
          "5",
          "6",
          "7+",
          "6",
          "6",
          "7+",
          "7+",
          "5",
          "7+",
          "7+",
          "7+",
          "7+",
          "4",
          "4",
          "5",
          "5",
          "4",
          "5",
          "7+",
          "7+",
          "3",
          "7+",
          "7+",
          "7+",
          "5",
          "4",
          "5",
          "5",
          "7+",
          "5",
          "7+",
          "5",
          "3",
          "3",
          "5",
          "6",
          "7+",
          "5",
          "6",
          "5",
          "7+",
          "5",
          "7+",
          "5",
          "5",
          "5",
          "5",
          "5",
          "5",
          "5",
          "5",
          "5",
          "5",
          "5",
          "3",
          "5",
          "6",
          "5",
          "5",
          "5",
          "5",
          "5",
          "5",
          "5",
          "5",
          "5",
          "5",
          "5",
          "5",
          "7+",
          "6",
          "7+",
          "4",
          "7+",
          "5",
          "7+",
          "7+",
          "5",
          "4",
          "7+",
          "7+",
          "7+",
          "5",
          "5",
          "4",
          "7+",
          "4",
          "5",
          "7+",
          "7+",
          "7+",
          "6",
          "6",
          "7+",
          "5",
          1,
          1,
          "5",
          "5",
          "7+",
          "7+",
          "5",
          1,
          1,
          "6",
          1,
          1,
          "5",
          1,
          "5",
          1,
          "5",
          "5",
          "7+",
          "7+",
          "5",
          1,
          "7+",
          1,
          "5",
          1,
          "5",
          "3",
          "7+",
          "5",
          "5",
          "7+",
          "7+",
          "7+",
          "7+",
          "5",
          "5",
          1,
          "1",
          "4",
          "7+",
          "5",
          1,
          "6",
          "7+",
          "6",
          1,
          "7+",
          "5",
          "7+",
          1,
          "1",
          "5",
          "7+",
          "3",
          "7+",
          "7+",
          "6",
          "4",
          "7+",
          "5",
          "5",
          1,
          "6",
          "5",
          "7+",
          1,
          1,
          1,
          "7+",
          "4",
          "6",
          "7+",
          "5",
          "4",
          1,
          "4",
          1,
          "7+",
          "4",
          "5",
          "5",
          1,
          "4",
          "5",
          "5",
          "3",
          "4",
          "5",
          "4",
          1,
          "5",
          "5",
          1,
          1,
          "4",
          "5",
          1,
          "5",
          1,
          "5",
          "5",
          1,
          1,
          1,
          "5",
          "5",
          "5",
          "5",
          "7+",
          "7+",
          "4",
          "5",
          "1",
          1,
          "1",
          "5",
          "5",
          "7+",
          "6",
          "7+",
          1,
          "4",
          1,
          "5",
          "5",
          "5",
          "6",
          1,
          "4",
          1,
          "4",
          "4",
          1,
          "7+",
          "4",
          "4",
          "5",
          "5",
          1,
          "7+",
          1,
          "4",
          1,
          "7+",
          "5",
          "6",
          "4",
          "7+",
          "5",
          "7+",
          "5",
          "6",
          "4",
          "2",
          "4",
          "5",
          "5",
          "5",
          "4",
          "5",
          1,
          "5",
          "5",
          "4",
          "4",
          "7+",
          "4",
          "5",
          "5",
          "5",
          1,
          1,
          "5",
          "6",
          "7+",
          "7+",
          1,
          "5",
          "4",
          "5",
          "5",
          "5",
          "5",
          "4",
          "5",
          1,
          "4",
          "6",
          "7+",
          "5",
          "7+",
          "4",
          "6",
          "4",
          "5",
          1,
          "5",
          1,
          "5",
          "5",
          "5",
          "7+",
          "5",
          "6",
          "6",
          "3",
          1,
          "5",
          1,
          "7+",
          "4",
          "5",
          "7+",
          "5",
          1,
          "4",
          "5",
          "5",
          "5",
          1,
          "5",
          "7+",
          "7+",
          "3",
          "7+",
          "5",
          "4",
          "5",
          "5",
          "5",
          1,
          "7+",
          "7+",
          "5",
          "6",
          "5",
          "7+",
          "7+",
          "5",
          "7+",
          "5",
          "5",
          "4",
          "4",
          "4",
          "7+",
          "2",
          "7+",
          1,
          "7+",
          "7+",
          "5",
          "3",
          "7+",
          1,
          1,
          "7+",
          "6",
          "4",
          "5",
          1,
          "7+",
          "7+",
          "4",
          "5",
          "5",
          "5",
          "7+",
          "5",
          "4",
          "5",
          "5",
          1,
          "5",
          1,
          "7+",
          "7+",
          "5",
          "5",
          "5",
          "6",
          1,
          "5",
          "5",
          "5",
          "7+",
          "4",
          "6",
          "5",
          "7+",
          "5",
          "6",
          "7+",
          "7+",
          "6",
          "5",
          1,
          "6",
          "7+",
          "1",
          "7+",
          "5",
          "4",
          "5",
          "5",
          1,
          "5",
          "5",
          "7+",
          "7+",
          "4",
          1,
          "1",
          "4",
          1,
          "7+",
          "7+",
          "7+",
          "5",
          "7+",
          "4",
          "5",
          "4",
          "7+",
          "4",
          "4",
          "4",
          "3",
          "5",
          1,
          1,
          "4",
          "4",
          "5",
          "6",
          "7+",
          1,
          "5",
          "5",
          "5",
          "7+",
          1,
          "4",
          "5",
          "5"
         ],
         "legendgroup": "",
         "name": "",
         "showlegend": true,
         "type": "pie",
         "values": [
          0,
          1,
          2,
          3,
          4,
          5,
          6,
          7,
          8,
          9,
          10,
          11,
          12,
          13,
          14,
          15,
          16,
          17,
          18,
          19,
          20,
          21,
          22,
          23,
          24,
          25,
          26,
          27,
          28,
          29,
          30,
          31,
          32,
          33,
          34,
          35,
          36,
          37,
          38,
          39,
          40,
          41,
          42,
          43,
          44,
          45,
          46,
          47,
          48,
          49,
          50,
          51,
          52,
          53,
          54,
          55,
          56,
          57,
          58,
          59,
          60,
          61,
          62,
          63,
          64,
          65,
          66,
          67,
          68,
          69,
          70,
          71,
          72,
          73,
          74,
          75,
          76,
          77,
          78,
          79,
          80,
          81,
          82,
          83,
          84,
          85,
          86,
          87,
          88,
          89,
          90,
          91,
          92,
          93,
          94,
          95,
          96,
          97,
          98,
          99,
          100,
          101,
          102,
          103,
          104,
          105,
          106,
          107,
          108,
          109,
          110,
          111,
          112,
          113,
          114,
          115,
          116,
          117,
          118,
          119,
          120,
          121,
          122,
          123,
          124,
          125,
          126,
          127,
          128,
          129,
          130,
          131,
          132,
          133,
          134,
          135,
          136,
          137,
          138,
          139,
          140,
          141,
          142,
          143,
          144,
          145,
          146,
          147,
          148,
          149,
          150,
          151,
          152,
          153,
          154,
          155,
          156,
          157,
          158,
          159,
          160,
          161,
          162,
          163,
          164,
          165,
          166,
          167,
          168,
          169,
          170,
          171,
          172,
          173,
          174,
          175,
          176,
          177,
          178,
          179,
          180,
          181,
          182,
          183,
          184,
          185,
          186,
          187,
          188,
          189,
          190,
          191,
          192,
          193,
          194,
          195,
          196,
          197,
          198,
          199,
          200,
          201,
          202,
          203,
          204,
          205,
          206,
          207,
          208,
          209,
          210,
          211,
          212,
          213,
          214,
          215,
          216,
          217,
          218,
          219,
          220,
          221,
          222,
          223,
          224,
          225,
          226,
          227,
          228,
          229,
          230,
          231,
          232,
          233,
          234,
          235,
          236,
          237,
          238,
          239,
          240,
          241,
          242,
          243,
          244,
          245,
          246,
          247,
          248,
          249,
          250,
          251,
          252,
          253,
          254,
          255,
          256,
          257,
          258,
          259,
          260,
          261,
          262,
          263,
          264,
          265,
          266,
          267,
          268,
          269,
          270,
          271,
          272,
          273,
          274,
          275,
          276,
          277,
          278,
          279,
          280,
          281,
          282,
          283,
          284,
          285,
          286,
          287,
          288,
          289,
          290,
          291,
          292,
          293,
          294,
          295,
          296,
          297,
          298,
          299,
          300,
          301,
          302,
          303,
          304,
          305,
          306,
          307,
          308,
          309,
          310,
          311,
          312,
          313,
          314,
          315,
          316,
          317,
          318,
          319,
          320,
          321,
          322,
          323,
          324,
          325,
          326,
          327,
          328,
          329,
          330,
          331,
          332,
          333,
          334,
          335,
          336,
          337,
          338,
          339,
          340,
          341,
          342,
          343,
          344,
          345,
          346,
          347,
          348,
          349,
          350,
          351,
          352,
          353,
          354,
          355,
          356,
          357,
          358,
          359,
          360,
          361,
          362,
          363,
          364,
          365,
          366,
          367,
          368,
          369,
          370,
          371,
          372,
          373,
          374,
          375,
          376,
          377,
          378,
          379,
          380,
          381,
          382,
          383,
          384,
          385,
          386,
          387,
          388,
          389,
          390,
          391,
          392,
          393,
          394,
          395,
          396,
          397,
          398,
          399,
          400,
          401,
          402,
          403,
          404,
          405,
          406,
          407,
          408,
          409,
          410,
          411,
          412,
          413,
          414,
          415,
          416,
          417,
          418,
          419,
          420,
          421,
          422,
          423,
          424,
          425,
          426,
          427,
          428,
          429,
          430,
          431,
          432,
          433,
          434,
          435,
          436,
          437,
          438,
          439,
          440,
          441,
          442,
          443,
          444,
          445,
          446,
          447,
          448,
          449,
          450,
          451,
          452,
          453,
          454,
          455,
          456,
          457,
          458,
          459,
          460,
          461,
          462,
          463,
          464,
          465,
          466,
          467,
          468,
          469,
          470,
          471,
          472,
          473,
          474,
          475,
          476,
          477,
          478,
          479,
          480,
          481,
          482,
          483,
          484,
          485,
          486,
          487,
          488,
          489,
          490,
          491,
          492,
          493,
          494,
          495,
          496,
          497,
          498,
          499,
          500,
          501,
          502,
          503,
          504,
          505,
          506,
          507,
          508,
          509,
          510,
          511,
          512,
          513,
          514,
          515,
          516,
          517,
          518,
          519,
          520,
          521,
          522,
          523,
          524,
          525,
          526,
          527,
          528,
          529,
          530,
          531,
          532,
          533,
          534,
          535,
          536,
          537,
          538,
          539,
          540,
          541,
          542,
          543,
          544,
          545,
          546,
          547,
          548,
          549,
          550,
          551,
          552,
          553,
          554,
          555,
          556,
          557,
          558,
          559,
          560,
          561,
          562,
          563,
          564,
          565,
          566,
          567,
          568,
          569,
          570,
          571,
          572,
          573,
          574,
          575,
          576,
          577,
          578,
          579,
          580,
          581,
          582,
          583,
          584,
          585,
          586,
          587,
          588,
          589,
          590,
          591,
          592,
          593,
          594,
          595,
          596,
          597,
          598,
          599,
          600,
          601,
          602,
          603,
          604,
          605,
          606,
          607,
          608,
          609,
          610,
          611,
          612,
          613,
          614,
          615,
          616,
          617,
          618,
          619,
          620,
          621,
          622,
          623,
          624,
          625,
          626,
          627,
          628,
          629,
          630,
          631,
          632,
          633,
          634,
          635,
          636,
          637,
          638,
          639,
          640,
          641,
          642,
          643,
          644,
          645,
          646,
          647,
          648,
          649,
          650,
          651,
          652,
          653,
          654,
          655,
          656,
          657,
          658,
          659,
          660,
          661,
          662,
          663,
          664,
          665,
          666,
          667,
          668,
          669,
          670,
          671,
          672,
          673,
          674,
          675,
          676,
          677,
          678,
          679,
          680,
          681,
          682,
          683,
          684,
          685,
          686,
          687,
          688,
          689,
          690,
          691,
          692,
          693,
          694,
          695,
          696,
          697,
          698,
          699,
          700,
          701,
          702,
          703,
          704,
          705,
          706,
          707,
          708,
          709,
          710,
          711,
          712,
          713,
          714,
          715,
          716,
          717,
          718,
          719,
          720,
          721,
          722,
          723,
          725,
          726,
          727,
          728,
          729,
          731,
          732,
          733,
          734,
          735,
          736,
          738,
          739,
          740,
          742,
          744,
          746,
          747,
          748,
          751,
          752,
          753,
          754,
          755,
          757,
          758,
          759,
          760,
          761,
          762,
          763,
          764,
          766,
          767,
          768,
          769,
          770,
          771,
          772,
          773,
          774,
          776,
          777,
          778,
          779,
          780,
          781,
          783,
          784,
          786,
          787,
          788,
          789,
          790,
          791,
          792,
          793,
          794,
          795,
          796,
          797,
          798,
          799,
          800,
          801,
          802,
          803,
          804,
          805,
          806,
          807,
          808,
          810,
          811,
          812,
          813,
          814,
          815,
          816,
          818,
          819,
          820,
          821,
          822,
          825,
          826,
          827,
          828,
          829,
          830,
          831,
          832,
          833,
          834,
          835,
          836,
          837,
          839,
          840,
          841,
          842,
          843,
          844,
          845,
          846,
          847,
          848,
          849,
          850,
          851,
          852,
          853,
          854,
          855,
          856,
          857,
          858,
          859,
          860,
          861,
          862,
          863,
          864,
          865,
          866,
          867,
          868,
          870,
          871,
          872,
          873,
          874,
          875,
          876,
          877,
          878,
          879,
          880,
          881,
          883,
          884,
          885,
          886,
          887,
          888,
          889,
          890,
          891,
          892,
          893,
          894,
          895,
          896,
          897,
          898,
          899,
          900,
          901,
          902,
          903,
          904,
          905,
          906,
          907,
          908,
          909,
          910,
          911,
          912,
          913,
          914,
          915,
          916,
          917,
          918,
          919,
          920,
          921,
          922,
          923,
          924,
          925,
          926,
          927,
          928,
          930,
          931,
          932,
          933,
          935,
          936,
          937,
          938,
          939,
          940,
          941,
          942,
          943,
          944,
          945,
          946,
          947,
          948,
          949,
          950,
          951,
          952,
          953,
          954,
          955,
          956,
          957,
          958,
          959,
          960,
          961,
          962,
          963,
          964,
          966,
          967,
          968,
          969,
          970,
          971,
          972,
          973,
          974,
          975,
          976,
          977,
          978,
          979,
          980,
          981,
          982,
          983,
          984,
          986,
          987,
          988,
          989,
          990,
          991,
          992,
          994,
          995,
          996,
          997,
          998,
          999,
          1000,
          1001,
          1002,
          1003,
          1004,
          1005,
          1006,
          1007,
          1008,
          1009,
          1010,
          1011,
          1012,
          1013,
          1014,
          1015,
          1016,
          1017,
          1018,
          1019,
          1020,
          1021,
          1022,
          1023,
          1024,
          1025,
          1026,
          1027,
          1029,
          1030,
          1031,
          1032,
          1033,
          1034,
          1035,
          1036,
          1038,
          1039,
          1040,
          1041,
          1042,
          1043,
          1044,
          1045,
          1046,
          1047,
          1048,
          1049,
          1051,
          1052,
          1053,
          1054,
          1056,
          1057,
          1058,
          1059,
          1060,
          1062,
          1063,
          1064,
          1065,
          1066,
          1067,
          1069,
          1070,
          1071,
          1072,
          1073,
          1074,
          1075,
          1076,
          1077,
          1078,
          1079,
          1080,
          1081,
          1082,
          1083,
          1084,
          1085,
          1086,
          1087,
          1088,
          1089
         ]
        }
       ],
       "layout": {
        "legend": {
         "tracegroupgap": 0
        },
        "margin": {
         "t": 60
        },
        "template": {
         "data": {
          "bar": [
           {
            "error_x": {
             "color": "#2a3f5f"
            },
            "error_y": {
             "color": "#2a3f5f"
            },
            "marker": {
             "line": {
              "color": "#E5ECF6",
              "width": 0.5
             },
             "pattern": {
              "fillmode": "overlay",
              "size": 10,
              "solidity": 0.2
             }
            },
            "type": "bar"
           }
          ],
          "barpolar": [
           {
            "marker": {
             "line": {
              "color": "#E5ECF6",
              "width": 0.5
             },
             "pattern": {
              "fillmode": "overlay",
              "size": 10,
              "solidity": 0.2
             }
            },
            "type": "barpolar"
           }
          ],
          "carpet": [
           {
            "aaxis": {
             "endlinecolor": "#2a3f5f",
             "gridcolor": "white",
             "linecolor": "white",
             "minorgridcolor": "white",
             "startlinecolor": "#2a3f5f"
            },
            "baxis": {
             "endlinecolor": "#2a3f5f",
             "gridcolor": "white",
             "linecolor": "white",
             "minorgridcolor": "white",
             "startlinecolor": "#2a3f5f"
            },
            "type": "carpet"
           }
          ],
          "choropleth": [
           {
            "colorbar": {
             "outlinewidth": 0,
             "ticks": ""
            },
            "type": "choropleth"
           }
          ],
          "contour": [
           {
            "colorbar": {
             "outlinewidth": 0,
             "ticks": ""
            },
            "colorscale": [
             [
              0,
              "#0d0887"
             ],
             [
              0.1111111111111111,
              "#46039f"
             ],
             [
              0.2222222222222222,
              "#7201a8"
             ],
             [
              0.3333333333333333,
              "#9c179e"
             ],
             [
              0.4444444444444444,
              "#bd3786"
             ],
             [
              0.5555555555555556,
              "#d8576b"
             ],
             [
              0.6666666666666666,
              "#ed7953"
             ],
             [
              0.7777777777777778,
              "#fb9f3a"
             ],
             [
              0.8888888888888888,
              "#fdca26"
             ],
             [
              1,
              "#f0f921"
             ]
            ],
            "type": "contour"
           }
          ],
          "contourcarpet": [
           {
            "colorbar": {
             "outlinewidth": 0,
             "ticks": ""
            },
            "type": "contourcarpet"
           }
          ],
          "heatmap": [
           {
            "colorbar": {
             "outlinewidth": 0,
             "ticks": ""
            },
            "colorscale": [
             [
              0,
              "#0d0887"
             ],
             [
              0.1111111111111111,
              "#46039f"
             ],
             [
              0.2222222222222222,
              "#7201a8"
             ],
             [
              0.3333333333333333,
              "#9c179e"
             ],
             [
              0.4444444444444444,
              "#bd3786"
             ],
             [
              0.5555555555555556,
              "#d8576b"
             ],
             [
              0.6666666666666666,
              "#ed7953"
             ],
             [
              0.7777777777777778,
              "#fb9f3a"
             ],
             [
              0.8888888888888888,
              "#fdca26"
             ],
             [
              1,
              "#f0f921"
             ]
            ],
            "type": "heatmap"
           }
          ],
          "heatmapgl": [
           {
            "colorbar": {
             "outlinewidth": 0,
             "ticks": ""
            },
            "colorscale": [
             [
              0,
              "#0d0887"
             ],
             [
              0.1111111111111111,
              "#46039f"
             ],
             [
              0.2222222222222222,
              "#7201a8"
             ],
             [
              0.3333333333333333,
              "#9c179e"
             ],
             [
              0.4444444444444444,
              "#bd3786"
             ],
             [
              0.5555555555555556,
              "#d8576b"
             ],
             [
              0.6666666666666666,
              "#ed7953"
             ],
             [
              0.7777777777777778,
              "#fb9f3a"
             ],
             [
              0.8888888888888888,
              "#fdca26"
             ],
             [
              1,
              "#f0f921"
             ]
            ],
            "type": "heatmapgl"
           }
          ],
          "histogram": [
           {
            "marker": {
             "pattern": {
              "fillmode": "overlay",
              "size": 10,
              "solidity": 0.2
             }
            },
            "type": "histogram"
           }
          ],
          "histogram2d": [
           {
            "colorbar": {
             "outlinewidth": 0,
             "ticks": ""
            },
            "colorscale": [
             [
              0,
              "#0d0887"
             ],
             [
              0.1111111111111111,
              "#46039f"
             ],
             [
              0.2222222222222222,
              "#7201a8"
             ],
             [
              0.3333333333333333,
              "#9c179e"
             ],
             [
              0.4444444444444444,
              "#bd3786"
             ],
             [
              0.5555555555555556,
              "#d8576b"
             ],
             [
              0.6666666666666666,
              "#ed7953"
             ],
             [
              0.7777777777777778,
              "#fb9f3a"
             ],
             [
              0.8888888888888888,
              "#fdca26"
             ],
             [
              1,
              "#f0f921"
             ]
            ],
            "type": "histogram2d"
           }
          ],
          "histogram2dcontour": [
           {
            "colorbar": {
             "outlinewidth": 0,
             "ticks": ""
            },
            "colorscale": [
             [
              0,
              "#0d0887"
             ],
             [
              0.1111111111111111,
              "#46039f"
             ],
             [
              0.2222222222222222,
              "#7201a8"
             ],
             [
              0.3333333333333333,
              "#9c179e"
             ],
             [
              0.4444444444444444,
              "#bd3786"
             ],
             [
              0.5555555555555556,
              "#d8576b"
             ],
             [
              0.6666666666666666,
              "#ed7953"
             ],
             [
              0.7777777777777778,
              "#fb9f3a"
             ],
             [
              0.8888888888888888,
              "#fdca26"
             ],
             [
              1,
              "#f0f921"
             ]
            ],
            "type": "histogram2dcontour"
           }
          ],
          "mesh3d": [
           {
            "colorbar": {
             "outlinewidth": 0,
             "ticks": ""
            },
            "type": "mesh3d"
           }
          ],
          "parcoords": [
           {
            "line": {
             "colorbar": {
              "outlinewidth": 0,
              "ticks": ""
             }
            },
            "type": "parcoords"
           }
          ],
          "pie": [
           {
            "automargin": true,
            "type": "pie"
           }
          ],
          "scatter": [
           {
            "fillpattern": {
             "fillmode": "overlay",
             "size": 10,
             "solidity": 0.2
            },
            "type": "scatter"
           }
          ],
          "scatter3d": [
           {
            "line": {
             "colorbar": {
              "outlinewidth": 0,
              "ticks": ""
             }
            },
            "marker": {
             "colorbar": {
              "outlinewidth": 0,
              "ticks": ""
             }
            },
            "type": "scatter3d"
           }
          ],
          "scattercarpet": [
           {
            "marker": {
             "colorbar": {
              "outlinewidth": 0,
              "ticks": ""
             }
            },
            "type": "scattercarpet"
           }
          ],
          "scattergeo": [
           {
            "marker": {
             "colorbar": {
              "outlinewidth": 0,
              "ticks": ""
             }
            },
            "type": "scattergeo"
           }
          ],
          "scattergl": [
           {
            "marker": {
             "colorbar": {
              "outlinewidth": 0,
              "ticks": ""
             }
            },
            "type": "scattergl"
           }
          ],
          "scattermapbox": [
           {
            "marker": {
             "colorbar": {
              "outlinewidth": 0,
              "ticks": ""
             }
            },
            "type": "scattermapbox"
           }
          ],
          "scatterpolar": [
           {
            "marker": {
             "colorbar": {
              "outlinewidth": 0,
              "ticks": ""
             }
            },
            "type": "scatterpolar"
           }
          ],
          "scatterpolargl": [
           {
            "marker": {
             "colorbar": {
              "outlinewidth": 0,
              "ticks": ""
             }
            },
            "type": "scatterpolargl"
           }
          ],
          "scatterternary": [
           {
            "marker": {
             "colorbar": {
              "outlinewidth": 0,
              "ticks": ""
             }
            },
            "type": "scatterternary"
           }
          ],
          "surface": [
           {
            "colorbar": {
             "outlinewidth": 0,
             "ticks": ""
            },
            "colorscale": [
             [
              0,
              "#0d0887"
             ],
             [
              0.1111111111111111,
              "#46039f"
             ],
             [
              0.2222222222222222,
              "#7201a8"
             ],
             [
              0.3333333333333333,
              "#9c179e"
             ],
             [
              0.4444444444444444,
              "#bd3786"
             ],
             [
              0.5555555555555556,
              "#d8576b"
             ],
             [
              0.6666666666666666,
              "#ed7953"
             ],
             [
              0.7777777777777778,
              "#fb9f3a"
             ],
             [
              0.8888888888888888,
              "#fdca26"
             ],
             [
              1,
              "#f0f921"
             ]
            ],
            "type": "surface"
           }
          ],
          "table": [
           {
            "cells": {
             "fill": {
              "color": "#EBF0F8"
             },
             "line": {
              "color": "white"
             }
            },
            "header": {
             "fill": {
              "color": "#C8D4E3"
             },
             "line": {
              "color": "white"
             }
            },
            "type": "table"
           }
          ]
         },
         "layout": {
          "annotationdefaults": {
           "arrowcolor": "#2a3f5f",
           "arrowhead": 0,
           "arrowwidth": 1
          },
          "autotypenumbers": "strict",
          "coloraxis": {
           "colorbar": {
            "outlinewidth": 0,
            "ticks": ""
           }
          },
          "colorscale": {
           "diverging": [
            [
             0,
             "#8e0152"
            ],
            [
             0.1,
             "#c51b7d"
            ],
            [
             0.2,
             "#de77ae"
            ],
            [
             0.3,
             "#f1b6da"
            ],
            [
             0.4,
             "#fde0ef"
            ],
            [
             0.5,
             "#f7f7f7"
            ],
            [
             0.6,
             "#e6f5d0"
            ],
            [
             0.7,
             "#b8e186"
            ],
            [
             0.8,
             "#7fbc41"
            ],
            [
             0.9,
             "#4d9221"
            ],
            [
             1,
             "#276419"
            ]
           ],
           "sequential": [
            [
             0,
             "#0d0887"
            ],
            [
             0.1111111111111111,
             "#46039f"
            ],
            [
             0.2222222222222222,
             "#7201a8"
            ],
            [
             0.3333333333333333,
             "#9c179e"
            ],
            [
             0.4444444444444444,
             "#bd3786"
            ],
            [
             0.5555555555555556,
             "#d8576b"
            ],
            [
             0.6666666666666666,
             "#ed7953"
            ],
            [
             0.7777777777777778,
             "#fb9f3a"
            ],
            [
             0.8888888888888888,
             "#fdca26"
            ],
            [
             1,
             "#f0f921"
            ]
           ],
           "sequentialminus": [
            [
             0,
             "#0d0887"
            ],
            [
             0.1111111111111111,
             "#46039f"
            ],
            [
             0.2222222222222222,
             "#7201a8"
            ],
            [
             0.3333333333333333,
             "#9c179e"
            ],
            [
             0.4444444444444444,
             "#bd3786"
            ],
            [
             0.5555555555555556,
             "#d8576b"
            ],
            [
             0.6666666666666666,
             "#ed7953"
            ],
            [
             0.7777777777777778,
             "#fb9f3a"
            ],
            [
             0.8888888888888888,
             "#fdca26"
            ],
            [
             1,
             "#f0f921"
            ]
           ]
          },
          "colorway": [
           "#636efa",
           "#EF553B",
           "#00cc96",
           "#ab63fa",
           "#FFA15A",
           "#19d3f3",
           "#FF6692",
           "#B6E880",
           "#FF97FF",
           "#FECB52"
          ],
          "font": {
           "color": "#2a3f5f"
          },
          "geo": {
           "bgcolor": "white",
           "lakecolor": "white",
           "landcolor": "#E5ECF6",
           "showlakes": true,
           "showland": true,
           "subunitcolor": "white"
          },
          "hoverlabel": {
           "align": "left"
          },
          "hovermode": "closest",
          "mapbox": {
           "style": "light"
          },
          "paper_bgcolor": "white",
          "plot_bgcolor": "#E5ECF6",
          "polar": {
           "angularaxis": {
            "gridcolor": "white",
            "linecolor": "white",
            "ticks": ""
           },
           "bgcolor": "#E5ECF6",
           "radialaxis": {
            "gridcolor": "white",
            "linecolor": "white",
            "ticks": ""
           }
          },
          "scene": {
           "xaxis": {
            "backgroundcolor": "#E5ECF6",
            "gridcolor": "white",
            "gridwidth": 2,
            "linecolor": "white",
            "showbackground": true,
            "ticks": "",
            "zerolinecolor": "white"
           },
           "yaxis": {
            "backgroundcolor": "#E5ECF6",
            "gridcolor": "white",
            "gridwidth": 2,
            "linecolor": "white",
            "showbackground": true,
            "ticks": "",
            "zerolinecolor": "white"
           },
           "zaxis": {
            "backgroundcolor": "#E5ECF6",
            "gridcolor": "white",
            "gridwidth": 2,
            "linecolor": "white",
            "showbackground": true,
            "ticks": "",
            "zerolinecolor": "white"
           }
          },
          "shapedefaults": {
           "line": {
            "color": "#2a3f5f"
           }
          },
          "ternary": {
           "aaxis": {
            "gridcolor": "white",
            "linecolor": "white",
            "ticks": ""
           },
           "baxis": {
            "gridcolor": "white",
            "linecolor": "white",
            "ticks": ""
           },
           "bgcolor": "#E5ECF6",
           "caxis": {
            "gridcolor": "white",
            "linecolor": "white",
            "ticks": ""
           }
          },
          "title": {
           "x": 0.05
          },
          "xaxis": {
           "automargin": true,
           "gridcolor": "white",
           "linecolor": "white",
           "ticks": "",
           "title": {
            "standoff": 15
           },
           "zerolinecolor": "white",
           "zerolinewidth": 2
          },
          "yaxis": {
           "automargin": true,
           "gridcolor": "white",
           "linecolor": "white",
           "ticks": "",
           "title": {
            "standoff": 15
           },
           "zerolinecolor": "white",
           "zerolinewidth": 2
          }
         }
        }
       }
      }
     },
     "metadata": {},
     "output_type": "display_data"
    }
   ],
   "source": [
    "import plotly.express as px\n",
    "\n",
    "fig = px.pie(villas, values=villas.index, names='عدد الغرف')\n",
    "fig.show()"
   ]
  },
  {
   "cell_type": "markdown",
   "id": "d2641f0d-80f2-493b-99b7-15476379a1e2",
   "metadata": {},
   "source": [
    "#### II. Numerical Variables:\n",
    "\n",
    "we need to understand the central tendency and spread of the variable (Descriptive Analysis) using:\n",
    "   - Box plot\n",
    "   - Histogram"
   ]
  },
  {
   "cell_type": "code",
   "execution_count": 50,
   "id": "24dc7857",
   "metadata": {},
   "outputs": [
    {
     "data": {
      "application/vnd.plotly.v1+json": {
       "config": {
        "plotlyServerURL": "https://plot.ly"
       },
       "data": [
        {
         "alignmentgroup": "True",
         "hovertemplate": "عدد الحمامات=1<br>عدد الغرف=%{x}<br>العدد=%{y}<extra></extra>",
         "legendgroup": "1",
         "marker": {
          "color": "#636efa",
          "pattern": {
           "shape": ""
          }
         },
         "name": "1",
         "offsetgroup": "1",
         "orientation": "v",
         "showlegend": true,
         "textposition": "auto",
         "type": "bar",
         "x": [
          1
         ],
         "xaxis": "x",
         "y": [
          66
         ],
         "yaxis": "y"
        },
        {
         "alignmentgroup": "True",
         "hovertemplate": "عدد الحمامات=3<br>عدد الغرف=%{x}<br>العدد=%{y}<extra></extra>",
         "legendgroup": "3",
         "marker": {
          "color": "#EF553B",
          "pattern": {
           "shape": ""
          }
         },
         "name": "3",
         "offsetgroup": "3",
         "orientation": "v",
         "showlegend": true,
         "textposition": "auto",
         "type": "bar",
         "x": [
          "1",
          "2",
          "3",
          "4",
          "5",
          "6",
          "7+"
         ],
         "xaxis": "x",
         "y": [
          4,
          2,
          13,
          14,
          10,
          6,
          2
         ],
         "yaxis": "y"
        },
        {
         "alignmentgroup": "True",
         "hovertemplate": "عدد الحمامات=5+<br>عدد الغرف=%{x}<br>العدد=%{y}<extra></extra>",
         "legendgroup": "5+",
         "marker": {
          "color": "#00cc96",
          "pattern": {
           "shape": ""
          }
         },
         "name": "5+",
         "offsetgroup": "5+",
         "orientation": "v",
         "showlegend": true,
         "textposition": "auto",
         "type": "bar",
         "x": [
          "1",
          "2",
          "3",
          "4",
          "5",
          "6",
          "7+"
         ],
         "xaxis": "x",
         "y": [
          6,
          1,
          14,
          88,
          346,
          96,
          245
         ],
         "yaxis": "y"
        },
        {
         "alignmentgroup": "True",
         "hovertemplate": "عدد الحمامات=4<br>عدد الغرف=%{x}<br>العدد=%{y}<extra></extra>",
         "legendgroup": "4",
         "marker": {
          "color": "#ab63fa",
          "pattern": {
           "shape": ""
          }
         },
         "name": "4",
         "offsetgroup": "4",
         "orientation": "v",
         "showlegend": true,
         "textposition": "auto",
         "type": "bar",
         "x": [
          "2",
          "3",
          "4",
          "5",
          "6",
          "7+"
         ],
         "xaxis": "x",
         "y": [
          2,
          5,
          57,
          35,
          16,
          18
         ],
         "yaxis": "y"
        },
        {
         "alignmentgroup": "True",
         "hovertemplate": "عدد الحمامات=2<br>عدد الغرف=%{x}<br>العدد=%{y}<extra></extra>",
         "legendgroup": "2",
         "marker": {
          "color": "#FFA15A",
          "pattern": {
           "shape": ""
          }
         },
         "name": "2",
         "offsetgroup": "2",
         "orientation": "v",
         "showlegend": true,
         "textposition": "auto",
         "type": "bar",
         "x": [
          "3",
          "4",
          "5",
          "7+"
         ],
         "xaxis": "x",
         "y": [
          1,
          3,
          3,
          1
         ],
         "yaxis": "y"
        },
        {
         "alignmentgroup": "True",
         "hovertemplate": "عدد الحمامات=1<br>عدد الغرف=%{x}<br>العدد=%{y}<extra></extra>",
         "legendgroup": "1",
         "marker": {
          "color": "#19d3f3",
          "pattern": {
           "shape": ""
          }
         },
         "name": "1",
         "offsetgroup": "1",
         "orientation": "v",
         "showlegend": false,
         "textposition": "auto",
         "type": "bar",
         "x": [
          "4",
          "5",
          "7+"
         ],
         "xaxis": "x",
         "y": [
          1,
          3,
          1
         ],
         "yaxis": "y"
        }
       ],
       "layout": {
        "barmode": "stack",
        "legend": {
         "title": {
          "text": "عدد الحمامات"
         },
         "tracegroupgap": 0
        },
        "template": {
         "data": {
          "bar": [
           {
            "error_x": {
             "color": "#2a3f5f"
            },
            "error_y": {
             "color": "#2a3f5f"
            },
            "marker": {
             "line": {
              "color": "#E5ECF6",
              "width": 0.5
             },
             "pattern": {
              "fillmode": "overlay",
              "size": 10,
              "solidity": 0.2
             }
            },
            "type": "bar"
           }
          ],
          "barpolar": [
           {
            "marker": {
             "line": {
              "color": "#E5ECF6",
              "width": 0.5
             },
             "pattern": {
              "fillmode": "overlay",
              "size": 10,
              "solidity": 0.2
             }
            },
            "type": "barpolar"
           }
          ],
          "carpet": [
           {
            "aaxis": {
             "endlinecolor": "#2a3f5f",
             "gridcolor": "white",
             "linecolor": "white",
             "minorgridcolor": "white",
             "startlinecolor": "#2a3f5f"
            },
            "baxis": {
             "endlinecolor": "#2a3f5f",
             "gridcolor": "white",
             "linecolor": "white",
             "minorgridcolor": "white",
             "startlinecolor": "#2a3f5f"
            },
            "type": "carpet"
           }
          ],
          "choropleth": [
           {
            "colorbar": {
             "outlinewidth": 0,
             "ticks": ""
            },
            "type": "choropleth"
           }
          ],
          "contour": [
           {
            "colorbar": {
             "outlinewidth": 0,
             "ticks": ""
            },
            "colorscale": [
             [
              0,
              "#0d0887"
             ],
             [
              0.1111111111111111,
              "#46039f"
             ],
             [
              0.2222222222222222,
              "#7201a8"
             ],
             [
              0.3333333333333333,
              "#9c179e"
             ],
             [
              0.4444444444444444,
              "#bd3786"
             ],
             [
              0.5555555555555556,
              "#d8576b"
             ],
             [
              0.6666666666666666,
              "#ed7953"
             ],
             [
              0.7777777777777778,
              "#fb9f3a"
             ],
             [
              0.8888888888888888,
              "#fdca26"
             ],
             [
              1,
              "#f0f921"
             ]
            ],
            "type": "contour"
           }
          ],
          "contourcarpet": [
           {
            "colorbar": {
             "outlinewidth": 0,
             "ticks": ""
            },
            "type": "contourcarpet"
           }
          ],
          "heatmap": [
           {
            "colorbar": {
             "outlinewidth": 0,
             "ticks": ""
            },
            "colorscale": [
             [
              0,
              "#0d0887"
             ],
             [
              0.1111111111111111,
              "#46039f"
             ],
             [
              0.2222222222222222,
              "#7201a8"
             ],
             [
              0.3333333333333333,
              "#9c179e"
             ],
             [
              0.4444444444444444,
              "#bd3786"
             ],
             [
              0.5555555555555556,
              "#d8576b"
             ],
             [
              0.6666666666666666,
              "#ed7953"
             ],
             [
              0.7777777777777778,
              "#fb9f3a"
             ],
             [
              0.8888888888888888,
              "#fdca26"
             ],
             [
              1,
              "#f0f921"
             ]
            ],
            "type": "heatmap"
           }
          ],
          "heatmapgl": [
           {
            "colorbar": {
             "outlinewidth": 0,
             "ticks": ""
            },
            "colorscale": [
             [
              0,
              "#0d0887"
             ],
             [
              0.1111111111111111,
              "#46039f"
             ],
             [
              0.2222222222222222,
              "#7201a8"
             ],
             [
              0.3333333333333333,
              "#9c179e"
             ],
             [
              0.4444444444444444,
              "#bd3786"
             ],
             [
              0.5555555555555556,
              "#d8576b"
             ],
             [
              0.6666666666666666,
              "#ed7953"
             ],
             [
              0.7777777777777778,
              "#fb9f3a"
             ],
             [
              0.8888888888888888,
              "#fdca26"
             ],
             [
              1,
              "#f0f921"
             ]
            ],
            "type": "heatmapgl"
           }
          ],
          "histogram": [
           {
            "marker": {
             "pattern": {
              "fillmode": "overlay",
              "size": 10,
              "solidity": 0.2
             }
            },
            "type": "histogram"
           }
          ],
          "histogram2d": [
           {
            "colorbar": {
             "outlinewidth": 0,
             "ticks": ""
            },
            "colorscale": [
             [
              0,
              "#0d0887"
             ],
             [
              0.1111111111111111,
              "#46039f"
             ],
             [
              0.2222222222222222,
              "#7201a8"
             ],
             [
              0.3333333333333333,
              "#9c179e"
             ],
             [
              0.4444444444444444,
              "#bd3786"
             ],
             [
              0.5555555555555556,
              "#d8576b"
             ],
             [
              0.6666666666666666,
              "#ed7953"
             ],
             [
              0.7777777777777778,
              "#fb9f3a"
             ],
             [
              0.8888888888888888,
              "#fdca26"
             ],
             [
              1,
              "#f0f921"
             ]
            ],
            "type": "histogram2d"
           }
          ],
          "histogram2dcontour": [
           {
            "colorbar": {
             "outlinewidth": 0,
             "ticks": ""
            },
            "colorscale": [
             [
              0,
              "#0d0887"
             ],
             [
              0.1111111111111111,
              "#46039f"
             ],
             [
              0.2222222222222222,
              "#7201a8"
             ],
             [
              0.3333333333333333,
              "#9c179e"
             ],
             [
              0.4444444444444444,
              "#bd3786"
             ],
             [
              0.5555555555555556,
              "#d8576b"
             ],
             [
              0.6666666666666666,
              "#ed7953"
             ],
             [
              0.7777777777777778,
              "#fb9f3a"
             ],
             [
              0.8888888888888888,
              "#fdca26"
             ],
             [
              1,
              "#f0f921"
             ]
            ],
            "type": "histogram2dcontour"
           }
          ],
          "mesh3d": [
           {
            "colorbar": {
             "outlinewidth": 0,
             "ticks": ""
            },
            "type": "mesh3d"
           }
          ],
          "parcoords": [
           {
            "line": {
             "colorbar": {
              "outlinewidth": 0,
              "ticks": ""
             }
            },
            "type": "parcoords"
           }
          ],
          "pie": [
           {
            "automargin": true,
            "type": "pie"
           }
          ],
          "scatter": [
           {
            "fillpattern": {
             "fillmode": "overlay",
             "size": 10,
             "solidity": 0.2
            },
            "type": "scatter"
           }
          ],
          "scatter3d": [
           {
            "line": {
             "colorbar": {
              "outlinewidth": 0,
              "ticks": ""
             }
            },
            "marker": {
             "colorbar": {
              "outlinewidth": 0,
              "ticks": ""
             }
            },
            "type": "scatter3d"
           }
          ],
          "scattercarpet": [
           {
            "marker": {
             "colorbar": {
              "outlinewidth": 0,
              "ticks": ""
             }
            },
            "type": "scattercarpet"
           }
          ],
          "scattergeo": [
           {
            "marker": {
             "colorbar": {
              "outlinewidth": 0,
              "ticks": ""
             }
            },
            "type": "scattergeo"
           }
          ],
          "scattergl": [
           {
            "marker": {
             "colorbar": {
              "outlinewidth": 0,
              "ticks": ""
             }
            },
            "type": "scattergl"
           }
          ],
          "scattermapbox": [
           {
            "marker": {
             "colorbar": {
              "outlinewidth": 0,
              "ticks": ""
             }
            },
            "type": "scattermapbox"
           }
          ],
          "scatterpolar": [
           {
            "marker": {
             "colorbar": {
              "outlinewidth": 0,
              "ticks": ""
             }
            },
            "type": "scatterpolar"
           }
          ],
          "scatterpolargl": [
           {
            "marker": {
             "colorbar": {
              "outlinewidth": 0,
              "ticks": ""
             }
            },
            "type": "scatterpolargl"
           }
          ],
          "scatterternary": [
           {
            "marker": {
             "colorbar": {
              "outlinewidth": 0,
              "ticks": ""
             }
            },
            "type": "scatterternary"
           }
          ],
          "surface": [
           {
            "colorbar": {
             "outlinewidth": 0,
             "ticks": ""
            },
            "colorscale": [
             [
              0,
              "#0d0887"
             ],
             [
              0.1111111111111111,
              "#46039f"
             ],
             [
              0.2222222222222222,
              "#7201a8"
             ],
             [
              0.3333333333333333,
              "#9c179e"
             ],
             [
              0.4444444444444444,
              "#bd3786"
             ],
             [
              0.5555555555555556,
              "#d8576b"
             ],
             [
              0.6666666666666666,
              "#ed7953"
             ],
             [
              0.7777777777777778,
              "#fb9f3a"
             ],
             [
              0.8888888888888888,
              "#fdca26"
             ],
             [
              1,
              "#f0f921"
             ]
            ],
            "type": "surface"
           }
          ],
          "table": [
           {
            "cells": {
             "fill": {
              "color": "#EBF0F8"
             },
             "line": {
              "color": "white"
             }
            },
            "header": {
             "fill": {
              "color": "#C8D4E3"
             },
             "line": {
              "color": "white"
             }
            },
            "type": "table"
           }
          ]
         },
         "layout": {
          "annotationdefaults": {
           "arrowcolor": "#2a3f5f",
           "arrowhead": 0,
           "arrowwidth": 1
          },
          "autotypenumbers": "strict",
          "coloraxis": {
           "colorbar": {
            "outlinewidth": 0,
            "ticks": ""
           }
          },
          "colorscale": {
           "diverging": [
            [
             0,
             "#8e0152"
            ],
            [
             0.1,
             "#c51b7d"
            ],
            [
             0.2,
             "#de77ae"
            ],
            [
             0.3,
             "#f1b6da"
            ],
            [
             0.4,
             "#fde0ef"
            ],
            [
             0.5,
             "#f7f7f7"
            ],
            [
             0.6,
             "#e6f5d0"
            ],
            [
             0.7,
             "#b8e186"
            ],
            [
             0.8,
             "#7fbc41"
            ],
            [
             0.9,
             "#4d9221"
            ],
            [
             1,
             "#276419"
            ]
           ],
           "sequential": [
            [
             0,
             "#0d0887"
            ],
            [
             0.1111111111111111,
             "#46039f"
            ],
            [
             0.2222222222222222,
             "#7201a8"
            ],
            [
             0.3333333333333333,
             "#9c179e"
            ],
            [
             0.4444444444444444,
             "#bd3786"
            ],
            [
             0.5555555555555556,
             "#d8576b"
            ],
            [
             0.6666666666666666,
             "#ed7953"
            ],
            [
             0.7777777777777778,
             "#fb9f3a"
            ],
            [
             0.8888888888888888,
             "#fdca26"
            ],
            [
             1,
             "#f0f921"
            ]
           ],
           "sequentialminus": [
            [
             0,
             "#0d0887"
            ],
            [
             0.1111111111111111,
             "#46039f"
            ],
            [
             0.2222222222222222,
             "#7201a8"
            ],
            [
             0.3333333333333333,
             "#9c179e"
            ],
            [
             0.4444444444444444,
             "#bd3786"
            ],
            [
             0.5555555555555556,
             "#d8576b"
            ],
            [
             0.6666666666666666,
             "#ed7953"
            ],
            [
             0.7777777777777778,
             "#fb9f3a"
            ],
            [
             0.8888888888888888,
             "#fdca26"
            ],
            [
             1,
             "#f0f921"
            ]
           ]
          },
          "colorway": [
           "#636efa",
           "#EF553B",
           "#00cc96",
           "#ab63fa",
           "#FFA15A",
           "#19d3f3",
           "#FF6692",
           "#B6E880",
           "#FF97FF",
           "#FECB52"
          ],
          "font": {
           "color": "#2a3f5f"
          },
          "geo": {
           "bgcolor": "white",
           "lakecolor": "white",
           "landcolor": "#E5ECF6",
           "showlakes": true,
           "showland": true,
           "subunitcolor": "white"
          },
          "hoverlabel": {
           "align": "left"
          },
          "hovermode": "closest",
          "mapbox": {
           "style": "light"
          },
          "paper_bgcolor": "white",
          "plot_bgcolor": "#E5ECF6",
          "polar": {
           "angularaxis": {
            "gridcolor": "white",
            "linecolor": "white",
            "ticks": ""
           },
           "bgcolor": "#E5ECF6",
           "radialaxis": {
            "gridcolor": "white",
            "linecolor": "white",
            "ticks": ""
           }
          },
          "scene": {
           "xaxis": {
            "backgroundcolor": "#E5ECF6",
            "gridcolor": "white",
            "gridwidth": 2,
            "linecolor": "white",
            "showbackground": true,
            "ticks": "",
            "zerolinecolor": "white"
           },
           "yaxis": {
            "backgroundcolor": "#E5ECF6",
            "gridcolor": "white",
            "gridwidth": 2,
            "linecolor": "white",
            "showbackground": true,
            "ticks": "",
            "zerolinecolor": "white"
           },
           "zaxis": {
            "backgroundcolor": "#E5ECF6",
            "gridcolor": "white",
            "gridwidth": 2,
            "linecolor": "white",
            "showbackground": true,
            "ticks": "",
            "zerolinecolor": "white"
           }
          },
          "shapedefaults": {
           "line": {
            "color": "#2a3f5f"
           }
          },
          "ternary": {
           "aaxis": {
            "gridcolor": "white",
            "linecolor": "white",
            "ticks": ""
           },
           "baxis": {
            "gridcolor": "white",
            "linecolor": "white",
            "ticks": ""
           },
           "bgcolor": "#E5ECF6",
           "caxis": {
            "gridcolor": "white",
            "linecolor": "white",
            "ticks": ""
           }
          },
          "title": {
           "x": 0.05
          },
          "xaxis": {
           "automargin": true,
           "gridcolor": "white",
           "linecolor": "white",
           "ticks": "",
           "title": {
            "standoff": 15
           },
           "zerolinecolor": "white",
           "zerolinewidth": 2
          },
          "yaxis": {
           "automargin": true,
           "gridcolor": "white",
           "linecolor": "white",
           "ticks": "",
           "title": {
            "standoff": 15
           },
           "zerolinecolor": "white",
           "zerolinewidth": 2
          }
         }
        },
        "title": {
         "text": "عدد الغرف و الحمامات في منازل الرياض"
        },
        "xaxis": {
         "anchor": "y",
         "domain": [
          0,
          1
         ],
         "title": {
          "text": "عدد الغرف"
         }
        },
        "yaxis": {
         "anchor": "x",
         "domain": [
          0,
          1
         ],
         "title": {
          "text": "العدد"
         }
        }
       }
      }
     },
     "metadata": {},
     "output_type": "display_data"
    }
   ],
   "source": [
    "\n",
    "grouped_df = villas.groupby(['عدد الغرف', 'عدد الحمامات']).size().reset_index(name='count')\n",
    "\n",
    "fig = px.bar(grouped_df, x='عدد الغرف', y='count', color='عدد الحمامات',\n",
    "             title='عدد الغرف و الحمامات في منازل الرياض',\n",
    "             labels={'عدد الغرف': 'عدد الغرف', 'count': 'العدد', 'عدد الحمامات': 'عدد الحمامات'})\n",
    "\n",
    "fig.update_layout(barmode='stack')\n",
    "\n",
    "fig.show()\n"
   ]
  },
  {
   "cell_type": "code",
   "execution_count": 38,
   "id": "b11e67e5",
   "metadata": {},
   "outputs": [
    {
     "data": {
      "application/vnd.plotly.v1+json": {
       "config": {
        "plotlyServerURL": "https://plot.ly"
       },
       "data": [
        {
         "domain": {
          "x": [
           0,
           1
          ],
          "y": [
           0,
           1
          ]
         },
         "hovertemplate": "عدد الغرف=%{label}<extra></extra>",
         "labels": [
          "6",
          "6",
          "3",
          "4",
          "4",
          "7+",
          "3",
          "5",
          "6",
          "4",
          "6",
          "6",
          "7+",
          "7+",
          "5",
          "5",
          "7+",
          "5",
          "5",
          "5",
          "4",
          "6",
          "6",
          "5",
          "7+",
          "5",
          "4",
          "5",
          "4",
          "7+",
          "5",
          "7+",
          "4",
          "6",
          "5",
          "5",
          "5",
          "4",
          "5",
          "5",
          "5",
          "7+",
          "4",
          "4",
          "4",
          "4",
          "4",
          "5",
          "6",
          "4",
          "5",
          "5",
          "5",
          "5",
          "7+",
          "6",
          "5",
          "7+",
          "4",
          "7+",
          "7+",
          "7+",
          "6",
          "7+",
          "7+",
          "5",
          "5",
          "4",
          "7+",
          "5",
          "6",
          "4",
          "5",
          "5",
          "7+",
          "7+",
          "5",
          "5",
          "4",
          "7+",
          "4",
          "7+",
          "4",
          "5",
          "7+",
          "7+",
          "6",
          "7+",
          "5",
          "5",
          "5",
          "4",
          "5",
          "7+",
          "5",
          "7+",
          "5",
          "5",
          "7+",
          "4",
          "7+",
          "3",
          "5",
          "4",
          "3",
          "6",
          "4",
          "6",
          "7+",
          "4",
          "4",
          "7+",
          "5",
          "6",
          "5",
          "7+",
          "5",
          "6",
          "5",
          "5",
          "4",
          "5",
          "7+",
          "4",
          "5",
          "7+",
          "7+",
          "7+",
          "3",
          "5",
          "5",
          "5",
          "5",
          "4",
          "7+",
          "4",
          "4",
          "5",
          "4",
          "7+",
          "7+",
          "5",
          "5",
          "6",
          "5",
          "5",
          "2",
          "4",
          "4",
          "6",
          "7+",
          "4",
          "6",
          "5",
          "5",
          "6",
          "5",
          "5",
          "7+",
          "5",
          "4",
          "5",
          "4",
          "3",
          "7+",
          "6",
          "5",
          "4",
          "5",
          "5",
          "5",
          "5",
          "7+",
          "5",
          "4",
          "7+",
          "6",
          "4",
          "3",
          "4",
          "3",
          "4",
          "5",
          "7+",
          "4",
          "6",
          "5",
          "5",
          "6",
          "6",
          "4",
          "5",
          "5",
          "5",
          "5",
          "5",
          "7+",
          "6",
          "5",
          "5",
          "3",
          "7+",
          "5",
          "6",
          "4",
          "7+",
          "5",
          "5",
          "4",
          "7+",
          "5",
          "7+",
          "4",
          "5",
          "5",
          "6",
          "5",
          "5",
          "5",
          "6",
          "7+",
          "7+",
          "5",
          "5",
          "5",
          "5",
          "4",
          "6",
          "6",
          "3",
          "5",
          "5",
          "5",
          "5",
          "7+",
          "6",
          "6",
          "7+",
          "4",
          "5",
          "7+",
          "6",
          "7+",
          "6",
          "3",
          "5",
          "5",
          "5",
          "7+",
          "4",
          "3",
          "4",
          "4",
          "6",
          "5",
          "5",
          "7+",
          "5",
          "7+",
          "5",
          "6",
          "7+",
          "7+",
          "5",
          "7+",
          "4",
          "6",
          "7+",
          "5",
          "6",
          "5",
          "7+",
          "5",
          "6",
          "7+",
          "4",
          "5",
          "5",
          "4",
          "3",
          "7+",
          "5",
          "4",
          "1",
          "7+",
          "7+",
          "7+",
          "4",
          "6",
          "6",
          "7+",
          "5",
          "5",
          "4",
          "5",
          "1",
          "6",
          "5",
          "7+",
          "6",
          "7+",
          "5",
          "7+",
          "5",
          "4",
          "4",
          "7+",
          "4",
          "5",
          "6",
          "4",
          "7+",
          "5",
          "5",
          "5",
          "5",
          "7+",
          "7+",
          "7+",
          "5",
          "4",
          "1",
          "5",
          "4",
          "7+",
          "7+",
          "1",
          "5",
          "7+",
          "7+",
          "7+",
          "4",
          "3",
          "5",
          "5",
          "4",
          "4",
          "3",
          "6",
          "5",
          "4",
          "5",
          "4",
          "5",
          "5",
          "5",
          "6",
          "4",
          "6",
          "7+",
          "5",
          "5",
          "4",
          "5",
          "7+",
          "5",
          "6",
          "6",
          "6",
          "4",
          "3",
          "5",
          "5",
          "7+",
          "4",
          "7+",
          "6",
          "7+",
          "4",
          "7+",
          "7+",
          "4",
          "7+",
          "7+",
          "7+",
          "7+",
          "4",
          "4",
          "7+",
          "7+",
          "5",
          "7+",
          "3",
          "7+",
          "7+",
          "6",
          "5",
          "6",
          "7+",
          "4",
          "5",
          "5",
          "4",
          "5",
          "4",
          "5",
          "4",
          "5",
          "7+",
          "7+",
          "7+",
          "7+",
          "5",
          "6",
          "6",
          "6",
          "7+",
          "5",
          "7+",
          "5",
          "5",
          "5",
          "5",
          "5",
          "7+",
          "5",
          "5",
          "5",
          "5",
          "7+",
          "5",
          "5",
          "5",
          "5",
          "5",
          "7+",
          "5",
          "5",
          "6",
          "7+",
          "7+",
          "7+",
          "5",
          "6",
          "6",
          "7+",
          "4",
          "7+",
          "7+",
          "5",
          "7+",
          "4",
          "7+",
          "4",
          "5",
          "5",
          "7+",
          "7+",
          "4",
          "5",
          "4",
          "7+",
          "7+",
          "7+",
          "7+",
          "5",
          "5",
          "5",
          "5",
          "4",
          "6",
          "4",
          "5",
          "5",
          "5",
          "6",
          "7+",
          "2",
          "7+",
          "5",
          "5",
          "7+",
          "7+",
          "5",
          "5",
          "7+",
          "7+",
          "7+",
          "7+",
          "7+",
          "7+",
          "5",
          "6",
          "5",
          "7+",
          "7+",
          "7+",
          "7+",
          "7+",
          "4",
          "5",
          "5",
          "5",
          "6",
          "7+",
          "7+",
          "6",
          "6",
          "5",
          "7+",
          "6",
          "5",
          "7+",
          "7+",
          "4",
          "5",
          "7+",
          "5",
          "3",
          "7+",
          "2",
          "5",
          "4",
          "4",
          "5",
          "7+",
          "3",
          "6",
          "7+",
          "4",
          "7+",
          "3",
          "5",
          "5",
          "5",
          "5",
          "7+",
          "5",
          "6",
          "7+",
          "5",
          "5",
          "6",
          "5",
          "5",
          "5",
          "7+",
          "5",
          "5",
          "3",
          "6",
          "7+",
          "6",
          "5",
          "5",
          "6",
          "7+",
          "6",
          "4",
          "5",
          "5",
          "4",
          "6",
          "7+",
          "6",
          "5",
          "7+",
          "5",
          "6",
          "5",
          "5",
          "5",
          "5",
          "6",
          "5",
          "5",
          "5",
          "6",
          "5",
          "7+",
          "5",
          "5",
          "5",
          "6",
          "4",
          "5",
          "5",
          "4",
          "7+",
          "5",
          "6",
          "5",
          "6",
          "5",
          "5",
          "5",
          "3",
          "4",
          "7+",
          "5",
          "5",
          "7+",
          "6",
          "7+",
          "5",
          "5",
          "6",
          "7+",
          "7+",
          "7+",
          "4",
          "7+",
          "5",
          "4",
          "7+",
          "5",
          "4",
          "4",
          "5",
          "7+",
          "4",
          "5",
          "4",
          "5",
          "6",
          "5",
          "5",
          "5",
          "5",
          "6",
          "7+",
          "6",
          "6",
          "7+",
          "7+",
          "5",
          "7+",
          "7+",
          "7+",
          "7+",
          "4",
          "4",
          "5",
          "5",
          "4",
          "5",
          "7+",
          "7+",
          "3",
          "7+",
          "7+",
          "7+",
          "5",
          "4",
          "5",
          "5",
          "7+",
          "5",
          "7+",
          "5",
          "3",
          "3",
          "5",
          "6",
          "7+",
          "5",
          "6",
          "5",
          "7+",
          "5",
          "7+",
          "5",
          "5",
          "5",
          "5",
          "5",
          "5",
          "5",
          "5",
          "5",
          "5",
          "5",
          "3",
          "5",
          "6",
          "5",
          "5",
          "5",
          "5",
          "5",
          "5",
          "5",
          "5",
          "5",
          "5",
          "5",
          "5",
          "7+",
          "6",
          "7+",
          "4",
          "7+",
          "5",
          "7+",
          "7+",
          "5",
          "4",
          "7+",
          "7+",
          "7+",
          "5",
          "5",
          "4",
          "7+",
          "4",
          "5",
          "7+",
          "7+",
          "7+",
          "6",
          "6",
          "7+",
          "5",
          1,
          1,
          "5",
          "5",
          "7+",
          "7+",
          "5",
          1,
          1,
          "6",
          1,
          1,
          "5",
          1,
          "5",
          1,
          "5",
          "5",
          "7+",
          "7+",
          "5",
          1,
          "7+",
          1,
          "5",
          1,
          "5",
          "3",
          "7+",
          "5",
          "5",
          "7+",
          "7+",
          "7+",
          "7+",
          "5",
          "5",
          1,
          "1",
          "4",
          "7+",
          "5",
          1,
          "6",
          "7+",
          "6",
          1,
          "7+",
          "5",
          "7+",
          1,
          "1",
          "5",
          "7+",
          "3",
          "7+",
          "7+",
          "6",
          "4",
          "7+",
          "5",
          "5",
          1,
          "6",
          "5",
          "7+",
          1,
          1,
          1,
          "7+",
          "4",
          "6",
          "7+",
          "5",
          "4",
          1,
          "4",
          1,
          "7+",
          "4",
          "5",
          "5",
          1,
          "4",
          "5",
          "5",
          "3",
          "4",
          "5",
          "4",
          1,
          "5",
          "5",
          1,
          1,
          "4",
          "5",
          1,
          "5",
          1,
          "5",
          "5",
          1,
          1,
          1,
          "5",
          "5",
          "5",
          "5",
          "7+",
          "7+",
          "4",
          "5",
          "1",
          1,
          "1",
          "5",
          "5",
          "7+",
          "6",
          "7+",
          1,
          "4",
          1,
          "5",
          "5",
          "5",
          "6",
          1,
          "4",
          1,
          "4",
          "4",
          1,
          "7+",
          "4",
          "4",
          "5",
          "5",
          1,
          "7+",
          1,
          "4",
          1,
          "7+",
          "5",
          "6",
          "4",
          "7+",
          "5",
          "7+",
          "5",
          "6",
          "4",
          "2",
          "4",
          "5",
          "5",
          "5",
          "4",
          "5",
          1,
          "5",
          "5",
          "4",
          "4",
          "7+",
          "4",
          "5",
          "5",
          "5",
          1,
          1,
          "5",
          "6",
          "7+",
          "7+",
          1,
          "5",
          "4",
          "5",
          "5",
          "5",
          "5",
          "4",
          "5",
          1,
          "4",
          "6",
          "7+",
          "5",
          "7+",
          "4",
          "6",
          "4",
          "5",
          1,
          "5",
          1,
          "5",
          "5",
          "5",
          "7+",
          "5",
          "6",
          "6",
          "3",
          1,
          "5",
          1,
          "7+",
          "4",
          "5",
          "7+",
          "5",
          1,
          "4",
          "5",
          "5",
          "5",
          1,
          "5",
          "7+",
          "7+",
          "3",
          "7+",
          "5",
          "4",
          "5",
          "5",
          "5",
          1,
          "7+",
          "7+",
          "5",
          "6",
          "5",
          "7+",
          "7+",
          "5",
          "7+",
          "5",
          "5",
          "4",
          "4",
          "4",
          "7+",
          "2",
          "7+",
          1,
          "7+",
          "7+",
          "5",
          "3",
          "7+",
          1,
          1,
          "7+",
          "6",
          "4",
          "5",
          1,
          "7+",
          "7+",
          "4",
          "5",
          "5",
          "5",
          "7+",
          "5",
          "4",
          "5",
          "5",
          1,
          "5",
          1,
          "7+",
          "7+",
          "5",
          "5",
          "5",
          "6",
          1,
          "5",
          "5",
          "5",
          "7+",
          "4",
          "6",
          "5",
          "7+",
          "5",
          "6",
          "7+",
          "7+",
          "6",
          "5",
          1,
          "6",
          "7+",
          "1",
          "7+",
          "5",
          "4",
          "5",
          "5",
          1,
          "5",
          "5",
          "7+",
          "7+",
          "4",
          1,
          "1",
          "4",
          1,
          "7+",
          "7+",
          "7+",
          "5",
          "7+",
          "4",
          "5",
          "4",
          "7+",
          "4",
          "4",
          "4",
          "3",
          "5",
          1,
          1,
          "4",
          "4",
          "5",
          "6",
          "7+",
          1,
          "5",
          "5",
          "5",
          "7+",
          1,
          "4",
          "5",
          "5"
         ],
         "legendgroup": "",
         "name": "",
         "showlegend": true,
         "type": "pie"
        }
       ],
       "layout": {
        "legend": {
         "tracegroupgap": 0
        },
        "template": {
         "data": {
          "bar": [
           {
            "error_x": {
             "color": "#2a3f5f"
            },
            "error_y": {
             "color": "#2a3f5f"
            },
            "marker": {
             "line": {
              "color": "#E5ECF6",
              "width": 0.5
             },
             "pattern": {
              "fillmode": "overlay",
              "size": 10,
              "solidity": 0.2
             }
            },
            "type": "bar"
           }
          ],
          "barpolar": [
           {
            "marker": {
             "line": {
              "color": "#E5ECF6",
              "width": 0.5
             },
             "pattern": {
              "fillmode": "overlay",
              "size": 10,
              "solidity": 0.2
             }
            },
            "type": "barpolar"
           }
          ],
          "carpet": [
           {
            "aaxis": {
             "endlinecolor": "#2a3f5f",
             "gridcolor": "white",
             "linecolor": "white",
             "minorgridcolor": "white",
             "startlinecolor": "#2a3f5f"
            },
            "baxis": {
             "endlinecolor": "#2a3f5f",
             "gridcolor": "white",
             "linecolor": "white",
             "minorgridcolor": "white",
             "startlinecolor": "#2a3f5f"
            },
            "type": "carpet"
           }
          ],
          "choropleth": [
           {
            "colorbar": {
             "outlinewidth": 0,
             "ticks": ""
            },
            "type": "choropleth"
           }
          ],
          "contour": [
           {
            "colorbar": {
             "outlinewidth": 0,
             "ticks": ""
            },
            "colorscale": [
             [
              0,
              "#0d0887"
             ],
             [
              0.1111111111111111,
              "#46039f"
             ],
             [
              0.2222222222222222,
              "#7201a8"
             ],
             [
              0.3333333333333333,
              "#9c179e"
             ],
             [
              0.4444444444444444,
              "#bd3786"
             ],
             [
              0.5555555555555556,
              "#d8576b"
             ],
             [
              0.6666666666666666,
              "#ed7953"
             ],
             [
              0.7777777777777778,
              "#fb9f3a"
             ],
             [
              0.8888888888888888,
              "#fdca26"
             ],
             [
              1,
              "#f0f921"
             ]
            ],
            "type": "contour"
           }
          ],
          "contourcarpet": [
           {
            "colorbar": {
             "outlinewidth": 0,
             "ticks": ""
            },
            "type": "contourcarpet"
           }
          ],
          "heatmap": [
           {
            "colorbar": {
             "outlinewidth": 0,
             "ticks": ""
            },
            "colorscale": [
             [
              0,
              "#0d0887"
             ],
             [
              0.1111111111111111,
              "#46039f"
             ],
             [
              0.2222222222222222,
              "#7201a8"
             ],
             [
              0.3333333333333333,
              "#9c179e"
             ],
             [
              0.4444444444444444,
              "#bd3786"
             ],
             [
              0.5555555555555556,
              "#d8576b"
             ],
             [
              0.6666666666666666,
              "#ed7953"
             ],
             [
              0.7777777777777778,
              "#fb9f3a"
             ],
             [
              0.8888888888888888,
              "#fdca26"
             ],
             [
              1,
              "#f0f921"
             ]
            ],
            "type": "heatmap"
           }
          ],
          "heatmapgl": [
           {
            "colorbar": {
             "outlinewidth": 0,
             "ticks": ""
            },
            "colorscale": [
             [
              0,
              "#0d0887"
             ],
             [
              0.1111111111111111,
              "#46039f"
             ],
             [
              0.2222222222222222,
              "#7201a8"
             ],
             [
              0.3333333333333333,
              "#9c179e"
             ],
             [
              0.4444444444444444,
              "#bd3786"
             ],
             [
              0.5555555555555556,
              "#d8576b"
             ],
             [
              0.6666666666666666,
              "#ed7953"
             ],
             [
              0.7777777777777778,
              "#fb9f3a"
             ],
             [
              0.8888888888888888,
              "#fdca26"
             ],
             [
              1,
              "#f0f921"
             ]
            ],
            "type": "heatmapgl"
           }
          ],
          "histogram": [
           {
            "marker": {
             "pattern": {
              "fillmode": "overlay",
              "size": 10,
              "solidity": 0.2
             }
            },
            "type": "histogram"
           }
          ],
          "histogram2d": [
           {
            "colorbar": {
             "outlinewidth": 0,
             "ticks": ""
            },
            "colorscale": [
             [
              0,
              "#0d0887"
             ],
             [
              0.1111111111111111,
              "#46039f"
             ],
             [
              0.2222222222222222,
              "#7201a8"
             ],
             [
              0.3333333333333333,
              "#9c179e"
             ],
             [
              0.4444444444444444,
              "#bd3786"
             ],
             [
              0.5555555555555556,
              "#d8576b"
             ],
             [
              0.6666666666666666,
              "#ed7953"
             ],
             [
              0.7777777777777778,
              "#fb9f3a"
             ],
             [
              0.8888888888888888,
              "#fdca26"
             ],
             [
              1,
              "#f0f921"
             ]
            ],
            "type": "histogram2d"
           }
          ],
          "histogram2dcontour": [
           {
            "colorbar": {
             "outlinewidth": 0,
             "ticks": ""
            },
            "colorscale": [
             [
              0,
              "#0d0887"
             ],
             [
              0.1111111111111111,
              "#46039f"
             ],
             [
              0.2222222222222222,
              "#7201a8"
             ],
             [
              0.3333333333333333,
              "#9c179e"
             ],
             [
              0.4444444444444444,
              "#bd3786"
             ],
             [
              0.5555555555555556,
              "#d8576b"
             ],
             [
              0.6666666666666666,
              "#ed7953"
             ],
             [
              0.7777777777777778,
              "#fb9f3a"
             ],
             [
              0.8888888888888888,
              "#fdca26"
             ],
             [
              1,
              "#f0f921"
             ]
            ],
            "type": "histogram2dcontour"
           }
          ],
          "mesh3d": [
           {
            "colorbar": {
             "outlinewidth": 0,
             "ticks": ""
            },
            "type": "mesh3d"
           }
          ],
          "parcoords": [
           {
            "line": {
             "colorbar": {
              "outlinewidth": 0,
              "ticks": ""
             }
            },
            "type": "parcoords"
           }
          ],
          "pie": [
           {
            "automargin": true,
            "type": "pie"
           }
          ],
          "scatter": [
           {
            "fillpattern": {
             "fillmode": "overlay",
             "size": 10,
             "solidity": 0.2
            },
            "type": "scatter"
           }
          ],
          "scatter3d": [
           {
            "line": {
             "colorbar": {
              "outlinewidth": 0,
              "ticks": ""
             }
            },
            "marker": {
             "colorbar": {
              "outlinewidth": 0,
              "ticks": ""
             }
            },
            "type": "scatter3d"
           }
          ],
          "scattercarpet": [
           {
            "marker": {
             "colorbar": {
              "outlinewidth": 0,
              "ticks": ""
             }
            },
            "type": "scattercarpet"
           }
          ],
          "scattergeo": [
           {
            "marker": {
             "colorbar": {
              "outlinewidth": 0,
              "ticks": ""
             }
            },
            "type": "scattergeo"
           }
          ],
          "scattergl": [
           {
            "marker": {
             "colorbar": {
              "outlinewidth": 0,
              "ticks": ""
             }
            },
            "type": "scattergl"
           }
          ],
          "scattermapbox": [
           {
            "marker": {
             "colorbar": {
              "outlinewidth": 0,
              "ticks": ""
             }
            },
            "type": "scattermapbox"
           }
          ],
          "scatterpolar": [
           {
            "marker": {
             "colorbar": {
              "outlinewidth": 0,
              "ticks": ""
             }
            },
            "type": "scatterpolar"
           }
          ],
          "scatterpolargl": [
           {
            "marker": {
             "colorbar": {
              "outlinewidth": 0,
              "ticks": ""
             }
            },
            "type": "scatterpolargl"
           }
          ],
          "scatterternary": [
           {
            "marker": {
             "colorbar": {
              "outlinewidth": 0,
              "ticks": ""
             }
            },
            "type": "scatterternary"
           }
          ],
          "surface": [
           {
            "colorbar": {
             "outlinewidth": 0,
             "ticks": ""
            },
            "colorscale": [
             [
              0,
              "#0d0887"
             ],
             [
              0.1111111111111111,
              "#46039f"
             ],
             [
              0.2222222222222222,
              "#7201a8"
             ],
             [
              0.3333333333333333,
              "#9c179e"
             ],
             [
              0.4444444444444444,
              "#bd3786"
             ],
             [
              0.5555555555555556,
              "#d8576b"
             ],
             [
              0.6666666666666666,
              "#ed7953"
             ],
             [
              0.7777777777777778,
              "#fb9f3a"
             ],
             [
              0.8888888888888888,
              "#fdca26"
             ],
             [
              1,
              "#f0f921"
             ]
            ],
            "type": "surface"
           }
          ],
          "table": [
           {
            "cells": {
             "fill": {
              "color": "#EBF0F8"
             },
             "line": {
              "color": "white"
             }
            },
            "header": {
             "fill": {
              "color": "#C8D4E3"
             },
             "line": {
              "color": "white"
             }
            },
            "type": "table"
           }
          ]
         },
         "layout": {
          "annotationdefaults": {
           "arrowcolor": "#2a3f5f",
           "arrowhead": 0,
           "arrowwidth": 1
          },
          "autotypenumbers": "strict",
          "coloraxis": {
           "colorbar": {
            "outlinewidth": 0,
            "ticks": ""
           }
          },
          "colorscale": {
           "diverging": [
            [
             0,
             "#8e0152"
            ],
            [
             0.1,
             "#c51b7d"
            ],
            [
             0.2,
             "#de77ae"
            ],
            [
             0.3,
             "#f1b6da"
            ],
            [
             0.4,
             "#fde0ef"
            ],
            [
             0.5,
             "#f7f7f7"
            ],
            [
             0.6,
             "#e6f5d0"
            ],
            [
             0.7,
             "#b8e186"
            ],
            [
             0.8,
             "#7fbc41"
            ],
            [
             0.9,
             "#4d9221"
            ],
            [
             1,
             "#276419"
            ]
           ],
           "sequential": [
            [
             0,
             "#0d0887"
            ],
            [
             0.1111111111111111,
             "#46039f"
            ],
            [
             0.2222222222222222,
             "#7201a8"
            ],
            [
             0.3333333333333333,
             "#9c179e"
            ],
            [
             0.4444444444444444,
             "#bd3786"
            ],
            [
             0.5555555555555556,
             "#d8576b"
            ],
            [
             0.6666666666666666,
             "#ed7953"
            ],
            [
             0.7777777777777778,
             "#fb9f3a"
            ],
            [
             0.8888888888888888,
             "#fdca26"
            ],
            [
             1,
             "#f0f921"
            ]
           ],
           "sequentialminus": [
            [
             0,
             "#0d0887"
            ],
            [
             0.1111111111111111,
             "#46039f"
            ],
            [
             0.2222222222222222,
             "#7201a8"
            ],
            [
             0.3333333333333333,
             "#9c179e"
            ],
            [
             0.4444444444444444,
             "#bd3786"
            ],
            [
             0.5555555555555556,
             "#d8576b"
            ],
            [
             0.6666666666666666,
             "#ed7953"
            ],
            [
             0.7777777777777778,
             "#fb9f3a"
            ],
            [
             0.8888888888888888,
             "#fdca26"
            ],
            [
             1,
             "#f0f921"
            ]
           ]
          },
          "colorway": [
           "#636efa",
           "#EF553B",
           "#00cc96",
           "#ab63fa",
           "#FFA15A",
           "#19d3f3",
           "#FF6692",
           "#B6E880",
           "#FF97FF",
           "#FECB52"
          ],
          "font": {
           "color": "#2a3f5f"
          },
          "geo": {
           "bgcolor": "white",
           "lakecolor": "white",
           "landcolor": "#E5ECF6",
           "showlakes": true,
           "showland": true,
           "subunitcolor": "white"
          },
          "hoverlabel": {
           "align": "left"
          },
          "hovermode": "closest",
          "mapbox": {
           "style": "light"
          },
          "paper_bgcolor": "white",
          "plot_bgcolor": "#E5ECF6",
          "polar": {
           "angularaxis": {
            "gridcolor": "white",
            "linecolor": "white",
            "ticks": ""
           },
           "bgcolor": "#E5ECF6",
           "radialaxis": {
            "gridcolor": "white",
            "linecolor": "white",
            "ticks": ""
           }
          },
          "scene": {
           "xaxis": {
            "backgroundcolor": "#E5ECF6",
            "gridcolor": "white",
            "gridwidth": 2,
            "linecolor": "white",
            "showbackground": true,
            "ticks": "",
            "zerolinecolor": "white"
           },
           "yaxis": {
            "backgroundcolor": "#E5ECF6",
            "gridcolor": "white",
            "gridwidth": 2,
            "linecolor": "white",
            "showbackground": true,
            "ticks": "",
            "zerolinecolor": "white"
           },
           "zaxis": {
            "backgroundcolor": "#E5ECF6",
            "gridcolor": "white",
            "gridwidth": 2,
            "linecolor": "white",
            "showbackground": true,
            "ticks": "",
            "zerolinecolor": "white"
           }
          },
          "shapedefaults": {
           "line": {
            "color": "#2a3f5f"
           }
          },
          "ternary": {
           "aaxis": {
            "gridcolor": "white",
            "linecolor": "white",
            "ticks": ""
           },
           "baxis": {
            "gridcolor": "white",
            "linecolor": "white",
            "ticks": ""
           },
           "bgcolor": "#E5ECF6",
           "caxis": {
            "gridcolor": "white",
            "linecolor": "white",
            "ticks": ""
           }
          },
          "title": {
           "x": 0.05
          },
          "xaxis": {
           "automargin": true,
           "gridcolor": "white",
           "linecolor": "white",
           "ticks": "",
           "title": {
            "standoff": 15
           },
           "zerolinecolor": "white",
           "zerolinewidth": 2
          },
          "yaxis": {
           "automargin": true,
           "gridcolor": "white",
           "linecolor": "white",
           "ticks": "",
           "title": {
            "standoff": 15
           },
           "zerolinecolor": "white",
           "zerolinewidth": 2
          }
         }
        },
        "title": {
         "text": "عدد الغرف في الفيلات في الرياض"
        }
       }
      }
     },
     "metadata": {},
     "output_type": "display_data"
    },
    {
     "data": {
      "application/vnd.plotly.v1+json": {
       "config": {
        "plotlyServerURL": "https://plot.ly"
       },
       "data": [
        {
         "domain": {
          "x": [
           0,
           1
          ],
          "y": [
           0,
           1
          ]
         },
         "hovertemplate": "عدد الحمامات=%{label}<extra></extra>",
         "labels": [
          "5+",
          "5+",
          "5+",
          "4",
          "5+",
          "5+",
          "3",
          "5+",
          "5+",
          "5+",
          "5+",
          "5+",
          "5+",
          "5+",
          "5+",
          "4",
          "5+",
          "4",
          "5+",
          "5+",
          "5+",
          "5+",
          "5+",
          "5+",
          "5+",
          "5+",
          "5+",
          "5+",
          "5+",
          "5+",
          "5+",
          "5+",
          "5+",
          "5+",
          "5+",
          "4",
          "5+",
          "5+",
          "5+",
          "5+",
          "5+",
          "5+",
          "5+",
          "5+",
          "5+",
          "5+",
          "5+",
          "5+",
          "4",
          "5+",
          "5+",
          "5+",
          "5+",
          "5+",
          "5+",
          "5+",
          "5+",
          "5+",
          "5+",
          "5+",
          "5+",
          "5+",
          "5+",
          "5+",
          "5+",
          "5+",
          "5+",
          "5+",
          "5+",
          "2",
          "5+",
          "5+",
          "5+",
          "5+",
          "5+",
          "5+",
          "5+",
          "5+",
          "5+",
          "5+",
          "5+",
          "5+",
          "5+",
          "5+",
          "5+",
          "5+",
          "5+",
          "5+",
          "5+",
          "5+",
          "5+",
          "4",
          "5+",
          "4",
          "5+",
          "5+",
          "5+",
          "5+",
          "5+",
          "5+",
          "5+",
          "5+",
          "5+",
          "5+",
          "5+",
          "4",
          "5+",
          "5+",
          "5+",
          "5+",
          "5+",
          "5+",
          "5+",
          "5+",
          "5+",
          "5+",
          "5+",
          "5+",
          "5+",
          "5+",
          "5+",
          "5+",
          "5+",
          "4",
          "5+",
          "5+",
          "5+",
          "5+",
          "5+",
          "5+",
          "5+",
          "5+",
          "5+",
          "5+",
          "5+",
          "5+",
          "3",
          "5+",
          "5+",
          "5+",
          "5+",
          "5+",
          "4",
          "5+",
          "5+",
          "5+",
          "5+",
          "5+",
          "5+",
          "5+",
          "5+",
          "5+",
          "5+",
          "5+",
          "5+",
          "5+",
          "5+",
          "5+",
          "5+",
          "5+",
          "5+",
          "5+",
          "4",
          "3",
          "5+",
          "5+",
          "5+",
          "5+",
          "5+",
          "5+",
          "5+",
          "5+",
          "5+",
          "5+",
          "5+",
          "4",
          "5+",
          "5+",
          "4",
          "5+",
          "3",
          "5+",
          "5+",
          "5+",
          "4",
          "5+",
          "5+",
          "5+",
          "5+",
          "5+",
          "4",
          "5+",
          "5+",
          "5+",
          "5+",
          "5+",
          "5+",
          "5+",
          "5+",
          "5+",
          "5+",
          "5+",
          "5+",
          "5+",
          "5+",
          "5+",
          "5+",
          "5+",
          "5+",
          "5+",
          "5+",
          "5+",
          "5+",
          "5+",
          "5+",
          "5+",
          "5+",
          "4",
          "5+",
          "5+",
          "5+",
          "5+",
          "5+",
          "5+",
          "4",
          "5+",
          "5+",
          "5+",
          "5+",
          "5+",
          "5+",
          "5+",
          "5+",
          "5+",
          "5+",
          "5+",
          "5+",
          "5+",
          "5+",
          "5+",
          "5+",
          "5+",
          "5+",
          "5+",
          "3",
          "5+",
          "5+",
          "5+",
          "5+",
          "3",
          "4",
          "4",
          "5+",
          "5+",
          "5+",
          "4",
          "5+",
          "3",
          "5+",
          "5+",
          "4",
          "5+",
          "5+",
          "1",
          "5+",
          "5+",
          "4",
          "5+",
          "5+",
          "5+",
          "5+",
          "5+",
          "5+",
          "5+",
          "5+",
          "4",
          "4",
          "5+",
          "4",
          "2",
          "1",
          "5+",
          "3",
          "3",
          "5+",
          "5+",
          "5+",
          "2",
          "3",
          "4",
          "5+",
          "5+",
          "5+",
          "5+",
          "4",
          "5+",
          "5+",
          "5+",
          "5+",
          "5+",
          "5+",
          "5+",
          "5+",
          "5+",
          "4",
          "4",
          "5+",
          "5+",
          "5+",
          "5+",
          "4",
          "4",
          "5+",
          "5+",
          "5+",
          "5+",
          "5+",
          "5+",
          "5+",
          "5+",
          "4",
          "5+",
          "5+",
          "5+",
          "5+",
          "5+",
          "5+",
          "4",
          "5+",
          "5+",
          "5+",
          "4",
          "5+",
          "5+",
          "3",
          "4",
          "4",
          "3",
          "5+",
          "5+",
          "4",
          "5+",
          "5+",
          "4",
          "5+",
          "5+",
          "5+",
          "4",
          "3",
          "5+",
          "5+",
          "5+",
          "5+",
          "5+",
          "4",
          "5+",
          "5+",
          "3",
          "5+",
          "5+",
          "5+",
          "5+",
          "4",
          "2",
          "4",
          "5+",
          "5+",
          "5+",
          "4",
          "5+",
          "5+",
          "5+",
          "5+",
          "5+",
          "5+",
          "5+",
          "5+",
          "4",
          "3",
          "5+",
          "5+",
          "5+",
          "3",
          "5+",
          "5+",
          "4",
          "4",
          "5+",
          "5+",
          "5+",
          "5+",
          "5+",
          "5+",
          "5+",
          "5+",
          "5+",
          "4",
          "5+",
          "5+",
          "5+",
          "5+",
          "5+",
          "5+",
          "5+",
          "5+",
          "5+",
          "5+",
          "3",
          "5+",
          "5+",
          "5+",
          "5+",
          "5+",
          "5+",
          "5+",
          "3",
          "5+",
          "5+",
          "5+",
          "5+",
          "5+",
          "5+",
          "5+",
          "5+",
          "5+",
          "5+",
          "5+",
          "5+",
          "5+",
          "5+",
          "5+",
          "5+",
          "5+",
          "5+",
          "5+",
          "5+",
          "5+",
          "5+",
          "5+",
          "4",
          "5+",
          "2",
          "5+",
          "5+",
          "5+",
          "5+",
          "5+",
          "3",
          "5+",
          "4",
          "5+",
          "5+",
          "5+",
          "5+",
          "5+",
          "5+",
          "5+",
          "5+",
          "5+",
          "4",
          "4",
          "4",
          "5+",
          "5+",
          "5+",
          "3",
          "5+",
          "4",
          "5+",
          "5+",
          "5+",
          "5+",
          "5+",
          "5+",
          "5+",
          "5+",
          "5+",
          "5+",
          "5+",
          "5+",
          "5+",
          "5+",
          "5+",
          "5+",
          "5+",
          "5+",
          "5+",
          "5+",
          "5+",
          "5+",
          "5+",
          "5+",
          "5+",
          "5+",
          "5+",
          "5+",
          "5+",
          "3",
          "5+",
          "5+",
          "5+",
          "5+",
          "5+",
          "5+",
          "5+",
          "5+",
          "5+",
          "4",
          "3",
          "4",
          "4",
          "5+",
          "4",
          "5+",
          "5+",
          "5+",
          "3",
          "5+",
          "4",
          "5+",
          "4",
          "3",
          "5+",
          "5+",
          "5+",
          "5+",
          "5+",
          "5+",
          "5+",
          "5+",
          "5+",
          "5+",
          "5+",
          "5+",
          "5+",
          "5+",
          "5+",
          "5+",
          "5+",
          "5+",
          "5+",
          "5+",
          "5+",
          "5+",
          "5+",
          "5+",
          "5+",
          "5+",
          "5+",
          "5+",
          "5+",
          "5+",
          "5+",
          "5+",
          "5+",
          "5+",
          "5+",
          "5+",
          "5+",
          "5+",
          "5+",
          "5+",
          "5+",
          "5+",
          "5+",
          "5+",
          "5+",
          "5+",
          "5+",
          "5+",
          "5+",
          "5+",
          "5+",
          "5+",
          "5+",
          "5+",
          "5+",
          "5+",
          "5+",
          "5+",
          "5+",
          "5+",
          "5+",
          "5+",
          "5+",
          "5+",
          "5+",
          "5+",
          "5+",
          "5+",
          "5+",
          "5+",
          "5+",
          "5+",
          "5+",
          "5+",
          "5+",
          "5+",
          "5+",
          "5+",
          "1",
          "5+",
          "5+",
          "3",
          "5+",
          "3",
          "4",
          "4",
          "5+",
          "5+",
          "4",
          "5+",
          "4",
          "5+",
          "4",
          "5+",
          "5+",
          "5+",
          "5+",
          "5+",
          "5+",
          "5+",
          "5+",
          "5+",
          "5+",
          "5+",
          "4",
          "4",
          "5+",
          "5+",
          "2",
          "3",
          "5+",
          "1",
          "4",
          "3",
          "5+",
          "4",
          "3",
          "5+",
          "4",
          "5+",
          "5+",
          "5+",
          "5+",
          "5+",
          "5+",
          "5+",
          "5+",
          "5+",
          "3",
          "4",
          "5+",
          "5+",
          "5+",
          "5+",
          "5+",
          "5+",
          "5+",
          "5+",
          "5+",
          "5+",
          "5+",
          "5+",
          "5+",
          "5+",
          "5+",
          "5+",
          "5+",
          "5+",
          "5+",
          "5+",
          "4",
          "5+",
          "5+",
          "5+",
          "5+",
          "5+",
          "5+",
          "5+",
          "5+",
          "5+",
          "5+",
          "5+",
          "5+",
          "5+",
          "5+",
          "5+",
          "5+",
          "5+",
          "3",
          "5+",
          "5+",
          "5+",
          "5+",
          "5+",
          "4",
          "4",
          "5+",
          "4",
          "5+",
          "3",
          "4",
          "5+",
          "4",
          "5+",
          "5+",
          "5+",
          "5+",
          "5+",
          "4",
          "5+",
          "4",
          1,
          1,
          "5+",
          "4",
          "5+",
          "5+",
          "4",
          1,
          1,
          "4",
          1,
          1,
          "5+",
          1,
          "5+",
          1,
          "5+",
          "5+",
          "5+",
          "5+",
          "4",
          1,
          "5+",
          1,
          "5+",
          1,
          "5+",
          "5+",
          "5+",
          "5+",
          "5+",
          "5+",
          "5+",
          "5+",
          "5+",
          "5+",
          "4",
          1,
          "3",
          "5+",
          "5+",
          "4",
          1,
          "4",
          "5+",
          "5+",
          1,
          "5+",
          "5+",
          "5+",
          1,
          "3",
          "5+",
          "4",
          "5+",
          "5+",
          "5+",
          "5+",
          "4",
          "5+",
          "5+",
          "5+",
          1,
          "5+",
          "5+",
          "5+",
          1,
          1,
          1,
          "5+",
          "5+",
          "5+",
          "5+",
          "5+",
          "5+",
          1,
          "5+",
          1,
          "5+",
          "4",
          "5+",
          "5+",
          1,
          "4",
          "5+",
          "5+",
          "3",
          "5+",
          "5+",
          "5+",
          1,
          "5+",
          "5+",
          1,
          1,
          "4",
          "4",
          1,
          "5+",
          1,
          "5+",
          "5+",
          1,
          1,
          1,
          "5+",
          "5+",
          "5+",
          "2",
          "5+",
          "4",
          "3",
          "5+",
          "5+",
          1,
          "3",
          "5+",
          "5+",
          "5+",
          "5+",
          "5+",
          1,
          "4",
          1,
          "5+",
          "5+",
          "5+",
          "5+",
          1,
          "4",
          1,
          "4",
          "5+",
          1,
          "5+",
          "3",
          "5+",
          "3",
          "4",
          1,
          "5+",
          1,
          "3",
          1,
          "5+",
          "5+",
          "5+",
          "4",
          "5+",
          "5+",
          "5+",
          "5+",
          "5+",
          "5+",
          "3",
          "4",
          "5+",
          "5+",
          "5+",
          "5+",
          "4",
          1,
          "5+",
          "5+",
          "4",
          "5+",
          "5+",
          "4",
          "5+",
          "5+",
          "5+",
          1,
          1,
          "5+",
          "4",
          "5+",
          "5+",
          1,
          "5+",
          "4",
          "5+",
          "5+",
          "5+",
          "5+",
          "5+",
          "4",
          1,
          "4",
          "4",
          "5+",
          "5+",
          "5+",
          "5+",
          "5+",
          "4",
          "5+",
          1,
          "5+",
          1,
          "5+",
          "5+",
          "5+",
          "5+",
          "5+",
          "5+",
          "5+",
          "5+",
          1,
          "5+",
          1,
          "5+",
          "4",
          "4",
          "5+",
          "5+",
          1,
          "4",
          "5+",
          "4",
          "5+",
          1,
          "5+",
          "5+",
          "5+",
          "3",
          "5+",
          "5+",
          "4",
          "5+",
          "5+",
          "4",
          1,
          "5+",
          "5+",
          "5+",
          "5+",
          "5+",
          "5+",
          "5+",
          "5+",
          "5+",
          "5+",
          "5+",
          "4",
          "4",
          "4",
          "5+",
          "3",
          "5+",
          1,
          "5+",
          "5+",
          "5+",
          "4",
          "5+",
          1,
          1,
          "5+",
          "5+",
          "4",
          "1",
          1,
          "5+",
          "5+",
          "5+",
          "5+",
          "5+",
          "3",
          "4",
          "3",
          "3",
          "4",
          "5+",
          1,
          "5+",
          1,
          "5+",
          "5+",
          "4",
          "5+",
          "5+",
          "4",
          1,
          "5+",
          "5+",
          "5+",
          "5+",
          "4",
          "3",
          "5+",
          "5+",
          "5+",
          "5+",
          "5+",
          "5+",
          "4",
          "5+",
          1,
          "5+",
          "4",
          "5+",
          "4",
          "5+",
          "3",
          "5+",
          "2",
          1,
          "5+",
          "5+",
          "5+",
          "5+",
          "4",
          1,
          "5+",
          "5+",
          1,
          "5+",
          "5+",
          "5+",
          "5+",
          "5+",
          "5+",
          "4",
          "3",
          "5+",
          "3",
          "4",
          "5+",
          "5+",
          "4",
          1,
          1,
          "5+",
          "5+",
          "5+",
          "4",
          "5+",
          1,
          "4",
          "5+",
          "4",
          "5+",
          1,
          "3",
          "5+",
          "5+"
         ],
         "legendgroup": "",
         "name": "",
         "showlegend": true,
         "type": "pie"
        }
       ],
       "layout": {
        "legend": {
         "tracegroupgap": 0
        },
        "template": {
         "data": {
          "bar": [
           {
            "error_x": {
             "color": "#2a3f5f"
            },
            "error_y": {
             "color": "#2a3f5f"
            },
            "marker": {
             "line": {
              "color": "#E5ECF6",
              "width": 0.5
             },
             "pattern": {
              "fillmode": "overlay",
              "size": 10,
              "solidity": 0.2
             }
            },
            "type": "bar"
           }
          ],
          "barpolar": [
           {
            "marker": {
             "line": {
              "color": "#E5ECF6",
              "width": 0.5
             },
             "pattern": {
              "fillmode": "overlay",
              "size": 10,
              "solidity": 0.2
             }
            },
            "type": "barpolar"
           }
          ],
          "carpet": [
           {
            "aaxis": {
             "endlinecolor": "#2a3f5f",
             "gridcolor": "white",
             "linecolor": "white",
             "minorgridcolor": "white",
             "startlinecolor": "#2a3f5f"
            },
            "baxis": {
             "endlinecolor": "#2a3f5f",
             "gridcolor": "white",
             "linecolor": "white",
             "minorgridcolor": "white",
             "startlinecolor": "#2a3f5f"
            },
            "type": "carpet"
           }
          ],
          "choropleth": [
           {
            "colorbar": {
             "outlinewidth": 0,
             "ticks": ""
            },
            "type": "choropleth"
           }
          ],
          "contour": [
           {
            "colorbar": {
             "outlinewidth": 0,
             "ticks": ""
            },
            "colorscale": [
             [
              0,
              "#0d0887"
             ],
             [
              0.1111111111111111,
              "#46039f"
             ],
             [
              0.2222222222222222,
              "#7201a8"
             ],
             [
              0.3333333333333333,
              "#9c179e"
             ],
             [
              0.4444444444444444,
              "#bd3786"
             ],
             [
              0.5555555555555556,
              "#d8576b"
             ],
             [
              0.6666666666666666,
              "#ed7953"
             ],
             [
              0.7777777777777778,
              "#fb9f3a"
             ],
             [
              0.8888888888888888,
              "#fdca26"
             ],
             [
              1,
              "#f0f921"
             ]
            ],
            "type": "contour"
           }
          ],
          "contourcarpet": [
           {
            "colorbar": {
             "outlinewidth": 0,
             "ticks": ""
            },
            "type": "contourcarpet"
           }
          ],
          "heatmap": [
           {
            "colorbar": {
             "outlinewidth": 0,
             "ticks": ""
            },
            "colorscale": [
             [
              0,
              "#0d0887"
             ],
             [
              0.1111111111111111,
              "#46039f"
             ],
             [
              0.2222222222222222,
              "#7201a8"
             ],
             [
              0.3333333333333333,
              "#9c179e"
             ],
             [
              0.4444444444444444,
              "#bd3786"
             ],
             [
              0.5555555555555556,
              "#d8576b"
             ],
             [
              0.6666666666666666,
              "#ed7953"
             ],
             [
              0.7777777777777778,
              "#fb9f3a"
             ],
             [
              0.8888888888888888,
              "#fdca26"
             ],
             [
              1,
              "#f0f921"
             ]
            ],
            "type": "heatmap"
           }
          ],
          "heatmapgl": [
           {
            "colorbar": {
             "outlinewidth": 0,
             "ticks": ""
            },
            "colorscale": [
             [
              0,
              "#0d0887"
             ],
             [
              0.1111111111111111,
              "#46039f"
             ],
             [
              0.2222222222222222,
              "#7201a8"
             ],
             [
              0.3333333333333333,
              "#9c179e"
             ],
             [
              0.4444444444444444,
              "#bd3786"
             ],
             [
              0.5555555555555556,
              "#d8576b"
             ],
             [
              0.6666666666666666,
              "#ed7953"
             ],
             [
              0.7777777777777778,
              "#fb9f3a"
             ],
             [
              0.8888888888888888,
              "#fdca26"
             ],
             [
              1,
              "#f0f921"
             ]
            ],
            "type": "heatmapgl"
           }
          ],
          "histogram": [
           {
            "marker": {
             "pattern": {
              "fillmode": "overlay",
              "size": 10,
              "solidity": 0.2
             }
            },
            "type": "histogram"
           }
          ],
          "histogram2d": [
           {
            "colorbar": {
             "outlinewidth": 0,
             "ticks": ""
            },
            "colorscale": [
             [
              0,
              "#0d0887"
             ],
             [
              0.1111111111111111,
              "#46039f"
             ],
             [
              0.2222222222222222,
              "#7201a8"
             ],
             [
              0.3333333333333333,
              "#9c179e"
             ],
             [
              0.4444444444444444,
              "#bd3786"
             ],
             [
              0.5555555555555556,
              "#d8576b"
             ],
             [
              0.6666666666666666,
              "#ed7953"
             ],
             [
              0.7777777777777778,
              "#fb9f3a"
             ],
             [
              0.8888888888888888,
              "#fdca26"
             ],
             [
              1,
              "#f0f921"
             ]
            ],
            "type": "histogram2d"
           }
          ],
          "histogram2dcontour": [
           {
            "colorbar": {
             "outlinewidth": 0,
             "ticks": ""
            },
            "colorscale": [
             [
              0,
              "#0d0887"
             ],
             [
              0.1111111111111111,
              "#46039f"
             ],
             [
              0.2222222222222222,
              "#7201a8"
             ],
             [
              0.3333333333333333,
              "#9c179e"
             ],
             [
              0.4444444444444444,
              "#bd3786"
             ],
             [
              0.5555555555555556,
              "#d8576b"
             ],
             [
              0.6666666666666666,
              "#ed7953"
             ],
             [
              0.7777777777777778,
              "#fb9f3a"
             ],
             [
              0.8888888888888888,
              "#fdca26"
             ],
             [
              1,
              "#f0f921"
             ]
            ],
            "type": "histogram2dcontour"
           }
          ],
          "mesh3d": [
           {
            "colorbar": {
             "outlinewidth": 0,
             "ticks": ""
            },
            "type": "mesh3d"
           }
          ],
          "parcoords": [
           {
            "line": {
             "colorbar": {
              "outlinewidth": 0,
              "ticks": ""
             }
            },
            "type": "parcoords"
           }
          ],
          "pie": [
           {
            "automargin": true,
            "type": "pie"
           }
          ],
          "scatter": [
           {
            "fillpattern": {
             "fillmode": "overlay",
             "size": 10,
             "solidity": 0.2
            },
            "type": "scatter"
           }
          ],
          "scatter3d": [
           {
            "line": {
             "colorbar": {
              "outlinewidth": 0,
              "ticks": ""
             }
            },
            "marker": {
             "colorbar": {
              "outlinewidth": 0,
              "ticks": ""
             }
            },
            "type": "scatter3d"
           }
          ],
          "scattercarpet": [
           {
            "marker": {
             "colorbar": {
              "outlinewidth": 0,
              "ticks": ""
             }
            },
            "type": "scattercarpet"
           }
          ],
          "scattergeo": [
           {
            "marker": {
             "colorbar": {
              "outlinewidth": 0,
              "ticks": ""
             }
            },
            "type": "scattergeo"
           }
          ],
          "scattergl": [
           {
            "marker": {
             "colorbar": {
              "outlinewidth": 0,
              "ticks": ""
             }
            },
            "type": "scattergl"
           }
          ],
          "scattermapbox": [
           {
            "marker": {
             "colorbar": {
              "outlinewidth": 0,
              "ticks": ""
             }
            },
            "type": "scattermapbox"
           }
          ],
          "scatterpolar": [
           {
            "marker": {
             "colorbar": {
              "outlinewidth": 0,
              "ticks": ""
             }
            },
            "type": "scatterpolar"
           }
          ],
          "scatterpolargl": [
           {
            "marker": {
             "colorbar": {
              "outlinewidth": 0,
              "ticks": ""
             }
            },
            "type": "scatterpolargl"
           }
          ],
          "scatterternary": [
           {
            "marker": {
             "colorbar": {
              "outlinewidth": 0,
              "ticks": ""
             }
            },
            "type": "scatterternary"
           }
          ],
          "surface": [
           {
            "colorbar": {
             "outlinewidth": 0,
             "ticks": ""
            },
            "colorscale": [
             [
              0,
              "#0d0887"
             ],
             [
              0.1111111111111111,
              "#46039f"
             ],
             [
              0.2222222222222222,
              "#7201a8"
             ],
             [
              0.3333333333333333,
              "#9c179e"
             ],
             [
              0.4444444444444444,
              "#bd3786"
             ],
             [
              0.5555555555555556,
              "#d8576b"
             ],
             [
              0.6666666666666666,
              "#ed7953"
             ],
             [
              0.7777777777777778,
              "#fb9f3a"
             ],
             [
              0.8888888888888888,
              "#fdca26"
             ],
             [
              1,
              "#f0f921"
             ]
            ],
            "type": "surface"
           }
          ],
          "table": [
           {
            "cells": {
             "fill": {
              "color": "#EBF0F8"
             },
             "line": {
              "color": "white"
             }
            },
            "header": {
             "fill": {
              "color": "#C8D4E3"
             },
             "line": {
              "color": "white"
             }
            },
            "type": "table"
           }
          ]
         },
         "layout": {
          "annotationdefaults": {
           "arrowcolor": "#2a3f5f",
           "arrowhead": 0,
           "arrowwidth": 1
          },
          "autotypenumbers": "strict",
          "coloraxis": {
           "colorbar": {
            "outlinewidth": 0,
            "ticks": ""
           }
          },
          "colorscale": {
           "diverging": [
            [
             0,
             "#8e0152"
            ],
            [
             0.1,
             "#c51b7d"
            ],
            [
             0.2,
             "#de77ae"
            ],
            [
             0.3,
             "#f1b6da"
            ],
            [
             0.4,
             "#fde0ef"
            ],
            [
             0.5,
             "#f7f7f7"
            ],
            [
             0.6,
             "#e6f5d0"
            ],
            [
             0.7,
             "#b8e186"
            ],
            [
             0.8,
             "#7fbc41"
            ],
            [
             0.9,
             "#4d9221"
            ],
            [
             1,
             "#276419"
            ]
           ],
           "sequential": [
            [
             0,
             "#0d0887"
            ],
            [
             0.1111111111111111,
             "#46039f"
            ],
            [
             0.2222222222222222,
             "#7201a8"
            ],
            [
             0.3333333333333333,
             "#9c179e"
            ],
            [
             0.4444444444444444,
             "#bd3786"
            ],
            [
             0.5555555555555556,
             "#d8576b"
            ],
            [
             0.6666666666666666,
             "#ed7953"
            ],
            [
             0.7777777777777778,
             "#fb9f3a"
            ],
            [
             0.8888888888888888,
             "#fdca26"
            ],
            [
             1,
             "#f0f921"
            ]
           ],
           "sequentialminus": [
            [
             0,
             "#0d0887"
            ],
            [
             0.1111111111111111,
             "#46039f"
            ],
            [
             0.2222222222222222,
             "#7201a8"
            ],
            [
             0.3333333333333333,
             "#9c179e"
            ],
            [
             0.4444444444444444,
             "#bd3786"
            ],
            [
             0.5555555555555556,
             "#d8576b"
            ],
            [
             0.6666666666666666,
             "#ed7953"
            ],
            [
             0.7777777777777778,
             "#fb9f3a"
            ],
            [
             0.8888888888888888,
             "#fdca26"
            ],
            [
             1,
             "#f0f921"
            ]
           ]
          },
          "colorway": [
           "#636efa",
           "#EF553B",
           "#00cc96",
           "#ab63fa",
           "#FFA15A",
           "#19d3f3",
           "#FF6692",
           "#B6E880",
           "#FF97FF",
           "#FECB52"
          ],
          "font": {
           "color": "#2a3f5f"
          },
          "geo": {
           "bgcolor": "white",
           "lakecolor": "white",
           "landcolor": "#E5ECF6",
           "showlakes": true,
           "showland": true,
           "subunitcolor": "white"
          },
          "hoverlabel": {
           "align": "left"
          },
          "hovermode": "closest",
          "mapbox": {
           "style": "light"
          },
          "paper_bgcolor": "white",
          "plot_bgcolor": "#E5ECF6",
          "polar": {
           "angularaxis": {
            "gridcolor": "white",
            "linecolor": "white",
            "ticks": ""
           },
           "bgcolor": "#E5ECF6",
           "radialaxis": {
            "gridcolor": "white",
            "linecolor": "white",
            "ticks": ""
           }
          },
          "scene": {
           "xaxis": {
            "backgroundcolor": "#E5ECF6",
            "gridcolor": "white",
            "gridwidth": 2,
            "linecolor": "white",
            "showbackground": true,
            "ticks": "",
            "zerolinecolor": "white"
           },
           "yaxis": {
            "backgroundcolor": "#E5ECF6",
            "gridcolor": "white",
            "gridwidth": 2,
            "linecolor": "white",
            "showbackground": true,
            "ticks": "",
            "zerolinecolor": "white"
           },
           "zaxis": {
            "backgroundcolor": "#E5ECF6",
            "gridcolor": "white",
            "gridwidth": 2,
            "linecolor": "white",
            "showbackground": true,
            "ticks": "",
            "zerolinecolor": "white"
           }
          },
          "shapedefaults": {
           "line": {
            "color": "#2a3f5f"
           }
          },
          "ternary": {
           "aaxis": {
            "gridcolor": "white",
            "linecolor": "white",
            "ticks": ""
           },
           "baxis": {
            "gridcolor": "white",
            "linecolor": "white",
            "ticks": ""
           },
           "bgcolor": "#E5ECF6",
           "caxis": {
            "gridcolor": "white",
            "linecolor": "white",
            "ticks": ""
           }
          },
          "title": {
           "x": 0.05
          },
          "xaxis": {
           "automargin": true,
           "gridcolor": "white",
           "linecolor": "white",
           "ticks": "",
           "title": {
            "standoff": 15
           },
           "zerolinecolor": "white",
           "zerolinewidth": 2
          },
          "yaxis": {
           "automargin": true,
           "gridcolor": "white",
           "linecolor": "white",
           "ticks": "",
           "title": {
            "standoff": 15
           },
           "zerolinecolor": "white",
           "zerolinewidth": 2
          }
         }
        },
        "title": {
         "text": "عدد الحمامات في الفيلات في الرياض"
        }
       }
      }
     },
     "metadata": {},
     "output_type": "display_data"
    }
   ],
   "source": [
    "fig_bedrooms = px.pie(villas, names='عدد الغرف', title='عدد الغرف في الفيلات في الرياض')\n",
    "\n",
    "fig_bathrooms = px.pie(villas, names='عدد الحمامات', title='عدد الحمامات في الفيلات في الرياض')\n",
    "\n",
    "fig_bedrooms.show()\n",
    "fig_bathrooms.show()"
   ]
  },
  {
   "cell_type": "code",
   "execution_count": 40,
   "id": "a7265fdc",
   "metadata": {},
   "outputs": [
    {
     "data": {
      "application/vnd.plotly.v1+json": {
       "config": {
        "plotlyServerURL": "https://plot.ly"
       },
       "data": [
        {
         "alignmentgroup": "True",
         "hovertemplate": "المساحة=%{y}<extra></extra>",
         "legendgroup": "",
         "marker": {
          "color": "rgb(102,194,165)"
         },
         "name": "",
         "notched": false,
         "offsetgroup": "",
         "orientation": "v",
         "showlegend": false,
         "type": "box",
         "x0": " ",
         "xaxis": "x",
         "y": [
          244,
          322,
          350,
          350,
          270,
          360,
          437,
          252,
          1200,
          270,
          250,
          600,
          225,
          225,
          437,
          276,
          359,
          375,
          430,
          280,
          274,
          750,
          500,
          228,
          1200,
          400,
          400,
          500,
          300,
          625,
          620,
          800,
          500,
          900,
          312,
          250,
          375,
          280,
          430,
          287,
          253,
          1750,
          420,
          240,
          260,
          221,
          204,
          375,
          400,
          315,
          660,
          525,
          300,
          260,
          1050,
          480,
          360,
          630,
          420,
          300,
          221,
          300,
          204,
          2450,
          480,
          510,
          280,
          200,
          399,
          375,
          450,
          300,
          275,
          330,
          750,
          360,
          225,
          510,
          270,
          425,
          200,
          750,
          460,
          390,
          256,
          325,
          1344,
          900,
          600,
          313,
          336,
          400,
          400,
          690,
          435,
          405,
          600,
          200,
          260,
          258,
          384,
          256,
          300,
          234,
          273,
          600,
          250,
          299,
          442,
          300,
          375,
          442,
          375,
          270,
          300,
          406,
          392,
          477,
          375,
          360,
          390,
          324,
          2500,
          607,
          375,
          200,
          690,
          570,
          11811,
          375,
          687,
          335,
          360,
          300,
          420,
          420,
          209,
          200,
          535,
          425,
          405,
          375,
          324,
          360,
          350,
          308,
          375,
          220,
          630,
          625,
          406,
          202,
          395,
          312,
          540,
          375,
          483,
          350,
          500,
          312,
          500,
          540,
          312,
          370,
          250,
          254,
          520,
          300,
          600,
          457,
          343,
          250,
          500,
          360,
          360,
          565,
          625,
          250,
          300,
          336,
          252,
          210,
          344,
          352,
          300,
          420,
          338,
          325,
          450,
          360,
          210,
          239,
          699,
          813,
          375,
          300,
          450,
          375,
          360,
          250,
          216,
          360,
          375,
          525,
          252,
          501,
          437,
          270,
          450,
          1107,
          312,
          900,
          420,
          750,
          960,
          360,
          300,
          375,
          405,
          375,
          375,
          450,
          351,
          250,
          360,
          420,
          375,
          390,
          525,
          480,
          200,
          505,
          350,
          300,
          675,
          820,
          450,
          300,
          247,
          600,
          500,
          620,
          300,
          375,
          193,
          375,
          312,
          240,
          1825,
          180,
          236,
          300,
          300,
          900,
          900,
          324,
          281,
          312,
          360,
          900,
          319,
          300,
          319,
          750,
          480,
          375,
          500,
          495,
          324,
          365,
          388,
          480,
          225,
          404,
          580,
          300,
          480,
          250,
          300,
          520,
          875,
          735,
          500,
          500,
          266,
          483,
          618,
          400,
          400,
          362,
          450,
          400,
          430,
          450,
          308,
          359,
          280,
          430,
          288,
          200,
          312,
          437,
          336,
          312,
          250,
          149,
          300,
          280,
          250,
          250,
          250,
          300,
          250,
          250,
          250,
          437,
          325,
          458,
          360,
          250,
          375,
          335,
          250,
          270,
          2500,
          900,
          337,
          250,
          1180,
          246,
          750,
          281,
          220,
          240,
          300,
          312,
          390,
          375,
          262,
          300,
          360,
          335,
          200,
          417,
          625,
          630,
          305,
          250,
          350,
          2500,
          840,
          618,
          200,
          900,
          375,
          325,
          750,
          400,
          637,
          375,
          484,
          432,
          375,
          500,
          600,
          618,
          495,
          1237,
          337,
          900,
          288,
          312,
          300,
          315,
          300,
          375,
          375,
          250,
          288,
          750,
          312,
          250,
          330,
          375,
          750,
          300,
          300,
          270,
          281,
          200,
          250,
          595,
          312,
          1080,
          250,
          250,
          375,
          360,
          500,
          850,
          308,
          750,
          250,
          520,
          1237,
          585,
          315,
          361,
          625,
          250,
          300,
          250,
          440,
          250,
          336,
          376,
          250,
          300,
          300,
          325,
          264,
          300,
          375,
          250,
          250,
          297,
          250,
          250,
          312,
          360,
          950,
          462,
          275,
          465,
          325,
          300,
          300,
          350,
          500,
          313,
          312,
          500,
          618,
          435,
          750,
          360,
          900,
          900,
          900,
          900,
          900,
          313,
          500,
          280,
          312,
          450,
          395,
          450,
          450,
          704,
          704,
          450,
          274,
          493,
          200,
          450,
          450,
          375,
          225,
          225,
          200,
          200,
          250,
          300,
          280,
          360,
          319,
          300,
          312,
          300,
          300,
          300,
          300,
          300,
          469,
          450,
          469,
          375,
          447,
          469,
          290,
          375,
          200,
          450,
          469,
          469,
          469,
          480,
          500,
          500,
          252,
          312,
          400,
          550,
          312,
          200,
          312,
          312,
          275,
          312,
          240,
          905,
          500,
          312,
          245,
          200,
          225,
          225,
          836,
          400,
          1125,
          200,
          200,
          437,
          200,
          200,
          760,
          250,
          200,
          330,
          400,
          225,
          450,
          200,
          200,
          400,
          525,
          200,
          200,
          200,
          312,
          450,
          200,
          300,
          200,
          241,
          450,
          345,
          290,
          375,
          375,
          200,
          275,
          450,
          450,
          200,
          375,
          200,
          300,
          200,
          200,
          350,
          280,
          200,
          280,
          200,
          337,
          775,
          350,
          260,
          240,
          200,
          200,
          281,
          200,
          200,
          200,
          450,
          400,
          200,
          225,
          250,
          234,
          225,
          250,
          200,
          220,
          450,
          234,
          270,
          450,
          450,
          375,
          375,
          250,
          313,
          225,
          450,
          450,
          625,
          900,
          900,
          360,
          525,
          480,
          360,
          218,
          225,
          218,
          500,
          260,
          225,
          250,
          351,
          290,
          312,
          218,
          250,
          250,
          450,
          780,
          420,
          312,
          280,
          312,
          228,
          612,
          324,
          225,
          400,
          250,
          312,
          200,
          375,
          303,
          390,
          350,
          375,
          274,
          300,
          455,
          300,
          300,
          245,
          250,
          450,
          775,
          200,
          230,
          274,
          375,
          375,
          303,
          309,
          527,
          218,
          300,
          328,
          875,
          271,
          320,
          259,
          276,
          262,
          325,
          225,
          276,
          286,
          271,
          250,
          269,
          304,
          300,
          303,
          300,
          300,
          303,
          210,
          216,
          250,
          320,
          320,
          275,
          300,
          360,
          246,
          269,
          375,
          265,
          360,
          250,
          500,
          300,
          270,
          608,
          250,
          25,
          300,
          220,
          400,
          336,
          274,
          756,
          868,
          1601,
          480,
          542,
          281,
          765,
          262,
          420,
          300,
          247,
          321,
          281,
          375,
          308,
          618,
          450,
          750,
          355,
          363,
          319,
          495,
          320,
          312,
          375,
          250,
          625,
          618,
          300,
          220,
          266,
          363,
          500,
          200,
          480,
          300,
          252,
          250,
          225,
          337,
          900,
          225,
          312,
          300,
          312,
          300,
          375,
          308,
          284,
          360,
          338,
          450,
          750,
          355,
          319,
          850,
          250,
          495,
          495,
          388,
          850,
          284,
          360,
          360,
          274,
          250,
          312,
          281,
          305,
          375,
          350,
          312,
          300,
          321,
          270,
          355,
          350,
          750,
          360,
          320,
          325,
          339,
          555,
          618,
          400,
          360,
          292,
          300,
          403,
          618,
          270,
          345,
          225,
          277,
          270,
          225,
          360,
          375,
          360,
          510,
          250,
          252,
          250,
          275,
          500,
          288,
          375,
          375,
          308,
          375,
          270,
          275,
          750,
          328,
          308,
          310,
          250,
          992,
          300,
          300,
          1320,
          300,
          180,
          375,
          337,
          270,
          500,
          265,
          420,
          375,
          875,
          375,
          270,
          250,
          300,
          729,
          510,
          665,
          312,
          400,
          250,
          363,
          250,
          450,
          200,
          300,
          600,
          250,
          312,
          354,
          600,
          375,
          375,
          600,
          500,
          375,
          625,
          250,
          390,
          355,
          325,
          431,
          500,
          250,
          250,
          375,
          250,
          32020,
          992,
          480,
          312,
          300,
          300,
          360,
          510,
          300,
          360,
          308,
          375,
          750,
          275,
          750,
          310,
          300,
          345,
          276,
          1320,
          580,
          312,
          342,
          250,
          360,
          270,
          992,
          480,
          312,
          300,
          300,
          300,
          276,
          308,
          300,
          580,
          450,
          280,
          281,
          350,
          602,
          224,
          225,
          600,
          300,
          484,
          420,
          387,
          404,
          750,
          484,
          270,
          250,
          297,
          250,
          236,
          417,
          250,
          250,
          600,
          230,
          312,
          354,
          570,
          276,
          430,
          375,
          250,
          600,
          200,
          250,
          390,
          390,
          270,
          264,
          375,
          750,
          375,
          390,
          312,
          630,
          750,
          360,
          325,
          625,
          500,
          250,
          600,
          250,
          205,
          662,
          375,
          355,
          651,
          950,
          362,
          275,
          375,
          319,
          651,
          371,
          329,
          365,
          338,
          750,
          259,
          362,
          580,
          435,
          259,
          312,
          376,
          300,
          275,
          252,
          324,
          300,
          359,
          595,
          300,
          325,
          618,
          264,
          312,
          430,
          375,
          276,
          570,
          250,
          270,
          250,
          230,
          400,
          390,
          360,
          630,
          312,
          625,
          360,
          500,
          312,
          302,
          600,
          480,
          30201,
          250,
          300,
          480,
          312,
          400,
          252,
          375,
          440,
          321,
          420,
          213,
          600,
          312,
          405,
          420,
          420,
          312,
          1237,
          375,
          312,
          300,
          375,
          268,
          780,
          312,
          200,
          320,
          292,
          400,
          281,
          350,
          312,
          390,
          250,
          300,
          562,
          300,
          250,
          300,
          360,
          720,
          320,
          450,
          632,
          435
         ],
         "y0": " ",
         "yaxis": "y"
        }
       ],
       "layout": {
        "boxmode": "group",
        "legend": {
         "tracegroupgap": 0
        },
        "margin": {
         "t": 60
        },
        "template": {
         "data": {
          "bar": [
           {
            "error_x": {
             "color": "#2a3f5f"
            },
            "error_y": {
             "color": "#2a3f5f"
            },
            "marker": {
             "line": {
              "color": "#E5ECF6",
              "width": 0.5
             },
             "pattern": {
              "fillmode": "overlay",
              "size": 10,
              "solidity": 0.2
             }
            },
            "type": "bar"
           }
          ],
          "barpolar": [
           {
            "marker": {
             "line": {
              "color": "#E5ECF6",
              "width": 0.5
             },
             "pattern": {
              "fillmode": "overlay",
              "size": 10,
              "solidity": 0.2
             }
            },
            "type": "barpolar"
           }
          ],
          "carpet": [
           {
            "aaxis": {
             "endlinecolor": "#2a3f5f",
             "gridcolor": "white",
             "linecolor": "white",
             "minorgridcolor": "white",
             "startlinecolor": "#2a3f5f"
            },
            "baxis": {
             "endlinecolor": "#2a3f5f",
             "gridcolor": "white",
             "linecolor": "white",
             "minorgridcolor": "white",
             "startlinecolor": "#2a3f5f"
            },
            "type": "carpet"
           }
          ],
          "choropleth": [
           {
            "colorbar": {
             "outlinewidth": 0,
             "ticks": ""
            },
            "type": "choropleth"
           }
          ],
          "contour": [
           {
            "colorbar": {
             "outlinewidth": 0,
             "ticks": ""
            },
            "colorscale": [
             [
              0,
              "#0d0887"
             ],
             [
              0.1111111111111111,
              "#46039f"
             ],
             [
              0.2222222222222222,
              "#7201a8"
             ],
             [
              0.3333333333333333,
              "#9c179e"
             ],
             [
              0.4444444444444444,
              "#bd3786"
             ],
             [
              0.5555555555555556,
              "#d8576b"
             ],
             [
              0.6666666666666666,
              "#ed7953"
             ],
             [
              0.7777777777777778,
              "#fb9f3a"
             ],
             [
              0.8888888888888888,
              "#fdca26"
             ],
             [
              1,
              "#f0f921"
             ]
            ],
            "type": "contour"
           }
          ],
          "contourcarpet": [
           {
            "colorbar": {
             "outlinewidth": 0,
             "ticks": ""
            },
            "type": "contourcarpet"
           }
          ],
          "heatmap": [
           {
            "colorbar": {
             "outlinewidth": 0,
             "ticks": ""
            },
            "colorscale": [
             [
              0,
              "#0d0887"
             ],
             [
              0.1111111111111111,
              "#46039f"
             ],
             [
              0.2222222222222222,
              "#7201a8"
             ],
             [
              0.3333333333333333,
              "#9c179e"
             ],
             [
              0.4444444444444444,
              "#bd3786"
             ],
             [
              0.5555555555555556,
              "#d8576b"
             ],
             [
              0.6666666666666666,
              "#ed7953"
             ],
             [
              0.7777777777777778,
              "#fb9f3a"
             ],
             [
              0.8888888888888888,
              "#fdca26"
             ],
             [
              1,
              "#f0f921"
             ]
            ],
            "type": "heatmap"
           }
          ],
          "heatmapgl": [
           {
            "colorbar": {
             "outlinewidth": 0,
             "ticks": ""
            },
            "colorscale": [
             [
              0,
              "#0d0887"
             ],
             [
              0.1111111111111111,
              "#46039f"
             ],
             [
              0.2222222222222222,
              "#7201a8"
             ],
             [
              0.3333333333333333,
              "#9c179e"
             ],
             [
              0.4444444444444444,
              "#bd3786"
             ],
             [
              0.5555555555555556,
              "#d8576b"
             ],
             [
              0.6666666666666666,
              "#ed7953"
             ],
             [
              0.7777777777777778,
              "#fb9f3a"
             ],
             [
              0.8888888888888888,
              "#fdca26"
             ],
             [
              1,
              "#f0f921"
             ]
            ],
            "type": "heatmapgl"
           }
          ],
          "histogram": [
           {
            "marker": {
             "pattern": {
              "fillmode": "overlay",
              "size": 10,
              "solidity": 0.2
             }
            },
            "type": "histogram"
           }
          ],
          "histogram2d": [
           {
            "colorbar": {
             "outlinewidth": 0,
             "ticks": ""
            },
            "colorscale": [
             [
              0,
              "#0d0887"
             ],
             [
              0.1111111111111111,
              "#46039f"
             ],
             [
              0.2222222222222222,
              "#7201a8"
             ],
             [
              0.3333333333333333,
              "#9c179e"
             ],
             [
              0.4444444444444444,
              "#bd3786"
             ],
             [
              0.5555555555555556,
              "#d8576b"
             ],
             [
              0.6666666666666666,
              "#ed7953"
             ],
             [
              0.7777777777777778,
              "#fb9f3a"
             ],
             [
              0.8888888888888888,
              "#fdca26"
             ],
             [
              1,
              "#f0f921"
             ]
            ],
            "type": "histogram2d"
           }
          ],
          "histogram2dcontour": [
           {
            "colorbar": {
             "outlinewidth": 0,
             "ticks": ""
            },
            "colorscale": [
             [
              0,
              "#0d0887"
             ],
             [
              0.1111111111111111,
              "#46039f"
             ],
             [
              0.2222222222222222,
              "#7201a8"
             ],
             [
              0.3333333333333333,
              "#9c179e"
             ],
             [
              0.4444444444444444,
              "#bd3786"
             ],
             [
              0.5555555555555556,
              "#d8576b"
             ],
             [
              0.6666666666666666,
              "#ed7953"
             ],
             [
              0.7777777777777778,
              "#fb9f3a"
             ],
             [
              0.8888888888888888,
              "#fdca26"
             ],
             [
              1,
              "#f0f921"
             ]
            ],
            "type": "histogram2dcontour"
           }
          ],
          "mesh3d": [
           {
            "colorbar": {
             "outlinewidth": 0,
             "ticks": ""
            },
            "type": "mesh3d"
           }
          ],
          "parcoords": [
           {
            "line": {
             "colorbar": {
              "outlinewidth": 0,
              "ticks": ""
             }
            },
            "type": "parcoords"
           }
          ],
          "pie": [
           {
            "automargin": true,
            "type": "pie"
           }
          ],
          "scatter": [
           {
            "fillpattern": {
             "fillmode": "overlay",
             "size": 10,
             "solidity": 0.2
            },
            "type": "scatter"
           }
          ],
          "scatter3d": [
           {
            "line": {
             "colorbar": {
              "outlinewidth": 0,
              "ticks": ""
             }
            },
            "marker": {
             "colorbar": {
              "outlinewidth": 0,
              "ticks": ""
             }
            },
            "type": "scatter3d"
           }
          ],
          "scattercarpet": [
           {
            "marker": {
             "colorbar": {
              "outlinewidth": 0,
              "ticks": ""
             }
            },
            "type": "scattercarpet"
           }
          ],
          "scattergeo": [
           {
            "marker": {
             "colorbar": {
              "outlinewidth": 0,
              "ticks": ""
             }
            },
            "type": "scattergeo"
           }
          ],
          "scattergl": [
           {
            "marker": {
             "colorbar": {
              "outlinewidth": 0,
              "ticks": ""
             }
            },
            "type": "scattergl"
           }
          ],
          "scattermapbox": [
           {
            "marker": {
             "colorbar": {
              "outlinewidth": 0,
              "ticks": ""
             }
            },
            "type": "scattermapbox"
           }
          ],
          "scatterpolar": [
           {
            "marker": {
             "colorbar": {
              "outlinewidth": 0,
              "ticks": ""
             }
            },
            "type": "scatterpolar"
           }
          ],
          "scatterpolargl": [
           {
            "marker": {
             "colorbar": {
              "outlinewidth": 0,
              "ticks": ""
             }
            },
            "type": "scatterpolargl"
           }
          ],
          "scatterternary": [
           {
            "marker": {
             "colorbar": {
              "outlinewidth": 0,
              "ticks": ""
             }
            },
            "type": "scatterternary"
           }
          ],
          "surface": [
           {
            "colorbar": {
             "outlinewidth": 0,
             "ticks": ""
            },
            "colorscale": [
             [
              0,
              "#0d0887"
             ],
             [
              0.1111111111111111,
              "#46039f"
             ],
             [
              0.2222222222222222,
              "#7201a8"
             ],
             [
              0.3333333333333333,
              "#9c179e"
             ],
             [
              0.4444444444444444,
              "#bd3786"
             ],
             [
              0.5555555555555556,
              "#d8576b"
             ],
             [
              0.6666666666666666,
              "#ed7953"
             ],
             [
              0.7777777777777778,
              "#fb9f3a"
             ],
             [
              0.8888888888888888,
              "#fdca26"
             ],
             [
              1,
              "#f0f921"
             ]
            ],
            "type": "surface"
           }
          ],
          "table": [
           {
            "cells": {
             "fill": {
              "color": "#EBF0F8"
             },
             "line": {
              "color": "white"
             }
            },
            "header": {
             "fill": {
              "color": "#C8D4E3"
             },
             "line": {
              "color": "white"
             }
            },
            "type": "table"
           }
          ]
         },
         "layout": {
          "annotationdefaults": {
           "arrowcolor": "#2a3f5f",
           "arrowhead": 0,
           "arrowwidth": 1
          },
          "autotypenumbers": "strict",
          "coloraxis": {
           "colorbar": {
            "outlinewidth": 0,
            "ticks": ""
           }
          },
          "colorscale": {
           "diverging": [
            [
             0,
             "#8e0152"
            ],
            [
             0.1,
             "#c51b7d"
            ],
            [
             0.2,
             "#de77ae"
            ],
            [
             0.3,
             "#f1b6da"
            ],
            [
             0.4,
             "#fde0ef"
            ],
            [
             0.5,
             "#f7f7f7"
            ],
            [
             0.6,
             "#e6f5d0"
            ],
            [
             0.7,
             "#b8e186"
            ],
            [
             0.8,
             "#7fbc41"
            ],
            [
             0.9,
             "#4d9221"
            ],
            [
             1,
             "#276419"
            ]
           ],
           "sequential": [
            [
             0,
             "#0d0887"
            ],
            [
             0.1111111111111111,
             "#46039f"
            ],
            [
             0.2222222222222222,
             "#7201a8"
            ],
            [
             0.3333333333333333,
             "#9c179e"
            ],
            [
             0.4444444444444444,
             "#bd3786"
            ],
            [
             0.5555555555555556,
             "#d8576b"
            ],
            [
             0.6666666666666666,
             "#ed7953"
            ],
            [
             0.7777777777777778,
             "#fb9f3a"
            ],
            [
             0.8888888888888888,
             "#fdca26"
            ],
            [
             1,
             "#f0f921"
            ]
           ],
           "sequentialminus": [
            [
             0,
             "#0d0887"
            ],
            [
             0.1111111111111111,
             "#46039f"
            ],
            [
             0.2222222222222222,
             "#7201a8"
            ],
            [
             0.3333333333333333,
             "#9c179e"
            ],
            [
             0.4444444444444444,
             "#bd3786"
            ],
            [
             0.5555555555555556,
             "#d8576b"
            ],
            [
             0.6666666666666666,
             "#ed7953"
            ],
            [
             0.7777777777777778,
             "#fb9f3a"
            ],
            [
             0.8888888888888888,
             "#fdca26"
            ],
            [
             1,
             "#f0f921"
            ]
           ]
          },
          "colorway": [
           "#636efa",
           "#EF553B",
           "#00cc96",
           "#ab63fa",
           "#FFA15A",
           "#19d3f3",
           "#FF6692",
           "#B6E880",
           "#FF97FF",
           "#FECB52"
          ],
          "font": {
           "color": "#2a3f5f"
          },
          "geo": {
           "bgcolor": "white",
           "lakecolor": "white",
           "landcolor": "#E5ECF6",
           "showlakes": true,
           "showland": true,
           "subunitcolor": "white"
          },
          "hoverlabel": {
           "align": "left"
          },
          "hovermode": "closest",
          "mapbox": {
           "style": "light"
          },
          "paper_bgcolor": "white",
          "plot_bgcolor": "#E5ECF6",
          "polar": {
           "angularaxis": {
            "gridcolor": "white",
            "linecolor": "white",
            "ticks": ""
           },
           "bgcolor": "#E5ECF6",
           "radialaxis": {
            "gridcolor": "white",
            "linecolor": "white",
            "ticks": ""
           }
          },
          "scene": {
           "xaxis": {
            "backgroundcolor": "#E5ECF6",
            "gridcolor": "white",
            "gridwidth": 2,
            "linecolor": "white",
            "showbackground": true,
            "ticks": "",
            "zerolinecolor": "white"
           },
           "yaxis": {
            "backgroundcolor": "#E5ECF6",
            "gridcolor": "white",
            "gridwidth": 2,
            "linecolor": "white",
            "showbackground": true,
            "ticks": "",
            "zerolinecolor": "white"
           },
           "zaxis": {
            "backgroundcolor": "#E5ECF6",
            "gridcolor": "white",
            "gridwidth": 2,
            "linecolor": "white",
            "showbackground": true,
            "ticks": "",
            "zerolinecolor": "white"
           }
          },
          "shapedefaults": {
           "line": {
            "color": "#2a3f5f"
           }
          },
          "ternary": {
           "aaxis": {
            "gridcolor": "white",
            "linecolor": "white",
            "ticks": ""
           },
           "baxis": {
            "gridcolor": "white",
            "linecolor": "white",
            "ticks": ""
           },
           "bgcolor": "#E5ECF6",
           "caxis": {
            "gridcolor": "white",
            "linecolor": "white",
            "ticks": ""
           }
          },
          "title": {
           "x": 0.05
          },
          "xaxis": {
           "automargin": true,
           "gridcolor": "white",
           "linecolor": "white",
           "ticks": "",
           "title": {
            "standoff": 15
           },
           "zerolinecolor": "white",
           "zerolinewidth": 2
          },
          "yaxis": {
           "automargin": true,
           "gridcolor": "white",
           "linecolor": "white",
           "ticks": "",
           "title": {
            "standoff": 15
           },
           "zerolinecolor": "white",
           "zerolinewidth": 2
          }
         }
        },
        "xaxis": {
         "anchor": "y",
         "domain": [
          0,
          1
         ]
        },
        "yaxis": {
         "anchor": "x",
         "domain": [
          0,
          1
         ],
         "title": {
          "text": "المساحة"
         }
        }
       }
      }
     },
     "metadata": {},
     "output_type": "display_data"
    }
   ],
   "source": [
    "fig = px.box(villas, y=\"المساحة\",color_discrete_sequence=px.colors.qualitative.Set2)\n",
    "fig.show()"
   ]
  },
  {
   "cell_type": "code",
   "execution_count": 41,
   "id": "5be16f08-a072-4a02-a3ee-6f9d57786fb4",
   "metadata": {},
   "outputs": [
    {
     "data": {
      "application/vnd.plotly.v1+json": {
       "config": {
        "plotlyServerURL": "https://plot.ly"
       },
       "data": [
        {
         "alignmentgroup": "True",
         "hovertemplate": "السعر الاجمالي=%{y}<extra></extra>",
         "legendgroup": "",
         "marker": {
          "color": "rgb(102,194,165)"
         },
         "name": "",
         "notched": false,
         "offsetgroup": "",
         "orientation": "v",
         "showlegend": false,
         "type": "box",
         "x0": " ",
         "xaxis": "x",
         "y": [
          2300000,
          3000000,
          2600000,
          2600000,
          2800000,
          3500000,
          4500000,
          2800000,
          17000000,
          3600000,
          2500000,
          8500000,
          3000000,
          3000000,
          8500000,
          2450000,
          3600000,
          2200000,
          6000000,
          2650000,
          2600000,
          8000000,
          5550000,
          2550000,
          18000000,
          4900000,
          5500000,
          7500000,
          2300000,
          4375000,
          10000000,
          10000000,
          6800000,
          8000000,
          2750000,
          1280000,
          4500000,
          1270000,
          6000000,
          3600000,
          3400000,
          22500000,
          3100000,
          2750000,
          3500000,
          2200000,
          2000000,
          2200000,
          3800000,
          2900000,
          8000000,
          9000000,
          2950000,
          2800000,
          7800000,
          5500000,
          2850000,
          6050000,
          5000000,
          2850000,
          2200000,
          2300000,
          2000000,
          18000000,
          2300000,
          4000000,
          2600000,
          2100000,
          3500000,
          4600000,
          2870000,
          3600000,
          3600000,
          3300000,
          9500000,
          2850000,
          2650000,
          4000000,
          2450000,
          3000000,
          2000000,
          5500000,
          4394000,
          3800000,
          1500000,
          3200000,
          7500000,
          6000000,
          6500000,
          2700000,
          3500000,
          3800000,
          4000000,
          1600000,
          4000000,
          3100000,
          4500000,
          2900000,
          2350000,
          2500000,
          3500000,
          1650000,
          2800000,
          2300000,
          2700000,
          3000000,
          3000000,
          3400000,
          2500000,
          2800000,
          4300000,
          2600000,
          4400000,
          2500000,
          2500000,
          1350000,
          4500000,
          4000000,
          4200000,
          2900000,
          3200000,
          2350000,
          16700000,
          3300000,
          4350000,
          2600000,
          4600000,
          3000000,
          1350000,
          2750000,
          9000000,
          3150000,
          2700000,
          3300000,
          4500000,
          3500000,
          2600000,
          2100000,
          1900000,
          3200000,
          2030000,
          3000000,
          2500000,
          4390000,
          4700000,
          2600000,
          3100000,
          2712320,
          7300000,
          6500000,
          4200000,
          2100000,
          3500000,
          3500000,
          3000000,
          4880000,
          3900000,
          4000000,
          5300000,
          3600000,
          1400000,
          5500000,
          2000000,
          3250000,
          2500000,
          2450000,
          6500000,
          4500000,
          6500000,
          5200000,
          4600000,
          2600000,
          6300000,
          4300000,
          3800000,
          2000000,
          3400000,
          2350000,
          2200000,
          2750000,
          3200000,
          2400000,
          4200000,
          4000000,
          3000000,
          2400000,
          2800000,
          3300000,
          5500000,
          3550000,
          2300000,
          3499000,
          7500000,
          14000000,
          3200000,
          3600000,
          4000000,
          3650000,
          4200000,
          1600000,
          2100000,
          2800000,
          3000000,
          5700000,
          2600000,
          4300000,
          4200000,
          2700000,
          4000000,
          10300000,
          2700000,
          5000000,
          5800000,
          8200000,
          6500000,
          4700000,
          2600000,
          4200000,
          3600000,
          2850000,
          3500000,
          5250000,
          3750000,
          2500000,
          3650000,
          3200000,
          4200000,
          3900000,
          5000000,
          5800000,
          2350000,
          8300000,
          2600000,
          2500000,
          5500000,
          5000000,
          4800000,
          3100000,
          2400000,
          4500000,
          1500000,
          7000000,
          2800000,
          4880000,
          950000,
          2200000,
          2550000,
          2700000,
          20000000,
          1100000,
          1070000,
          2250000,
          2200000,
          4800000,
          4700000,
          2200000,
          1400000,
          1070000,
          4400000,
          5200000,
          3150000,
          2000000,
          2100000,
          4000000,
          1200000,
          2450000,
          3000000,
          1700000,
          1900000,
          2300000,
          2200000,
          1200000,
          2450000,
          2500000,
          5400000,
          2300000,
          5000000,
          1250000,
          2300000,
          2400000,
          4500000,
          2000000,
          1550000,
          1550000,
          1465000,
          1700000,
          4500000,
          1300000,
          2000000,
          1990000,
          2600000,
          2850000,
          2100000,
          3000000,
          2650000,
          1650000,
          1550000,
          2500000,
          1800000,
          1680000,
          2490000,
          3500000,
          2200000,
          2450000,
          2000000,
          1750000,
          1850000,
          2100000,
          2000000,
          1470000,
          1750000,
          1400000,
          1470000,
          1470000,
          2050000,
          1750000,
          1700000,
          1100000,
          1900000,
          1850000,
          1200000,
          2000000,
          1850000,
          1550000,
          16700000,
          3000000,
          1950000,
          2100000,
          6500000,
          2300000,
          2700000,
          1400000,
          2200000,
          2000000,
          1600000,
          1500000,
          1900000,
          1070000,
          2000000,
          1300000,
          1500000,
          2000000,
          2400000,
          2500000,
          1200000,
          4300000,
          1650000,
          1900000,
          1880000,
          16700000,
          4000000,
          6000000,
          1200000,
          5000000,
          1500000,
          2000000,
          3300000,
          2650000,
          2550000,
          2650000,
          1670000,
          2300000,
          2400000,
          1250000,
          3000000,
          6000000,
          2500000,
          6500000,
          2100000,
          4500000,
          1770000,
          2000000,
          1500000,
          1600000,
          1600000,
          4000000,
          2450000,
          1750000,
          1770000,
          2100000,
          1550000,
          1150000,
          1650000,
          2200000,
          2100000,
          1150000,
          900000,
          2800000,
          1400000,
          1800000,
          2200000,
          2500000,
          2200000,
          9500000,
          1600000,
          1750000,
          2150000,
          2350000,
          1800000,
          6500000,
          2600000,
          4500000,
          1800000,
          2400000,
          8900000,
          2800000,
          1800000,
          1760000,
          4000000,
          1300000,
          1650000,
          1450000,
          3250000,
          1900000,
          1800000,
          2760000,
          1600000,
          1650000,
          1400000,
          1650000,
          2150000,
          1900000,
          2300000,
          1950000,
          1950000,
          1750000,
          2000000,
          2000000,
          2500000,
          1600000,
          4400000,
          3000000,
          1770000,
          3500000,
          2850000,
          1650000,
          2500000,
          3100000,
          1850000,
          1450000,
          1600000,
          1900000,
          5500000,
          1600000,
          3300000,
          1950000,
          4000000,
          4000000,
          2550000,
          2500000,
          4500000,
          2300000,
          1500000,
          1450000,
          1000230,
          3000000,
          1240000,
          2190000,
          2190000,
          2300000,
          2300000,
          2300000,
          1100000,
          2500000,
          1050000,
          1850000,
          1750000,
          1100000,
          1350000,
          1250000,
          1200000,
          1200000,
          1250000,
          1450000,
          1150000,
          1400000,
          1200000,
          1200000,
          1300000,
          1250000,
          1250000,
          1500000,
          1500000,
          1550000,
          1700000,
          2000000,
          1700000,
          1430000,
          4200000,
          1450000,
          900000,
          2000000,
          1100000,
          3400000,
          1600000,
          1830000,
          1830000,
          1900000,
          880000,
          3700000,
          1280000,
          1900000,
          980000,
          4000000,
          1500000,
          1080000,
          1800000,
          1410000,
          1250000,
          1600000,
          950000,
          1900000,
          1150000,
          1450000,
          1900000,
          1050000,
          1750000,
          1500000,
          3500000,
          1150000,
          2000000,
          1000000,
          1450000,
          1350000,
          1450000,
          1600000,
          2000000,
          1350000,
          1200000,
          2400000,
          880000,
          1350000,
          2600000,
          970000,
          980000,
          1100000,
          3000000,
          1020000,
          970000,
          1850000,
          1950000,
          4400000,
          1500000,
          1330000,
          900000,
          1500000,
          1000000,
          2500000,
          300000,
          1440000,
          1600000,
          1250000,
          1700000,
          2700000,
          3300000,
          980000,
          1750000,
          1500000,
          1600000,
          980000,
          950000,
          1230000,
          1120000,
          900000,
          1120000,
          1600000,
          1200000,
          1700000,
          1200000,
          1200000,
          900000,
          870000,
          1300000,
          1750000,
          870000,
          900000,
          870000,
          2600000,
          950000,
          1500000,
          1550000,
          1550000,
          1790000,
          1840000,
          1550000,
          1500000,
          1100000,
          3100000,
          1900000,
          1000000,
          2800000,
          3000000,
          2150000,
          1300000,
          1850000,
          1550000,
          1450000,
          2450000,
          1900000,
          1700000,
          4612500,
          2250000,
          1400000,
          750000,
          750000,
          1400000,
          750000,
          750000,
          750000,
          1500000,
          950000,
          750000,
          900000,
          1400000,
          1100000,
          1150000,
          750000,
          850000,
          850000,
          850000,
          1200000,
          1400000,
          1200000,
          1280000,
          1400000,
          850000,
          1200000,
          1350000,
          1100000,
          720000,
          920000,
          870000,
          1050000,
          1300000,
          640000,
          850000,
          1150000,
          1200000,
          800000,
          990000,
          1600000,
          1100000,
          950000,
          1000000,
          830000,
          2350000,
          1700000,
          780000,
          980000,
          820000,
          770000,
          770000,
          900000,
          1080000,
          1680000,
          750000,
          1050000,
          1035000,
          1850000,
          830000,
          1200000,
          820000,
          830000,
          850000,
          950000,
          845000,
          830000,
          940000,
          825000,
          840000,
          940000,
          950000,
          800000,
          850000,
          850000,
          880000,
          850000,
          780000,
          830000,
          850000,
          1000000,
          950000,
          870000,
          880000,
          1000000,
          825000,
          850000,
          1500000,
          1200000,
          1450000,
          525000,
          1200000,
          1200000,
          1000000,
          1700000,
          850000,
          880000,
          1300000,
          950000,
          1300000,
          1390000,
          1150000,
          3300000,
          4000000,
          6564100,
          1200000,
          2100000,
          1350000,
          2750000,
          2000000,
          2300000,
          1500000,
          1500000,
          3150000,
          1400000,
          2200000,
          2650000,
          4500000,
          2600000,
          4500000,
          2400000,
          1700000,
          3150000,
          3500000,
          1550000,
          2300000,
          2000000,
          1900000,
          2200000,
          5700000,
          2350000,
          1450000,
          1480000,
          1600000,
          3000000,
          1050000,
          2000000,
          1700000,
          1590000,
          2050000,
          2350000,
          2000000,
          4700000,
          1350000,
          1600000,
          1600000,
          2450000,
          1500000,
          2200000,
          2650000,
          1400000,
          2500000,
          1270000,
          2600000,
          4500000,
          2400000,
          3150000,
          6500000,
          1470000,
          3500000,
          2200000,
          2200000,
          6500000,
          1400000,
          2500000,
          2500000,
          1300000,
          1700000,
          1450000,
          1400000,
          1650000,
          1200000,
          3500000,
          2450000,
          2300000,
          3150000,
          2800000,
          2600000,
          3500000,
          3800000,
          2150000,
          1600000,
          1700000,
          2450000,
          3850000,
          4300000,
          2850000,
          2900000,
          1850000,
          2200000,
          2300000,
          5700000,
          1950000,
          2500000,
          2350000,
          1600000,
          1950000,
          2350000,
          2000000,
          2200000,
          2000000,
          3000000,
          1600000,
          1590000,
          1470000,
          1580000,
          3000000,
          3300000,
          2150000,
          1050000,
          2650000,
          2100000,
          1550000,
          1580000,
          6500000,
          1550000,
          2650000,
          2350000,
          1470000,
          4500000,
          2150000,
          2000000,
          3070000,
          1400000,
          1100000,
          2100000,
          1950000,
          2700000,
          1550000,
          1500000,
          2200000,
          1750000,
          4800000,
          1750000,
          2700000,
          1750000,
          1850000,
          4450000,
          3000000,
          5400000,
          1450000,
          922500,
          1900000,
          1600000,
          1800000,
          4200000,
          1250000,
          2000000,
          1800000,
          2380000,
          1070000,
          1800000,
          3000000,
          2200000,
          3500000,
          1800000,
          3000000,
          3300000,
          1200000,
          1470000,
          1900000,
          2600000,
          2000000,
          1250000,
          2500000,
          1500000,
          1850000,
          2250000,
          1900000,
          1530000,
          4500000,
          5000000,
          2350000,
          2900000,
          3000000,
          2000000,
          3000000,
          2300000,
          2000000,
          2600000,
          2150000,
          6500000,
          1580000,
          6500000,
          2350000,
          1950000,
          2500000,
          1160000,
          3070000,
          5400000,
          2800000,
          2100000,
          2000000,
          1900000,
          1550000,
          4500000,
          5000000,
          2350000,
          2900000,
          3000000,
          2300000,
          1160000,
          2600000,
          2700000,
          5400000,
          3000000,
          1550000,
          1500000,
          3000000,
          1637000,
          1050000,
          2350000,
          3000000,
          2300000,
          2250000,
          2350000,
          1900000,
          2100000,
          3300000,
          1670000,
          1550000,
          1750000,
          1950000,
          1400000,
          1070000,
          2500000,
          1280000,
          1250000,
          3000000,
          1300000,
          2300000,
          1800000,
          2200000,
          1500000,
          2870000,
          2200000,
          1500000,
          2750000,
          1100000,
          1300000,
          1900000,
          3000000,
          1000000,
          2150000,
          3500000,
          2700000,
          3300000,
          3000000,
          2500000,
          4300000,
          2700000,
          1600000,
          2000000,
          3200000,
          2500000,
          2200000,
          2750000,
          1900000,
          1250000,
          3000000,
          2250000,
          2600000,
          5000000,
          4400000,
          2350000,
          1800000,
          1050000,
          2100000,
          5000000,
          1800000,
          1650000,
          2300000,
          1270000,
          4000000,
          1450000,
          2350000,
          5500000,
          1600000,
          1470000,
          1550000,
          2760000,
          1900000,
          1825000,
          1580000,
          2200000,
          2300000,
          1650000,
          2500000,
          1950000,
          1650000,
          5500000,
          2150000,
          2300000,
          2870000,
          2000000,
          1500000,
          2200000,
          1300000,
          1000000,
          1500000,
          1300000,
          2650000,
          3000000,
          1600000,
          4300000,
          2500000,
          3200000,
          1900000,
          2850000,
          1800000,
          1650000,
          3200000,
          2000000,
          1650000,
          1850000,
          2300000,
          1400000,
          1800000,
          1200000,
          1590000,
          3650000,
          3250000,
          2250000,
          2200000,
          1350000,
          3100000,
          2000000,
          1600000,
          2200000,
          2200000,
          1450000,
          6686880,
          3650000,
          1450000,
          2350000,
          1900000,
          1250000,
          4000000,
          1100000,
          1800000,
          1700000,
          1175000,
          1100000,
          1400000,
          3000000,
          2100000,
          2200000,
          1450000,
          2000000,
          3075000,
          2250000,
          1900000,
          1400000,
          2000000,
          3900000,
          1550000,
          1500000,
          2400000,
          2500000
         ],
         "y0": " ",
         "yaxis": "y"
        }
       ],
       "layout": {
        "boxmode": "group",
        "legend": {
         "tracegroupgap": 0
        },
        "margin": {
         "t": 60
        },
        "template": {
         "data": {
          "bar": [
           {
            "error_x": {
             "color": "#2a3f5f"
            },
            "error_y": {
             "color": "#2a3f5f"
            },
            "marker": {
             "line": {
              "color": "#E5ECF6",
              "width": 0.5
             },
             "pattern": {
              "fillmode": "overlay",
              "size": 10,
              "solidity": 0.2
             }
            },
            "type": "bar"
           }
          ],
          "barpolar": [
           {
            "marker": {
             "line": {
              "color": "#E5ECF6",
              "width": 0.5
             },
             "pattern": {
              "fillmode": "overlay",
              "size": 10,
              "solidity": 0.2
             }
            },
            "type": "barpolar"
           }
          ],
          "carpet": [
           {
            "aaxis": {
             "endlinecolor": "#2a3f5f",
             "gridcolor": "white",
             "linecolor": "white",
             "minorgridcolor": "white",
             "startlinecolor": "#2a3f5f"
            },
            "baxis": {
             "endlinecolor": "#2a3f5f",
             "gridcolor": "white",
             "linecolor": "white",
             "minorgridcolor": "white",
             "startlinecolor": "#2a3f5f"
            },
            "type": "carpet"
           }
          ],
          "choropleth": [
           {
            "colorbar": {
             "outlinewidth": 0,
             "ticks": ""
            },
            "type": "choropleth"
           }
          ],
          "contour": [
           {
            "colorbar": {
             "outlinewidth": 0,
             "ticks": ""
            },
            "colorscale": [
             [
              0,
              "#0d0887"
             ],
             [
              0.1111111111111111,
              "#46039f"
             ],
             [
              0.2222222222222222,
              "#7201a8"
             ],
             [
              0.3333333333333333,
              "#9c179e"
             ],
             [
              0.4444444444444444,
              "#bd3786"
             ],
             [
              0.5555555555555556,
              "#d8576b"
             ],
             [
              0.6666666666666666,
              "#ed7953"
             ],
             [
              0.7777777777777778,
              "#fb9f3a"
             ],
             [
              0.8888888888888888,
              "#fdca26"
             ],
             [
              1,
              "#f0f921"
             ]
            ],
            "type": "contour"
           }
          ],
          "contourcarpet": [
           {
            "colorbar": {
             "outlinewidth": 0,
             "ticks": ""
            },
            "type": "contourcarpet"
           }
          ],
          "heatmap": [
           {
            "colorbar": {
             "outlinewidth": 0,
             "ticks": ""
            },
            "colorscale": [
             [
              0,
              "#0d0887"
             ],
             [
              0.1111111111111111,
              "#46039f"
             ],
             [
              0.2222222222222222,
              "#7201a8"
             ],
             [
              0.3333333333333333,
              "#9c179e"
             ],
             [
              0.4444444444444444,
              "#bd3786"
             ],
             [
              0.5555555555555556,
              "#d8576b"
             ],
             [
              0.6666666666666666,
              "#ed7953"
             ],
             [
              0.7777777777777778,
              "#fb9f3a"
             ],
             [
              0.8888888888888888,
              "#fdca26"
             ],
             [
              1,
              "#f0f921"
             ]
            ],
            "type": "heatmap"
           }
          ],
          "heatmapgl": [
           {
            "colorbar": {
             "outlinewidth": 0,
             "ticks": ""
            },
            "colorscale": [
             [
              0,
              "#0d0887"
             ],
             [
              0.1111111111111111,
              "#46039f"
             ],
             [
              0.2222222222222222,
              "#7201a8"
             ],
             [
              0.3333333333333333,
              "#9c179e"
             ],
             [
              0.4444444444444444,
              "#bd3786"
             ],
             [
              0.5555555555555556,
              "#d8576b"
             ],
             [
              0.6666666666666666,
              "#ed7953"
             ],
             [
              0.7777777777777778,
              "#fb9f3a"
             ],
             [
              0.8888888888888888,
              "#fdca26"
             ],
             [
              1,
              "#f0f921"
             ]
            ],
            "type": "heatmapgl"
           }
          ],
          "histogram": [
           {
            "marker": {
             "pattern": {
              "fillmode": "overlay",
              "size": 10,
              "solidity": 0.2
             }
            },
            "type": "histogram"
           }
          ],
          "histogram2d": [
           {
            "colorbar": {
             "outlinewidth": 0,
             "ticks": ""
            },
            "colorscale": [
             [
              0,
              "#0d0887"
             ],
             [
              0.1111111111111111,
              "#46039f"
             ],
             [
              0.2222222222222222,
              "#7201a8"
             ],
             [
              0.3333333333333333,
              "#9c179e"
             ],
             [
              0.4444444444444444,
              "#bd3786"
             ],
             [
              0.5555555555555556,
              "#d8576b"
             ],
             [
              0.6666666666666666,
              "#ed7953"
             ],
             [
              0.7777777777777778,
              "#fb9f3a"
             ],
             [
              0.8888888888888888,
              "#fdca26"
             ],
             [
              1,
              "#f0f921"
             ]
            ],
            "type": "histogram2d"
           }
          ],
          "histogram2dcontour": [
           {
            "colorbar": {
             "outlinewidth": 0,
             "ticks": ""
            },
            "colorscale": [
             [
              0,
              "#0d0887"
             ],
             [
              0.1111111111111111,
              "#46039f"
             ],
             [
              0.2222222222222222,
              "#7201a8"
             ],
             [
              0.3333333333333333,
              "#9c179e"
             ],
             [
              0.4444444444444444,
              "#bd3786"
             ],
             [
              0.5555555555555556,
              "#d8576b"
             ],
             [
              0.6666666666666666,
              "#ed7953"
             ],
             [
              0.7777777777777778,
              "#fb9f3a"
             ],
             [
              0.8888888888888888,
              "#fdca26"
             ],
             [
              1,
              "#f0f921"
             ]
            ],
            "type": "histogram2dcontour"
           }
          ],
          "mesh3d": [
           {
            "colorbar": {
             "outlinewidth": 0,
             "ticks": ""
            },
            "type": "mesh3d"
           }
          ],
          "parcoords": [
           {
            "line": {
             "colorbar": {
              "outlinewidth": 0,
              "ticks": ""
             }
            },
            "type": "parcoords"
           }
          ],
          "pie": [
           {
            "automargin": true,
            "type": "pie"
           }
          ],
          "scatter": [
           {
            "fillpattern": {
             "fillmode": "overlay",
             "size": 10,
             "solidity": 0.2
            },
            "type": "scatter"
           }
          ],
          "scatter3d": [
           {
            "line": {
             "colorbar": {
              "outlinewidth": 0,
              "ticks": ""
             }
            },
            "marker": {
             "colorbar": {
              "outlinewidth": 0,
              "ticks": ""
             }
            },
            "type": "scatter3d"
           }
          ],
          "scattercarpet": [
           {
            "marker": {
             "colorbar": {
              "outlinewidth": 0,
              "ticks": ""
             }
            },
            "type": "scattercarpet"
           }
          ],
          "scattergeo": [
           {
            "marker": {
             "colorbar": {
              "outlinewidth": 0,
              "ticks": ""
             }
            },
            "type": "scattergeo"
           }
          ],
          "scattergl": [
           {
            "marker": {
             "colorbar": {
              "outlinewidth": 0,
              "ticks": ""
             }
            },
            "type": "scattergl"
           }
          ],
          "scattermapbox": [
           {
            "marker": {
             "colorbar": {
              "outlinewidth": 0,
              "ticks": ""
             }
            },
            "type": "scattermapbox"
           }
          ],
          "scatterpolar": [
           {
            "marker": {
             "colorbar": {
              "outlinewidth": 0,
              "ticks": ""
             }
            },
            "type": "scatterpolar"
           }
          ],
          "scatterpolargl": [
           {
            "marker": {
             "colorbar": {
              "outlinewidth": 0,
              "ticks": ""
             }
            },
            "type": "scatterpolargl"
           }
          ],
          "scatterternary": [
           {
            "marker": {
             "colorbar": {
              "outlinewidth": 0,
              "ticks": ""
             }
            },
            "type": "scatterternary"
           }
          ],
          "surface": [
           {
            "colorbar": {
             "outlinewidth": 0,
             "ticks": ""
            },
            "colorscale": [
             [
              0,
              "#0d0887"
             ],
             [
              0.1111111111111111,
              "#46039f"
             ],
             [
              0.2222222222222222,
              "#7201a8"
             ],
             [
              0.3333333333333333,
              "#9c179e"
             ],
             [
              0.4444444444444444,
              "#bd3786"
             ],
             [
              0.5555555555555556,
              "#d8576b"
             ],
             [
              0.6666666666666666,
              "#ed7953"
             ],
             [
              0.7777777777777778,
              "#fb9f3a"
             ],
             [
              0.8888888888888888,
              "#fdca26"
             ],
             [
              1,
              "#f0f921"
             ]
            ],
            "type": "surface"
           }
          ],
          "table": [
           {
            "cells": {
             "fill": {
              "color": "#EBF0F8"
             },
             "line": {
              "color": "white"
             }
            },
            "header": {
             "fill": {
              "color": "#C8D4E3"
             },
             "line": {
              "color": "white"
             }
            },
            "type": "table"
           }
          ]
         },
         "layout": {
          "annotationdefaults": {
           "arrowcolor": "#2a3f5f",
           "arrowhead": 0,
           "arrowwidth": 1
          },
          "autotypenumbers": "strict",
          "coloraxis": {
           "colorbar": {
            "outlinewidth": 0,
            "ticks": ""
           }
          },
          "colorscale": {
           "diverging": [
            [
             0,
             "#8e0152"
            ],
            [
             0.1,
             "#c51b7d"
            ],
            [
             0.2,
             "#de77ae"
            ],
            [
             0.3,
             "#f1b6da"
            ],
            [
             0.4,
             "#fde0ef"
            ],
            [
             0.5,
             "#f7f7f7"
            ],
            [
             0.6,
             "#e6f5d0"
            ],
            [
             0.7,
             "#b8e186"
            ],
            [
             0.8,
             "#7fbc41"
            ],
            [
             0.9,
             "#4d9221"
            ],
            [
             1,
             "#276419"
            ]
           ],
           "sequential": [
            [
             0,
             "#0d0887"
            ],
            [
             0.1111111111111111,
             "#46039f"
            ],
            [
             0.2222222222222222,
             "#7201a8"
            ],
            [
             0.3333333333333333,
             "#9c179e"
            ],
            [
             0.4444444444444444,
             "#bd3786"
            ],
            [
             0.5555555555555556,
             "#d8576b"
            ],
            [
             0.6666666666666666,
             "#ed7953"
            ],
            [
             0.7777777777777778,
             "#fb9f3a"
            ],
            [
             0.8888888888888888,
             "#fdca26"
            ],
            [
             1,
             "#f0f921"
            ]
           ],
           "sequentialminus": [
            [
             0,
             "#0d0887"
            ],
            [
             0.1111111111111111,
             "#46039f"
            ],
            [
             0.2222222222222222,
             "#7201a8"
            ],
            [
             0.3333333333333333,
             "#9c179e"
            ],
            [
             0.4444444444444444,
             "#bd3786"
            ],
            [
             0.5555555555555556,
             "#d8576b"
            ],
            [
             0.6666666666666666,
             "#ed7953"
            ],
            [
             0.7777777777777778,
             "#fb9f3a"
            ],
            [
             0.8888888888888888,
             "#fdca26"
            ],
            [
             1,
             "#f0f921"
            ]
           ]
          },
          "colorway": [
           "#636efa",
           "#EF553B",
           "#00cc96",
           "#ab63fa",
           "#FFA15A",
           "#19d3f3",
           "#FF6692",
           "#B6E880",
           "#FF97FF",
           "#FECB52"
          ],
          "font": {
           "color": "#2a3f5f"
          },
          "geo": {
           "bgcolor": "white",
           "lakecolor": "white",
           "landcolor": "#E5ECF6",
           "showlakes": true,
           "showland": true,
           "subunitcolor": "white"
          },
          "hoverlabel": {
           "align": "left"
          },
          "hovermode": "closest",
          "mapbox": {
           "style": "light"
          },
          "paper_bgcolor": "white",
          "plot_bgcolor": "#E5ECF6",
          "polar": {
           "angularaxis": {
            "gridcolor": "white",
            "linecolor": "white",
            "ticks": ""
           },
           "bgcolor": "#E5ECF6",
           "radialaxis": {
            "gridcolor": "white",
            "linecolor": "white",
            "ticks": ""
           }
          },
          "scene": {
           "xaxis": {
            "backgroundcolor": "#E5ECF6",
            "gridcolor": "white",
            "gridwidth": 2,
            "linecolor": "white",
            "showbackground": true,
            "ticks": "",
            "zerolinecolor": "white"
           },
           "yaxis": {
            "backgroundcolor": "#E5ECF6",
            "gridcolor": "white",
            "gridwidth": 2,
            "linecolor": "white",
            "showbackground": true,
            "ticks": "",
            "zerolinecolor": "white"
           },
           "zaxis": {
            "backgroundcolor": "#E5ECF6",
            "gridcolor": "white",
            "gridwidth": 2,
            "linecolor": "white",
            "showbackground": true,
            "ticks": "",
            "zerolinecolor": "white"
           }
          },
          "shapedefaults": {
           "line": {
            "color": "#2a3f5f"
           }
          },
          "ternary": {
           "aaxis": {
            "gridcolor": "white",
            "linecolor": "white",
            "ticks": ""
           },
           "baxis": {
            "gridcolor": "white",
            "linecolor": "white",
            "ticks": ""
           },
           "bgcolor": "#E5ECF6",
           "caxis": {
            "gridcolor": "white",
            "linecolor": "white",
            "ticks": ""
           }
          },
          "title": {
           "x": 0.05
          },
          "xaxis": {
           "automargin": true,
           "gridcolor": "white",
           "linecolor": "white",
           "ticks": "",
           "title": {
            "standoff": 15
           },
           "zerolinecolor": "white",
           "zerolinewidth": 2
          },
          "yaxis": {
           "automargin": true,
           "gridcolor": "white",
           "linecolor": "white",
           "ticks": "",
           "title": {
            "standoff": 15
           },
           "zerolinecolor": "white",
           "zerolinewidth": 2
          }
         }
        },
        "xaxis": {
         "anchor": "y",
         "domain": [
          0,
          1
         ]
        },
        "yaxis": {
         "anchor": "x",
         "domain": [
          0,
          1
         ],
         "title": {
          "text": "السعر الاجمالي"
         }
        }
       }
      }
     },
     "metadata": {},
     "output_type": "display_data"
    }
   ],
   "source": [
    "fig = px.box(villas, y=\"السعر الاجمالي\",color_discrete_sequence=px.colors.qualitative.Set2)\n",
    "fig.show()"
   ]
  },
  {
   "cell_type": "markdown",
   "id": "d66677d3-44ad-414f-9b39-f9c1995ad043",
   "metadata": {},
   "source": [
    "### 2. Univariate Non-Graphical analysis: \n",
    "\n",
    "- Where is the center of the data? (location) --> **Measures of central tendency**\n",
    "- How much does the data vary? (scale) --> **Measure of variability**\n",
    "- What is the shape of the data? (shape) --> **Measures of variation combined with an average (measure of center) gives a good picture of the distribution of the data.**"
   ]
  },
  {
   "cell_type": "code",
   "execution_count": null,
   "id": "f1058d84-e61e-4f5b-b66a-29931e77821b",
   "metadata": {},
   "outputs": [],
   "source": []
  },
  {
   "cell_type": "markdown",
   "id": "f09bb809-0edd-432b-bf23-abd0840b3e16",
   "metadata": {},
   "source": [
    "## 4. Bivariate/Multivariate Analysis:\n",
    "\n",
    "Here, you look at the relationships between two or more variables. This can involve looking for correlations, patterns, and trends that suggest a relationship or an association.\n",
    "\n",
    "We can perform bi-variate analysis for any combination of categorical and numerical variables. The combination can be:\n",
    "| bi-variate variables   | Plot type |\n",
    "| ------------- | ------------- |\n",
    "| Categorical & Categorical| Stacked Bar Chart |\n",
    "| Categorical & numerical  | scatter plot, histogram, box plot|\n",
    "| numerical  & numerical  | Scatter plot, line chart| \n",
    "\n",
    "\n",
    "Multivariate Analysis:\n",
    "- Heat map\n",
    "- Bar Chart\n",
    "- Scatter Chart\n",
    "- Line Chart"
   ]
  },
  {
   "cell_type": "markdown",
   "id": "838f2864-ce9e-4f15-99c8-052d053154a7",
   "metadata": {},
   "source": [
    "**Categorical & Categorical --> (Stacked Column Chart)**"
   ]
  },
  {
   "cell_type": "code",
   "execution_count": null,
   "id": "73f9f2ac-8477-49ea-9c68-4fe44d4395b6",
   "metadata": {},
   "outputs": [],
   "source": []
  },
  {
   "cell_type": "markdown",
   "id": "730e088f-fe13-40da-8fbb-686f5135fa4d",
   "metadata": {},
   "source": [
    "**Categorical & numerical --> (scatter plot, histogram, box plot)**"
   ]
  },
  {
   "cell_type": "code",
   "execution_count": 42,
   "id": "cfefbaeb",
   "metadata": {},
   "outputs": [],
   "source": [
    "# المساحة           float64\n",
    "# درج صالة            int64\n",
    "# مطبخ                int64\n",
    "# غرفة خادمة          int64\n",
    "# غرفة سائق           int64\n",
    "# ملحق                int64\n",
    "# حوش                 int64\n",
    "# مسبح                int64\n",
    "# قبو                 int64\n",
    "# مدخل سيارة          int64\n",
    "# مصعد                int64\n",
    "# السعر الاجمالي      int64"
   ]
  },
  {
   "cell_type": "markdown",
   "id": "20aed48d-b78e-46da-963f-e7f15e2f4dc7",
   "metadata": {},
   "source": [
    "**numerical & numerical --> (Scatter plot, line chart)**"
   ]
  },
  {
   "cell_type": "code",
   "execution_count": null,
   "id": "41023177-01cb-4f39-a750-12be71b13bda",
   "metadata": {},
   "outputs": [],
   "source": []
  },
  {
   "cell_type": "markdown",
   "id": "efb43b30-b1f0-48a4-a19c-195810cc8a0f",
   "metadata": {},
   "source": [
    "We could also use a correlation matrix to get more specific information about the relationship between these two variables."
   ]
  },
  {
   "cell_type": "code",
   "execution_count": 43,
   "id": "501312a6",
   "metadata": {},
   "outputs": [
    {
     "data": {
      "application/vnd.plotly.v1+json": {
       "config": {
        "plotlyServerURL": "https://plot.ly"
       },
       "data": [
        {
         "coloraxis": "coloraxis",
         "hovertemplate": "x: %{x}<br>y: %{y}<br>color: %{z}<extra></extra>",
         "name": "0",
         "texttemplate": "%{z}",
         "type": "heatmap",
         "x": [
          "المساحة",
          "درج صالة",
          "مطبخ",
          "غرفة خادمة",
          "غرفة سائق",
          "ملحق",
          "حوش",
          "مسبح",
          "قبو",
          "مدخل سيارة",
          "مصعد",
          "السعر الاجمالي"
         ],
         "xaxis": "x",
         "y": [
          "المساحة",
          "درج صالة",
          "مطبخ",
          "غرفة خادمة",
          "غرفة سائق",
          "ملحق",
          "حوش",
          "مسبح",
          "قبو",
          "مدخل سيارة",
          "مصعد",
          "السعر الاجمالي"
         ],
         "yaxis": "y",
         "z": [
          [
           1,
           -0.041741767290461834,
           -0.02265630703981483,
           0.03686077008256383,
           0.0943478116898225,
           0.011627795670988565,
           0.02573683716573374,
           0.026415766791942193,
           0.024355932169675184,
           0.009927234335834449,
           -0.033404218400027726,
           0.09852498299717237
          ],
          [
           -0.041741767290461834,
           1,
           0.25636176147618717,
           0.4759441008937673,
           0.12416027264582909,
           0.23967157798834782,
           0.312156247273136,
           0.10628563809122812,
           0.09722928015397264,
           0.41610300384571314,
           0.31564468896973935,
           0.09877286054038394
          ],
          [
           -0.02265630703981483,
           0.25636176147618717,
           1,
           0.35503888247882176,
           0.1824109068480031,
           0.35697235110123265,
           0.4219397916053415,
           0.11653903901202493,
           0.05088448450932159,
           0.45622585711020847,
           0.09426228747568592,
           0.038430116031658385
          ],
          [
           0.03686077008256383,
           0.4759441008937673,
           0.35503888247882176,
           1,
           0.3732658896128515,
           0.34116687556906483,
           0.4106251770279013,
           0.15354288845820224,
           0.0758924823608373,
           0.5319285614446612,
           0.2353340537127492,
           0.1699156060577551
          ],
          [
           0.0943478116898225,
           0.12416027264582909,
           0.1824109068480031,
           0.3732658896128515,
           1,
           0.1282558377030891,
           0.21093871661237804,
           0.2915940598282433,
           0.1460530865780375,
           0.26527161301391305,
           0.163611915187689,
           0.4109416696898356
          ],
          [
           0.011627795670988565,
           0.23967157798834782,
           0.35697235110123265,
           0.34116687556906483,
           0.1282558377030891,
           1,
           0.42543367350929057,
           0.12635629919011335,
           0.03770285023860544,
           0.45153998455072314,
           0.11261546176886908,
           0.12108411867318349
          ],
          [
           0.02573683716573374,
           0.312156247273136,
           0.4219397916053415,
           0.4106251770279013,
           0.21093871661237804,
           0.42543367350929057,
           1,
           0.1284597595180512,
           0.0923307976593177,
           0.6025297663699218,
           0.17558450256701896,
           0.08647986927877209
          ],
          [
           0.026415766791942193,
           0.10628563809122812,
           0.11653903901202493,
           0.15354288845820224,
           0.2915940598282433,
           0.12635629919011335,
           0.1284597595180512,
           1,
           0.23249699791578396,
           0.12460190760379829,
           0.2185200193653349,
           0.4188496614618484
          ],
          [
           0.024355932169675184,
           0.09722928015397264,
           0.05088448450932159,
           0.0758924823608373,
           0.1460530865780375,
           0.03770285023860544,
           0.0923307976593177,
           0.23249699791578396,
           1,
           0.0694875692727205,
           0.09529367745843047,
           0.2896257742335424
          ],
          [
           0.009927234335834449,
           0.41610300384571314,
           0.45622585711020847,
           0.5319285614446612,
           0.26527161301391305,
           0.45153998455072314,
           0.6025297663699218,
           0.12460190760379829,
           0.0694875692727205,
           1,
           0.2478591356940144,
           0.08559309701405464
          ],
          [
           -0.033404218400027726,
           0.31564468896973935,
           0.09426228747568592,
           0.2353340537127492,
           0.163611915187689,
           0.11261546176886908,
           0.17558450256701896,
           0.2185200193653349,
           0.09529367745843047,
           0.2478591356940144,
           1,
           0.25270415687905856
          ],
          [
           0.09852498299717237,
           0.09877286054038394,
           0.038430116031658385,
           0.1699156060577551,
           0.4109416696898356,
           0.12108411867318349,
           0.08647986927877209,
           0.4188496614618484,
           0.2896257742335424,
           0.08559309701405464,
           0.25270415687905856,
           1
          ]
         ]
        }
       ],
       "layout": {
        "coloraxis": {
         "colorscale": [
          [
           0,
           "#0d0887"
          ],
          [
           0.1111111111111111,
           "#46039f"
          ],
          [
           0.2222222222222222,
           "#7201a8"
          ],
          [
           0.3333333333333333,
           "#9c179e"
          ],
          [
           0.4444444444444444,
           "#bd3786"
          ],
          [
           0.5555555555555556,
           "#d8576b"
          ],
          [
           0.6666666666666666,
           "#ed7953"
          ],
          [
           0.7777777777777778,
           "#fb9f3a"
          ],
          [
           0.8888888888888888,
           "#fdca26"
          ],
          [
           1,
           "#f0f921"
          ]
         ]
        },
        "height": 1100,
        "margin": {
         "t": 60
        },
        "template": {
         "data": {
          "bar": [
           {
            "error_x": {
             "color": "#2a3f5f"
            },
            "error_y": {
             "color": "#2a3f5f"
            },
            "marker": {
             "line": {
              "color": "#E5ECF6",
              "width": 0.5
             },
             "pattern": {
              "fillmode": "overlay",
              "size": 10,
              "solidity": 0.2
             }
            },
            "type": "bar"
           }
          ],
          "barpolar": [
           {
            "marker": {
             "line": {
              "color": "#E5ECF6",
              "width": 0.5
             },
             "pattern": {
              "fillmode": "overlay",
              "size": 10,
              "solidity": 0.2
             }
            },
            "type": "barpolar"
           }
          ],
          "carpet": [
           {
            "aaxis": {
             "endlinecolor": "#2a3f5f",
             "gridcolor": "white",
             "linecolor": "white",
             "minorgridcolor": "white",
             "startlinecolor": "#2a3f5f"
            },
            "baxis": {
             "endlinecolor": "#2a3f5f",
             "gridcolor": "white",
             "linecolor": "white",
             "minorgridcolor": "white",
             "startlinecolor": "#2a3f5f"
            },
            "type": "carpet"
           }
          ],
          "choropleth": [
           {
            "colorbar": {
             "outlinewidth": 0,
             "ticks": ""
            },
            "type": "choropleth"
           }
          ],
          "contour": [
           {
            "colorbar": {
             "outlinewidth": 0,
             "ticks": ""
            },
            "colorscale": [
             [
              0,
              "#0d0887"
             ],
             [
              0.1111111111111111,
              "#46039f"
             ],
             [
              0.2222222222222222,
              "#7201a8"
             ],
             [
              0.3333333333333333,
              "#9c179e"
             ],
             [
              0.4444444444444444,
              "#bd3786"
             ],
             [
              0.5555555555555556,
              "#d8576b"
             ],
             [
              0.6666666666666666,
              "#ed7953"
             ],
             [
              0.7777777777777778,
              "#fb9f3a"
             ],
             [
              0.8888888888888888,
              "#fdca26"
             ],
             [
              1,
              "#f0f921"
             ]
            ],
            "type": "contour"
           }
          ],
          "contourcarpet": [
           {
            "colorbar": {
             "outlinewidth": 0,
             "ticks": ""
            },
            "type": "contourcarpet"
           }
          ],
          "heatmap": [
           {
            "colorbar": {
             "outlinewidth": 0,
             "ticks": ""
            },
            "colorscale": [
             [
              0,
              "#0d0887"
             ],
             [
              0.1111111111111111,
              "#46039f"
             ],
             [
              0.2222222222222222,
              "#7201a8"
             ],
             [
              0.3333333333333333,
              "#9c179e"
             ],
             [
              0.4444444444444444,
              "#bd3786"
             ],
             [
              0.5555555555555556,
              "#d8576b"
             ],
             [
              0.6666666666666666,
              "#ed7953"
             ],
             [
              0.7777777777777778,
              "#fb9f3a"
             ],
             [
              0.8888888888888888,
              "#fdca26"
             ],
             [
              1,
              "#f0f921"
             ]
            ],
            "type": "heatmap"
           }
          ],
          "heatmapgl": [
           {
            "colorbar": {
             "outlinewidth": 0,
             "ticks": ""
            },
            "colorscale": [
             [
              0,
              "#0d0887"
             ],
             [
              0.1111111111111111,
              "#46039f"
             ],
             [
              0.2222222222222222,
              "#7201a8"
             ],
             [
              0.3333333333333333,
              "#9c179e"
             ],
             [
              0.4444444444444444,
              "#bd3786"
             ],
             [
              0.5555555555555556,
              "#d8576b"
             ],
             [
              0.6666666666666666,
              "#ed7953"
             ],
             [
              0.7777777777777778,
              "#fb9f3a"
             ],
             [
              0.8888888888888888,
              "#fdca26"
             ],
             [
              1,
              "#f0f921"
             ]
            ],
            "type": "heatmapgl"
           }
          ],
          "histogram": [
           {
            "marker": {
             "pattern": {
              "fillmode": "overlay",
              "size": 10,
              "solidity": 0.2
             }
            },
            "type": "histogram"
           }
          ],
          "histogram2d": [
           {
            "colorbar": {
             "outlinewidth": 0,
             "ticks": ""
            },
            "colorscale": [
             [
              0,
              "#0d0887"
             ],
             [
              0.1111111111111111,
              "#46039f"
             ],
             [
              0.2222222222222222,
              "#7201a8"
             ],
             [
              0.3333333333333333,
              "#9c179e"
             ],
             [
              0.4444444444444444,
              "#bd3786"
             ],
             [
              0.5555555555555556,
              "#d8576b"
             ],
             [
              0.6666666666666666,
              "#ed7953"
             ],
             [
              0.7777777777777778,
              "#fb9f3a"
             ],
             [
              0.8888888888888888,
              "#fdca26"
             ],
             [
              1,
              "#f0f921"
             ]
            ],
            "type": "histogram2d"
           }
          ],
          "histogram2dcontour": [
           {
            "colorbar": {
             "outlinewidth": 0,
             "ticks": ""
            },
            "colorscale": [
             [
              0,
              "#0d0887"
             ],
             [
              0.1111111111111111,
              "#46039f"
             ],
             [
              0.2222222222222222,
              "#7201a8"
             ],
             [
              0.3333333333333333,
              "#9c179e"
             ],
             [
              0.4444444444444444,
              "#bd3786"
             ],
             [
              0.5555555555555556,
              "#d8576b"
             ],
             [
              0.6666666666666666,
              "#ed7953"
             ],
             [
              0.7777777777777778,
              "#fb9f3a"
             ],
             [
              0.8888888888888888,
              "#fdca26"
             ],
             [
              1,
              "#f0f921"
             ]
            ],
            "type": "histogram2dcontour"
           }
          ],
          "mesh3d": [
           {
            "colorbar": {
             "outlinewidth": 0,
             "ticks": ""
            },
            "type": "mesh3d"
           }
          ],
          "parcoords": [
           {
            "line": {
             "colorbar": {
              "outlinewidth": 0,
              "ticks": ""
             }
            },
            "type": "parcoords"
           }
          ],
          "pie": [
           {
            "automargin": true,
            "type": "pie"
           }
          ],
          "scatter": [
           {
            "fillpattern": {
             "fillmode": "overlay",
             "size": 10,
             "solidity": 0.2
            },
            "type": "scatter"
           }
          ],
          "scatter3d": [
           {
            "line": {
             "colorbar": {
              "outlinewidth": 0,
              "ticks": ""
             }
            },
            "marker": {
             "colorbar": {
              "outlinewidth": 0,
              "ticks": ""
             }
            },
            "type": "scatter3d"
           }
          ],
          "scattercarpet": [
           {
            "marker": {
             "colorbar": {
              "outlinewidth": 0,
              "ticks": ""
             }
            },
            "type": "scattercarpet"
           }
          ],
          "scattergeo": [
           {
            "marker": {
             "colorbar": {
              "outlinewidth": 0,
              "ticks": ""
             }
            },
            "type": "scattergeo"
           }
          ],
          "scattergl": [
           {
            "marker": {
             "colorbar": {
              "outlinewidth": 0,
              "ticks": ""
             }
            },
            "type": "scattergl"
           }
          ],
          "scattermapbox": [
           {
            "marker": {
             "colorbar": {
              "outlinewidth": 0,
              "ticks": ""
             }
            },
            "type": "scattermapbox"
           }
          ],
          "scatterpolar": [
           {
            "marker": {
             "colorbar": {
              "outlinewidth": 0,
              "ticks": ""
             }
            },
            "type": "scatterpolar"
           }
          ],
          "scatterpolargl": [
           {
            "marker": {
             "colorbar": {
              "outlinewidth": 0,
              "ticks": ""
             }
            },
            "type": "scatterpolargl"
           }
          ],
          "scatterternary": [
           {
            "marker": {
             "colorbar": {
              "outlinewidth": 0,
              "ticks": ""
             }
            },
            "type": "scatterternary"
           }
          ],
          "surface": [
           {
            "colorbar": {
             "outlinewidth": 0,
             "ticks": ""
            },
            "colorscale": [
             [
              0,
              "#0d0887"
             ],
             [
              0.1111111111111111,
              "#46039f"
             ],
             [
              0.2222222222222222,
              "#7201a8"
             ],
             [
              0.3333333333333333,
              "#9c179e"
             ],
             [
              0.4444444444444444,
              "#bd3786"
             ],
             [
              0.5555555555555556,
              "#d8576b"
             ],
             [
              0.6666666666666666,
              "#ed7953"
             ],
             [
              0.7777777777777778,
              "#fb9f3a"
             ],
             [
              0.8888888888888888,
              "#fdca26"
             ],
             [
              1,
              "#f0f921"
             ]
            ],
            "type": "surface"
           }
          ],
          "table": [
           {
            "cells": {
             "fill": {
              "color": "#EBF0F8"
             },
             "line": {
              "color": "white"
             }
            },
            "header": {
             "fill": {
              "color": "#C8D4E3"
             },
             "line": {
              "color": "white"
             }
            },
            "type": "table"
           }
          ]
         },
         "layout": {
          "annotationdefaults": {
           "arrowcolor": "#2a3f5f",
           "arrowhead": 0,
           "arrowwidth": 1
          },
          "autotypenumbers": "strict",
          "coloraxis": {
           "colorbar": {
            "outlinewidth": 0,
            "ticks": ""
           }
          },
          "colorscale": {
           "diverging": [
            [
             0,
             "#8e0152"
            ],
            [
             0.1,
             "#c51b7d"
            ],
            [
             0.2,
             "#de77ae"
            ],
            [
             0.3,
             "#f1b6da"
            ],
            [
             0.4,
             "#fde0ef"
            ],
            [
             0.5,
             "#f7f7f7"
            ],
            [
             0.6,
             "#e6f5d0"
            ],
            [
             0.7,
             "#b8e186"
            ],
            [
             0.8,
             "#7fbc41"
            ],
            [
             0.9,
             "#4d9221"
            ],
            [
             1,
             "#276419"
            ]
           ],
           "sequential": [
            [
             0,
             "#0d0887"
            ],
            [
             0.1111111111111111,
             "#46039f"
            ],
            [
             0.2222222222222222,
             "#7201a8"
            ],
            [
             0.3333333333333333,
             "#9c179e"
            ],
            [
             0.4444444444444444,
             "#bd3786"
            ],
            [
             0.5555555555555556,
             "#d8576b"
            ],
            [
             0.6666666666666666,
             "#ed7953"
            ],
            [
             0.7777777777777778,
             "#fb9f3a"
            ],
            [
             0.8888888888888888,
             "#fdca26"
            ],
            [
             1,
             "#f0f921"
            ]
           ],
           "sequentialminus": [
            [
             0,
             "#0d0887"
            ],
            [
             0.1111111111111111,
             "#46039f"
            ],
            [
             0.2222222222222222,
             "#7201a8"
            ],
            [
             0.3333333333333333,
             "#9c179e"
            ],
            [
             0.4444444444444444,
             "#bd3786"
            ],
            [
             0.5555555555555556,
             "#d8576b"
            ],
            [
             0.6666666666666666,
             "#ed7953"
            ],
            [
             0.7777777777777778,
             "#fb9f3a"
            ],
            [
             0.8888888888888888,
             "#fdca26"
            ],
            [
             1,
             "#f0f921"
            ]
           ]
          },
          "colorway": [
           "#636efa",
           "#EF553B",
           "#00cc96",
           "#ab63fa",
           "#FFA15A",
           "#19d3f3",
           "#FF6692",
           "#B6E880",
           "#FF97FF",
           "#FECB52"
          ],
          "font": {
           "color": "#2a3f5f"
          },
          "geo": {
           "bgcolor": "white",
           "lakecolor": "white",
           "landcolor": "#E5ECF6",
           "showlakes": true,
           "showland": true,
           "subunitcolor": "white"
          },
          "hoverlabel": {
           "align": "left"
          },
          "hovermode": "closest",
          "mapbox": {
           "style": "light"
          },
          "paper_bgcolor": "white",
          "plot_bgcolor": "#E5ECF6",
          "polar": {
           "angularaxis": {
            "gridcolor": "white",
            "linecolor": "white",
            "ticks": ""
           },
           "bgcolor": "#E5ECF6",
           "radialaxis": {
            "gridcolor": "white",
            "linecolor": "white",
            "ticks": ""
           }
          },
          "scene": {
           "xaxis": {
            "backgroundcolor": "#E5ECF6",
            "gridcolor": "white",
            "gridwidth": 2,
            "linecolor": "white",
            "showbackground": true,
            "ticks": "",
            "zerolinecolor": "white"
           },
           "yaxis": {
            "backgroundcolor": "#E5ECF6",
            "gridcolor": "white",
            "gridwidth": 2,
            "linecolor": "white",
            "showbackground": true,
            "ticks": "",
            "zerolinecolor": "white"
           },
           "zaxis": {
            "backgroundcolor": "#E5ECF6",
            "gridcolor": "white",
            "gridwidth": 2,
            "linecolor": "white",
            "showbackground": true,
            "ticks": "",
            "zerolinecolor": "white"
           }
          },
          "shapedefaults": {
           "line": {
            "color": "#2a3f5f"
           }
          },
          "ternary": {
           "aaxis": {
            "gridcolor": "white",
            "linecolor": "white",
            "ticks": ""
           },
           "baxis": {
            "gridcolor": "white",
            "linecolor": "white",
            "ticks": ""
           },
           "bgcolor": "#E5ECF6",
           "caxis": {
            "gridcolor": "white",
            "linecolor": "white",
            "ticks": ""
           }
          },
          "title": {
           "x": 0.05
          },
          "xaxis": {
           "automargin": true,
           "gridcolor": "white",
           "linecolor": "white",
           "ticks": "",
           "title": {
            "standoff": 15
           },
           "zerolinecolor": "white",
           "zerolinewidth": 2
          },
          "yaxis": {
           "automargin": true,
           "gridcolor": "white",
           "linecolor": "white",
           "ticks": "",
           "title": {
            "standoff": 15
           },
           "zerolinecolor": "white",
           "zerolinewidth": 2
          }
         }
        },
        "width": 1100,
        "xaxis": {
         "anchor": "y",
         "constrain": "domain",
         "domain": [
          0,
          1
         ],
         "scaleanchor": "y"
        },
        "yaxis": {
         "anchor": "x",
         "autorange": "reversed",
         "constrain": "domain",
         "domain": [
          0,
          1
         ]
        }
       }
      }
     },
     "metadata": {},
     "output_type": "display_data"
    }
   ],
   "source": [
    "fig = px.imshow(villas.corr(numeric_only=True)\n",
    ", text_auto=True  ,width=1100,height=1100)\n",
    "fig.show()"
   ]
  }
 ],
 "metadata": {
  "kernelspec": {
   "display_name": "Python 3",
   "language": "python",
   "name": "python3"
  },
  "language_info": {
   "codemirror_mode": {
    "name": "ipython",
    "version": 3
   },
   "file_extension": ".py",
   "mimetype": "text/x-python",
   "name": "python",
   "nbconvert_exporter": "python",
   "pygments_lexer": "ipython3",
   "version": "3.11.1"
  }
 },
 "nbformat": 4,
 "nbformat_minor": 5
}
