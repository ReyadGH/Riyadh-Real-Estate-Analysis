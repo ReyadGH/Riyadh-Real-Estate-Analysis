{
 "cells": [
  {
   "cell_type": "code",
   "execution_count": 38,
   "id": "e69c4ba1-85f3-4a02-ae37-c64347a01803",
   "metadata": {},
   "outputs": [],
   "source": [
    "#Import all relevant libraries\n",
    "import numpy as np\n",
    "import pandas as pd\n",
    "import matplotlib.pyplot as plt\n",
    "import seaborn as sns\n",
    "from scipy.stats import zscore\n",
    "import plotly as plot\n",
    "import dtale\n",
    " \n",
    "## This statement allows the visuals to render within your Jupyter Notebook.\n",
    "%matplotlib inline"
   ]
  },
  {
   "cell_type": "markdown",
   "id": "e395e8bf-b530-4720-8d0f-26811e927d6e",
   "metadata": {},
   "source": [
    "## Loading the data\n",
    "We can now load the dataset into pandas using the read_csv() function. This converts the CSV file into a Pandas dataframe."
   ]
  },
  {
   "cell_type": "code",
   "execution_count": 39,
   "id": "cf4030b0-aa7f-4bd7-8e9c-c1b7f4d202d0",
   "metadata": {},
   "outputs": [],
   "source": [
    "#Read in the csv file and convert to a Pandas dataframe\n",
    "# add it into dict to save history of each step\n",
    "dfs: dict[str: pd.DataFrame] = {\"raw\":pd.read_csv(\"../data/RiyadhVillasAqar.csv\", low_memory=False)}\n",
    "\n",
    "# here we set out init df\n",
    "df: pd.DataFrame = dfs[\"raw\"].copy()"
   ]
  },
  {
   "cell_type": "markdown",
   "id": "ca5ed983-0f72-43eb-8168-6fafd48c562e",
   "metadata": {},
   "source": [
    "### Viewing the dataframe\n",
    "We can get a quick sense of the size of our dataset by using the shape method. This returns a tuple with the number of rows and columns in the dataset."
   ]
  },
  {
   "cell_type": "code",
   "execution_count": 40,
   "id": "bfde0b69-613c-4dd1-8ebf-e4d2e570e653",
   "metadata": {},
   "outputs": [
    {
     "data": {
      "text/html": [
       "<div>\n",
       "<style scoped>\n",
       "    .dataframe tbody tr th:only-of-type {\n",
       "        vertical-align: middle;\n",
       "    }\n",
       "\n",
       "    .dataframe tbody tr th {\n",
       "        vertical-align: top;\n",
       "    }\n",
       "\n",
       "    .dataframe thead th {\n",
       "        text-align: right;\n",
       "    }\n",
       "</style>\n",
       "<table border=\"1\" class=\"dataframe\">\n",
       "  <thead>\n",
       "    <tr style=\"text-align: right;\">\n",
       "      <th></th>\n",
       "      <th>Unnamed: 0</th>\n",
       "      <th>front</th>\n",
       "      <th>rooms</th>\n",
       "      <th>lounges</th>\n",
       "      <th>bathrooms</th>\n",
       "      <th>streetWidth</th>\n",
       "      <th>stairs</th>\n",
       "      <th>propertyAge</th>\n",
       "      <th>driverRoom</th>\n",
       "      <th>tent</th>\n",
       "      <th>...</th>\n",
       "      <th>apartments</th>\n",
       "      <th>maidRoom</th>\n",
       "      <th>elevator</th>\n",
       "      <th>furnihsed</th>\n",
       "      <th>pool</th>\n",
       "      <th>basement</th>\n",
       "      <th>neighbourhood</th>\n",
       "      <th>location</th>\n",
       "      <th>price</th>\n",
       "      <th>square price</th>\n",
       "    </tr>\n",
       "  </thead>\n",
       "  <tbody>\n",
       "    <tr>\n",
       "      <th>0</th>\n",
       "      <td>0</td>\n",
       "      <td>شرقية</td>\n",
       "      <td>5</td>\n",
       "      <td>4</td>\n",
       "      <td>5+</td>\n",
       "      <td>20.0</td>\n",
       "      <td>1</td>\n",
       "      <td>0</td>\n",
       "      <td>1</td>\n",
       "      <td>1</td>\n",
       "      <td>...</td>\n",
       "      <td>0</td>\n",
       "      <td>0</td>\n",
       "      <td>0</td>\n",
       "      <td>0</td>\n",
       "      <td>0</td>\n",
       "      <td>0</td>\n",
       "      <td>عكاظ</td>\n",
       "      <td>جنوب الرياض</td>\n",
       "      <td>1050000.0</td>\n",
       "      <td>3500.000000</td>\n",
       "    </tr>\n",
       "    <tr>\n",
       "      <th>1</th>\n",
       "      <td>1</td>\n",
       "      <td>غربية</td>\n",
       "      <td>4</td>\n",
       "      <td>3</td>\n",
       "      <td>5+</td>\n",
       "      <td>20.0</td>\n",
       "      <td>1</td>\n",
       "      <td>0</td>\n",
       "      <td>1</td>\n",
       "      <td>1</td>\n",
       "      <td>...</td>\n",
       "      <td>2</td>\n",
       "      <td>1</td>\n",
       "      <td>1</td>\n",
       "      <td>0</td>\n",
       "      <td>0</td>\n",
       "      <td>0</td>\n",
       "      <td>المهدية</td>\n",
       "      <td>غرب الرياض</td>\n",
       "      <td>3000000.0</td>\n",
       "      <td>5555.555556</td>\n",
       "    </tr>\n",
       "  </tbody>\n",
       "</table>\n",
       "<p>2 rows × 26 columns</p>\n",
       "</div>"
      ],
      "text/plain": [
       "   Unnamed: 0  front  rooms lounges bathrooms  streetWidth  stairs  \\\n",
       "0           0  شرقية      5       4        5+         20.0       1   \n",
       "1           1  غربية      4       3        5+         20.0       1   \n",
       "\n",
       "   propertyAge  driverRoom  tent  ...  apartments  maidRoom  elevator  \\\n",
       "0            0           1     1  ...           0         0         0   \n",
       "1            0           1     1  ...           2         1         1   \n",
       "\n",
       "   furnihsed  pool  basement neighbourhood     location      price  \\\n",
       "0          0     0         0         عكاظ   جنوب الرياض  1050000.0   \n",
       "1          0     0         0      المهدية    غرب الرياض  3000000.0   \n",
       "\n",
       "   square price  \n",
       "0   3500.000000  \n",
       "1   5555.555556  \n",
       "\n",
       "[2 rows x 26 columns]"
      ]
     },
     "execution_count": 40,
     "metadata": {},
     "output_type": "execute_result"
    }
   ],
   "source": [
    "df.head(2)"
   ]
  },
  {
   "cell_type": "code",
   "execution_count": 41,
   "id": "b06ece8f",
   "metadata": {},
   "outputs": [],
   "source": [
    "d = dtale.show(df, host=\"localhost\")"
   ]
  },
  {
   "cell_type": "code",
   "execution_count": 42,
   "id": "56402e3a",
   "metadata": {},
   "outputs": [],
   "source": [
    "d.open_browser()"
   ]
  },
  {
   "cell_type": "code",
   "execution_count": null,
   "id": "775b2121",
   "metadata": {},
   "outputs": [],
   "source": []
  },
  {
   "cell_type": "markdown",
   "id": "bd2b5bc4-db37-4432-b666-0714afd0c4ca",
   "metadata": {},
   "source": [
    "## 1. Data Profiling:\n",
    "Data profiling is a comprehensive process of examining the data available in an existing dataset and collecting statistics and information about that data. "
   ]
  },
  {
   "cell_type": "code",
   "execution_count": null,
   "id": "672f2081-5a2c-4908-8cbd-29519fb3cac5",
   "metadata": {},
   "outputs": [],
   "source": []
  },
  {
   "cell_type": "markdown",
   "id": "834929aa-fd6a-4ec5-84d4-77c4b3c1a506",
   "metadata": {},
   "source": [
    "The process of profiling differs slightly for categorical and numerical variables due to their inherent differences.\n",
    "\n",
    "**The two main types of data are:**\n",
    "- Quantitative (numerical) data\n",
    "- Qualitative (categorical) data"
   ]
  },
  {
   "cell_type": "markdown",
   "id": "3a9954f5-6fbc-45b4-ad86-3e21b6e0ca2d",
   "metadata": {},
   "source": [
    "### Data Quality Checks\n",
    "Data quality checks involve the process of ensuring that the data is accurate, complete, consistent, relevant, and reliable. \n",
    "\n",
    "\n",
    "**Here are typical steps involved in checking data quality:**"
   ]
  },
  {
   "cell_type": "markdown",
   "id": "4818c876-173d-4e56-9e7d-b4334d2def25",
   "metadata": {},
   "source": [
    "#### 1. Reliability:\n",
    "Evaluate the data's source and collection process to determine its trustworthiness."
   ]
  },
  {
   "cell_type": "code",
   "execution_count": 155,
   "id": "9034ae7b-dc1d-4cba-8f9e-bb499d021cde",
   "metadata": {},
   "outputs": [],
   "source": [
    "# Private Datasource"
   ]
  },
  {
   "cell_type": "markdown",
   "id": "2ce0cc59-8c92-4acc-8d07-c40764e1a86b",
   "metadata": {},
   "source": [
    "#### 2. Timeliness: \n",
    "Ensure the data is up-to-date and reflective of the current situation or the period of interest for the analysis."
   ]
  },
  {
   "cell_type": "code",
   "execution_count": null,
   "id": "4b78ae35-7226-4cb6-b8b2-a46c2ed17cf9",
   "metadata": {},
   "outputs": [],
   "source": []
  },
  {
   "cell_type": "markdown",
   "id": "7fab0fe2-6624-4615-b9d8-3c3669056bf8",
   "metadata": {},
   "source": [
    "#### 3. Consistency: \n",
    "\n",
    "Confirm that the data is consistent within the dataset and across multiple data sources. For example, the same data point should not have different values in different places.\n"
   ]
  },
  {
   "cell_type": "code",
   "execution_count": null,
   "id": "7fecc573-959f-4800-8ddd-a67985c68b18",
   "metadata": {},
   "outputs": [],
   "source": []
  },
  {
   "cell_type": "markdown",
   "id": "bec3d183-bba0-4b12-b963-487daab1e876",
   "metadata": {},
   "source": [
    "#### 4. Relevance: \n",
    "Assess whether the data is appropriate and applicable for the intended analysis. Data that is not relevant can skew results and lead to incorrect conclusions.\n",
    "\n",
    "**Key considerations for relevance include:**\n",
    "\n",
    "> 1. Sample Appropriateness: Confirm that your data sample aligns with your analysis objectives. For instance, utilizing data from the Northern region will not yield accurate insights for the Western region of the Kingdom.\n",
    ">\n",
    "> 2. Variable Selection: Any column will not be relevant for our analysis, we can get rid of these using the drop() method. We will set the “axis” argument to 1 since we’re dealing with columns, and set the “inplace” argument to True to make the change permanent.\n"
   ]
  },
  {
   "cell_type": "code",
   "execution_count": 43,
   "id": "50a934b7-a0cd-443f-8a27-f10e9a6e8647",
   "metadata": {
    "scrolled": true
   },
   "outputs": [],
   "source": [
    "df.drop(\"Unnamed: 0\", axis=1, inplace=True)"
   ]
  },
  {
   "cell_type": "markdown",
   "id": "0f5e3a2a-bbb7-4d06-8220-c93277b70146",
   "metadata": {},
   "source": [
    "#### 5. Uniqueness: \n",
    "Check for and remove duplicate records to prevent skewed analysis results.\n"
   ]
  },
  {
   "cell_type": "code",
   "execution_count": null,
   "id": "a509a7aa-58f4-4d39-8eb8-e8298a21f2a7",
   "metadata": {},
   "outputs": [],
   "source": []
  },
  {
   "cell_type": "code",
   "execution_count": 44,
   "id": "04c62559-3b48-48cf-a4e9-857e2e0ff416",
   "metadata": {},
   "outputs": [],
   "source": [
    "# go to delete duplicates columns"
   ]
  },
  {
   "cell_type": "markdown",
   "id": "c7724ac2-4ea2-4cf4-a9e0-e64368f87b92",
   "metadata": {},
   "source": [
    "#### 6. Completeness: \n",
    "Ensure that no critical data is missing. This might mean checking for null values or required fields that are empty.\n",
    "\n",
    "We will start by checking the dataset for missing or null values. For this, we can use the isna() method which returns a dataframe of boolean values indicating if a field is null or not. To group all missing values by column, we can include the sum() method."
   ]
  },
  {
   "cell_type": "code",
   "execution_count": 45,
   "id": "48a4de54-a344-4b94-9908-9528c15c13f7",
   "metadata": {},
   "outputs": [
    {
     "data": {
      "text/plain": [
       "front               0\n",
       "rooms               0\n",
       "lounges          1118\n",
       "bathrooms           0\n",
       "streetWidth       190\n",
       "stairs              0\n",
       "propertyAge         0\n",
       "driverRoom          0\n",
       "tent                0\n",
       "patio               0\n",
       "kitchen             0\n",
       "outdoorRoom         0\n",
       "garage              0\n",
       "duplex              0\n",
       "space               0\n",
       "apartments          0\n",
       "maidRoom            0\n",
       "elevator            0\n",
       "furnihsed           0\n",
       "pool                0\n",
       "basement            0\n",
       "neighbourhood       0\n",
       "location            0\n",
       "price               2\n",
       "square price        2\n",
       "dtype: int64"
      ]
     },
     "execution_count": 45,
     "metadata": {},
     "output_type": "execute_result"
    }
   ],
   "source": [
    "#Display number missing values per column\n",
    "df.isna().sum()"
   ]
  },
  {
   "cell_type": "code",
   "execution_count": 46,
   "id": "7c727922",
   "metadata": {},
   "outputs": [
    {
     "data": {
      "text/html": [
       "<div>\n",
       "<style scoped>\n",
       "    .dataframe tbody tr th:only-of-type {\n",
       "        vertical-align: middle;\n",
       "    }\n",
       "\n",
       "    .dataframe tbody tr th {\n",
       "        vertical-align: top;\n",
       "    }\n",
       "\n",
       "    .dataframe thead th {\n",
       "        text-align: right;\n",
       "    }\n",
       "</style>\n",
       "<table border=\"1\" class=\"dataframe\">\n",
       "  <thead>\n",
       "    <tr style=\"text-align: right;\">\n",
       "      <th></th>\n",
       "      <th>front</th>\n",
       "      <th>rooms</th>\n",
       "      <th>lounges</th>\n",
       "      <th>bathrooms</th>\n",
       "      <th>streetWidth</th>\n",
       "      <th>stairs</th>\n",
       "      <th>propertyAge</th>\n",
       "      <th>driverRoom</th>\n",
       "      <th>tent</th>\n",
       "      <th>patio</th>\n",
       "      <th>...</th>\n",
       "      <th>apartments</th>\n",
       "      <th>maidRoom</th>\n",
       "      <th>elevator</th>\n",
       "      <th>furnihsed</th>\n",
       "      <th>pool</th>\n",
       "      <th>basement</th>\n",
       "      <th>neighbourhood</th>\n",
       "      <th>location</th>\n",
       "      <th>price</th>\n",
       "      <th>square price</th>\n",
       "    </tr>\n",
       "  </thead>\n",
       "  <tbody>\n",
       "    <tr>\n",
       "      <th>0</th>\n",
       "      <td>شرقية</td>\n",
       "      <td>5</td>\n",
       "      <td>4</td>\n",
       "      <td>5+</td>\n",
       "      <td>20.0</td>\n",
       "      <td>1</td>\n",
       "      <td>0</td>\n",
       "      <td>1</td>\n",
       "      <td>1</td>\n",
       "      <td>1</td>\n",
       "      <td>...</td>\n",
       "      <td>0</td>\n",
       "      <td>0</td>\n",
       "      <td>0</td>\n",
       "      <td>0</td>\n",
       "      <td>0</td>\n",
       "      <td>0</td>\n",
       "      <td>عكاظ</td>\n",
       "      <td>جنوب الرياض</td>\n",
       "      <td>1050000.0</td>\n",
       "      <td>3500.000000</td>\n",
       "    </tr>\n",
       "    <tr>\n",
       "      <th>1</th>\n",
       "      <td>غربية</td>\n",
       "      <td>4</td>\n",
       "      <td>3</td>\n",
       "      <td>5+</td>\n",
       "      <td>20.0</td>\n",
       "      <td>1</td>\n",
       "      <td>0</td>\n",
       "      <td>1</td>\n",
       "      <td>1</td>\n",
       "      <td>1</td>\n",
       "      <td>...</td>\n",
       "      <td>2</td>\n",
       "      <td>1</td>\n",
       "      <td>1</td>\n",
       "      <td>0</td>\n",
       "      <td>0</td>\n",
       "      <td>0</td>\n",
       "      <td>المهدية</td>\n",
       "      <td>غرب الرياض</td>\n",
       "      <td>3000000.0</td>\n",
       "      <td>5555.555556</td>\n",
       "    </tr>\n",
       "  </tbody>\n",
       "</table>\n",
       "<p>2 rows × 25 columns</p>\n",
       "</div>"
      ],
      "text/plain": [
       "   front  rooms lounges bathrooms  streetWidth  stairs  propertyAge  \\\n",
       "0  شرقية      5       4        5+         20.0       1            0   \n",
       "1  غربية      4       3        5+         20.0       1            0   \n",
       "\n",
       "   driverRoom  tent  patio  ...  apartments  maidRoom  elevator  furnihsed  \\\n",
       "0           1     1      1  ...           0         0         0          0   \n",
       "1           1     1      1  ...           2         1         1          0   \n",
       "\n",
       "   pool basement  neighbourhood     location      price  square price  \n",
       "0     0        0          عكاظ   جنوب الرياض  1050000.0   3500.000000  \n",
       "1     0        0       المهدية    غرب الرياض  3000000.0   5555.555556  \n",
       "\n",
       "[2 rows x 25 columns]"
      ]
     },
     "execution_count": 46,
     "metadata": {},
     "output_type": "execute_result"
    }
   ],
   "source": [
    "df.head(2)"
   ]
  },
  {
   "cell_type": "code",
   "execution_count": 47,
   "id": "b17332aa",
   "metadata": {},
   "outputs": [],
   "source": [
    "df[\"lounges\"].fillna(0, inplace=True)"
   ]
  },
  {
   "cell_type": "code",
   "execution_count": 48,
   "id": "e0da3a04",
   "metadata": {},
   "outputs": [
    {
     "data": {
      "text/plain": [
       "front              0\n",
       "rooms              0\n",
       "lounges            0\n",
       "bathrooms          0\n",
       "streetWidth      190\n",
       "stairs             0\n",
       "propertyAge        0\n",
       "driverRoom         0\n",
       "tent               0\n",
       "patio              0\n",
       "kitchen            0\n",
       "outdoorRoom        0\n",
       "garage             0\n",
       "duplex             0\n",
       "space              0\n",
       "apartments         0\n",
       "maidRoom           0\n",
       "elevator           0\n",
       "furnihsed          0\n",
       "pool               0\n",
       "basement           0\n",
       "neighbourhood      0\n",
       "location           0\n",
       "price              2\n",
       "square price       2\n",
       "dtype: int64"
      ]
     },
     "execution_count": 48,
     "metadata": {},
     "output_type": "execute_result"
    }
   ],
   "source": [
    "df.isna().sum()"
   ]
  },
  {
   "cell_type": "code",
   "execution_count": 49,
   "id": "d9211d12",
   "metadata": {},
   "outputs": [],
   "source": [
    "df = df.drop(index=df[df[\"price\"].isna()].index, axis=0)"
   ]
  },
  {
   "cell_type": "code",
   "execution_count": 50,
   "id": "a3374f08",
   "metadata": {},
   "outputs": [
    {
     "data": {
      "text/plain": [
       "front              0\n",
       "rooms              0\n",
       "lounges            0\n",
       "bathrooms          0\n",
       "streetWidth      190\n",
       "stairs             0\n",
       "propertyAge        0\n",
       "driverRoom         0\n",
       "tent               0\n",
       "patio              0\n",
       "kitchen            0\n",
       "outdoorRoom        0\n",
       "garage             0\n",
       "duplex             0\n",
       "space              0\n",
       "apartments         0\n",
       "maidRoom           0\n",
       "elevator           0\n",
       "furnihsed          0\n",
       "pool               0\n",
       "basement           0\n",
       "neighbourhood      0\n",
       "location           0\n",
       "price              0\n",
       "square price       0\n",
       "dtype: int64"
      ]
     },
     "execution_count": 50,
     "metadata": {},
     "output_type": "execute_result"
    }
   ],
   "source": [
    "df.isna().sum()"
   ]
  },
  {
   "cell_type": "code",
   "execution_count": 51,
   "id": "fc05f171",
   "metadata": {},
   "outputs": [],
   "source": [
    "df.dropna(axis=0, inplace=True)"
   ]
  },
  {
   "cell_type": "code",
   "execution_count": 52,
   "id": "ca89bf50",
   "metadata": {},
   "outputs": [
    {
     "data": {
      "text/plain": [
       "front            0\n",
       "rooms            0\n",
       "lounges          0\n",
       "bathrooms        0\n",
       "streetWidth      0\n",
       "stairs           0\n",
       "propertyAge      0\n",
       "driverRoom       0\n",
       "tent             0\n",
       "patio            0\n",
       "kitchen          0\n",
       "outdoorRoom      0\n",
       "garage           0\n",
       "duplex           0\n",
       "space            0\n",
       "apartments       0\n",
       "maidRoom         0\n",
       "elevator         0\n",
       "furnihsed        0\n",
       "pool             0\n",
       "basement         0\n",
       "neighbourhood    0\n",
       "location         0\n",
       "price            0\n",
       "square price     0\n",
       "dtype: int64"
      ]
     },
     "execution_count": 52,
     "metadata": {},
     "output_type": "execute_result"
    }
   ],
   "source": [
    "df.isna().sum()"
   ]
  },
  {
   "cell_type": "code",
   "execution_count": 53,
   "id": "1797d9d0",
   "metadata": {},
   "outputs": [
    {
     "name": "stderr",
     "output_type": "stream",
     "text": [
      "2024-05-17 16:43:36,919 - INFO     - Executing shutdown...\n",
      "2024-05-17 16:43:36,921 - INFO     - Not running with the Werkzeug Server, exiting by searching gc for BaseWSGIServer\n"
     ]
    }
   ],
   "source": [
    "d.kill()"
   ]
  },
  {
   "cell_type": "code",
   "execution_count": 85,
   "id": "525f0e1b",
   "metadata": {},
   "outputs": [
    {
     "data": {
      "text/plain": [
       "streetWidth\n",
       "1.0         21\n",
       "2.0          3\n",
       "4.0          5\n",
       "5.0        490\n",
       "6.0          4\n",
       "8.0          8\n",
       "9.0          9\n",
       "10.0       589\n",
       "11.0        32\n",
       "12.0       680\n",
       "13.0        79\n",
       "14.0       378\n",
       "15.0     15392\n",
       "16.0      1122\n",
       "17.0       588\n",
       "18.0      2956\n",
       "19.0       579\n",
       "20.0     19160\n",
       "21.0       908\n",
       "22.0       216\n",
       "23.0        91\n",
       "24.0       107\n",
       "25.0      1948\n",
       "26.0        86\n",
       "27.0        31\n",
       "28.0       222\n",
       "29.0        29\n",
       "30.0       634\n",
       "31.0        36\n",
       "32.0        14\n",
       "33.0         6\n",
       "34.0         5\n",
       "35.0        57\n",
       "36.0        34\n",
       "37.0         2\n",
       "38.0         3\n",
       "39.0         5\n",
       "40.0        51\n",
       "41.0         4\n",
       "42.0         1\n",
       "43.0         5\n",
       "44.0         2\n",
       "45.0         8\n",
       "50.0         5\n",
       "51.0         1\n",
       "56.0         2\n",
       "60.0        10\n",
       "61.0         1\n",
       "62.0         1\n",
       "64.0         1\n",
       "70.0         1\n",
       "72.0         2\n",
       "96.0         2\n",
       "97.0         1\n",
       "100.0        7\n",
       "Name: count, dtype: int64"
      ]
     },
     "execution_count": 85,
     "metadata": {},
     "output_type": "execute_result"
    }
   ],
   "source": [
    "df[\"streetWidth\"].value_counts().sort_index()"
   ]
  },
  {
   "cell_type": "code",
   "execution_count": 80,
   "id": "0df7f873",
   "metadata": {},
   "outputs": [],
   "source": [
    "d = dtale.show(df, host=\"localhost\")"
   ]
  },
  {
   "cell_type": "code",
   "execution_count": 81,
   "id": "503733fd",
   "metadata": {},
   "outputs": [],
   "source": [
    "d.open_browser()"
   ]
  },
  {
   "cell_type": "code",
   "execution_count": 56,
   "id": "aa4b623e",
   "metadata": {},
   "outputs": [
    {
     "name": "stderr",
     "output_type": "stream",
     "text": [
      "2024-05-17 16:43:43,739 - INFO     - Executing shutdown...\n",
      "2024-05-17 16:43:43,741 - INFO     - Not running with the Werkzeug Server, exiting by searching gc for BaseWSGIServer\n"
     ]
    }
   ],
   "source": [
    "# d.kill()"
   ]
  },
  {
   "cell_type": "code",
   "execution_count": 57,
   "id": "abec31c4-0904-4b73-8cee-b7bc14ab1e67",
   "metadata": {},
   "outputs": [],
   "source": [
    "# go to clean them "
   ]
  },
  {
   "cell_type": "markdown",
   "id": "b40de63c-5a1d-49ed-a87e-c5229ee08bbe",
   "metadata": {},
   "source": [
    "#### 7. Check Accuracy:\n",
    "\n",
    "Verify that the data is correct and precise. This could involve comparing data samples with known sources or using validation rules.\n",
    "\n",
    "**The process includes:**\n",
    "1. Validating the appropriateness of data types for the dataset.\n",
    "2. Identifying outliers  using established validation  rule"
   ]
  },
  {
   "cell_type": "code",
   "execution_count": 58,
   "id": "68be5334-ae10-4abd-8097-3259fe5e72c8",
   "metadata": {},
   "outputs": [],
   "source": [
    "# check columns types "
   ]
  },
  {
   "cell_type": "code",
   "execution_count": 59,
   "id": "0d5c178d",
   "metadata": {},
   "outputs": [
    {
     "data": {
      "text/html": [
       "<div>\n",
       "<style scoped>\n",
       "    .dataframe tbody tr th:only-of-type {\n",
       "        vertical-align: middle;\n",
       "    }\n",
       "\n",
       "    .dataframe tbody tr th {\n",
       "        vertical-align: top;\n",
       "    }\n",
       "\n",
       "    .dataframe thead th {\n",
       "        text-align: right;\n",
       "    }\n",
       "</style>\n",
       "<table border=\"1\" class=\"dataframe\">\n",
       "  <thead>\n",
       "    <tr style=\"text-align: right;\">\n",
       "      <th></th>\n",
       "      <th>front</th>\n",
       "      <th>rooms</th>\n",
       "      <th>lounges</th>\n",
       "      <th>bathrooms</th>\n",
       "      <th>streetWidth</th>\n",
       "      <th>stairs</th>\n",
       "      <th>propertyAge</th>\n",
       "      <th>driverRoom</th>\n",
       "      <th>tent</th>\n",
       "      <th>patio</th>\n",
       "      <th>...</th>\n",
       "      <th>apartments</th>\n",
       "      <th>maidRoom</th>\n",
       "      <th>elevator</th>\n",
       "      <th>furnihsed</th>\n",
       "      <th>pool</th>\n",
       "      <th>basement</th>\n",
       "      <th>neighbourhood</th>\n",
       "      <th>location</th>\n",
       "      <th>price</th>\n",
       "      <th>square price</th>\n",
       "    </tr>\n",
       "  </thead>\n",
       "  <tbody>\n",
       "    <tr>\n",
       "      <th>0</th>\n",
       "      <td>شرقية</td>\n",
       "      <td>5</td>\n",
       "      <td>4</td>\n",
       "      <td>5+</td>\n",
       "      <td>20.0</td>\n",
       "      <td>1</td>\n",
       "      <td>0</td>\n",
       "      <td>1</td>\n",
       "      <td>1</td>\n",
       "      <td>1</td>\n",
       "      <td>...</td>\n",
       "      <td>0</td>\n",
       "      <td>0</td>\n",
       "      <td>0</td>\n",
       "      <td>0</td>\n",
       "      <td>0</td>\n",
       "      <td>0</td>\n",
       "      <td>عكاظ</td>\n",
       "      <td>جنوب الرياض</td>\n",
       "      <td>1050000.0</td>\n",
       "      <td>3500.000000</td>\n",
       "    </tr>\n",
       "    <tr>\n",
       "      <th>1</th>\n",
       "      <td>غربية</td>\n",
       "      <td>4</td>\n",
       "      <td>3</td>\n",
       "      <td>5+</td>\n",
       "      <td>20.0</td>\n",
       "      <td>1</td>\n",
       "      <td>0</td>\n",
       "      <td>1</td>\n",
       "      <td>1</td>\n",
       "      <td>1</td>\n",
       "      <td>...</td>\n",
       "      <td>2</td>\n",
       "      <td>1</td>\n",
       "      <td>1</td>\n",
       "      <td>0</td>\n",
       "      <td>0</td>\n",
       "      <td>0</td>\n",
       "      <td>المهدية</td>\n",
       "      <td>غرب الرياض</td>\n",
       "      <td>3000000.0</td>\n",
       "      <td>5555.555556</td>\n",
       "    </tr>\n",
       "  </tbody>\n",
       "</table>\n",
       "<p>2 rows × 25 columns</p>\n",
       "</div>"
      ],
      "text/plain": [
       "   front  rooms lounges bathrooms  streetWidth  stairs  propertyAge  \\\n",
       "0  شرقية      5       4        5+         20.0       1            0   \n",
       "1  غربية      4       3        5+         20.0       1            0   \n",
       "\n",
       "   driverRoom  tent  patio  ...  apartments  maidRoom  elevator  furnihsed  \\\n",
       "0           1     1      1  ...           0         0         0          0   \n",
       "1           1     1      1  ...           2         1         1          0   \n",
       "\n",
       "   pool basement  neighbourhood     location      price  square price  \n",
       "0     0        0          عكاظ   جنوب الرياض  1050000.0   3500.000000  \n",
       "1     0        0       المهدية    غرب الرياض  3000000.0   5555.555556  \n",
       "\n",
       "[2 rows x 25 columns]"
      ]
     },
     "execution_count": 59,
     "metadata": {},
     "output_type": "execute_result"
    }
   ],
   "source": [
    "df.head(2)"
   ]
  },
  {
   "cell_type": "code",
   "execution_count": 60,
   "id": "75f3fa5b",
   "metadata": {},
   "outputs": [
    {
     "data": {
      "text/plain": [
       "front             object\n",
       "rooms              int64\n",
       "lounges           object\n",
       "bathrooms         object\n",
       "streetWidth      float64\n",
       "stairs             int64\n",
       "propertyAge        int64\n",
       "driverRoom         int64\n",
       "tent               int64\n",
       "patio              int64\n",
       "kitchen            int64\n",
       "outdoorRoom        int64\n",
       "garage             int64\n",
       "duplex             int64\n",
       "space              int64\n",
       "apartments        object\n",
       "maidRoom           int64\n",
       "elevator           int64\n",
       "furnihsed          int64\n",
       "pool               int64\n",
       "basement           int64\n",
       "neighbourhood     object\n",
       "location          object\n",
       "price            float64\n",
       "square price     float64\n",
       "dtype: object"
      ]
     },
     "execution_count": 60,
     "metadata": {},
     "output_type": "execute_result"
    }
   ],
   "source": [
    "df.dtypes"
   ]
  },
  {
   "cell_type": "code",
   "execution_count": 61,
   "id": "ae350854",
   "metadata": {},
   "outputs": [],
   "source": [
    "df[\"lounges\"] = df[\"lounges\"].map(lambda x: int(str(x).replace(\"+\", \"\")))"
   ]
  },
  {
   "cell_type": "code",
   "execution_count": 62,
   "id": "8271ee29",
   "metadata": {},
   "outputs": [
    {
     "data": {
      "text/html": [
       "<div>\n",
       "<style scoped>\n",
       "    .dataframe tbody tr th:only-of-type {\n",
       "        vertical-align: middle;\n",
       "    }\n",
       "\n",
       "    .dataframe tbody tr th {\n",
       "        vertical-align: top;\n",
       "    }\n",
       "\n",
       "    .dataframe thead th {\n",
       "        text-align: right;\n",
       "    }\n",
       "</style>\n",
       "<table border=\"1\" class=\"dataframe\">\n",
       "  <thead>\n",
       "    <tr style=\"text-align: right;\">\n",
       "      <th></th>\n",
       "      <th>front</th>\n",
       "      <th>rooms</th>\n",
       "      <th>lounges</th>\n",
       "      <th>bathrooms</th>\n",
       "      <th>streetWidth</th>\n",
       "      <th>stairs</th>\n",
       "      <th>propertyAge</th>\n",
       "      <th>driverRoom</th>\n",
       "      <th>tent</th>\n",
       "      <th>patio</th>\n",
       "      <th>...</th>\n",
       "      <th>apartments</th>\n",
       "      <th>maidRoom</th>\n",
       "      <th>elevator</th>\n",
       "      <th>furnihsed</th>\n",
       "      <th>pool</th>\n",
       "      <th>basement</th>\n",
       "      <th>neighbourhood</th>\n",
       "      <th>location</th>\n",
       "      <th>price</th>\n",
       "      <th>square price</th>\n",
       "    </tr>\n",
       "  </thead>\n",
       "  <tbody>\n",
       "    <tr>\n",
       "      <th>0</th>\n",
       "      <td>شرقية</td>\n",
       "      <td>5</td>\n",
       "      <td>4</td>\n",
       "      <td>5+</td>\n",
       "      <td>20.0</td>\n",
       "      <td>1</td>\n",
       "      <td>0</td>\n",
       "      <td>1</td>\n",
       "      <td>1</td>\n",
       "      <td>1</td>\n",
       "      <td>...</td>\n",
       "      <td>0</td>\n",
       "      <td>0</td>\n",
       "      <td>0</td>\n",
       "      <td>0</td>\n",
       "      <td>0</td>\n",
       "      <td>0</td>\n",
       "      <td>عكاظ</td>\n",
       "      <td>جنوب الرياض</td>\n",
       "      <td>1050000.0</td>\n",
       "      <td>3500.000000</td>\n",
       "    </tr>\n",
       "    <tr>\n",
       "      <th>1</th>\n",
       "      <td>غربية</td>\n",
       "      <td>4</td>\n",
       "      <td>3</td>\n",
       "      <td>5+</td>\n",
       "      <td>20.0</td>\n",
       "      <td>1</td>\n",
       "      <td>0</td>\n",
       "      <td>1</td>\n",
       "      <td>1</td>\n",
       "      <td>1</td>\n",
       "      <td>...</td>\n",
       "      <td>2</td>\n",
       "      <td>1</td>\n",
       "      <td>1</td>\n",
       "      <td>0</td>\n",
       "      <td>0</td>\n",
       "      <td>0</td>\n",
       "      <td>المهدية</td>\n",
       "      <td>غرب الرياض</td>\n",
       "      <td>3000000.0</td>\n",
       "      <td>5555.555556</td>\n",
       "    </tr>\n",
       "  </tbody>\n",
       "</table>\n",
       "<p>2 rows × 25 columns</p>\n",
       "</div>"
      ],
      "text/plain": [
       "   front  rooms  lounges bathrooms  streetWidth  stairs  propertyAge  \\\n",
       "0  شرقية      5        4        5+         20.0       1            0   \n",
       "1  غربية      4        3        5+         20.0       1            0   \n",
       "\n",
       "   driverRoom  tent  patio  ...  apartments  maidRoom  elevator  furnihsed  \\\n",
       "0           1     1      1  ...           0         0         0          0   \n",
       "1           1     1      1  ...           2         1         1          0   \n",
       "\n",
       "   pool basement  neighbourhood     location      price  square price  \n",
       "0     0        0          عكاظ   جنوب الرياض  1050000.0   3500.000000  \n",
       "1     0        0       المهدية    غرب الرياض  3000000.0   5555.555556  \n",
       "\n",
       "[2 rows x 25 columns]"
      ]
     },
     "metadata": {},
     "output_type": "display_data"
    },
    {
     "data": {
      "text/plain": [
       "front             object\n",
       "rooms              int64\n",
       "lounges            int64\n",
       "bathrooms         object\n",
       "streetWidth      float64\n",
       "stairs             int64\n",
       "propertyAge        int64\n",
       "driverRoom         int64\n",
       "tent               int64\n",
       "patio              int64\n",
       "kitchen            int64\n",
       "outdoorRoom        int64\n",
       "garage             int64\n",
       "duplex             int64\n",
       "space              int64\n",
       "apartments        object\n",
       "maidRoom           int64\n",
       "elevator           int64\n",
       "furnihsed          int64\n",
       "pool               int64\n",
       "basement           int64\n",
       "neighbourhood     object\n",
       "location          object\n",
       "price            float64\n",
       "square price     float64\n",
       "dtype: object"
      ]
     },
     "metadata": {},
     "output_type": "display_data"
    }
   ],
   "source": [
    "display(df.head(2))\n",
    "display(df.dtypes)"
   ]
  },
  {
   "cell_type": "code",
   "execution_count": 63,
   "id": "b1b55b5d",
   "metadata": {},
   "outputs": [],
   "source": [
    "df[\"bathrooms\"] = df[\"bathrooms\"].map(lambda x: int(str(x).replace(\"+\", \"\")))"
   ]
  },
  {
   "cell_type": "code",
   "execution_count": 64,
   "id": "fa1430e6",
   "metadata": {},
   "outputs": [
    {
     "data": {
      "text/html": [
       "<div>\n",
       "<style scoped>\n",
       "    .dataframe tbody tr th:only-of-type {\n",
       "        vertical-align: middle;\n",
       "    }\n",
       "\n",
       "    .dataframe tbody tr th {\n",
       "        vertical-align: top;\n",
       "    }\n",
       "\n",
       "    .dataframe thead th {\n",
       "        text-align: right;\n",
       "    }\n",
       "</style>\n",
       "<table border=\"1\" class=\"dataframe\">\n",
       "  <thead>\n",
       "    <tr style=\"text-align: right;\">\n",
       "      <th></th>\n",
       "      <th>front</th>\n",
       "      <th>rooms</th>\n",
       "      <th>lounges</th>\n",
       "      <th>bathrooms</th>\n",
       "      <th>streetWidth</th>\n",
       "      <th>stairs</th>\n",
       "      <th>propertyAge</th>\n",
       "      <th>driverRoom</th>\n",
       "      <th>tent</th>\n",
       "      <th>patio</th>\n",
       "      <th>...</th>\n",
       "      <th>apartments</th>\n",
       "      <th>maidRoom</th>\n",
       "      <th>elevator</th>\n",
       "      <th>furnihsed</th>\n",
       "      <th>pool</th>\n",
       "      <th>basement</th>\n",
       "      <th>neighbourhood</th>\n",
       "      <th>location</th>\n",
       "      <th>price</th>\n",
       "      <th>square price</th>\n",
       "    </tr>\n",
       "  </thead>\n",
       "  <tbody>\n",
       "    <tr>\n",
       "      <th>0</th>\n",
       "      <td>شرقية</td>\n",
       "      <td>5</td>\n",
       "      <td>4</td>\n",
       "      <td>5</td>\n",
       "      <td>20.0</td>\n",
       "      <td>1</td>\n",
       "      <td>0</td>\n",
       "      <td>1</td>\n",
       "      <td>1</td>\n",
       "      <td>1</td>\n",
       "      <td>...</td>\n",
       "      <td>0</td>\n",
       "      <td>0</td>\n",
       "      <td>0</td>\n",
       "      <td>0</td>\n",
       "      <td>0</td>\n",
       "      <td>0</td>\n",
       "      <td>عكاظ</td>\n",
       "      <td>جنوب الرياض</td>\n",
       "      <td>1050000.0</td>\n",
       "      <td>3500.000000</td>\n",
       "    </tr>\n",
       "    <tr>\n",
       "      <th>1</th>\n",
       "      <td>غربية</td>\n",
       "      <td>4</td>\n",
       "      <td>3</td>\n",
       "      <td>5</td>\n",
       "      <td>20.0</td>\n",
       "      <td>1</td>\n",
       "      <td>0</td>\n",
       "      <td>1</td>\n",
       "      <td>1</td>\n",
       "      <td>1</td>\n",
       "      <td>...</td>\n",
       "      <td>2</td>\n",
       "      <td>1</td>\n",
       "      <td>1</td>\n",
       "      <td>0</td>\n",
       "      <td>0</td>\n",
       "      <td>0</td>\n",
       "      <td>المهدية</td>\n",
       "      <td>غرب الرياض</td>\n",
       "      <td>3000000.0</td>\n",
       "      <td>5555.555556</td>\n",
       "    </tr>\n",
       "  </tbody>\n",
       "</table>\n",
       "<p>2 rows × 25 columns</p>\n",
       "</div>"
      ],
      "text/plain": [
       "   front  rooms  lounges  bathrooms  streetWidth  stairs  propertyAge  \\\n",
       "0  شرقية      5        4          5         20.0       1            0   \n",
       "1  غربية      4        3          5         20.0       1            0   \n",
       "\n",
       "   driverRoom  tent  patio  ...  apartments  maidRoom  elevator  furnihsed  \\\n",
       "0           1     1      1  ...           0         0         0          0   \n",
       "1           1     1      1  ...           2         1         1          0   \n",
       "\n",
       "   pool basement  neighbourhood     location      price  square price  \n",
       "0     0        0          عكاظ   جنوب الرياض  1050000.0   3500.000000  \n",
       "1     0        0       المهدية    غرب الرياض  3000000.0   5555.555556  \n",
       "\n",
       "[2 rows x 25 columns]"
      ]
     },
     "metadata": {},
     "output_type": "display_data"
    },
    {
     "data": {
      "text/plain": [
       "front             object\n",
       "rooms              int64\n",
       "lounges            int64\n",
       "bathrooms          int64\n",
       "streetWidth      float64\n",
       "stairs             int64\n",
       "propertyAge        int64\n",
       "driverRoom         int64\n",
       "tent               int64\n",
       "patio              int64\n",
       "kitchen            int64\n",
       "outdoorRoom        int64\n",
       "garage             int64\n",
       "duplex             int64\n",
       "space              int64\n",
       "apartments        object\n",
       "maidRoom           int64\n",
       "elevator           int64\n",
       "furnihsed          int64\n",
       "pool               int64\n",
       "basement           int64\n",
       "neighbourhood     object\n",
       "location          object\n",
       "price            float64\n",
       "square price     float64\n",
       "dtype: object"
      ]
     },
     "metadata": {},
     "output_type": "display_data"
    }
   ],
   "source": [
    "display(df.head(2))\n",
    "display(df.dtypes)"
   ]
  },
  {
   "cell_type": "code",
   "execution_count": 65,
   "id": "a8427f1d",
   "metadata": {},
   "outputs": [],
   "source": [
    "df[\"apartments\"] = df[\"apartments\"].map(lambda x: int(str(x).replace(\"+\", \"\")))\n"
   ]
  },
  {
   "cell_type": "code",
   "execution_count": 66,
   "id": "49a125a5",
   "metadata": {},
   "outputs": [
    {
     "data": {
      "text/html": [
       "<div>\n",
       "<style scoped>\n",
       "    .dataframe tbody tr th:only-of-type {\n",
       "        vertical-align: middle;\n",
       "    }\n",
       "\n",
       "    .dataframe tbody tr th {\n",
       "        vertical-align: top;\n",
       "    }\n",
       "\n",
       "    .dataframe thead th {\n",
       "        text-align: right;\n",
       "    }\n",
       "</style>\n",
       "<table border=\"1\" class=\"dataframe\">\n",
       "  <thead>\n",
       "    <tr style=\"text-align: right;\">\n",
       "      <th></th>\n",
       "      <th>front</th>\n",
       "      <th>rooms</th>\n",
       "      <th>lounges</th>\n",
       "      <th>bathrooms</th>\n",
       "      <th>streetWidth</th>\n",
       "      <th>stairs</th>\n",
       "      <th>propertyAge</th>\n",
       "      <th>driverRoom</th>\n",
       "      <th>tent</th>\n",
       "      <th>patio</th>\n",
       "      <th>...</th>\n",
       "      <th>apartments</th>\n",
       "      <th>maidRoom</th>\n",
       "      <th>elevator</th>\n",
       "      <th>furnihsed</th>\n",
       "      <th>pool</th>\n",
       "      <th>basement</th>\n",
       "      <th>neighbourhood</th>\n",
       "      <th>location</th>\n",
       "      <th>price</th>\n",
       "      <th>square price</th>\n",
       "    </tr>\n",
       "  </thead>\n",
       "  <tbody>\n",
       "    <tr>\n",
       "      <th>0</th>\n",
       "      <td>شرقية</td>\n",
       "      <td>5</td>\n",
       "      <td>4</td>\n",
       "      <td>5</td>\n",
       "      <td>20.0</td>\n",
       "      <td>1</td>\n",
       "      <td>0</td>\n",
       "      <td>1</td>\n",
       "      <td>1</td>\n",
       "      <td>1</td>\n",
       "      <td>...</td>\n",
       "      <td>0</td>\n",
       "      <td>0</td>\n",
       "      <td>0</td>\n",
       "      <td>0</td>\n",
       "      <td>0</td>\n",
       "      <td>0</td>\n",
       "      <td>عكاظ</td>\n",
       "      <td>جنوب الرياض</td>\n",
       "      <td>1050000.0</td>\n",
       "      <td>3500.000000</td>\n",
       "    </tr>\n",
       "    <tr>\n",
       "      <th>1</th>\n",
       "      <td>غربية</td>\n",
       "      <td>4</td>\n",
       "      <td>3</td>\n",
       "      <td>5</td>\n",
       "      <td>20.0</td>\n",
       "      <td>1</td>\n",
       "      <td>0</td>\n",
       "      <td>1</td>\n",
       "      <td>1</td>\n",
       "      <td>1</td>\n",
       "      <td>...</td>\n",
       "      <td>2</td>\n",
       "      <td>1</td>\n",
       "      <td>1</td>\n",
       "      <td>0</td>\n",
       "      <td>0</td>\n",
       "      <td>0</td>\n",
       "      <td>المهدية</td>\n",
       "      <td>غرب الرياض</td>\n",
       "      <td>3000000.0</td>\n",
       "      <td>5555.555556</td>\n",
       "    </tr>\n",
       "  </tbody>\n",
       "</table>\n",
       "<p>2 rows × 25 columns</p>\n",
       "</div>"
      ],
      "text/plain": [
       "   front  rooms  lounges  bathrooms  streetWidth  stairs  propertyAge  \\\n",
       "0  شرقية      5        4          5         20.0       1            0   \n",
       "1  غربية      4        3          5         20.0       1            0   \n",
       "\n",
       "   driverRoom  tent  patio  ...  apartments  maidRoom  elevator  furnihsed  \\\n",
       "0           1     1      1  ...           0         0         0          0   \n",
       "1           1     1      1  ...           2         1         1          0   \n",
       "\n",
       "   pool  basement  neighbourhood     location      price  square price  \n",
       "0     0         0          عكاظ   جنوب الرياض  1050000.0   3500.000000  \n",
       "1     0         0       المهدية    غرب الرياض  3000000.0   5555.555556  \n",
       "\n",
       "[2 rows x 25 columns]"
      ]
     },
     "metadata": {},
     "output_type": "display_data"
    },
    {
     "data": {
      "text/plain": [
       "front             object\n",
       "rooms              int64\n",
       "lounges            int64\n",
       "bathrooms          int64\n",
       "streetWidth      float64\n",
       "stairs             int64\n",
       "propertyAge        int64\n",
       "driverRoom         int64\n",
       "tent               int64\n",
       "patio              int64\n",
       "kitchen            int64\n",
       "outdoorRoom        int64\n",
       "garage             int64\n",
       "duplex             int64\n",
       "space              int64\n",
       "apartments         int64\n",
       "maidRoom           int64\n",
       "elevator           int64\n",
       "furnihsed          int64\n",
       "pool               int64\n",
       "basement           int64\n",
       "neighbourhood     object\n",
       "location          object\n",
       "price            float64\n",
       "square price     float64\n",
       "dtype: object"
      ]
     },
     "metadata": {},
     "output_type": "display_data"
    }
   ],
   "source": [
    "display(df.head(2))\n",
    "display(df.dtypes)"
   ]
  },
  {
   "cell_type": "code",
   "execution_count": 67,
   "id": "47f4cf5a",
   "metadata": {},
   "outputs": [],
   "source": [
    "d = dtale.show(df, host=\"localhost\")"
   ]
  },
  {
   "cell_type": "code",
   "execution_count": 68,
   "id": "aa5e7636",
   "metadata": {},
   "outputs": [],
   "source": [
    "d.open_browser()"
   ]
  },
  {
   "cell_type": "code",
   "execution_count": 100,
   "id": "257f2718",
   "metadata": {},
   "outputs": [
    {
     "name": "stderr",
     "output_type": "stream",
     "text": [
      "2024-05-17 17:17:09,930 - INFO     - Executing shutdown...\n",
      "2024-05-17 17:17:09,931 - INFO     - Not running with the Werkzeug Server, exiting by searching gc for BaseWSGIServer\n"
     ]
    }
   ],
   "source": [
    "d.kill()"
   ]
  },
  {
   "cell_type": "code",
   "execution_count": 70,
   "id": "2ee790ba-dcc0-45f1-b6f8-0133e913e149",
   "metadata": {},
   "outputs": [],
   "source": [
    "# go to clean them "
   ]
  },
  {
   "cell_type": "code",
   "execution_count": 71,
   "id": "c69b303a-5459-45f9-a28e-fcee45c21c05",
   "metadata": {},
   "outputs": [],
   "source": [
    "# check outliers "
   ]
  },
  {
   "cell_type": "markdown",
   "id": "4aca9d42-add6-45db-92cf-1f6dae5f277b",
   "metadata": {},
   "source": [
    "**What is an Outlier?** \n",
    "Outlier is an row/observation that appears far away and diverges from an overall pattern in a sample.\n",
    "\n",
    "**What are the types of Outliers?**\n",
    "1. Univariate: These outliers can be found when we look at distribution of a single variable\n",
    "2. Multivariate: are outliers in an n-dimensional space. In order to find them, you have to look at distributions in multi-dimensions. example (hight=100, weight=100) for a person\n",
    "\n",
    "**What causes Outliers?**\n",
    "Whenever we come across outliers, the ideal way to tackle them is to find out the reason of having these outliers. The method to deal with them would then depend on the reason of their occurrence.\n",
    "\n",
    "Let’s understand various types of outliers:\n",
    "\n",
    "1. Data Entry Errors:- Human errors such as errors caused during data collection, recording, or entry can cause outliers in data.\n",
    "2. Measurement Error: It is the most common source of outliers. This is caused when the measurement instrument used turns out to be faulty.\n",
    "3. Data Processing Error: Whenever we perform data mining, we extract data from multiple sources. It is possible that some manipulation or extraction errors may lead to outliers in the dataset.\n",
    "4. Sampling error: For instance, we have to measure the height of athletes. By mistake, we include a few basketball players in the sample. This inclusion is likely to cause outliers in the dataset.\n",
    "5. Natural Outlier: When an outlier is not artificial (due to error), it is a natural outlier. For instance: In my last assignment with one of the renowned insurance company, I noticed that the performance of top 50 financial advisors was far higher than rest of the population. Surprisingly, it was not due to any error. Hence, whenever we perform any data mining activity with advisors, we used to treat this segment separately.\n",
    "\n",
    "\n",
    "**What is the impact of Outliers on a dataset?**\n",
    "\n",
    "\n",
    "![image.png](https://www.analyticsvidhya.com/wp-content/uploads/2015/02/Outlier_31.png)\n",
    "\n",
    "\n",
    "\n",
    "**How to detect Outliers?**\n",
    "\n",
    "1. Most commonly used method to detect outliers is visualization (Univariate Graphical Analysis).\n",
    "\n",
    "We use 3 common visualization methods:\n",
    ">- Box-plot: A box plot is a method for graphically depicting groups of numerical data through their quartiles. The box extends from the Q1 to Q3 quartile values of the data, with a line at the median (Q2). The whiskers extend from the edges of the box to show the range of the data. Outlier points are those past the end of the whiskers. Box plots show robust measures of location and spread as well as providing information about symmetry and outliers.\n",
    ">\n",
    ">  \n",
    ">![image.png](https://miro.medium.com/v2/resize:fit:698/format:webp/1*VK5iHA2AB28HSZwWwUbNYg.png)\n",
    ">\n",
    ">\n",
    ">- Histogram\n",
    ">- Scatter Plot: A scatter plot is a mathematical diagram using Cartesian coordinates to display values for two variables for a set of data. The data are displayed as a collection of points, each having the value of one variable determining the position on the horizontal axis and the value of the other variable determining the position on the vertical axis. The points that are far from the population can be termed as an outlier.\n",
    ">\n",
    ">  \n",
    ">![image.png](https://miro.medium.com/v2/resize:fit:4800/format:webp/1*Ov6aH-8yIwNoUxtMFwgx4g.png)\n",
    ">\n",
    ">\n",
    "\n",
    "2. Using statistical method (Univariate Non-Graphical analysis):\n",
    ">- Any value, which is beyond the range of -1.5 x IQR to 1.5 x IQR\n",
    " \n",
    "![image.png](https://www.whatissixsigma.net/wp-content/uploads/2015/07/Box-Plot-Diagram-to-identify-Outliers-figure-1.png)\n",
    "\n",
    ">- Use capping methods. Any value which out of range of 5th and 95th percentile can be considered as outlier\n",
    ">- Data points, three or more standard deviation away from mean are considered outlier: The Z-score is the signed number of standard deviations by which the value of an observation or data point is above the mean value of what is being observed or measured. While calculating the Z-score we re-scale and center the data and look for data points that are too far from zero. These data points which are way too far from zero will be treated as the outliers. In most of the cases, a threshold of 3 or -3 is used i.e if the Z-score value is greater than or less than 3 or -3 respectively, that data point will be identified as outliers.\n",
    "> - Outlier detection is merely a special case of the examination of data for influential data points and it also depends on the business understanding\n"
   ]
  },
  {
   "cell_type": "code",
   "execution_count": 72,
   "id": "74ea6194-cc01-45d8-be38-c4543eb1714e",
   "metadata": {},
   "outputs": [],
   "source": [
    "# go to univariate graphical analysis\n",
    "# go to lesson : data visualisation 1 - chart type section\n",
    "# then go to univariate graphical analysis\n",
    "# detect outliers using graphs varbaly"
   ]
  },
  {
   "cell_type": "code",
   "execution_count": 73,
   "id": "185562ec",
   "metadata": {},
   "outputs": [
    {
     "data": {
      "text/plain": [
       "Index(['rooms', 'lounges', 'bathrooms', 'streetWidth', 'stairs', 'propertyAge',\n",
       "       'driverRoom', 'tent', 'patio', 'kitchen', 'outdoorRoom', 'garage',\n",
       "       'duplex', 'space', 'apartments', 'maidRoom', 'elevator', 'furnihsed',\n",
       "       'pool', 'basement', 'price', 'square price'],\n",
       "      dtype='object')"
      ]
     },
     "execution_count": 73,
     "metadata": {},
     "output_type": "execute_result"
    }
   ],
   "source": [
    "# here we want to get the columns with numerical values (we keep in mind here that we have one hot code values not a true numerical) \n",
    "df.select_dtypes(\"number\").columns"
   ]
  },
  {
   "cell_type": "code",
   "execution_count": 99,
   "id": "dd8d5680",
   "metadata": {},
   "outputs": [
    {
     "data": {
      "image/png": "[encoded data removed]",
      "text/plain": [
       "<Figure size 640x480 with 1 Axes>"
      ]
     },
     "metadata": {},
     "output_type": "display_data"
    },
    {
     "data": {
      "image/png": "[encoded data removed]",
      "text/plain": [
       "<Figure size 640x480 with 1 Axes>"
      ]
     },
     "metadata": {},
     "output_type": "display_data"
    },
    {
     "data": {
      "image/png": "[encoded data removed]",
      "text/plain": [
       "<Figure size 640x480 with 1 Axes>"
      ]
     },
     "metadata": {},
     "output_type": "display_data"
    },
    {
     "data": {
      "image/png": "[encoded data removed]",
      "text/plain": [
       "<Figure size 640x480 with 1 Axes>"
      ]
     },
     "metadata": {},
     "output_type": "display_data"
    },
    {
     "data": {
      "image/png": "[encoded data removed]",
      "text/plain": [
       "<Figure size 640x480 with 1 Axes>"
      ]
     },
     "metadata": {},
     "output_type": "display_data"
    },
    {
     "data": {
      "image/png": "[encoded data removed]",
      "text/plain": [
       "<Figure size 640x480 with 1 Axes>"
      ]
     },
     "metadata": {},
     "output_type": "display_data"
    },
    {
     "data": {
      "image/png": "[encoded data removed]",
      "text/plain": [
       "<Figure size 640x480 with 1 Axes>"
      ]
     },
     "metadata": {},
     "output_type": "display_data"
    },
    {
     "data": {
      "image/png": "[encoded data removed]",
      "text/plain": [
       "<Figure size 640x480 with 1 Axes>"
      ]
     },
     "metadata": {},
     "output_type": "display_data"
    },
    {
     "data": {
      "image/png": "[encoded data removed]",
      "text/plain": [
       "<Figure size 640x480 with 1 Axes>"
      ]
     },
     "metadata": {},
     "output_type": "display_data"
    }
   ],
   "source": [
    "# list of numerical values\n",
    "num_list = ['rooms', 'lounges', 'bathrooms', 'streetWidth', 'propertyAge', 'space', 'apartments', 'price', 'square price']\n",
    "\n",
    "for c in num_list:\n",
    "    plt.boxplot(df[c])\n",
    "    plt.title(c)\n",
    "    plt.show()"
   ]
  },
  {
   "cell_type": "code",
   "execution_count": 75,
   "id": "99c01694",
   "metadata": {},
   "outputs": [],
   "source": [
    "# here we can see that almost all columns have outliers (some are naturals like property age)"
   ]
  },
  {
   "cell_type": "code",
   "execution_count": 98,
   "id": "54242d16",
   "metadata": {},
   "outputs": [
    {
     "data": {
      "image/png": "[encoded data removed]",
      "text/plain": [
       "<Figure size 640x480 with 1 Axes>"
      ]
     },
     "metadata": {},
     "output_type": "display_data"
    }
   ],
   "source": [
    "# here we will deal with street width\n",
    "df = df.drop(df[df[\"streetWidth\"] <= 5].index, axis=0)\n",
    "plt.boxplot(df[\"streetWidth\"])\n",
    "plt.title(\"streetWidth\")\n",
    "plt.show()"
   ]
  },
  {
   "cell_type": "code",
   "execution_count": null,
   "id": "2ce7184c",
   "metadata": {},
   "outputs": [],
   "source": [
    "# DK: the outliers here are natural"
   ]
  },
  {
   "cell_type": "code",
   "execution_count": 118,
   "id": "ee200da8-62b0-492d-b118-f4d665a1fb16",
   "metadata": {},
   "outputs": [
    {
     "data": {
      "image/png": "[encoded data removed]",
      "text/plain": [
       "<Figure size 640x480 with 1 Axes>"
      ]
     },
     "metadata": {},
     "output_type": "display_data"
    }
   ],
   "source": [
    "# here it looks like there is a issue with the space since villas space is not that big\n",
    "plt.hist(df[df[\"space\"]>2000][\"space\"])\n",
    "plt.show()"
   ]
  },
  {
   "cell_type": "code",
   "execution_count": 125,
   "id": "01a7ad39",
   "metadata": {},
   "outputs": [
    {
     "data": {
      "image/png": "[encoded data removed]",
      "text/plain": [
       "<Figure size 640x480 with 1 Axes>"
      ]
     },
     "metadata": {},
     "output_type": "display_data"
    }
   ],
   "source": [
    "# DK: duplex space is 450 maximum\n",
    "plt.hist(df[(df[\"space\"]>450)&(df[\"duplex\"] == 1)][\"space\"])\n",
    "plt.show()"
   ]
  },
  {
   "cell_type": "code",
   "execution_count": 127,
   "id": "7b703f3a",
   "metadata": {},
   "outputs": [],
   "source": [
    "# the issue here is more clear we need to drop the outliers for duplex villas\n",
    "df = df.drop(df[(df[\"space\"]>450)&(df[\"duplex\"] == 1)].index, axis=0)"
   ]
  },
  {
   "cell_type": "code",
   "execution_count": 131,
   "id": "ffe56402",
   "metadata": {},
   "outputs": [
    {
     "data": {
      "image/png": "[encoded data removed]",
      "text/plain": [
       "<Figure size 640x480 with 1 Axes>"
      ]
     },
     "metadata": {},
     "output_type": "display_data"
    }
   ],
   "source": [
    "plt.hist(df[(df[\"duplex\"] == 1)][\"space\"])\n",
    "plt.show()"
   ]
  },
  {
   "cell_type": "code",
   "execution_count": 147,
   "id": "38294745",
   "metadata": {},
   "outputs": [
    {
     "data": {
      "image/png": "[encoded data removed]",
      "text/plain": [
       "<Figure size 640x480 with 1 Axes>"
      ]
     },
     "metadata": {},
     "output_type": "display_data"
    },
    {
     "data": {
      "text/plain": [
       "32008"
      ]
     },
     "execution_count": 147,
     "metadata": {},
     "output_type": "execute_result"
    }
   ],
   "source": [
    "plt.hist(df[(df[\"duplex\"] == 0) & (df[\"space\"] < 1400)][\"space\"])\n",
    "plt.show()\n",
    "\n",
    "# df[(df[\"duplex\"] == 0)][\"space\"].value_counts()\n",
    "df[(df[\"duplex\"] == 0) & (df[\"space\"] < 1400)][\"space\"].count()"
   ]
  },
  {
   "cell_type": "code",
   "execution_count": 150,
   "id": "fc49f6ba",
   "metadata": {},
   "outputs": [
    {
     "data": {
      "text/html": [
       "<div>\n",
       "<style scoped>\n",
       "    .dataframe tbody tr th:only-of-type {\n",
       "        vertical-align: middle;\n",
       "    }\n",
       "\n",
       "    .dataframe tbody tr th {\n",
       "        vertical-align: top;\n",
       "    }\n",
       "\n",
       "    .dataframe thead th {\n",
       "        text-align: right;\n",
       "    }\n",
       "</style>\n",
       "<table border=\"1\" class=\"dataframe\">\n",
       "  <thead>\n",
       "    <tr style=\"text-align: right;\">\n",
       "      <th></th>\n",
       "      <th>front</th>\n",
       "      <th>rooms</th>\n",
       "      <th>lounges</th>\n",
       "      <th>bathrooms</th>\n",
       "      <th>streetWidth</th>\n",
       "      <th>stairs</th>\n",
       "      <th>propertyAge</th>\n",
       "      <th>driverRoom</th>\n",
       "      <th>tent</th>\n",
       "      <th>patio</th>\n",
       "      <th>...</th>\n",
       "      <th>apartments</th>\n",
       "      <th>maidRoom</th>\n",
       "      <th>elevator</th>\n",
       "      <th>furnihsed</th>\n",
       "      <th>pool</th>\n",
       "      <th>basement</th>\n",
       "      <th>neighbourhood</th>\n",
       "      <th>location</th>\n",
       "      <th>price</th>\n",
       "      <th>square price</th>\n",
       "    </tr>\n",
       "  </thead>\n",
       "  <tbody>\n",
       "    <tr>\n",
       "      <th>0</th>\n",
       "      <td>شرقية</td>\n",
       "      <td>5</td>\n",
       "      <td>4</td>\n",
       "      <td>5</td>\n",
       "      <td>20.0</td>\n",
       "      <td>1</td>\n",
       "      <td>0</td>\n",
       "      <td>1</td>\n",
       "      <td>1</td>\n",
       "      <td>1</td>\n",
       "      <td>...</td>\n",
       "      <td>0</td>\n",
       "      <td>0</td>\n",
       "      <td>0</td>\n",
       "      <td>0</td>\n",
       "      <td>0</td>\n",
       "      <td>0</td>\n",
       "      <td>عكاظ</td>\n",
       "      <td>جنوب الرياض</td>\n",
       "      <td>1050000.0</td>\n",
       "      <td>3500.000000</td>\n",
       "    </tr>\n",
       "    <tr>\n",
       "      <th>1</th>\n",
       "      <td>غربية</td>\n",
       "      <td>4</td>\n",
       "      <td>3</td>\n",
       "      <td>5</td>\n",
       "      <td>20.0</td>\n",
       "      <td>1</td>\n",
       "      <td>0</td>\n",
       "      <td>1</td>\n",
       "      <td>1</td>\n",
       "      <td>1</td>\n",
       "      <td>...</td>\n",
       "      <td>2</td>\n",
       "      <td>1</td>\n",
       "      <td>1</td>\n",
       "      <td>0</td>\n",
       "      <td>0</td>\n",
       "      <td>0</td>\n",
       "      <td>المهدية</td>\n",
       "      <td>غرب الرياض</td>\n",
       "      <td>3000000.0</td>\n",
       "      <td>5555.555556</td>\n",
       "    </tr>\n",
       "    <tr>\n",
       "      <th>2</th>\n",
       "      <td>جنوبية شرقية</td>\n",
       "      <td>7</td>\n",
       "      <td>2</td>\n",
       "      <td>5</td>\n",
       "      <td>15.0</td>\n",
       "      <td>1</td>\n",
       "      <td>31</td>\n",
       "      <td>1</td>\n",
       "      <td>0</td>\n",
       "      <td>1</td>\n",
       "      <td>...</td>\n",
       "      <td>0</td>\n",
       "      <td>1</td>\n",
       "      <td>0</td>\n",
       "      <td>0</td>\n",
       "      <td>0</td>\n",
       "      <td>0</td>\n",
       "      <td>الشفا</td>\n",
       "      <td>جنوب الرياض</td>\n",
       "      <td>2000000.0</td>\n",
       "      <td>2285.714286</td>\n",
       "    </tr>\n",
       "    <tr>\n",
       "      <th>3</th>\n",
       "      <td>غربية</td>\n",
       "      <td>7</td>\n",
       "      <td>3</td>\n",
       "      <td>5</td>\n",
       "      <td>15.0</td>\n",
       "      <td>1</td>\n",
       "      <td>3</td>\n",
       "      <td>0</td>\n",
       "      <td>1</td>\n",
       "      <td>1</td>\n",
       "      <td>...</td>\n",
       "      <td>0</td>\n",
       "      <td>1</td>\n",
       "      <td>0</td>\n",
       "      <td>1</td>\n",
       "      <td>0</td>\n",
       "      <td>0</td>\n",
       "      <td>ظهرة لبن</td>\n",
       "      <td>غرب الرياض</td>\n",
       "      <td>894000.0</td>\n",
       "      <td>4470.000000</td>\n",
       "    </tr>\n",
       "    <tr>\n",
       "      <th>4</th>\n",
       "      <td>شمالية</td>\n",
       "      <td>4</td>\n",
       "      <td>2</td>\n",
       "      <td>4</td>\n",
       "      <td>25.0</td>\n",
       "      <td>1</td>\n",
       "      <td>0</td>\n",
       "      <td>1</td>\n",
       "      <td>1</td>\n",
       "      <td>1</td>\n",
       "      <td>...</td>\n",
       "      <td>3</td>\n",
       "      <td>1</td>\n",
       "      <td>1</td>\n",
       "      <td>1</td>\n",
       "      <td>0</td>\n",
       "      <td>0</td>\n",
       "      <td>قرطبة</td>\n",
       "      <td>شرق الرياض</td>\n",
       "      <td>3500000.0</td>\n",
       "      <td>8750.000000</td>\n",
       "    </tr>\n",
       "    <tr>\n",
       "      <th>...</th>\n",
       "      <td>...</td>\n",
       "      <td>...</td>\n",
       "      <td>...</td>\n",
       "      <td>...</td>\n",
       "      <td>...</td>\n",
       "      <td>...</td>\n",
       "      <td>...</td>\n",
       "      <td>...</td>\n",
       "      <td>...</td>\n",
       "      <td>...</td>\n",
       "      <td>...</td>\n",
       "      <td>...</td>\n",
       "      <td>...</td>\n",
       "      <td>...</td>\n",
       "      <td>...</td>\n",
       "      <td>...</td>\n",
       "      <td>...</td>\n",
       "      <td>...</td>\n",
       "      <td>...</td>\n",
       "      <td>...</td>\n",
       "      <td>...</td>\n",
       "    </tr>\n",
       "    <tr>\n",
       "      <th>46821</th>\n",
       "      <td>جنوبية</td>\n",
       "      <td>5</td>\n",
       "      <td>2</td>\n",
       "      <td>5</td>\n",
       "      <td>20.0</td>\n",
       "      <td>1</td>\n",
       "      <td>0</td>\n",
       "      <td>0</td>\n",
       "      <td>1</td>\n",
       "      <td>1</td>\n",
       "      <td>...</td>\n",
       "      <td>1</td>\n",
       "      <td>1</td>\n",
       "      <td>1</td>\n",
       "      <td>0</td>\n",
       "      <td>0</td>\n",
       "      <td>0</td>\n",
       "      <td>المونسية</td>\n",
       "      <td>شرق الرياض</td>\n",
       "      <td>2250000.0</td>\n",
       "      <td>5844.155844</td>\n",
       "    </tr>\n",
       "    <tr>\n",
       "      <th>46822</th>\n",
       "      <td>غربية</td>\n",
       "      <td>7</td>\n",
       "      <td>2</td>\n",
       "      <td>5</td>\n",
       "      <td>12.0</td>\n",
       "      <td>1</td>\n",
       "      <td>0</td>\n",
       "      <td>0</td>\n",
       "      <td>1</td>\n",
       "      <td>1</td>\n",
       "      <td>...</td>\n",
       "      <td>0</td>\n",
       "      <td>1</td>\n",
       "      <td>0</td>\n",
       "      <td>0</td>\n",
       "      <td>0</td>\n",
       "      <td>0</td>\n",
       "      <td>ظهرة البديعة</td>\n",
       "      <td>غرب الرياض</td>\n",
       "      <td>1050000.0</td>\n",
       "      <td>2100.000000</td>\n",
       "    </tr>\n",
       "    <tr>\n",
       "      <th>46823</th>\n",
       "      <td>غربية</td>\n",
       "      <td>5</td>\n",
       "      <td>3</td>\n",
       "      <td>5</td>\n",
       "      <td>20.0</td>\n",
       "      <td>0</td>\n",
       "      <td>0</td>\n",
       "      <td>0</td>\n",
       "      <td>1</td>\n",
       "      <td>1</td>\n",
       "      <td>...</td>\n",
       "      <td>0</td>\n",
       "      <td>1</td>\n",
       "      <td>0</td>\n",
       "      <td>0</td>\n",
       "      <td>0</td>\n",
       "      <td>0</td>\n",
       "      <td>طويق</td>\n",
       "      <td>غرب الرياض</td>\n",
       "      <td>1000000.0</td>\n",
       "      <td>5000.000000</td>\n",
       "    </tr>\n",
       "    <tr>\n",
       "      <th>46824</th>\n",
       "      <td>جنوبية غربية</td>\n",
       "      <td>1</td>\n",
       "      <td>0</td>\n",
       "      <td>1</td>\n",
       "      <td>15.0</td>\n",
       "      <td>0</td>\n",
       "      <td>0</td>\n",
       "      <td>0</td>\n",
       "      <td>0</td>\n",
       "      <td>0</td>\n",
       "      <td>...</td>\n",
       "      <td>2</td>\n",
       "      <td>0</td>\n",
       "      <td>0</td>\n",
       "      <td>0</td>\n",
       "      <td>0</td>\n",
       "      <td>0</td>\n",
       "      <td>النهضة</td>\n",
       "      <td>شرق الرياض</td>\n",
       "      <td>2300000.0</td>\n",
       "      <td>5679.012346</td>\n",
       "    </tr>\n",
       "    <tr>\n",
       "      <th>46825</th>\n",
       "      <td>شمالية</td>\n",
       "      <td>6</td>\n",
       "      <td>2</td>\n",
       "      <td>5</td>\n",
       "      <td>15.0</td>\n",
       "      <td>1</td>\n",
       "      <td>0</td>\n",
       "      <td>0</td>\n",
       "      <td>1</td>\n",
       "      <td>1</td>\n",
       "      <td>...</td>\n",
       "      <td>2</td>\n",
       "      <td>1</td>\n",
       "      <td>0</td>\n",
       "      <td>0</td>\n",
       "      <td>0</td>\n",
       "      <td>0</td>\n",
       "      <td>المونسية</td>\n",
       "      <td>شرق الرياض</td>\n",
       "      <td>4100000.0</td>\n",
       "      <td>5466.666667</td>\n",
       "    </tr>\n",
       "  </tbody>\n",
       "</table>\n",
       "<p>45603 rows × 25 columns</p>\n",
       "</div>"
      ],
      "text/plain": [
       "              front  rooms  lounges  bathrooms  streetWidth  stairs  \\\n",
       "0             شرقية      5        4          5         20.0       1   \n",
       "1             غربية      4        3          5         20.0       1   \n",
       "2      جنوبية شرقية      7        2          5         15.0       1   \n",
       "3             غربية      7        3          5         15.0       1   \n",
       "4            شمالية      4        2          4         25.0       1   \n",
       "...             ...    ...      ...        ...          ...     ...   \n",
       "46821        جنوبية      5        2          5         20.0       1   \n",
       "46822         غربية      7        2          5         12.0       1   \n",
       "46823         غربية      5        3          5         20.0       0   \n",
       "46824  جنوبية غربية      1        0          1         15.0       0   \n",
       "46825        شمالية      6        2          5         15.0       1   \n",
       "\n",
       "       propertyAge  driverRoom  tent  patio  ...  apartments  maidRoom  \\\n",
       "0                0           1     1      1  ...           0         0   \n",
       "1                0           1     1      1  ...           2         1   \n",
       "2               31           1     0      1  ...           0         1   \n",
       "3                3           0     1      1  ...           0         1   \n",
       "4                0           1     1      1  ...           3         1   \n",
       "...            ...         ...   ...    ...  ...         ...       ...   \n",
       "46821            0           0     1      1  ...           1         1   \n",
       "46822            0           0     1      1  ...           0         1   \n",
       "46823            0           0     1      1  ...           0         1   \n",
       "46824            0           0     0      0  ...           2         0   \n",
       "46825            0           0     1      1  ...           2         1   \n",
       "\n",
       "       elevator  furnihsed  pool  basement   neighbourhood     location  \\\n",
       "0             0          0     0         0           عكاظ   جنوب الرياض   \n",
       "1             1          0     0         0        المهدية    غرب الرياض   \n",
       "2             0          0     0         0          الشفا   جنوب الرياض   \n",
       "3             0          1     0         0       ظهرة لبن    غرب الرياض   \n",
       "4             1          1     0         0          قرطبة    شرق الرياض   \n",
       "...         ...        ...   ...       ...             ...          ...   \n",
       "46821         1          0     0         0       المونسية    شرق الرياض   \n",
       "46822         0          0     0         0   ظهرة البديعة    غرب الرياض   \n",
       "46823         0          0     0         0           طويق    غرب الرياض   \n",
       "46824         0          0     0         0         النهضة    شرق الرياض   \n",
       "46825         0          0     0         0       المونسية    شرق الرياض   \n",
       "\n",
       "           price  square price  \n",
       "0      1050000.0   3500.000000  \n",
       "1      3000000.0   5555.555556  \n",
       "2      2000000.0   2285.714286  \n",
       "3       894000.0   4470.000000  \n",
       "4      3500000.0   8750.000000  \n",
       "...          ...           ...  \n",
       "46821  2250000.0   5844.155844  \n",
       "46822  1050000.0   2100.000000  \n",
       "46823  1000000.0   5000.000000  \n",
       "46824  2300000.0   5679.012346  \n",
       "46825  4100000.0   5466.666667  \n",
       "\n",
       "[45603 rows x 25 columns]"
      ]
     },
     "execution_count": 150,
     "metadata": {},
     "output_type": "execute_result"
    }
   ],
   "source": [
    "df = df.drop(df[(df[\"duplex\"] == 0) & (df[\"space\"] > 1400)][\"space\"].index, axis=0)\n",
    "df"
   ]
  },
  {
   "cell_type": "code",
   "execution_count": 152,
   "id": "6ea34b18",
   "metadata": {},
   "outputs": [
    {
     "data": {
      "image/png": "[encoded data removed]",
      "text/plain": [
       "<Figure size 640x480 with 1 Axes>"
      ]
     },
     "metadata": {},
     "output_type": "display_data"
    }
   ],
   "source": [
    "plt.boxplot(df[\"space\"])\n",
    "plt.show()"
   ]
  },
  {
   "cell_type": "code",
   "execution_count": 123,
   "id": "26348590",
   "metadata": {},
   "outputs": [],
   "source": [
    "d = dtale.show(df, host=\"localhost\")"
   ]
  },
  {
   "cell_type": "code",
   "execution_count": 124,
   "id": "ac4f12b4",
   "metadata": {},
   "outputs": [],
   "source": [
    "d.open_browser()"
   ]
  },
  {
   "cell_type": "markdown",
   "id": "35162989",
   "metadata": {},
   "source": [
    "# we will stop here after checking the outliers in d-tale. we found many bad data entries and mistakes thus we will drop the dataset."
   ]
  },
  {
   "cell_type": "code",
   "execution_count": 153,
   "id": "d393717d",
   "metadata": {},
   "outputs": [
    {
     "name": "stderr",
     "output_type": "stream",
     "text": [
      "2024-05-17 19:15:36,543 - INFO     - Executing shutdown...\n",
      "2024-05-17 19:15:36,545 - INFO     - Not running with the Werkzeug Server, exiting by searching gc for BaseWSGIServer\n"
     ]
    }
   ],
   "source": [
    "d.kill()"
   ]
  }
 ],
 "metadata": {
  "kernelspec": {
   "display_name": "Python 3",
   "language": "python",
   "name": "python3"
  },
  "language_info": {
   "codemirror_mode": {
    "name": "ipython",
    "version": 3
   },
   "file_extension": ".py",
   "mimetype": "text/x-python",
   "name": "python",
   "nbconvert_exporter": "python",
   "pygments_lexer": "ipython3",
   "version": "3.11.1"
  }
 },
 "nbformat": 4,
 "nbformat_minor": 5
}
